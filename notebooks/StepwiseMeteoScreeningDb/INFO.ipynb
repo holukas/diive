{
 "cells": [
  {
   "cell_type": "markdown",
   "id": "823faaf5-896d-4269-a9ac-3a0e6fa5eb51",
   "metadata": {},
   "source": [
    "<span style='background:#FFF8E1; font-size:30px; display:block; border-left:40px solid #FFECB3; padding-left:40px;'>\n",
    "<b>\n",
    "    STEPWISE METEOSCREENING DB - INFO\n",
    "</b>\n",
    "</span>"
   ]
  },
  {
   "cell_type": "markdown",
   "id": "68411302-05fa-4ac0-a350-913f8993e7ae",
   "metadata": {},
   "source": [
    "**last update: `6 Mar 2023`**"
   ]
  },
  {
   "cell_type": "markdown",
   "id": "61a9c29d-d8f4-494e-8abf-475bf1aad46b",
   "metadata": {},
   "source": [
    "# **General**"
   ]
  },
  {
   "cell_type": "markdown",
   "id": "d974485b-808f-4201-bff2-63625cc3d1d7",
   "metadata": {},
   "source": [
    "**`StepwiseMeteoScreeningDb` is a helper class in the Python library [diive](https://gitlab.ethz.ch/diive/diive) to screen time series of meteo variables  \n",
    "directly from the database**.  \n",
    "\n",
    "The class is optimized to work in Jupyter notebooks. Various outlier detection methods can be called on-demand. Outlier  \n",
    "results are displayed and the user can accept the results and proceed, or repeat the step with adjusted method parameters.  \n",
    "An unlimited amount of tests can be chained together. At the end of the screening, an overall flag is calculated from ALL  \n",
    "single flags. The overall flag is then used to filter the time series.\n",
    "\n",
    "**Screening**  \n",
    "The stepwise meteoscreening allows to perform **step-by-step** quality tests on meteorological data. A preview plot after  \n",
    "running a test is shown and the user can decide if results are satisfactory or if the same test with different parameters  \n",
    "should be re-run. Once results are satisfactory, the respective test flag is added to the data with `.addflag()`. After  \n",
    "running the desired tests, an overall flag `QCF` is calculated from all individual tests.  \n",
    "\n",
    "**Corrections**  \n",
    "In addition to the creation of quality flags, the stepwise screening allows to **correct data for common issues**. For example,  \n",
    "short-wave radiation sensors often measure negative values during the night. These negative values are useful because they  \n",
    "give info about the accuracy and precision of the sensor. In this case, values during the night should be zero. Instead of  \n",
    "cutting off negative values, `diive` detects the nighttime offset for each day and then calculates a correction slope between  \n",
    "individual days. This way, the daytime values are also corrected.  \n",
    "  \n",
    "**Resampling**  \n",
    "After quality-screening and corrections, data are resampled to 30MIN time resolution.\n",
    "\n",
    "**Handling different time resolutions**  \n",
    "One challenging aspect of the screening were the different time resolutions of the raw data. In some cases, the time resolution  \n",
    "changed from e.g. 10MIN for older data to 1MIN for newer date. In cases of different time resolution, **the lower resolution is  \n",
    "upsampled to the higher resolution**, the emerging gaps are *back-filled* with available data. Back-filling is used because the  \n",
    "timestamp in the database always is TIMESTAMP_END, i.e., it gives the *end* of the averaging interval. The advantage of upsampling  \n",
    "is that all outlier detection routines can be applied to the whole dataset. Since data are resampled to 30MIN after screening and  \n",
    "since the TIMESTAMP_END is respected, the upsampling itself has no impact on resulting aggregates.\n",
    "\n",
    "**Variables**  \n",
    "The class allows the simultaneous quality-screening of multiple variables from one single measurement, e.g., multiple air temperature variables.\n",
    "\n",
    "**Database tags**  \n",
    "Is optimized to work with the InfluxDB format of the ETH Grassland Sciences Group. The class can handle database tags and  \n",
    "updates tags after data screening and resampling.\n",
    "\n",
    "**Modular structure**  \n",
    "At the moment, the stepwise meteoscreening works for data downloaded from the `InfluxDB` database. The screening respects  \n",
    "the database format (including tags) and prepares the screened, corrected and resampled data for direct database upload.  \n",
    "Due to its modular approach, the stepwise screening can be easily adjusted to work with any type of data files. This  \n",
    "adjustment will be done in one of the next updates.\n",
    "\n",
    "**Current methods**  \n",
    "A listing of currently implemented quality checks and correction can be found at the top of [this file](https://gitlab.ethz.ch/diive/diive/-/blob/main/diive/pkgs/qaqc/meteoscreening.py)."
   ]
  },
  {
   "cell_type": "markdown",
   "id": "9737a868-c82a-406c-9885-7053a989f334",
   "metadata": {},
   "source": [
    "# **Corrections & QC flags**\n",
    "Select corrections and QC flags depending on the variable"
   ]
  },
  {
   "cell_type": "markdown",
   "id": "55919661-1fe7-457b-92e2-e7c461fea404",
   "metadata": {},
   "source": [
    "### Corrections and QC flags that can be directly accessed via the class 'StepwiseMeteoScreeningDb'\n",
    "\n",
    "See [StepwiseMeteoScreeningDb](https://gitlab.ethz.ch/diive/diive/-/blob/main/diive/pkgs/qaqc/meteoscreening.py)\n",
    "\n",
    "- `.correction_remove_radiation_zero_offset()`: Remove nighttime offset from all radiation data and set nighttime to zero\n",
    "- `.correction_remove_relativehumidity_offset()`: Remove relative humidity offset\n",
    "- `.correction_setto_max_threshold()`: Set values above a threshold value to threshold value\n",
    "- `.correction_setto_min_threshold()`: Set values below a threshold value to threshold value\n",
    "- `.flag_missingvals_test()`: Generate flag that indicates missing records in data\n",
    "- `.flag_outliers_abslim_test()`: Generate flag that indicates if values in data are outside the specified range\n",
    "- `.flag_outliers_increments_zcore_test()`: Identify outliers based on the z-score of increments\n",
    "- `.flag_outliers_localsd_test()`: Identify outliers based on the local standard deviation\n",
    "- `.flag_outliers_stl_riqrz_test()`: Identify outliers based on seasonal-trend decomposition and z-score calculations\n",
    "- `.flag_outliers_thymeboost_test()`: Identify outliers based on [thymeboost](https://github.com/tblume1992/ThymeBoost)\n",
    "- `.flag_outliers_zscore_dtnt_test()`: Identify outliers based on the z-score, separately for daytime and nighttime\n",
    "- `.flag_outliers_zscore_test()`:  Identify outliers based on the z-score\n",
    "- `.flag_outliers_zscoreiqr_test()`: Identify outliers based on max z-scores in the interquartile range data\n",
    "- `.flag_manualremoval_test()`: Generate flag for data points that should be removed\n",
    "- `.flag_outliers_lof_test()`: Identify outliers based on the local outlier factor\n",
    "- `.flag_outliers_lof_dtnt_test()`: Identify outliers based on the local outlier factor, done separately for daytime and nighttime data\n"
   ]
  },
  {
   "cell_type": "markdown",
   "id": "a1927121-cb03-4b8d-b27a-832cc6e242bd",
   "metadata": {},
   "source": [
    "## Current recommendations\n",
    "- Use these recommendations as a starting point and adjust settings as needed.\n",
    "\n",
    "**Apply flag creation and corrections in this order**:\n",
    "- (1) Create flag `.flag_missingvals_test()`\n",
    "- (2) Create other QC flags, as needed\n",
    "- (3) Create overall QC flag `QCF`\n",
    "- (4) Apply corrections"
   ]
  },
  {
   "cell_type": "markdown",
   "id": "3f1a4176-0dc9-403f-9ad2-93f5fdcefb66",
   "metadata": {},
   "source": [
    "### TA (air temperature)"
   ]
  },
  {
   "cell_type": "markdown",
   "id": "7b4577ce-e8aa-43d9-98b9-677bf22ed487",
   "metadata": {},
   "source": [
    "- (1) `.flag_missingvals_test()` **always required**\n",
    "- (2) `.flag_outliers_zscore_dtnt_test(threshold=4, showplot=True, verbose=True)`\n",
    "- (3) `.flag_outliers_stl_riqrz_test(zfactor=4.5, decompose_downsampling_freq='2H', showplot=True, repeat=False)`\n",
    "- (4) `.flag_outliers_increments_zcore_test(threshold=10, showplot=True)`\n",
    "- (5) `.calc_qcf()`"
   ]
  },
  {
   "cell_type": "markdown",
   "id": "8da3e65f-03b2-44df-ac93-084f93b381e3",
   "metadata": {},
   "source": [
    "### SW (short-wave radiation)\n",
    "*Note: SW needs zero-offset correction*"
   ]
  },
  {
   "cell_type": "markdown",
   "id": "b69b3e06-abac-4ad6-9b12-c2b6173ffddd",
   "metadata": {},
   "source": [
    "- (1) `.flag_missingvals_test()` **always required**\n",
    "- (2+) other outlier tests\n",
    "- (3) `.correction_remove_radiation_zero_offset()`  **always required**\n",
    "- (4) `.correction_setto_max_threshold(threshold=XXX)`\n",
    "- (5) `.correction_setto_min_threshold(threshold=XXX)`\n",
    "- (6) `.calc_qcf()`"
   ]
  }
 ],
 "metadata": {
  "kernelspec": {
   "display_name": "Python 3 (ipykernel)",
   "language": "python",
   "name": "python3"
  },
  "language_info": {
   "codemirror_mode": {
    "name": "ipython",
    "version": 3
   },
   "file_extension": ".py",
   "mimetype": "text/x-python",
   "name": "python",
   "nbconvert_exporter": "python",
   "pygments_lexer": "ipython3",
   "version": "3.9.7"
  }
 },
 "nbformat": 4,
 "nbformat_minor": 5
}
