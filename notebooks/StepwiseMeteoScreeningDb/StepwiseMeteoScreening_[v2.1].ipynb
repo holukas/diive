{
 "cells": [
  {
   "cell_type": "markdown",
   "id": "ac5406f2-62d7-4474-bea2-48175d48cc68",
   "metadata": {},
   "source": [
    "<span style='background:#FFF8E1; font-size:30px; display:block; border-left:40px solid #FFECB3; padding-left:40px;'>\n",
    "<b>\n",
    "    STEPWISE METEOSCREENING DB\n",
    "</b>\n",
    "</span>"
   ]
  },
  {
   "cell_type": "markdown",
   "id": "2cb69589-01ea-4fa7-b60d-00c7d87ecc42",
   "metadata": {},
   "source": [
    "<span style='background:#DCEDC8; font-size:30px; display:block; border-left:40px solid #C5E1A5; padding-left:40px;'>\n",
    "<b>\n",
    "    Example notebook for two air temperature variables from CH-DAV\n",
    "</b>\n",
    "</span>"
   ]
  },
  {
   "cell_type": "markdown",
   "id": "7b302c76-a358-42e4-86f1-605239b7ba3a",
   "metadata": {},
   "source": [
    "**notebook version: `2.1`**"
   ]
  },
  {
   "cell_type": "markdown",
   "id": "c5cf5648-c62e-41e1-b4db-ecaeee73fbe3",
   "metadata": {},
   "source": [
    "# **ABOUT THIS NOTEBOOK**"
   ]
  },
  {
   "cell_type": "markdown",
   "id": "2de7b49a-bd26-4a75-aa69-6f659578bb94",
   "metadata": {},
   "source": [
    "In this example notebook, the raw data for the variables `TA_NABEL_T1_35_1` and `TA_PRF_T1_35_1` (both are measurement `TA`)  \n",
    "are downloaded from the database, quality-screened, resampled and then uploaded to the database using the [StepwiseMeteoScreeningDb](https://gitlab.ethz.ch/diive/diive/-/blob/main/diive/pkgs/qaqc/meteoscreening.py) class in [diive](https://gitlab.ethz.ch/diive/diive).  \n",
    "\n",
    "**Here is an overview of what is done in this notebook**:\n",
    "- (1) **USER SETTINGS**: First, we specify some general settings for the site and variable\n",
    "- (2) **AUTO-SETTINGS**: With this info, some settings are set automatically\n",
    "- (3) **DOWNLOAD DATA FROM DATABASE WITH `dbc-influxdb`**: Then original raw data are downloaded from the database. This step uses the Python module  \n",
    "`dbc-influxdb` to download the data.\n",
    "- (4) **METEOSCREENING WITH `diive`**: The downloaded data is then quality-screened using the Python library `diive`. The screening is done on the *high-resolution* data,  \n",
    "i.e., in the original time resolution of the raw data. After the screening, data are resampled to 30MIN time resolution, the same resolution that we typically use for the fluxes.\n",
    "- (5) **UPLOAD DATA TO THE DATABASE WITH `dbc-influxdb`**: The screened and resampled data are then uploaded to the database."
   ]
  },
  {
   "cell_type": "markdown",
   "id": "a4a52be4-1ddf-4109-8993-b1fd2ee37924",
   "metadata": {},
   "source": [
    "For more info about Stepwise MeteoScreeningDb, see notebook **Info - StepwiseMeteoScreeningDb**."
   ]
  },
  {
   "cell_type": "markdown",
   "id": "6932e936-9cb7-43dd-8382-965f5c3431ae",
   "metadata": {},
   "source": [
    "---"
   ]
  },
  {
   "cell_type": "markdown",
   "id": "deee7d18-812a-4dc4-b257-f47ac61080d6",
   "metadata": {
    "tags": []
   },
   "source": [
    "# **USER SETTINGS** (please adjust)"
   ]
  },
  {
   "cell_type": "markdown",
   "id": "667c2414-4f9a-480c-a8e4-cc86ff2275bc",
   "metadata": {},
   "source": [
    "## Site"
   ]
  },
  {
   "cell_type": "code",
   "execution_count": null,
   "id": "f866d0e6-3420-449e-a476-f7b02872e7b2",
   "metadata": {
    "tags": []
   },
   "outputs": [],
   "source": [
    "SITE = 'ch-cha'\n",
    "SITE_LAT = 47.210222\n",
    "SITE_LON = 8.410444"
   ]
  },
  {
   "cell_type": "markdown",
   "id": "f033c81f-7240-46a2-91d9-184cc567f3af",
   "metadata": {},
   "source": [
    "## Variables to screen\n",
    "- Specify variables as shown in the database\n",
    "- `FIELDS`: Variables are called FIELDS in the database. InfluxDB stores variable names as '_field'. You can specify multiple fields, given as a list e.g. `['TA_NABEL_T1_35_1', 'TA_T1_20_1]`\n",
    "- `MEASUREMENTS`: Only **one** measurement allowed. Measurement name that is used to group similar variables together, e.g., `TA` contains all air temperature variables, `SW` are all short-wave radiation measurements and `SWC` all soil water measurements. "
   ]
  },
  {
   "cell_type": "code",
   "execution_count": null,
   "id": "88e73917-7b84-4544-a299-dfec4218832c",
   "metadata": {
    "tags": []
   },
   "outputs": [],
   "source": [
    "FIELDS = ['TA_T1_2_1']\n",
    "MEASUREMENT = 'TA'"
   ]
  },
  {
   "cell_type": "markdown",
   "id": "94537296-309f-4a64-89a4-296c0e913463",
   "metadata": {},
   "source": [
    "## Time range to screen\n",
    "- `START`: Screen data starting with this date (the start date itself **IS** included)\n",
    "- `STOP`: Screen data before this date (the stop date itself **IS NOT** included)"
   ]
  },
  {
   "cell_type": "code",
   "execution_count": null,
   "id": "bbdd2cb0-1d33-473f-b319-c31bd0c7de74",
   "metadata": {
    "tags": []
   },
   "outputs": [],
   "source": [
    "START = '2022-05-01 00:00:01'\n",
    "STOP = '2022-05-15 00:00:01'"
   ]
  },
  {
   "cell_type": "markdown",
   "id": "fff1e504-62af-48c8-8a91-2b0bf1e8c68c",
   "metadata": {},
   "source": [
    "---"
   ]
  },
  {
   "cell_type": "markdown",
   "id": "0b23a1c7-02f0-4e08-9e3d-09bb4a5ff024",
   "metadata": {},
   "source": [
    "# **AUTO-SETTINGS**"
   ]
  },
  {
   "cell_type": "markdown",
   "id": "98d97df0-f098-46e5-a605-05f53dad0fbc",
   "metadata": {},
   "source": [
    "## Data settings"
   ]
  },
  {
   "cell_type": "code",
   "execution_count": null,
   "id": "588064e1-423a-4374-b805-e18dea47ccf6",
   "metadata": {
    "tags": []
   },
   "outputs": [],
   "source": [
    "DATA_VERSION = 'raw'\n",
    "TIMEZONE_OFFSET_TO_UTC_HOURS = 1  # Timezone, e.g. \"1\" is translated to timezone \"UTC+01:00\" (CET, winter time)\n",
    "RESAMPLING_FREQ = '30T'  # During MeteoScreening the screened high-res data will be resampled to this frequency; '30T' = 30-minute time resolution\n",
    "RESAMPLING_AGG = 'mean'  # The resampling of the high-res data will be done using this aggregation methos; e.g., 'mean'\n",
    "DIRCONF = r'P:\\Flux\\RDS_calculations\\_scripts\\_configs\\configs'  # Location of configuration files, needed e.g. for connection to database\n",
    "# DIRCONF = r'F:\\Sync\\luhk_work\\20 - CODING\\22 - POET\\configs'"
   ]
  },
  {
   "cell_type": "markdown",
   "id": "1438a32d-27ab-4704-a9c5-9f61dc383dbb",
   "metadata": {
    "tags": []
   },
   "source": [
    "## Imports"
   ]
  },
  {
   "cell_type": "code",
   "execution_count": null,
   "id": "29ddf759-d10e-4055-8421-592c0642b93c",
   "metadata": {
    "tags": []
   },
   "outputs": [],
   "source": [
    "from datetime import datetime\n",
    "import pkg_resources\n",
    "import matplotlib\n",
    "import matplotlib.pyplot as plt\n",
    "import matplotlib.gridspec as gridspec\n",
    "%matplotlib inline\n",
    "import pandas as pd\n",
    "from bokeh.plotting import output_notebook, show\n",
    "output_notebook()\n",
    "from dbc_influxdb import dbcInflux\n",
    "from diive.pkgs.qaqc.meteoscreening import StepwiseMeteoScreeningDb\n",
    "from diive.core.plotting.timeseries import TimeSeries\n",
    "# version_diive = pkg_resources.get_distribution(\"diive\").version\n",
    "# print(f\"diive version: v{version_diive}\")\n",
    "version_dbc_influxdb = pkg_resources.get_distribution(\"dbc_influxdb\").version\n",
    "print(f\"dbc-influxdb version: v{version_dbc_influxdb}\")"
   ]
  },
  {
   "cell_type": "markdown",
   "id": "a69ea01d-371a-4a0c-80d1-482396c692a4",
   "metadata": {},
   "source": [
    "## Automatic settings (do not adjust):"
   ]
  },
  {
   "cell_type": "code",
   "execution_count": null,
   "id": "5e1a8ef8-e463-420f-ae90-7bb2349c384f",
   "metadata": {
    "tags": []
   },
   "outputs": [],
   "source": [
    "BUCKET_RAW=f'{SITE}_raw'  # The 'bucket' where data are stored in the database, e.g., 'ch-lae_raw' contains all raw data for CH-LAE\n",
    "BUCKET_PROCESSING=f'{SITE}_processing'  # The 'bucket' where data are stored in the database, e.g., 'ch-lae_processing' contains all processed data for CH-LAE\n",
    "print(f\"Bucket containing raw data (source bucket): {BUCKET_RAW}\")\n",
    "print(f\"Bucket containing processed data (destination bucket): {BUCKET_PROCESSING}\")"
   ]
  },
  {
   "cell_type": "markdown",
   "id": "571d36f2-4506-4bf2-9c4c-3ee95fc84137",
   "metadata": {},
   "source": [
    "## Connect to database"
   ]
  },
  {
   "cell_type": "code",
   "execution_count": null,
   "id": "aa3c222a-fc9a-4e88-be9a-13cf4dbcab01",
   "metadata": {
    "tags": []
   },
   "outputs": [],
   "source": [
    "dbc = dbcInflux(dirconf=DIRCONF)"
   ]
  },
  {
   "cell_type": "markdown",
   "id": "86eb4803-3883-4f56-ab15-343519791d4f",
   "metadata": {},
   "source": [
    "## Check available variables\n",
    "- Since we are now connected to the database, we can make a quick check if the variable(s) we want to screen are really in the database.  \n",
    "Below you can show show all available fields in the selected measurement.\n",
    "- However, if the desired variable(s) are indeed listed here, it does not necessarily mean that they are also available during the  \n",
    "selected **time period**. This can be the case if the variable(s) for that time period were not uploaded to the database."
   ]
  },
  {
   "cell_type": "code",
   "execution_count": null,
   "id": "7c79b249-5de1-4740-8cff-51c0a898c567",
   "metadata": {
    "tags": []
   },
   "outputs": [],
   "source": [
    "display(dbc.show_fields_in_measurement(bucket=BUCKET_RAW, measurement=MEASUREMENT))"
   ]
  },
  {
   "cell_type": "markdown",
   "id": "79a7be8d-bb77-43f7-8d9b-b3ac91fb07d9",
   "metadata": {},
   "source": [
    "---"
   ]
  },
  {
   "cell_type": "markdown",
   "id": "20d8e9f8-7733-4945-a3f6-d61081d48130",
   "metadata": {},
   "source": [
    "# **DOWNLOAD DATA FROM DATABASE WITH `dbc-influxdb`**\n",
    "- Here the Python library `dbc-influxdb` is used to download data from the database.\n",
    "- The name of the library means **d**ata**b**ase **c**ommunication using **influxdb**.\n",
    "- You can find the source code of `dbc-influxdb` [here](https://gitlab.ethz.ch/poet/dbc-influxdb).\n",
    "- There is no need to adjust the settings here, the variables given earlier (above) are directly used.\n",
    "- At this point we have already established the connection to the database and stored the connection details in the variable `dbc`.\n",
    "- Now we can use the method `dbc.download()` to start the data download."
   ]
  },
  {
   "cell_type": "markdown",
   "id": "697aed80-52de-4a9a-8974-65f9e75aee33",
   "metadata": {},
   "source": [
    "## Download data"
   ]
  },
  {
   "cell_type": "code",
   "execution_count": null,
   "id": "510da65e-6357-46f1-8a10-25babb8ebc5e",
   "metadata": {
    "tags": []
   },
   "outputs": [],
   "source": [
    "%%time\n",
    "data_simple, data_detailed, assigned_measurements = dbc.download(\n",
    "    bucket=BUCKET_RAW,\n",
    "    measurements=[MEASUREMENT],\n",
    "    fields=FIELDS,\n",
    "    start=START,\n",
    "    stop=STOP,\n",
    "    timezone_offset_to_utc_hours=TIMEZONE_OFFSET_TO_UTC_HOURS,\n",
    "    data_version=DATA_VERSION\n",
    ")"
   ]
  },
  {
   "cell_type": "markdown",
   "id": "644a59f6-23ec-4e15-8aab-8233fa44840d",
   "metadata": {},
   "source": [
    "## Check downloaded data\n",
    "### `dbc` downloads three variables:\n",
    "- `data_simple`: This is the simplest data download. It contains only the high-resolution variable(s) from the specified measurement. Each variable is in a separate column. Since different variables, can have different time resolutions, the highest time resolution across the variables is used as the index. This means that lower resolution variables will show gaps in the higher resolution timestamp.\n",
    "- `data_detailed`: This is the most important variable for the MeteoScreening from the database, because it contains not only the high-resolution time series of the variable(s), but also their tags. The tags are important when uploading data to the database. This is a very special format, because data for each variable are stored in a dictionary. A dictionary is a data structure that stores key-value pairs. The key is the variable name (e.g., `TA_NABEL_T1_35_1`) and the value is a complete dataframe that contains the time series of the respective variable and all tags.\n",
    "- `assigned_measurements`: An auxiliary variable that is useful to check whether the measurement of the variable(s) is correct. In case we are screening air temperatures, the measurement must be `TA`."
   ]
  },
  {
   "cell_type": "markdown",
   "id": "314d2abe-e971-478e-9f0a-ffa1a8fdf163",
   "metadata": {},
   "source": [
    "#### `data_simple`\n",
    "- Simply contains the time series of the measured variable(s) in a nice-to-look-at dataframe."
   ]
  },
  {
   "cell_type": "code",
   "execution_count": null,
   "id": "23f95438-c32f-4272-aba3-986ec14756d7",
   "metadata": {
    "tags": []
   },
   "outputs": [],
   "source": [
    "data_simple"
   ]
  },
  {
   "cell_type": "markdown",
   "id": "8dc9c47e-8c60-47a2-8d81-b8011e4e5c56",
   "metadata": {},
   "source": [
    "#### `data_detailed`\n",
    "- Dictionary of key-value pairs: the variable name is the key, the respective data (measured time series and tags) are the values"
   ]
  },
  {
   "cell_type": "code",
   "execution_count": null,
   "id": "7f429025-a160-42db-91ac-5f0cc8e1a78d",
   "metadata": {
    "tags": []
   },
   "outputs": [],
   "source": [
    "data_detailed"
   ]
  },
  {
   "cell_type": "markdown",
   "id": "c75e099c-48ce-4210-9948-11f4185d81d3",
   "metadata": {},
   "source": [
    "<br>\n",
    "Since the output above is not so nice to look at, we loop through the dictionary and display the first and last records for each variable:"
   ]
  },
  {
   "cell_type": "code",
   "execution_count": null,
   "id": "d9159ccc-b0e5-4b70-bb10-a8c6312bf6ed",
   "metadata": {
    "tags": []
   },
   "outputs": [],
   "source": [
    "for varname, frame in data_detailed.items():\n",
    "    print(f\"{'-' * 40}\\nData for {varname}:\")\n",
    "    display(frame)"
   ]
  },
  {
   "cell_type": "markdown",
   "id": "e7de1ab7-1925-4f7b-8b67-b53b6d20f5c8",
   "metadata": {},
   "source": [
    "#### `assigned_measurements`\n",
    "- Contains the *automatically* detected measurement for the selected variables, useful as check to make sure the variable was properly identified."
   ]
  },
  {
   "cell_type": "code",
   "execution_count": null,
   "id": "a00f0476-ebfb-4f7e-9bbf-bd64cc6fbce1",
   "metadata": {
    "tags": []
   },
   "outputs": [],
   "source": [
    "assigned_measurements"
   ]
  },
  {
   "cell_type": "markdown",
   "id": "67b182d4-aba5-48dd-9382-7876d5bc7dbc",
   "metadata": {},
   "source": [
    "<br>\n",
    "It is possible that a variable that we want to screen is not available in the database (oh no). To find out which variable that might be we have this piece of code:"
   ]
  },
  {
   "cell_type": "code",
   "execution_count": null,
   "id": "7fa66248-549e-4190-82ab-dcde924e2795",
   "metadata": {
    "tags": []
   },
   "outputs": [],
   "source": [
    "print(f\"Data available for: {data_detailed.keys()}\\n\")\n",
    "vars_not_available = [v for v in FIELDS if v not in data_detailed.keys()]\n",
    "print(f\"No data available for the following variables: {vars_not_available}\")"
   ]
  },
  {
   "cell_type": "markdown",
   "id": "f70c74a1-c729-4f5a-9607-26e3b5095a14",
   "metadata": {},
   "source": [
    "## Save downloaded high-res raw data to file (optional)\n",
    "- If you really want, you can download the full resolution data to a file. This can be useful if you want to do the screening elsewhere."
   ]
  },
  {
   "cell_type": "code",
   "execution_count": null,
   "id": "4ac50d35-a0ff-4701-b4ac-51222387ad4d",
   "metadata": {
    "tags": []
   },
   "outputs": [],
   "source": [
    "# data_detailed['TA_NABEL_T1_35_1'].to_csv(\"mylovelyhorse.csv\")"
   ]
  },
  {
   "cell_type": "markdown",
   "id": "25d1edc3-9bf7-4757-af4a-94346896cbaa",
   "metadata": {},
   "source": [
    "## Plot downloaded high-res data\n",
    "- Yes, this is indeed a plot of the downloaded full-resolution data.\n",
    "- Because we have plenty of time and space, each variable gets it's own plot.\n",
    "- If there is only one variable, then there is only one plot."
   ]
  },
  {
   "cell_type": "code",
   "execution_count": null,
   "id": "15e30967-ee4f-4717-8941-22aef52b2bc5",
   "metadata": {
    "tags": []
   },
   "outputs": [],
   "source": [
    "for varname, frame in data_detailed.items():\n",
    "    TimeSeries(series=frame[varname]).plot_interactive()\n",
    "    # TimeSeries(series=frame[varname]).plot()"
   ]
  },
  {
   "cell_type": "markdown",
   "id": "39cbda9c-737b-4550-b3e3-c3ad9c33dc90",
   "metadata": {},
   "source": [
    "---"
   ]
  },
  {
   "cell_type": "markdown",
   "id": "988defa0-d0c8-4a25-930d-da086a22b4d4",
   "metadata": {},
   "source": [
    "# **METEOSCREENING WITH `diive`**"
   ]
  },
  {
   "cell_type": "markdown",
   "id": "e912ebfa-9d5b-48b3-b1f5-8305333ad76c",
   "metadata": {},
   "source": [
    "## Start new MeteoScreening session"
   ]
  },
  {
   "cell_type": "code",
   "execution_count": null,
   "id": "0b0af0e2-f833-4a5f-9e93-02c7e8dfb0bd",
   "metadata": {
    "tags": []
   },
   "outputs": [],
   "source": [
    "mscr = StepwiseMeteoScreeningDb(site=SITE,\n",
    "                                data_detailed=data_detailed,\n",
    "                                measurement=MEASUREMENT,\n",
    "                                fields=FIELDS,\n",
    "                                site_lat=SITE_LAT,\n",
    "                                site_lon=SITE_LON)"
   ]
  },
  {
   "cell_type": "markdown",
   "id": "b3940fa8-552b-4b55-a5c1-add000e87076",
   "metadata": {},
   "source": [
    "<br>\n",
    "Now let's take a look at the data that will be screened:"
   ]
  },
  {
   "cell_type": "code",
   "execution_count": null,
   "id": "ccc38e25-ff50-416d-bd32-26db43bfe197",
   "metadata": {
    "tags": []
   },
   "outputs": [],
   "source": [
    "mscr.showplot_orig(interactive=True)"
   ]
  },
  {
   "cell_type": "markdown",
   "id": "e054aeae-37b6-49b6-9b20-51fe82d791c3",
   "metadata": {},
   "source": [
    "## **QC FLAGS**: generate quality flags on high-resolution data (if needed)"
   ]
  },
  {
   "cell_type": "markdown",
   "id": "82a38a07-f31c-4bfb-b1f7-b5d0bd2c7bd1",
   "metadata": {},
   "source": [
    "<span style='background:#FFEBEE; font-size:16px; line-height: 100px; display:block; border-left:40px solid #FFCDD2; padding-left:40px;'>\n",
    "<p>\n",
    "    If the plots look good and you think the data do not require any screening, you can skip this section and jump directly to <b>Corrections</b> or <b>Resampling</b>.\n",
    "</p>\n",
    "</span>"
   ]
  },
  {
   "cell_type": "markdown",
   "id": "107ef6a2-a24c-4dee-a0a2-ef6faff2c563",
   "metadata": {},
   "source": [
    "### **Flag: Missing values test** (always needed)"
   ]
  },
  {
   "cell_type": "markdown",
   "id": "a77b2426-bc47-4af7-99dd-fbc61eed1f68",
   "metadata": {},
   "source": [
    "Must be used for: **-ALL-**  \n",
    "*Generate flag that indicates missing records in data*"
   ]
  },
  {
   "cell_type": "code",
   "execution_count": null,
   "id": "413cca52-ab73-4cae-a86d-3207a080c50f",
   "metadata": {
    "tags": []
   },
   "outputs": [],
   "source": [
    "mscr.flag_missingvals_test()"
   ]
  },
  {
   "cell_type": "code",
   "execution_count": null,
   "id": "7dd8a9f2-ea9e-4950-a3f0-359d2d6bf071",
   "metadata": {
    "tags": []
   },
   "outputs": [],
   "source": [
    "mscr.addflag()"
   ]
  },
  {
   "cell_type": "markdown",
   "id": "39fba345-7e24-4671-8aaf-c5b3514b7b7f",
   "metadata": {},
   "source": [
    "### **Flag: Outlier detection, z-score over all data** (*flag_outliers_zscore_test*)"
   ]
  },
  {
   "cell_type": "markdown",
   "id": "1f103962-9f48-44f0-8510-95e928db8ca7",
   "metadata": {},
   "source": [
    "Can be used for: **--ALL--**  \n",
    "This is a general purpose test that can already solve many outlier issues.  \n",
    "*Identify outliers based on the z-score of records*"
   ]
  },
  {
   "cell_type": "code",
   "execution_count": null,
   "id": "c016efab-5d16-457d-b74e-f1fd278dfde4",
   "metadata": {
    "tags": []
   },
   "outputs": [],
   "source": [
    " mscr.flag_outliers_zscore_test(threshold=2.5, showplot=True, verbose=True)"
   ]
  },
  {
   "cell_type": "code",
   "execution_count": null,
   "id": "b296da3c-7332-4069-845b-29ba67768020",
   "metadata": {
    "tags": []
   },
   "outputs": [],
   "source": [
    "# mscr.addflag()"
   ]
  },
  {
   "cell_type": "markdown",
   "id": "18ba8201-d952-48f1-8c39-ca9bb92b0f51",
   "metadata": {},
   "source": [
    "### **Flag: Outlier detection, z-score over all data with IQR** (*flag_outliers_zscoreiqr_test*)"
   ]
  },
  {
   "cell_type": "markdown",
   "id": "100903a9-c1ee-40ad-a566-3eee5754da32",
   "metadata": {},
   "source": [
    "Can be used for: **--ALL--**  \n",
    "*Identify outliers based on max z-scores in the interquartile range data*"
   ]
  },
  {
   "cell_type": "code",
   "execution_count": null,
   "id": "e198ed65-a7a8-40ec-a730-b7eba129e06b",
   "metadata": {},
   "outputs": [],
   "source": [
    "# mscr.flag_outliers_zscoreiqr_test(factor=3, showplot=True, verbose=True)"
   ]
  },
  {
   "cell_type": "code",
   "execution_count": null,
   "id": "5d5737d3-d583-49d7-abb1-88c682deb0c0",
   "metadata": {},
   "outputs": [],
   "source": [
    "# mscr.addflag()"
   ]
  },
  {
   "cell_type": "markdown",
   "id": "64a8a49f-5e89-4c88-b916-7592bc8c0abf",
   "metadata": {},
   "source": [
    "### **Flag: Outlier detection, z-score over all data, separate for daytime and nighttime** (*flag_outliers_zscore_dtnt_test*)"
   ]
  },
  {
   "cell_type": "markdown",
   "id": "19eed53f-e7ae-4032-bdc1-e358f11dea6a",
   "metadata": {},
   "source": [
    "Can be used for: **TA**  \n",
    "*Identify outliers based on the z-score, separately for daytime and nighttime*"
   ]
  },
  {
   "cell_type": "code",
   "execution_count": null,
   "id": "10d3d1a8-663b-474d-81cc-ac67820c8e71",
   "metadata": {
    "tags": []
   },
   "outputs": [],
   "source": [
    "# mscr.flag_outliers_zscore_dtnt_test(threshold=2.5, showplot=True, verbose=True)"
   ]
  },
  {
   "cell_type": "code",
   "execution_count": null,
   "id": "94fbf977-5fa8-4a5c-aa79-26bf5800cf23",
   "metadata": {},
   "outputs": [],
   "source": [
    "# mscr.addflag()"
   ]
  },
  {
   "cell_type": "markdown",
   "id": "e7355f9a-c989-4bf6-ae79-c4c3ce13c15d",
   "metadata": {},
   "source": [
    "### **Flag: Outlier detection, Seasonal trend decomposition (residuals, IQR, z-score)** (*flag_outliers_stl_riqrz_test*)"
   ]
  },
  {
   "cell_type": "markdown",
   "id": "61469aa6-4681-457f-8960-5f0f705e420c",
   "metadata": {},
   "source": [
    "Can be used for: **TA**  \n",
    "*Identify outliers based on seasonal-trend decomposition and z-score calculations*"
   ]
  },
  {
   "cell_type": "code",
   "execution_count": null,
   "id": "fd0acef3-0c93-451d-b631-32df311271dd",
   "metadata": {},
   "outputs": [],
   "source": [
    "mscr.flag_outliers_stl_riqrz_test(zfactor=2, decompose_downsampling_freq='2H', showplot=True, repeat=False)"
   ]
  },
  {
   "cell_type": "code",
   "execution_count": null,
   "id": "d4ea4a7f-1d8d-4179-aba8-d52afa4797f7",
   "metadata": {},
   "outputs": [],
   "source": [
    "# mscr.addflag()"
   ]
  },
  {
   "cell_type": "markdown",
   "id": "e67c059f-5d49-471b-b276-c0cadc393f22",
   "metadata": {},
   "source": [
    "### **Flag: Outlier detection, Increments z-score** (*flag_outliers_increments_zcore_test*)"
   ]
  },
  {
   "cell_type": "markdown",
   "id": "eeebdc8a-73ec-44f8-9c0b-9806d53cfe93",
   "metadata": {},
   "source": [
    "Can be used for: **-ALL-**  \n",
    "*Identify outliers based on the z-score of record increments*"
   ]
  },
  {
   "cell_type": "code",
   "execution_count": null,
   "id": "6fe152dc-8fe3-4693-9a92-32e2922b62d4",
   "metadata": {},
   "outputs": [],
   "source": [
    "mscr.flag_outliers_increments_zcore_test(threshold=85, showplot=True)"
   ]
  },
  {
   "cell_type": "code",
   "execution_count": null,
   "id": "003be73c-9aca-4116-b351-004382f7dba2",
   "metadata": {},
   "outputs": [],
   "source": [
    "# mscr.addflag()"
   ]
  },
  {
   "cell_type": "markdown",
   "id": "0b1e68cb-fb94-4be3-a434-e9b8f8a82a2e",
   "metadata": {},
   "source": [
    "### **Flag: Outlier detection, Absolute limits** (*flag_outliers_abslim_test*)"
   ]
  },
  {
   "cell_type": "markdown",
   "id": "70fc187c-7c58-437a-affd-c3cfbd80885b",
   "metadata": {},
   "source": [
    "Can be used for: **-ALL-**  \n",
    "*Generate flag that indicates if values in data are outside the specified range*"
   ]
  },
  {
   "cell_type": "code",
   "execution_count": null,
   "id": "ef574b61-aada-4cff-b2e0-a0ca16b72460",
   "metadata": {},
   "outputs": [],
   "source": [
    "MIN = -20\n",
    "MAX = 50\n",
    "mscr.flag_outliers_abslim_test(min=MIN, max=MAX, showplot=True)"
   ]
  },
  {
   "cell_type": "code",
   "execution_count": null,
   "id": "b15190e5-f5f1-4439-bea3-500b775a236d",
   "metadata": {},
   "outputs": [],
   "source": [
    "# mscr.addflag()"
   ]
  },
  {
   "cell_type": "markdown",
   "id": "a9cbe409-ef2f-4ab6-81ae-2dfe7c47a03e",
   "metadata": {},
   "source": [
    "### **Flag: Outlier detection, Local SD** (*flag_outliers_localsd_test*)"
   ]
  },
  {
   "cell_type": "markdown",
   "id": "bf65da62-6aed-465c-8a66-d0f559e757f2",
   "metadata": {},
   "source": [
    "Can be used for: **-ALL-**  \n",
    "*Identify outliers based on the local standard deviation*"
   ]
  },
  {
   "cell_type": "code",
   "execution_count": null,
   "id": "df5222d8-3bd0-481a-85c7-47aa2f6a43a0",
   "metadata": {},
   "outputs": [],
   "source": [
    "N_SD = 1\n",
    "mscr.flag_outliers_localsd_test(n_sd=N_SD, showplot=True)"
   ]
  },
  {
   "cell_type": "code",
   "execution_count": null,
   "id": "d910c363-88e9-4283-8d74-b4a329df9b5b",
   "metadata": {},
   "outputs": [],
   "source": [
    "# mscr.addflag()"
   ]
  },
  {
   "cell_type": "markdown",
   "id": "6e4394e0-ee5b-46ae-9b43-92a24734e0a1",
   "metadata": {},
   "source": [
    "### **Flag: Outlier detection, Thymeboost** (*flag_outliers_thymeboost_test*)"
   ]
  },
  {
   "cell_type": "markdown",
   "id": "a4fb210a-5a8e-4e33-b00b-f9b287b2eae7",
   "metadata": {},
   "source": [
    "Can be used for: **TA**  \n",
    "*Identify outliers based on [thymeboost](https://github.com/tblume1992/ThymeBoost)*"
   ]
  },
  {
   "cell_type": "code",
   "execution_count": null,
   "id": "99c377bc-72e9-446b-8e4c-7f7be56c6a67",
   "metadata": {},
   "outputs": [],
   "source": [
    "mscr.flag_outliers_thymeboost_test(showplot=True)"
   ]
  },
  {
   "cell_type": "code",
   "execution_count": null,
   "id": "50061a48-c2ba-4743-9156-c3c47eb339f6",
   "metadata": {},
   "outputs": [],
   "source": [
    "# mscr.addflag()"
   ]
  },
  {
   "cell_type": "markdown",
   "id": "0f5aa849-45d4-4c6c-aea8-c0ca9fc482b7",
   "metadata": {},
   "source": [
    "### **Flag: Outlier detection, manual removal** (*flag_manualremoval_test*)"
   ]
  },
  {
   "cell_type": "markdown",
   "id": "a8b13b26-492a-4b05-8162-021a01029e47",
   "metadata": {},
   "source": [
    "Can be used for: **-ALL-**  \n",
    "*Generate flag for data points that should be removed*"
   ]
  },
  {
   "cell_type": "code",
   "execution_count": null,
   "id": "3abb45db-5dbc-411f-a8ac-99873d041eb4",
   "metadata": {},
   "outputs": [],
   "source": [
    "mscr.showplot_cleaned(interactive=True)"
   ]
  },
  {
   "cell_type": "code",
   "execution_count": null,
   "id": "fa96cd03-ab5a-4729-9862-39a7a73ce714",
   "metadata": {},
   "outputs": [],
   "source": [
    "REMOVE_DATES = [\n",
    "    '2022-05-12 17:40:30',\n",
    "    # ['2021-08-05', '2021-08-19']\n",
    "]\n",
    "mscr.flag_manualremoval_test(remove_dates=REMOVE_DATES, showplot=True, verbose=True)"
   ]
  },
  {
   "cell_type": "code",
   "execution_count": null,
   "id": "b5c14ea2-b509-46c8-a335-dbb86c19ad76",
   "metadata": {},
   "outputs": [],
   "source": [
    "mscr.addflag()"
   ]
  },
  {
   "cell_type": "markdown",
   "id": "b6a6f06b-2490-4fec-84be-2df75fed6ea3",
   "metadata": {},
   "source": [
    "### **Flag: Outlier detection, local outlier factor** (*flag_outliers_lof_test*)"
   ]
  },
  {
   "cell_type": "markdown",
   "id": "8401de5c-7125-41bb-aed6-e19f35e218a2",
   "metadata": {},
   "source": [
    "Can be used for: **-ALL-**  \n",
    "*Identify outliers based on the local outlier factor*"
   ]
  },
  {
   "cell_type": "code",
   "execution_count": null,
   "id": "9b946e89-b7c2-4146-b7e0-2b65523ae6f6",
   "metadata": {
    "tags": []
   },
   "outputs": [],
   "source": [
    "mscr.flag_outliers_lof_test(n_neighbors=None, contamination='auto', showplot=True, verbose=True)"
   ]
  },
  {
   "cell_type": "code",
   "execution_count": null,
   "id": "0727409f-da45-4914-ac4d-2ff2d10d801b",
   "metadata": {
    "tags": []
   },
   "outputs": [],
   "source": [
    "# mscr.addflag()"
   ]
  },
  {
   "cell_type": "markdown",
   "id": "71de8095-9d9b-48ef-9090-539e3db956d7",
   "metadata": {},
   "source": [
    "### **Flag: Outlier detection, local outlier factor daytime/nighttime** (*flag_outliers_lof_dtnt_test*)"
   ]
  },
  {
   "cell_type": "markdown",
   "id": "19b5d2b8-0096-41c9-a1f0-971ca19fd328",
   "metadata": {},
   "source": [
    "Can be used for: **-ALL-**  \n",
    "*Identify outliers based on the local outlier factor, done separately for daytime and nighttime data*"
   ]
  },
  {
   "cell_type": "code",
   "execution_count": null,
   "id": "a378ded1-0274-4ce5-92c9-5532421687a2",
   "metadata": {},
   "outputs": [],
   "source": [
    "mscr.flag_outliers_lof_dtnt_test(n_neighbors=None, contamination='auto', showplot=True, verbose=True)"
   ]
  },
  {
   "cell_type": "code",
   "execution_count": null,
   "id": "45652aaa-88a5-44a9-9a84-9843bc06af30",
   "metadata": {},
   "outputs": [],
   "source": [
    "# mscr.addflag()"
   ]
  },
  {
   "cell_type": "markdown",
   "id": "3b98e0fa-3d53-4b27-9d98-ede75c52729b",
   "metadata": {},
   "source": [
    "### **QCF**: calculate overall quality flag for high-resolution data"
   ]
  },
  {
   "cell_type": "code",
   "execution_count": null,
   "id": "629a39b3-1f8d-41b4-afcb-1f7a5d37b1e3",
   "metadata": {
    "tags": []
   },
   "outputs": [],
   "source": [
    "mscr.calc_qcf()"
   ]
  },
  {
   "cell_type": "markdown",
   "id": "27a716d0-e6d5-43fd-934e-79b63b2a7cd9",
   "metadata": {},
   "source": [
    "#### Reports"
   ]
  },
  {
   "cell_type": "code",
   "execution_count": null,
   "id": "343b3969-3d8a-407f-9438-a1dcab7158c3",
   "metadata": {
    "tags": []
   },
   "outputs": [],
   "source": [
    "mscr.report_qcf_evolution()"
   ]
  },
  {
   "cell_type": "code",
   "execution_count": null,
   "id": "cae1bb06-77cd-476e-9f4e-30d8f2f2e0e2",
   "metadata": {
    "tags": []
   },
   "outputs": [],
   "source": [
    "mscr.report_qcf_series()"
   ]
  },
  {
   "cell_type": "code",
   "execution_count": null,
   "id": "7f57fe5c-eeea-4135-89e7-011e23c83efc",
   "metadata": {
    "tags": []
   },
   "outputs": [],
   "source": [
    "mscr.report_qcf_flags()"
   ]
  },
  {
   "cell_type": "markdown",
   "id": "a249f997-d108-4f24-a420-b7ff15cefe9d",
   "metadata": {},
   "source": [
    "#### Plots"
   ]
  },
  {
   "cell_type": "code",
   "execution_count": null,
   "id": "51fbecb1-bde5-4335-b2d9-0b73303e3a6f",
   "metadata": {
    "tags": []
   },
   "outputs": [],
   "source": [
    "mscr.showplot_qcf_heatmaps(figsize=(18,8))"
   ]
  },
  {
   "cell_type": "code",
   "execution_count": null,
   "id": "28d7bc18-4310-4ec0-8fa8-e1c6f9be46be",
   "metadata": {
    "tags": []
   },
   "outputs": [],
   "source": [
    "mscr.showplot_qcf_timeseries(figsize=(18,8))"
   ]
  },
  {
   "cell_type": "markdown",
   "id": "402628ea-0cf9-4421-bc21-952dbf1674f1",
   "metadata": {},
   "source": [
    "## **CORRECTIONS**: done on high-resolution data (if needed)"
   ]
  },
  {
   "cell_type": "markdown",
   "id": "c4b66ee9-80fa-488c-bd5a-f8d71867b05b",
   "metadata": {},
   "source": [
    "<span style='background:#FFEBEE; font-size:16px; line-height: 100px; display:block; border-left:40px solid #FFCDD2; padding-left:40px;'>\n",
    "<p>\n",
    "    Currently only needed for <b>SW, PPFD, RH</b>.\n",
    "</p>\n",
    "</span>"
   ]
  },
  {
   "cell_type": "markdown",
   "id": "ff8bd4c4-a7c9-44fb-855d-e70ee3228d19",
   "metadata": {},
   "source": [
    "### **Correction: Remove radiation zero offset** (*correction_remove_radiation_zero_offset*)\n",
    "Can be used for: **SW_IN, SW_OUT, PPFD_IN, PPFD_OUT**  \n",
    "*Remove nighttime offset from all radiation data and set nighttime to zero*"
   ]
  },
  {
   "cell_type": "code",
   "execution_count": null,
   "id": "24919cef-c53a-4763-8c5a-47196837fabc",
   "metadata": {},
   "outputs": [],
   "source": [
    "# mscr.correction_remove_radiation_zero_offset()"
   ]
  },
  {
   "cell_type": "markdown",
   "id": "dc66f432-76e2-4881-b41a-7e0a558b5ec2",
   "metadata": {},
   "source": [
    "### **Correction: Remove relative humidity offset** (*correction_remove_relativehumidity_offset*)\n",
    "Can be used for: **RH**  \n",
    "*Remove relative humidity offset, works for relative humidity data where maximum values should not exceed 100%*  "
   ]
  },
  {
   "cell_type": "code",
   "execution_count": null,
   "id": "772c01c3-8483-44f2-8bc9-7a715bbe4c7f",
   "metadata": {},
   "outputs": [],
   "source": [
    "# mscr.correction_remove_relativehumidity_offset()"
   ]
  },
  {
   "cell_type": "markdown",
   "id": "c92d465f-43bd-4859-8771-1a26be981e8b",
   "metadata": {},
   "source": [
    "### **Correction: Set to max threshold** (*correction_setto_max_threshold*)\n",
    "Can be used for: **--ALL--**  \n",
    "*Set values above threshold to threshold*"
   ]
  },
  {
   "cell_type": "code",
   "execution_count": null,
   "id": "49a3a406-4f95-4f18-9ee8-2307fb705921",
   "metadata": {},
   "outputs": [],
   "source": [
    "# mscr.correction_setto_max_threshold(threshold=9999)"
   ]
  },
  {
   "cell_type": "markdown",
   "id": "8dfa83b3-e872-4a14-a15d-6912913ee044",
   "metadata": {},
   "source": [
    "### **Correction: Set to min threshold** (*correction_setto_min_threshold*)\n",
    "Can be used for: **--ALL--**  \n",
    "*Set values below threshold to threshold*"
   ]
  },
  {
   "cell_type": "code",
   "execution_count": null,
   "id": "18bcd54c-fe58-4b0c-9046-799b24967b85",
   "metadata": {},
   "outputs": [],
   "source": [
    "# mscr.correction_setto_min_threshold(threshold=9999)"
   ]
  },
  {
   "cell_type": "markdown",
   "id": "a0e6c417-09ac-48ac-98d3-cea5b112d3cd",
   "metadata": {},
   "source": [
    "## **RESAMPLING** <a class=\"anchor\" id=\"resampling\"></a>"
   ]
  },
  {
   "cell_type": "code",
   "execution_count": null,
   "id": "7767e872-1de7-40e7-96f4-b254f2772b1d",
   "metadata": {
    "tags": []
   },
   "outputs": [],
   "source": [
    "mscr.resample(to_freqstr='30T', agg='mean', mincounts_perc=.25)"
   ]
  },
  {
   "cell_type": "code",
   "execution_count": null,
   "id": "b44cd5d8-7fc9-45a2-a89d-61373b885307",
   "metadata": {
    "tags": []
   },
   "outputs": [],
   "source": [
    "mscr.showplot_resampled()"
   ]
  },
  {
   "cell_type": "markdown",
   "id": "3c739858-a057-430c-a5d0-618697ea4e4d",
   "metadata": {},
   "source": [
    "---"
   ]
  },
  {
   "cell_type": "markdown",
   "id": "22fb1124-2641-402c-880f-2669e84eb7da",
   "metadata": {},
   "source": [
    "# **UPLOAD DATA TO THE DATABASE WITH `dbc-influxdb`**"
   ]
  },
  {
   "cell_type": "code",
   "execution_count": null,
   "id": "01aca467-b79d-4a8a-8f80-ddedc0dbf0b5",
   "metadata": {},
   "outputs": [],
   "source": [
    "print(f\"Data will be uploaded to bucket {BUCKET_PROCESSING}\")"
   ]
  },
  {
   "cell_type": "code",
   "execution_count": null,
   "id": "57276270-01bc-4d06-b208-25ac0ffbafb1",
   "metadata": {},
   "outputs": [],
   "source": [
    "for v in mscr.resampled_detailed.keys(): \n",
    "    m = assigned_measurements[v]    \n",
    "    dbc.upload_singlevar(to_bucket=BUCKET_PROCESSING,\n",
    "                         to_measurement=m,\n",
    "                         var_df=mscr.resampled_detailed[v],\n",
    "                         timezone_of_timestamp='UTC+01:00')\n",
    "    # dbc.upload_singlevar(to_bucket='test', to_measurement=m, var_df=vars_qc_resampled[v], timezone_of_timestamp='UTC+01:00')"
   ]
  },
  {
   "cell_type": "markdown",
   "id": "de1a02a7-416c-4025-8204-82d45ed58fec",
   "metadata": {},
   "source": [
    "---"
   ]
  },
  {
   "cell_type": "markdown",
   "id": "f59d60f3-41f3-40d4-a565-06df87edeb4e",
   "metadata": {},
   "source": [
    "# **DOWNLOAD FROM DATABASE**"
   ]
  },
  {
   "cell_type": "code",
   "execution_count": null,
   "id": "f38a21dd-4e66-4830-82f4-e31439786fd2",
   "metadata": {},
   "outputs": [],
   "source": [
    "dbc = dbcInflux(dirconf=DIRCONF)\n",
    "dbc.show_fields_in_measurement(bucket=BUCKET_PROCESSING, measurement='TA')"
   ]
  },
  {
   "cell_type": "code",
   "execution_count": null,
   "id": "7ae84d33-62ec-4b4f-8898-008015370784",
   "metadata": {},
   "outputs": [],
   "source": [
    "data_simple, data_detailed, assigned_measurements = dbc.download(bucket=BUCKET_PROCESSING,\n",
    "                                                                 measurements=[MEASUREMENT],\n",
    "                                                                 fields=FIELDS,\n",
    "                                                                 start=START,\n",
    "                                                                 stop=STOP,\n",
    "                                                                 timezone_offset_to_utc_hours=TIMEZONE_OFFSET_TO_UTC_HOURS,\n",
    "                                                                 data_version='meteoscreening')"
   ]
  },
  {
   "cell_type": "code",
   "execution_count": null,
   "id": "45e05d39-2c46-47fa-b597-1dd27e5f6cbf",
   "metadata": {},
   "outputs": [],
   "source": [
    "data_simple"
   ]
  },
  {
   "cell_type": "markdown",
   "id": "21ede306-a63e-4462-9744-8e93d9ee1937",
   "metadata": {},
   "source": [
    "---"
   ]
  },
  {
   "cell_type": "markdown",
   "id": "42b8c883-3886-4d6f-bd43-036fa99706b5",
   "metadata": {},
   "source": [
    "# **FINISH**\n",
    "Congratulations, you reached the end of this notebook! Before you go let's store your finish time."
   ]
  },
  {
   "cell_type": "code",
   "execution_count": null,
   "id": "e6ea09b1-a8b1-420f-9df0-44e50d69c37c",
   "metadata": {},
   "outputs": [],
   "source": [
    "dt_string = datetime.now().strftime(\"%Y-%m-%d %H:%M:%S\")\n",
    "print(f\"Finished. {dt_string}\")"
   ]
  },
  {
   "cell_type": "code",
   "execution_count": null,
   "id": "37e9181f-57bc-4f4f-97dc-c60897a480fc",
   "metadata": {},
   "outputs": [],
   "source": []
  }
 ],
 "metadata": {
  "kernelspec": {
   "display_name": "Python 3 (ipykernel)",
   "language": "python",
   "name": "python3"
  },
  "language_info": {
   "codemirror_mode": {
    "name": "ipython",
    "version": 3
   },
   "file_extension": ".py",
   "mimetype": "text/x-python",
   "name": "python",
   "nbconvert_exporter": "python",
   "pygments_lexer": "ipython3",
   "version": "3.9.7"
  },
  "toc-autonumbering": false
 },
 "nbformat": 4,
 "nbformat_minor": 5
}
