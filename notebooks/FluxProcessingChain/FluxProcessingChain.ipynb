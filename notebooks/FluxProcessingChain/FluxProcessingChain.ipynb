{
 "cells": [
  {
   "cell_type": "markdown",
   "id": "1b68dee5-76ca-44bd-8de6-45c5a314d982",
   "metadata": {},
   "source": [
    "![lop](../../images/logo_diive1_128px.png)"
   ]
  },
  {
   "cell_type": "markdown",
   "id": "80476531-3a45-420c-8ece-d8fe73ab8788",
   "metadata": {},
   "source": [
    "<span style='background:#FFF8E1; font-size:40px; display:block; border-left:40px solid #FFECB3; padding-left:40px;'>\n",
    "<b>\n",
    "    Flux Processing Chain\n",
    "</b>\n",
    "</span>"
   ]
  },
  {
   "cell_type": "markdown",
   "id": "48815613-0181-48f3-a4d7-9620a9f88b15",
   "metadata": {},
   "source": [
    "---\n",
    "**Notebook version**: `3` (18 Aug 2023)  \n",
    "Example notebook for the flux processing chain using the time series processing library `diive`.  \n",
    "**Author**: Lukas Hörtnagl (holukas@ethz.ch)  \n"
   ]
  },
  {
   "cell_type": "markdown",
   "id": "16a83491-39e1-4d9d-a0ba-e99ca4c578c4",
   "metadata": {},
   "source": [
    "</br>"
   ]
  },
  {
   "cell_type": "markdown",
   "id": "12f6d9a5-1bad-480c-8e03-320241c773f7",
   "metadata": {},
   "source": [
    "---"
   ]
  },
  {
   "cell_type": "markdown",
   "id": "10364782-eb90-4f6f-b419-d4fd5f2bccd1",
   "metadata": {},
   "source": [
    "# **Background**"
   ]
  },
  {
   "cell_type": "markdown",
   "id": "f4616152-4f22-4f0b-9d31-f590782c0ddb",
   "metadata": {
    "tags": []
   },
   "source": [
    "- This notebook demonstrates part of the flux post-processing used for fluxes from Swiss FluxNet research stations\n",
    "- For a description of the different flux levels, see [Flux Processing Chain](https://www.swissfluxnet.ethz.ch/index.php/data/ecosystem-fluxes/flux-processing-chain/)\n",
    "- Flux calculations (Level-1) were done in a previous step\n",
    "- This notebook uses the calculated fluxes (Level-1) and applies several post-processing steps:\n",
    "    - Quality flag extension (Level-2)\n",
    "    - Storage correction (Level-3.1)\n",
    "    - Outlier removel (Level-3.2)\n",
    "- Other flux levels are currently not produced in this example:\n",
    "    - Gap-filling (Level-4.1)\n",
    "    - NEE Partitioning (Level-4.2)"
   ]
  },
  {
   "cell_type": "markdown",
   "id": "114bdf76-2238-4790-9107-8242990b029a",
   "metadata": {},
   "source": [
    "</br>"
   ]
  },
  {
   "cell_type": "markdown",
   "id": "eaeea46f-7739-4ae3-ba2c-c7b5a22a5a60",
   "metadata": {},
   "source": [
    "---"
   ]
  },
  {
   "cell_type": "markdown",
   "id": "8373ddec-48b4-431b-a5e7-fdf6fa046f1c",
   "metadata": {},
   "source": [
    "# **Setup**"
   ]
  },
  {
   "cell_type": "markdown",
   "id": "da7534be-f906-48e0-8257-8134c6f379e2",
   "metadata": {},
   "source": [
    "## User settings\n",
    "- `FLUXVAR` is the name of the flux variable in the data files. In the EddyPro `_fluxnet_` output files, the flux variables are:\n",
    "  - `FC` ... CO2 flux, becomes `NEE` after storage correction (Level-3.1)\n",
    "  - `FH2O` ... H2O flux\n",
    "  - `LE` ... Latent heat flux (water)\n",
    "  - `H` ... Sensible heat flux"
   ]
  },
  {
   "cell_type": "code",
   "execution_count": 2,
   "id": "8cc892bd-75a4-467f-8399-6b152e37c4c1",
   "metadata": {
    "tags": []
   },
   "outputs": [],
   "source": [
    "FLUXVAR = \"LE\"  # Name of the flux variable\n",
    "FOLDERS = [r\"Z:\\CH-FRU_Fruebuel\\20_ec_fluxes\\2023\\Level-0\\CH-FRU_FR-20230730-090003\\2-0_eddypro_flux_calculations\\results\"]  # Folders where data files are located\n",
    "SITE_LAT = 46.815333  # Latitude of site\n",
    "SITE_LON = 9.855972  # Longitude of site"
   ]
  },
  {
   "cell_type": "markdown",
   "id": "a8b8983b-88e5-42e3-8d72-9729f9306653",
   "metadata": {},
   "source": [
    "## Imports\n",
    "- This notebook uses `diive` to check eddy covariance fluxes for quality"
   ]
  },
  {
   "cell_type": "code",
   "execution_count": 3,
   "id": "a5a21aa1-ea9a-4959-995e-3770371efc73",
   "metadata": {
    "tags": []
   },
   "outputs": [
    {
     "name": "stderr",
     "output_type": "stream",
     "text": [
      "C:\\Users\\holukas\\AppData\\Local\\pypoetry\\Cache\\virtualenvs\\diive-HxUoW9nG-py3.9\\lib\\site-packages\\statsmodels\\compat\\pandas.py:65: FutureWarning: pandas.Int64Index is deprecated and will be removed from pandas in a future version. Use pandas.Index with the appropriate dtype instead.\n",
      "  from pandas import Int64Index as NumericIndex\n"
     ]
    },
    {
     "name": "stdout",
     "output_type": "stream",
     "text": [
      "This page was last modified on: 2023-08-18 16:28:01\n",
      "diive version: v0.55.0\n"
     ]
    }
   ],
   "source": [
    "import os\n",
    "import pkg_resources\n",
    "from datetime import datetime\n",
    "from pathlib import Path\n",
    "from diive.core.io.filereader import MultiDataFileReader, search_files\n",
    "from diive.core.io.files import save_parquet\n",
    "from diive.pkgs.fluxprocessingchain.level2_qualityflags import FluxQualityFlagsLevel2EddyPro\n",
    "from diive.pkgs.fluxprocessingchain.level31_storagecorrection import FluxStorageCorrectionSinglePointEddyPro\n",
    "from diive.pkgs.outlierdetection.stepwiseoutlierdetection import StepwiseOutlierDetection\n",
    "from diive.pkgs.qaqc.qcf import FlagQCF\n",
    "\n",
    "dt_string = datetime.now().strftime(\"%Y-%m-%d %H:%M:%S\")\n",
    "print(f\"This page was last modified on: {dt_string}\")\n",
    "version_diive = pkg_resources.get_distribution(\"diive\").version\n",
    "print(f\"diive version: v{version_diive}\")"
   ]
  },
  {
   "cell_type": "markdown",
   "id": "5d93046a-097d-49d2-b46d-bbf5f67b3850",
   "metadata": {},
   "source": [
    "### Show docstring for `FluxQualityFlagsLevel2EddyPro`"
   ]
  },
  {
   "cell_type": "code",
   "execution_count": 4,
   "id": "dabeb49b-8bb0-41bd-adb4-1f496befe41f",
   "metadata": {
    "tags": []
   },
   "outputs": [
    {
     "name": "stdout",
     "output_type": "stream",
     "text": [
      "FluxQualityFlagsLevel2EddyPro\n",
      "\n",
      "    Create QCF (quality-control flag) for selected flags, calculated\n",
      "    from EddyPro's _fluxnet_ output files\n",
      "    \n"
     ]
    }
   ],
   "source": [
    "print(FluxQualityFlagsLevel2EddyPro.__name__)\n",
    "print(FluxQualityFlagsLevel2EddyPro.__doc__)"
   ]
  },
  {
   "cell_type": "markdown",
   "id": "5413dd1c-38fa-4b58-a3e8-3fa02790ec1b",
   "metadata": {},
   "source": [
    "### Show docstring for `FluxStorageCorrectionSinglePointEddyPro`"
   ]
  },
  {
   "cell_type": "code",
   "execution_count": 5,
   "id": "99082e37-db43-4e46-afdc-6a865548cfb1",
   "metadata": {
    "tags": []
   },
   "outputs": [
    {
     "name": "stdout",
     "output_type": "stream",
     "text": [
      "FluxStorageCorrectionSinglePointEddyPro\n",
      "\n",
      "    Estimation of storage fluxes (gases, sensible heat, latent heat) from concentrations\n",
      "    (1-point profile) as calculated by EddyPro\n",
      "    \n"
     ]
    }
   ],
   "source": [
    "print(FluxStorageCorrectionSinglePointEddyPro.__name__)\n",
    "print(FluxStorageCorrectionSinglePointEddyPro.__doc__)"
   ]
  },
  {
   "cell_type": "markdown",
   "id": "60aff82c-f419-4081-b604-42058dc2a045",
   "metadata": {},
   "source": [
    "### Show docstring for `StepwiseOutlierDetection`"
   ]
  },
  {
   "cell_type": "code",
   "execution_count": 6,
   "id": "13509ae2-3c75-4332-ac6f-4443c257e48d",
   "metadata": {
    "tags": []
   },
   "outputs": [
    {
     "name": "stdout",
     "output_type": "stream",
     "text": [
      "StepwiseOutlierDetection\n",
      "\n",
      "    Step-wise outlier detection in time series data\n",
      "\n",
      "    The class is optimized to work in Jupyter notebooks.\n",
      "\n",
      "    Quality flags that can be directly created via this class:\n",
      "    - `.flag_missingvals_test()`: Generate flag that indicates missing records in data\n",
      "    - `.flag_outliers_abslim_test()`: Generate flag that indicates if values in data are outside the specified range\n",
      "    - `.flag_outliers_abslim_dtnt_test()`: Generate flag that indicates if daytime and nighttime values in data are\n",
      "        outside their respectively specified ranges\n",
      "    - `.flag_outliers_increments_zcore_test()`: Identify outliers based on the z-score of increments\n",
      "    - `.flag_outliers_localsd_test()`: Identify outliers based on the local standard deviation\n",
      "    - `.flag_manualremoval_test()`: Remove data points for range, time or point-by-point\n",
      "    - `.flag_outliers_stl_riqrz_test()`: Identify outliers based on seasonal-trend decomposition and z-score\n",
      "        calculations, taking the inter-quartile range into account\n",
      "    - `.flag_outliers_stl_rz_test()`: Identify outliers based on seasonal-trend decomposition and z-score calculations\n",
      "    - `.flag_outliers_thymeboost_test()`: Identify outliers based on [thymeboost](https://github.com/tblume1992/ThymeBoost)\n",
      "    - `.flag_outliers_zscore_dtnt_test()`: Identify outliers based on the z-score, separately for daytime and nighttime\n",
      "    - `.flag_outliers_zscore_test()`:  Identify outliers based on the z-score\n",
      "    - `.flag_outliers_zscoreiqr_test()`: Identify outliers based on max z-scores in the interquartile range data\n",
      "    - `.flag_outliers_lof_dtnt_test()`: Identify outliers based on local outlier factor, daytime nighttime separately\n",
      "    - `.flag_outliers_lof_test()`: Identify outliers based on local outlier factor, across all data\n",
      "\n",
      "    The class is optimized to work in Jupyter notebooks. Various outlier detection\n",
      "    methods can be called on-demand. Outlier results are displayed and the user can\n",
      "    accept the results and proceed, or repeat the step with adjusted method parameters.\n",
      "    An unlimited amount of tests can be chained together.\n",
      "\n",
      "    At the end of the screening, an overall flag (`QCF`) can be calculated from ALL\n",
      "    single flags using the `FlagQCF` class in `diive`. The overall flag can then be\n",
      "    used to filter the time series.\n",
      "\n",
      "    **Screening**\n",
      "    The stepwise meteoscreening allows to perform **step-by-step** outlier removal tests\n",
      "    on time series data. A preview plot after running a test is shown and the user can\n",
      "    decide if results are satisfactory or if the same test with different parameters\n",
      "    should be re-run. Once results are satisfactory, the respective test flag is added\n",
      "    to the data with `.addflag()`.\n",
      "\n",
      "    **Modular structure**\n",
      "    Due to its modular (step-wise) approach, the stepwise screening can be easily adjusted\n",
      "    to work with any type of time series data.\n",
      "\n",
      "    **Current methods**\n",
      "    A listing of currently implemented quality checks and corrections can be found at the top\n",
      "    of this file.\n",
      "\n",
      "    \n"
     ]
    }
   ],
   "source": [
    "print(StepwiseOutlierDetection.__name__)\n",
    "print(StepwiseOutlierDetection.__doc__)"
   ]
  },
  {
   "cell_type": "markdown",
   "id": "72383d3c-88ba-4e50-ae97-313c8e701f05",
   "metadata": {},
   "source": [
    "## Load data"
   ]
  },
  {
   "cell_type": "markdown",
   "id": "7061104f-8296-45b6-b3c0-6cab339a1c9e",
   "metadata": {},
   "source": [
    "### Search files"
   ]
  },
  {
   "cell_type": "code",
   "execution_count": 7,
   "id": "075fb21c-c346-4e00-8d65-d859d4d75e22",
   "metadata": {
    "tags": []
   },
   "outputs": [
    {
     "data": {
      "text/plain": [
       "[WindowsPath('Z:/CH-DAS_Dav-Subcanopy/20_ec_fluxes/2023/Level-0/CH-DAS_FR-20230119-182509/2-0_eddypro_flux_calculations/results/eddypro_CH-DAS_FR-20230119-182509_fluxnet_2023-01-19T183058_adv.csv'),\n",
       " WindowsPath('Z:/CH-DAS_Dav-Subcanopy/20_ec_fluxes/2023/Level-0/CH-DAS_FR-20230123-165518/2-0_eddypro_flux_calculations/results/eddypro_CH-DAS_FR-20230123-165518_fluxnet_2023-01-23T165718_adv.csv'),\n",
       " WindowsPath('Z:/CH-DAS_Dav-Subcanopy/20_ec_fluxes/2023/Level-0/CH-DAS_FR-20230201-103101/2-0_eddypro_flux_calculations/results/eddypro_CH-DAS_FR-20230201-103101_fluxnet_2023-02-01T103639_adv.csv'),\n",
       " WindowsPath('Z:/CH-DAS_Dav-Subcanopy/20_ec_fluxes/2023/Level-0/CH-DAS_FR-20230208-191222/2-0_eddypro_flux_calculations/results/eddypro_CH-DAS_FR-20230208-191222_fluxnet_2023-02-08T191719_adv.csv'),\n",
       " WindowsPath('Z:/CH-DAS_Dav-Subcanopy/20_ec_fluxes/2023/Level-0/CH-DAS_FR-20230215-083624/2-0_eddypro_flux_calculations/results/eddypro_CH-DAS_FR-20230215-083624_fluxnet_2023-02-15T083957_adv.csv'),\n",
       " WindowsPath('Z:/CH-DAS_Dav-Subcanopy/20_ec_fluxes/2023/Level-0/CH-DAS_FR-20230221-170839/2-0_eddypro_flux_calculations/results/eddypro_CH-DAS_FR-20230221-170839_fluxnet_2023-02-21T171152_adv.csv'),\n",
       " WindowsPath('Z:/CH-DAS_Dav-Subcanopy/20_ec_fluxes/2023/Level-0/CH-DAS_FR-20230301-084304/2-0_eddypro_flux_calculations/results/eddypro_CH-DAS_FR-20230301-084304_fluxnet_2023-03-01T084630_adv.csv'),\n",
       " WindowsPath('Z:/CH-DAS_Dav-Subcanopy/20_ec_fluxes/2023/Level-0/CH-DAS_FR-20230307-103124/2-0_eddypro_flux_calculations/results/eddypro_CH-DAS_FR-20230307-103124_fluxnet_2023-03-07T103436_adv.csv'),\n",
       " WindowsPath('Z:/CH-DAS_Dav-Subcanopy/20_ec_fluxes/2023/Level-0/CH-DAS_FR-20230314-171811/2-0_eddypro_flux_calculations/results/eddypro_CH-DAS_FR-20230314-171811_fluxnet_2023-03-14T172105_adv.csv'),\n",
       " WindowsPath('Z:/CH-DAS_Dav-Subcanopy/20_ec_fluxes/2023/Level-0/CH-DAS_FR-20230321-101312/2-0_eddypro_flux_calculations/results/eddypro_CH-DAS_FR-20230321-101312_fluxnet_2023-03-21T101610_adv.csv'),\n",
       " WindowsPath('Z:/CH-DAS_Dav-Subcanopy/20_ec_fluxes/2023/Level-0/CH-DAS_FR-20230324-083003/2-0_eddypro_flux_calculations/results/eddypro_CH-DAS_FR-20230324-083003_fluxnet_2023-03-24T085658_adv.csv'),\n",
       " WindowsPath('Z:/CH-DAS_Dav-Subcanopy/20_ec_fluxes/2023/Level-0/CH-DAS_FR-20230325-083003/2-0_eddypro_flux_calculations/results/eddypro_CH-DAS_FR-20230325-083003_fluxnet_2023-03-25T085233_adv.csv'),\n",
       " WindowsPath('Z:/CH-DAS_Dav-Subcanopy/20_ec_fluxes/2023/Level-0/CH-DAS_FR-20230326-073003/2-0_eddypro_flux_calculations/results/eddypro_CH-DAS_FR-20230326-073003_fluxnet_2023-03-26T075213_adv.csv'),\n",
       " WindowsPath('Z:/CH-DAS_Dav-Subcanopy/20_ec_fluxes/2023/Level-0/CH-DAS_FR-20230326-083003/2-0_eddypro_flux_calculations/results/eddypro_CH-DAS_FR-20230326-083003_fluxnet_2023-03-26T085425_adv.csv'),\n",
       " WindowsPath('Z:/CH-DAS_Dav-Subcanopy/20_ec_fluxes/2023/Level-0/CH-DAS_FR-20230328-083003/2-0_eddypro_flux_calculations/results/eddypro_CH-DAS_FR-20230328-083003_fluxnet_2023-03-28T085315_adv.csv'),\n",
       " WindowsPath('Z:/CH-DAS_Dav-Subcanopy/20_ec_fluxes/2023/Level-0/CH-DAS_FR-20230329-083003/2-0_eddypro_flux_calculations/results/eddypro_CH-DAS_FR-20230329-083003_fluxnet_2023-03-29T085249_adv.csv'),\n",
       " WindowsPath('Z:/CH-DAS_Dav-Subcanopy/20_ec_fluxes/2023/Level-0/CH-DAS_FR-20230330-083003/2-0_eddypro_flux_calculations/results/eddypro_CH-DAS_FR-20230330-083003_fluxnet_2023-03-30T085234_adv.csv'),\n",
       " WindowsPath('Z:/CH-DAS_Dav-Subcanopy/20_ec_fluxes/2023/Level-0/CH-DAS_FR-20230331-083003/2-0_eddypro_flux_calculations/results/eddypro_CH-DAS_FR-20230331-083003_fluxnet_2023-03-31T085205_adv.csv'),\n",
       " WindowsPath('Z:/CH-DAS_Dav-Subcanopy/20_ec_fluxes/2023/Level-0/CH-DAS_FR-20230401-083003/2-0_eddypro_flux_calculations/results/eddypro_CH-DAS_FR-20230401-083003_fluxnet_2023-04-01T085152_adv.csv'),\n",
       " WindowsPath('Z:/CH-DAS_Dav-Subcanopy/20_ec_fluxes/2023/Level-0/CH-DAS_FR-20230402-083003/2-0_eddypro_flux_calculations/results/eddypro_CH-DAS_FR-20230402-083003_fluxnet_2023-04-02T085026_adv.csv'),\n",
       " WindowsPath('Z:/CH-DAS_Dav-Subcanopy/20_ec_fluxes/2023/Level-0/CH-DAS_FR-20230403-083003/2-0_eddypro_flux_calculations/results/eddypro_CH-DAS_FR-20230403-083003_fluxnet_2023-04-03T085204_adv.csv'),\n",
       " WindowsPath('Z:/CH-DAS_Dav-Subcanopy/20_ec_fluxes/2023/Level-0/CH-DAS_FR-20230404-083003/2-0_eddypro_flux_calculations/results/eddypro_CH-DAS_FR-20230404-083003_fluxnet_2023-04-04T085224_adv.csv'),\n",
       " WindowsPath('Z:/CH-DAS_Dav-Subcanopy/20_ec_fluxes/2023/Level-0/CH-DAS_FR-20230405-083003/2-0_eddypro_flux_calculations/results/eddypro_CH-DAS_FR-20230405-083003_fluxnet_2023-04-05T085349_adv.csv'),\n",
       " WindowsPath('Z:/CH-DAS_Dav-Subcanopy/20_ec_fluxes/2023/Level-0/CH-DAS_FR-20230406-083003/2-0_eddypro_flux_calculations/results/eddypro_CH-DAS_FR-20230406-083003_fluxnet_2023-04-06T085342_adv.csv'),\n",
       " WindowsPath('Z:/CH-DAS_Dav-Subcanopy/20_ec_fluxes/2023/Level-0/CH-DAS_FR-20230407-083003/2-0_eddypro_flux_calculations/results/eddypro_CH-DAS_FR-20230407-083003_fluxnet_2023-04-07T085329_adv.csv'),\n",
       " WindowsPath('Z:/CH-DAS_Dav-Subcanopy/20_ec_fluxes/2023/Level-0/CH-DAS_FR-20230408-083003/2-0_eddypro_flux_calculations/results/eddypro_CH-DAS_FR-20230408-083003_fluxnet_2023-04-08T085339_adv.csv'),\n",
       " WindowsPath('Z:/CH-DAS_Dav-Subcanopy/20_ec_fluxes/2023/Level-0/CH-DAS_FR-20230409-083003/2-0_eddypro_flux_calculations/results/eddypro_CH-DAS_FR-20230409-083003_fluxnet_2023-04-09T085311_adv.csv'),\n",
       " WindowsPath('Z:/CH-DAS_Dav-Subcanopy/20_ec_fluxes/2023/Level-0/CH-DAS_FR-20230410-083003/2-0_eddypro_flux_calculations/results/eddypro_CH-DAS_FR-20230410-083003_fluxnet_2023-04-10T085329_adv.csv'),\n",
       " WindowsPath('Z:/CH-DAS_Dav-Subcanopy/20_ec_fluxes/2023/Level-0/CH-DAS_FR-20230411-083003/2-0_eddypro_flux_calculations/results/eddypro_CH-DAS_FR-20230411-083003_fluxnet_2023-04-11T085347_adv.csv'),\n",
       " WindowsPath('Z:/CH-DAS_Dav-Subcanopy/20_ec_fluxes/2023/Level-0/CH-DAS_FR-20230412-083003/2-0_eddypro_flux_calculations/results/eddypro_CH-DAS_FR-20230412-083003_fluxnet_2023-04-12T085240_adv.csv'),\n",
       " WindowsPath('Z:/CH-DAS_Dav-Subcanopy/20_ec_fluxes/2023/Level-0/CH-DAS_FR-20230413-083003/2-0_eddypro_flux_calculations/results/eddypro_CH-DAS_FR-20230413-083003_fluxnet_2023-04-13T085241_adv.csv'),\n",
       " WindowsPath('Z:/CH-DAS_Dav-Subcanopy/20_ec_fluxes/2023/Level-0/CH-DAS_FR-20230414-083003/2-0_eddypro_flux_calculations/results/eddypro_CH-DAS_FR-20230414-083003_fluxnet_2023-04-14T085502_adv.csv'),\n",
       " WindowsPath('Z:/CH-DAS_Dav-Subcanopy/20_ec_fluxes/2023/Level-0/CH-DAS_FR-20230418-083003/2-0_eddypro_flux_calculations/results/eddypro_CH-DAS_FR-20230418-083003_fluxnet_2023-04-18T085200_adv.csv'),\n",
       " WindowsPath('Z:/CH-DAS_Dav-Subcanopy/20_ec_fluxes/2023/Level-0/CH-DAS_FR-20230419-083004/2-0_eddypro_flux_calculations/results/eddypro_CH-DAS_FR-20230419-083004_fluxnet_2023-04-19T084949_adv.csv'),\n",
       " WindowsPath('Z:/CH-DAS_Dav-Subcanopy/20_ec_fluxes/2023/Level-0/CH-DAS_FR-20230420-083003/2-0_eddypro_flux_calculations/results/eddypro_CH-DAS_FR-20230420-083003_fluxnet_2023-04-20T085117_adv.csv'),\n",
       " WindowsPath('Z:/CH-DAS_Dav-Subcanopy/20_ec_fluxes/2023/Level-0/CH-DAS_FR-20230421-083003/2-0_eddypro_flux_calculations/results/eddypro_CH-DAS_FR-20230421-083003_fluxnet_2023-04-21T085127_adv.csv'),\n",
       " WindowsPath('Z:/CH-DAS_Dav-Subcanopy/20_ec_fluxes/2023/Level-0/CH-DAS_FR-20230422-083003/2-0_eddypro_flux_calculations/results/eddypro_CH-DAS_FR-20230422-083003_fluxnet_2023-04-22T085049_adv.csv'),\n",
       " WindowsPath('Z:/CH-DAS_Dav-Subcanopy/20_ec_fluxes/2023/Level-0/CH-DAS_FR-20230423-083003/2-0_eddypro_flux_calculations/results/eddypro_CH-DAS_FR-20230423-083003_fluxnet_2023-04-23T085042_adv.csv'),\n",
       " WindowsPath('Z:/CH-DAS_Dav-Subcanopy/20_ec_fluxes/2023/Level-0/CH-DAS_FR-20230424-083003/2-0_eddypro_flux_calculations/results/eddypro_CH-DAS_FR-20230424-083003_fluxnet_2023-04-24T085023_adv.csv'),\n",
       " WindowsPath('Z:/CH-DAS_Dav-Subcanopy/20_ec_fluxes/2023/Level-0/CH-DAS_FR-20230425-083003/2-0_eddypro_flux_calculations/results/eddypro_CH-DAS_FR-20230425-083003_fluxnet_2023-04-25T085311_adv.csv'),\n",
       " WindowsPath('Z:/CH-DAS_Dav-Subcanopy/20_ec_fluxes/2023/Level-0/CH-DAS_FR-20230426-083003/2-0_eddypro_flux_calculations/results/eddypro_CH-DAS_FR-20230426-083003_fluxnet_2023-04-26T085045_adv.csv'),\n",
       " WindowsPath('Z:/CH-DAS_Dav-Subcanopy/20_ec_fluxes/2023/Level-0/CH-DAS_FR-20230427-083003/2-0_eddypro_flux_calculations/results/eddypro_CH-DAS_FR-20230427-083003_fluxnet_2023-04-27T085212_adv.csv'),\n",
       " WindowsPath('Z:/CH-DAS_Dav-Subcanopy/20_ec_fluxes/2023/Level-0/CH-DAS_FR-20230428-083003/2-0_eddypro_flux_calculations/results/eddypro_CH-DAS_FR-20230428-083003_fluxnet_2023-04-28T085149_adv.csv'),\n",
       " WindowsPath('Z:/CH-DAS_Dav-Subcanopy/20_ec_fluxes/2023/Level-0/CH-DAS_FR-20230429-083003/2-0_eddypro_flux_calculations/results/eddypro_CH-DAS_FR-20230429-083003_fluxnet_2023-04-29T085430_adv.csv'),\n",
       " WindowsPath('Z:/CH-DAS_Dav-Subcanopy/20_ec_fluxes/2023/Level-0/CH-DAS_FR-20230430-083003/2-0_eddypro_flux_calculations/results/eddypro_CH-DAS_FR-20230430-083003_fluxnet_2023-04-30T085417_adv.csv'),\n",
       " WindowsPath('Z:/CH-DAS_Dav-Subcanopy/20_ec_fluxes/2023/Level-0/CH-DAS_FR-20230501-083003/2-0_eddypro_flux_calculations/results/eddypro_CH-DAS_FR-20230501-083003_fluxnet_2023-05-01T085407_adv.csv'),\n",
       " WindowsPath('Z:/CH-DAS_Dav-Subcanopy/20_ec_fluxes/2023/Level-0/CH-DAS_FR-20230502-083003/2-0_eddypro_flux_calculations/results/eddypro_CH-DAS_FR-20230502-083003_fluxnet_2023-05-02T085333_adv.csv'),\n",
       " WindowsPath('Z:/CH-DAS_Dav-Subcanopy/20_ec_fluxes/2023/Level-0/CH-DAS_FR-20230503-083003/2-0_eddypro_flux_calculations/results/eddypro_CH-DAS_FR-20230503-083003_fluxnet_2023-05-03T085221_adv.csv'),\n",
       " WindowsPath('Z:/CH-DAS_Dav-Subcanopy/20_ec_fluxes/2023/Level-0/CH-DAS_FR-20230504-083003/2-0_eddypro_flux_calculations/results/eddypro_CH-DAS_FR-20230504-083003_fluxnet_2023-05-04T084833_adv.csv'),\n",
       " WindowsPath('Z:/CH-DAS_Dav-Subcanopy/20_ec_fluxes/2023/Level-0/CH-DAS_FR-20230505-083003/2-0_eddypro_flux_calculations/results/eddypro_CH-DAS_FR-20230505-083003_fluxnet_2023-05-05T084343_adv.csv'),\n",
       " WindowsPath('Z:/CH-DAS_Dav-Subcanopy/20_ec_fluxes/2023/Level-0/CH-DAS_FR-20230506-083003/2-0_eddypro_flux_calculations/results/eddypro_CH-DAS_FR-20230506-083003_fluxnet_2023-05-06T083908_adv.csv'),\n",
       " WindowsPath('Z:/CH-DAS_Dav-Subcanopy/20_ec_fluxes/2023/Level-0/CH-DAS_FR-20230507-083003/2-0_eddypro_flux_calculations/results/eddypro_CH-DAS_FR-20230507-083003_fluxnet_2023-05-07T083445_adv.csv'),\n",
       " WindowsPath('Z:/CH-DAS_Dav-Subcanopy/20_ec_fluxes/2023/Level-0/CH-DAS_FR-20230516-083003/2-0_eddypro_flux_calculations/results/eddypro_CH-DAS_FR-20230516-083003_fluxnet_2023-05-16T085323_adv.csv'),\n",
       " WindowsPath('Z:/CH-DAS_Dav-Subcanopy/20_ec_fluxes/2023/Level-0/CH-DAS_FR-20230517-083005/2-0_eddypro_flux_calculations/results/eddypro_CH-DAS_FR-20230517-083005_fluxnet_2023-05-17T085930_adv.csv'),\n",
       " WindowsPath('Z:/CH-DAS_Dav-Subcanopy/20_ec_fluxes/2023/Level-0/CH-DAS_FR-20230517-141646/2-0_eddypro_flux_calculations/results/eddypro_CH-DAS_FR-20230517-141646_fluxnet_2023-05-17T141733_adv.csv'),\n",
       " WindowsPath('Z:/CH-DAS_Dav-Subcanopy/20_ec_fluxes/2023/Level-0/CH-DAS_FR-20230518-083004/2-0_eddypro_flux_calculations/results/eddypro_CH-DAS_FR-20230518-083004_fluxnet_2023-05-18T083113_adv.csv'),\n",
       " WindowsPath('Z:/CH-DAS_Dav-Subcanopy/20_ec_fluxes/2023/Level-0/CH-DAS_FR-20230519-083004/2-0_eddypro_flux_calculations/results/eddypro_CH-DAS_FR-20230519-083004_fluxnet_2023-05-19T083111_adv.csv'),\n",
       " WindowsPath('Z:/CH-DAS_Dav-Subcanopy/20_ec_fluxes/2023/Level-0/CH-DAS_FR-20230520-083003/2-0_eddypro_flux_calculations/results/eddypro_CH-DAS_FR-20230520-083003_fluxnet_2023-05-20T083051_adv.csv'),\n",
       " WindowsPath('Z:/CH-DAS_Dav-Subcanopy/20_ec_fluxes/2023/Level-0/CH-DAS_FR-20230521-083003/2-0_eddypro_flux_calculations/results/eddypro_CH-DAS_FR-20230521-083003_fluxnet_2023-05-21T083053_adv.csv'),\n",
       " WindowsPath('Z:/CH-DAS_Dav-Subcanopy/20_ec_fluxes/2023/Level-0/CH-DAS_FR-20230603-132842/2-0_eddypro_flux_calculations/results/eddypro_CH-DAS_FR-20230603-132842_fluxnet_2023-06-03T133115_adv.csv'),\n",
       " WindowsPath('Z:/CH-DAS_Dav-Subcanopy/20_ec_fluxes/2023/Level-0/CH-DAS_FR-20230604-083004/2-0_eddypro_flux_calculations/results/eddypro_CH-DAS_FR-20230604-083004_fluxnet_2023-06-04T083248_adv.csv'),\n",
       " WindowsPath('Z:/CH-DAS_Dav-Subcanopy/20_ec_fluxes/2023/Level-0/CH-DAS_FR-20230605-083003/2-0_eddypro_flux_calculations/results/eddypro_CH-DAS_FR-20230605-083003_fluxnet_2023-06-05T083227_adv.csv'),\n",
       " WindowsPath('Z:/CH-DAS_Dav-Subcanopy/20_ec_fluxes/2023/Level-0/CH-DAS_FR-20230606-083003/2-0_eddypro_flux_calculations/results/eddypro_CH-DAS_FR-20230606-083003_fluxnet_2023-06-06T083226_adv.csv'),\n",
       " WindowsPath('Z:/CH-DAS_Dav-Subcanopy/20_ec_fluxes/2023/Level-0/CH-DAS_FR-20230607-083003/2-0_eddypro_flux_calculations/results/eddypro_CH-DAS_FR-20230607-083003_fluxnet_2023-06-07T083225_adv.csv'),\n",
       " WindowsPath('Z:/CH-DAS_Dav-Subcanopy/20_ec_fluxes/2023/Level-0/CH-DAS_FR-20230608-083003/2-0_eddypro_flux_calculations/results/eddypro_CH-DAS_FR-20230608-083003_fluxnet_2023-06-08T083226_adv.csv'),\n",
       " WindowsPath('Z:/CH-DAS_Dav-Subcanopy/20_ec_fluxes/2023/Level-0/CH-DAS_FR-20230609-083003/2-0_eddypro_flux_calculations/results/eddypro_CH-DAS_FR-20230609-083003_fluxnet_2023-06-09T083227_adv.csv'),\n",
       " WindowsPath('Z:/CH-DAS_Dav-Subcanopy/20_ec_fluxes/2023/Level-0/CH-DAS_FR-20230613-083004/2-0_eddypro_flux_calculations/results/eddypro_CH-DAS_FR-20230613-083004_fluxnet_2023-06-13T083159_adv.csv'),\n",
       " WindowsPath('Z:/CH-DAS_Dav-Subcanopy/20_ec_fluxes/2023/Level-0/CH-DAS_FR-20230614-083003/2-0_eddypro_flux_calculations/results/eddypro_CH-DAS_FR-20230614-083003_fluxnet_2023-06-14T083141_adv.csv'),\n",
       " WindowsPath('Z:/CH-DAS_Dav-Subcanopy/20_ec_fluxes/2023/Level-0/CH-DAS_FR-20230615-083003/2-0_eddypro_flux_calculations/results/eddypro_CH-DAS_FR-20230615-083003_fluxnet_2023-06-15T083230_adv.csv'),\n",
       " WindowsPath('Z:/CH-DAS_Dav-Subcanopy/20_ec_fluxes/2023/Level-0/CH-DAS_FR-20230616-083003/2-0_eddypro_flux_calculations/results/eddypro_CH-DAS_FR-20230616-083003_fluxnet_2023-06-16T083232_adv.csv'),\n",
       " WindowsPath('Z:/CH-DAS_Dav-Subcanopy/20_ec_fluxes/2023/Level-0/CH-DAS_FR-20230617-083003/2-0_eddypro_flux_calculations/results/eddypro_CH-DAS_FR-20230617-083003_fluxnet_2023-06-17T083240_adv.csv'),\n",
       " WindowsPath('Z:/CH-DAS_Dav-Subcanopy/20_ec_fluxes/2023/Level-0/CH-DAS_FR-20230618-083003/2-0_eddypro_flux_calculations/results/eddypro_CH-DAS_FR-20230618-083003_fluxnet_2023-06-18T083229_adv.csv'),\n",
       " WindowsPath('Z:/CH-DAS_Dav-Subcanopy/20_ec_fluxes/2023/Level-0/CH-DAS_FR-20230619-083003/2-0_eddypro_flux_calculations/results/eddypro_CH-DAS_FR-20230619-083003_fluxnet_2023-06-19T083240_adv.csv'),\n",
       " WindowsPath('Z:/CH-DAS_Dav-Subcanopy/20_ec_fluxes/2023/Level-0/CH-DAS_FR-20230620-083003/2-0_eddypro_flux_calculations/results/eddypro_CH-DAS_FR-20230620-083003_fluxnet_2023-06-20T083253_adv.csv'),\n",
       " WindowsPath('Z:/CH-DAS_Dav-Subcanopy/20_ec_fluxes/2023/Level-0/CH-DAS_FR-20230621-083003/2-0_eddypro_flux_calculations/results/eddypro_CH-DAS_FR-20230621-083003_fluxnet_2023-06-21T083248_adv.csv'),\n",
       " WindowsPath('Z:/CH-DAS_Dav-Subcanopy/20_ec_fluxes/2023/Level-0/CH-DAS_FR-20230622-083003/2-0_eddypro_flux_calculations/results/eddypro_CH-DAS_FR-20230622-083003_fluxnet_2023-06-22T083247_adv.csv'),\n",
       " WindowsPath('Z:/CH-DAS_Dav-Subcanopy/20_ec_fluxes/2023/Level-0/CH-DAS_FR-20230623-083003/2-0_eddypro_flux_calculations/results/eddypro_CH-DAS_FR-20230623-083003_fluxnet_2023-06-23T083245_adv.csv'),\n",
       " WindowsPath('Z:/CH-DAS_Dav-Subcanopy/20_ec_fluxes/2023/Level-0/CH-DAS_FR-20230624-083003/2-0_eddypro_flux_calculations/results/eddypro_CH-DAS_FR-20230624-083003_fluxnet_2023-06-24T083224_adv.csv'),\n",
       " WindowsPath('Z:/CH-DAS_Dav-Subcanopy/20_ec_fluxes/2023/Level-0/CH-DAS_FR-20230625-083003/2-0_eddypro_flux_calculations/results/eddypro_CH-DAS_FR-20230625-083003_fluxnet_2023-06-25T083222_adv.csv'),\n",
       " WindowsPath('Z:/CH-DAS_Dav-Subcanopy/20_ec_fluxes/2023/Level-0/CH-DAS_FR-20230627-083003/2-0_eddypro_flux_calculations/results/eddypro_CH-DAS_FR-20230627-083003_fluxnet_2023-06-27T083222_adv.csv'),\n",
       " WindowsPath('Z:/CH-DAS_Dav-Subcanopy/20_ec_fluxes/2023/Level-0/CH-DAS_FR-20230628-083003/2-0_eddypro_flux_calculations/results/eddypro_CH-DAS_FR-20230628-083003_fluxnet_2023-06-28T083223_adv.csv'),\n",
       " WindowsPath('Z:/CH-DAS_Dav-Subcanopy/20_ec_fluxes/2023/Level-0/CH-DAS_FR-20230629-083003/2-0_eddypro_flux_calculations/results/eddypro_CH-DAS_FR-20230629-083003_fluxnet_2023-06-29T083228_adv.csv'),\n",
       " WindowsPath('Z:/CH-DAS_Dav-Subcanopy/20_ec_fluxes/2023/Level-0/CH-DAS_FR-20230630-083003/2-0_eddypro_flux_calculations/results/eddypro_CH-DAS_FR-20230630-083003_fluxnet_2023-06-30T083306_adv.csv'),\n",
       " WindowsPath('Z:/CH-DAS_Dav-Subcanopy/20_ec_fluxes/2023/Level-0/CH-DAS_FR-20230701-083003/2-0_eddypro_flux_calculations/results/eddypro_CH-DAS_FR-20230701-083003_fluxnet_2023-07-01T083224_adv.csv'),\n",
       " WindowsPath('Z:/CH-DAS_Dav-Subcanopy/20_ec_fluxes/2023/Level-0/CH-DAS_FR-20230702-083003/2-0_eddypro_flux_calculations/results/eddypro_CH-DAS_FR-20230702-083003_fluxnet_2023-07-02T083224_adv.csv'),\n",
       " WindowsPath('Z:/CH-DAS_Dav-Subcanopy/20_ec_fluxes/2023/Level-0/CH-DAS_FR-20230703-083003/2-0_eddypro_flux_calculations/results/eddypro_CH-DAS_FR-20230703-083003_fluxnet_2023-07-03T083225_adv.csv'),\n",
       " WindowsPath('Z:/CH-DAS_Dav-Subcanopy/20_ec_fluxes/2023/Level-0/CH-DAS_FR-20230704-083003/2-0_eddypro_flux_calculations/results/eddypro_CH-DAS_FR-20230704-083003_fluxnet_2023-07-04T083224_adv.csv'),\n",
       " WindowsPath('Z:/CH-DAS_Dav-Subcanopy/20_ec_fluxes/2023/Level-0/CH-DAS_FR-20230705-083003/2-0_eddypro_flux_calculations/results/eddypro_CH-DAS_FR-20230705-083003_fluxnet_2023-07-05T083241_adv.csv'),\n",
       " WindowsPath('Z:/CH-DAS_Dav-Subcanopy/20_ec_fluxes/2023/Level-0/CH-DAS_FR-20230706-083003/2-0_eddypro_flux_calculations/results/eddypro_CH-DAS_FR-20230706-083003_fluxnet_2023-07-06T083242_adv.csv'),\n",
       " WindowsPath('Z:/CH-DAS_Dav-Subcanopy/20_ec_fluxes/2023/Level-0/CH-DAS_FR-20230707-083003/2-0_eddypro_flux_calculations/results/eddypro_CH-DAS_FR-20230707-083003_fluxnet_2023-07-07T083244_adv.csv'),\n",
       " WindowsPath('Z:/CH-DAS_Dav-Subcanopy/20_ec_fluxes/2023/Level-0/CH-DAS_FR-20230708-083003/2-0_eddypro_flux_calculations/results/eddypro_CH-DAS_FR-20230708-083003_fluxnet_2023-07-08T083218_adv.csv'),\n",
       " WindowsPath('Z:/CH-DAS_Dav-Subcanopy/20_ec_fluxes/2023/Level-0/CH-DAS_FR-20230709-083003/2-0_eddypro_flux_calculations/results/eddypro_CH-DAS_FR-20230709-083003_fluxnet_2023-07-09T083230_adv.csv'),\n",
       " WindowsPath('Z:/CH-DAS_Dav-Subcanopy/20_ec_fluxes/2023/Level-0/CH-DAS_FR-20230710-083003/2-0_eddypro_flux_calculations/results/eddypro_CH-DAS_FR-20230710-083003_fluxnet_2023-07-10T083225_adv.csv'),\n",
       " WindowsPath('Z:/CH-DAS_Dav-Subcanopy/20_ec_fluxes/2023/Level-0/CH-DAS_FR-20230711-083003/2-0_eddypro_flux_calculations/results/eddypro_CH-DAS_FR-20230711-083003_fluxnet_2023-07-11T083256_adv.csv'),\n",
       " WindowsPath('Z:/CH-DAS_Dav-Subcanopy/20_ec_fluxes/2023/Level-0/CH-DAS_FR-20230712-083003/2-0_eddypro_flux_calculations/results/eddypro_CH-DAS_FR-20230712-083003_fluxnet_2023-07-12T083252_adv.csv'),\n",
       " WindowsPath('Z:/CH-DAS_Dav-Subcanopy/20_ec_fluxes/2023/Level-0/CH-DAS_FR-20230713-083003/2-0_eddypro_flux_calculations/results/eddypro_CH-DAS_FR-20230713-083003_fluxnet_2023-07-13T083252_adv.csv'),\n",
       " WindowsPath('Z:/CH-DAS_Dav-Subcanopy/20_ec_fluxes/2023/Level-0/CH-DAS_FR-20230714-083003/2-0_eddypro_flux_calculations/results/eddypro_CH-DAS_FR-20230714-083003_fluxnet_2023-07-14T083250_adv.csv'),\n",
       " WindowsPath('Z:/CH-DAS_Dav-Subcanopy/20_ec_fluxes/2023/Level-0/CH-DAS_FR-20230717-083003/2-0_eddypro_flux_calculations/results/eddypro_CH-DAS_FR-20230717-083003_fluxnet_2023-07-17T083220_adv.csv'),\n",
       " WindowsPath('Z:/CH-DAS_Dav-Subcanopy/20_ec_fluxes/2023/Level-0/CH-DAS_FR-20230718-083002/2-0_eddypro_flux_calculations/results/eddypro_CH-DAS_FR-20230718-083002_fluxnet_2023-07-18T083204_adv.csv'),\n",
       " WindowsPath('Z:/CH-DAS_Dav-Subcanopy/20_ec_fluxes/2023/Level-0/CH-DAS_FR-20230719-083003/2-0_eddypro_flux_calculations/results/eddypro_CH-DAS_FR-20230719-083003_fluxnet_2023-07-19T083227_adv.csv'),\n",
       " WindowsPath('Z:/CH-DAS_Dav-Subcanopy/20_ec_fluxes/2023/Level-0/CH-DAS_FR-20230720-083003/2-0_eddypro_flux_calculations/results/eddypro_CH-DAS_FR-20230720-083003_fluxnet_2023-07-20T083250_adv.csv'),\n",
       " WindowsPath('Z:/CH-DAS_Dav-Subcanopy/20_ec_fluxes/2023/Level-0/CH-DAS_FR-20230721-083003/2-0_eddypro_flux_calculations/results/eddypro_CH-DAS_FR-20230721-083003_fluxnet_2023-07-21T083228_adv.csv'),\n",
       " WindowsPath('Z:/CH-DAS_Dav-Subcanopy/20_ec_fluxes/2023/Level-0/CH-DAS_FR-20230722-083003/2-0_eddypro_flux_calculations/results/eddypro_CH-DAS_FR-20230722-083003_fluxnet_2023-07-22T083230_adv.csv'),\n",
       " WindowsPath('Z:/CH-DAS_Dav-Subcanopy/20_ec_fluxes/2023/Level-0/CH-DAS_FR-20230723-083003/2-0_eddypro_flux_calculations/results/eddypro_CH-DAS_FR-20230723-083003_fluxnet_2023-07-23T083231_adv.csv'),\n",
       " WindowsPath('Z:/CH-DAS_Dav-Subcanopy/20_ec_fluxes/2023/Level-0/CH-DAS_FR-20230724-083003/2-0_eddypro_flux_calculations/results/eddypro_CH-DAS_FR-20230724-083003_fluxnet_2023-07-24T083226_adv.csv'),\n",
       " WindowsPath('Z:/CH-DAS_Dav-Subcanopy/20_ec_fluxes/2023/Level-0/CH-DAS_FR-20230725-083003/2-0_eddypro_flux_calculations/results/eddypro_CH-DAS_FR-20230725-083003_fluxnet_2023-07-25T083309_adv.csv'),\n",
       " WindowsPath('Z:/CH-DAS_Dav-Subcanopy/20_ec_fluxes/2023/Level-0/CH-DAS_FR-20230726-083003/2-0_eddypro_flux_calculations/results/eddypro_CH-DAS_FR-20230726-083003_fluxnet_2023-07-26T083245_adv.csv'),\n",
       " WindowsPath('Z:/CH-DAS_Dav-Subcanopy/20_ec_fluxes/2023/Level-0/CH-DAS_FR-20230727-083003/2-0_eddypro_flux_calculations/results/eddypro_CH-DAS_FR-20230727-083003_fluxnet_2023-07-27T083227_adv.csv'),\n",
       " WindowsPath('Z:/CH-DAS_Dav-Subcanopy/20_ec_fluxes/2023/Level-0/CH-DAS_FR-20230728-083003/2-0_eddypro_flux_calculations/results/eddypro_CH-DAS_FR-20230728-083003_fluxnet_2023-07-28T083327_adv.csv'),\n",
       " WindowsPath('Z:/CH-DAS_Dav-Subcanopy/20_ec_fluxes/2023/Level-0/CH-DAS_FR-20230729-083003/2-0_eddypro_flux_calculations/results/eddypro_CH-DAS_FR-20230729-083003_fluxnet_2023-07-29T083228_adv.csv'),\n",
       " WindowsPath('Z:/CH-DAS_Dav-Subcanopy/20_ec_fluxes/2023/Level-0/CH-DAS_FR-20230730-083003/2-0_eddypro_flux_calculations/results/eddypro_CH-DAS_FR-20230730-083003_fluxnet_2023-07-30T083254_adv.csv'),\n",
       " WindowsPath('Z:/CH-DAS_Dav-Subcanopy/20_ec_fluxes/2023/Level-0/CH-DAS_FR-20230731-083003/2-0_eddypro_flux_calculations/results/eddypro_CH-DAS_FR-20230731-083003_fluxnet_2023-07-31T083225_adv.csv'),\n",
       " WindowsPath('Z:/CH-DAS_Dav-Subcanopy/20_ec_fluxes/2023/Level-0/CH-DAS_FR-20230801-083003/2-0_eddypro_flux_calculations/results/eddypro_CH-DAS_FR-20230801-083003_fluxnet_2023-08-01T083226_adv.csv'),\n",
       " WindowsPath('Z:/CH-DAS_Dav-Subcanopy/20_ec_fluxes/2023/Level-0/CH-DAS_FR-20230802-083003/2-0_eddypro_flux_calculations/results/eddypro_CH-DAS_FR-20230802-083003_fluxnet_2023-08-02T083226_adv.csv'),\n",
       " WindowsPath('Z:/CH-DAS_Dav-Subcanopy/20_ec_fluxes/2023/Level-0/CH-DAS_FR-20230803-083003/2-0_eddypro_flux_calculations/results/eddypro_CH-DAS_FR-20230803-083003_fluxnet_2023-08-03T083228_adv.csv'),\n",
       " WindowsPath('Z:/CH-DAS_Dav-Subcanopy/20_ec_fluxes/2023/Level-0/CH-DAS_FR-20230804-083003/2-0_eddypro_flux_calculations/results/eddypro_CH-DAS_FR-20230804-083003_fluxnet_2023-08-04T083230_adv.csv'),\n",
       " WindowsPath('Z:/CH-DAS_Dav-Subcanopy/20_ec_fluxes/2023/Level-0/CH-DAS_FR-20230805-083003/2-0_eddypro_flux_calculations/results/eddypro_CH-DAS_FR-20230805-083003_fluxnet_2023-08-05T083228_adv.csv'),\n",
       " WindowsPath('Z:/CH-DAS_Dav-Subcanopy/20_ec_fluxes/2023/Level-0/CH-DAS_FR-20230806-083003/2-0_eddypro_flux_calculations/results/eddypro_CH-DAS_FR-20230806-083003_fluxnet_2023-08-06T083227_adv.csv'),\n",
       " WindowsPath('Z:/CH-DAS_Dav-Subcanopy/20_ec_fluxes/2023/Level-0/CH-DAS_FR-20230807-083003/2-0_eddypro_flux_calculations/results/eddypro_CH-DAS_FR-20230807-083003_fluxnet_2023-08-07T083254_adv.csv'),\n",
       " WindowsPath('Z:/CH-DAS_Dav-Subcanopy/20_ec_fluxes/2023/Level-0/CH-DAS_FR-20230808-083003/2-0_eddypro_flux_calculations/results/eddypro_CH-DAS_FR-20230808-083003_fluxnet_2023-08-08T083229_adv.csv'),\n",
       " WindowsPath('Z:/CH-DAS_Dav-Subcanopy/20_ec_fluxes/2023/Level-0/CH-DAS_FR-20230809-083003/2-0_eddypro_flux_calculations/results/eddypro_CH-DAS_FR-20230809-083003_fluxnet_2023-08-09T083227_adv.csv'),\n",
       " WindowsPath('Z:/CH-DAS_Dav-Subcanopy/20_ec_fluxes/2023/Level-0/CH-DAS_FR-20230810-083003/2-0_eddypro_flux_calculations/results/eddypro_CH-DAS_FR-20230810-083003_fluxnet_2023-08-10T083236_adv.csv'),\n",
       " WindowsPath('Z:/CH-DAS_Dav-Subcanopy/20_ec_fluxes/2023/Level-0/CH-DAS_FR-20230811-083003/2-0_eddypro_flux_calculations/results/eddypro_CH-DAS_FR-20230811-083003_fluxnet_2023-08-11T083229_adv.csv'),\n",
       " WindowsPath('Z:/CH-DAS_Dav-Subcanopy/20_ec_fluxes/2023/Level-0/CH-DAS_FR-20230814-083002/2-0_eddypro_flux_calculations/results/eddypro_CH-DAS_FR-20230814-083002_fluxnet_2023-08-14T083203_adv.csv'),\n",
       " WindowsPath('Z:/CH-DAS_Dav-Subcanopy/20_ec_fluxes/2023/Level-0/CH-DAS_FR-20230815-083002/2-0_eddypro_flux_calculations/results/eddypro_CH-DAS_FR-20230815-083002_fluxnet_2023-08-15T083204_adv.csv'),\n",
       " WindowsPath('Z:/CH-DAS_Dav-Subcanopy/20_ec_fluxes/2023/Level-0/CH-DAS_FR-20230816-083003/2-0_eddypro_flux_calculations/results/eddypro_CH-DAS_FR-20230816-083003_fluxnet_2023-08-16T083203_adv.csv'),\n",
       " WindowsPath('Z:/CH-DAS_Dav-Subcanopy/20_ec_fluxes/2023/Level-0/CH-DAS_FR-20230817-083003/2-0_eddypro_flux_calculations/results/eddypro_CH-DAS_FR-20230817-083003_fluxnet_2023-08-17T083245_adv.csv'),\n",
       " WindowsPath('Z:/CH-DAS_Dav-Subcanopy/20_ec_fluxes/2023/Level-0/CH-DAS_FR-20230818-083003/2-0_eddypro_flux_calculations/results/eddypro_CH-DAS_FR-20230818-083003_fluxnet_2023-08-18T083248_adv.csv'),\n",
       " WindowsPath('Z:/CH-DAS_Dav-Subcanopy/20_ec_fluxes/2023/Level-0/manual/CH-DAS_FR-20230404-141140/2-0_eddypro_flux_calculations/results/eddypro_CH-DAS_FR-20230404-141140_fluxnet_2023-04-04T144250_adv.csv'),\n",
       " WindowsPath('Z:/CH-DAS_Dav-Subcanopy/20_ec_fluxes/2023/Level-0/manual/CH-DAS_FR-20230503-182549/2-0_eddypro_flux_calculations/results/eddypro_CH-DAS_FR-20230503-182549_fluxnet_2023-05-03T182741_adv.csv'),\n",
       " WindowsPath('Z:/CH-DAS_Dav-Subcanopy/20_ec_fluxes/2023/Level-0/manual/CH-DAS_FR-20230711-175433/2-0_eddypro_flux_calculations/results/eddypro_CH-DAS_FR-20230711-175433_fluxnet_2023-07-11T183530_adv.csv')]"
      ]
     },
     "execution_count": 7,
     "metadata": {},
     "output_type": "execute_result"
    }
   ],
   "source": [
    "filepaths = search_files(FOLDERS, \"*.csv\")\n",
    "filepaths = [fp for fp in filepaths if \"eddypro_\" in fp.stem and \"_fluxnet_\" in fp.stem and fp.stem.endswith(\"_adv\")]\n",
    "filepaths"
   ]
  },
  {
   "cell_type": "markdown",
   "id": "979630d5-6ac6-4b82-a7b8-3faa2e60196d",
   "metadata": {},
   "source": [
    "### Read Files"
   ]
  },
  {
   "cell_type": "code",
   "execution_count": 8,
   "id": "d8813d50-abc1-46cc-89de-c463c8250eab",
   "metadata": {
    "tags": []
   },
   "outputs": [
    {
     "name": "stdout",
     "output_type": "stream",
     "text": [
      "Reading file eddypro_CH-DAS_FR-20230119-182509_fluxnet_2023-01-19T183058_adv.csv ...\n",
      "Reading file eddypro_CH-DAS_FR-20230123-165518_fluxnet_2023-01-23T165718_adv.csv ...\n",
      "Reading file eddypro_CH-DAS_FR-20230201-103101_fluxnet_2023-02-01T103639_adv.csv ...\n",
      "Reading file eddypro_CH-DAS_FR-20230208-191222_fluxnet_2023-02-08T191719_adv.csv ...\n",
      "Reading file eddypro_CH-DAS_FR-20230215-083624_fluxnet_2023-02-15T083957_adv.csv ...\n",
      "Reading file eddypro_CH-DAS_FR-20230221-170839_fluxnet_2023-02-21T171152_adv.csv ...\n",
      "Reading file eddypro_CH-DAS_FR-20230301-084304_fluxnet_2023-03-01T084630_adv.csv ...\n",
      "Reading file eddypro_CH-DAS_FR-20230307-103124_fluxnet_2023-03-07T103436_adv.csv ...\n",
      "Reading file eddypro_CH-DAS_FR-20230314-171811_fluxnet_2023-03-14T172105_adv.csv ...\n",
      "Reading file eddypro_CH-DAS_FR-20230321-101312_fluxnet_2023-03-21T101610_adv.csv ...\n",
      "Reading file eddypro_CH-DAS_FR-20230324-083003_fluxnet_2023-03-24T085658_adv.csv ...\n",
      "Reading file eddypro_CH-DAS_FR-20230325-083003_fluxnet_2023-03-25T085233_adv.csv ...\n",
      "Reading file eddypro_CH-DAS_FR-20230326-073003_fluxnet_2023-03-26T075213_adv.csv ...\n",
      "Reading file eddypro_CH-DAS_FR-20230326-083003_fluxnet_2023-03-26T085425_adv.csv ...\n",
      "Reading file eddypro_CH-DAS_FR-20230328-083003_fluxnet_2023-03-28T085315_adv.csv ...\n",
      "Reading file eddypro_CH-DAS_FR-20230329-083003_fluxnet_2023-03-29T085249_adv.csv ...\n",
      "Reading file eddypro_CH-DAS_FR-20230330-083003_fluxnet_2023-03-30T085234_adv.csv ...\n",
      "Reading file eddypro_CH-DAS_FR-20230331-083003_fluxnet_2023-03-31T085205_adv.csv ...\n",
      "Reading file eddypro_CH-DAS_FR-20230401-083003_fluxnet_2023-04-01T085152_adv.csv ...\n",
      "Reading file eddypro_CH-DAS_FR-20230402-083003_fluxnet_2023-04-02T085026_adv.csv ...\n",
      "Reading file eddypro_CH-DAS_FR-20230403-083003_fluxnet_2023-04-03T085204_adv.csv ...\n",
      "Reading file eddypro_CH-DAS_FR-20230404-083003_fluxnet_2023-04-04T085224_adv.csv ...\n",
      "Reading file eddypro_CH-DAS_FR-20230405-083003_fluxnet_2023-04-05T085349_adv.csv ...\n",
      "Reading file eddypro_CH-DAS_FR-20230406-083003_fluxnet_2023-04-06T085342_adv.csv ...\n",
      "Reading file eddypro_CH-DAS_FR-20230407-083003_fluxnet_2023-04-07T085329_adv.csv ...\n",
      "Reading file eddypro_CH-DAS_FR-20230408-083003_fluxnet_2023-04-08T085339_adv.csv ...\n",
      "Reading file eddypro_CH-DAS_FR-20230409-083003_fluxnet_2023-04-09T085311_adv.csv ...\n",
      "Reading file eddypro_CH-DAS_FR-20230410-083003_fluxnet_2023-04-10T085329_adv.csv ...\n",
      "Reading file eddypro_CH-DAS_FR-20230411-083003_fluxnet_2023-04-11T085347_adv.csv ...\n",
      "Reading file eddypro_CH-DAS_FR-20230412-083003_fluxnet_2023-04-12T085240_adv.csv ...\n",
      "Reading file eddypro_CH-DAS_FR-20230413-083003_fluxnet_2023-04-13T085241_adv.csv ...\n",
      "Reading file eddypro_CH-DAS_FR-20230414-083003_fluxnet_2023-04-14T085502_adv.csv ...\n",
      "Reading file eddypro_CH-DAS_FR-20230418-083003_fluxnet_2023-04-18T085200_adv.csv ...\n"
     ]
    },
    {
     "ename": "Exception",
     "evalue": "Frequency detection failed.",
     "output_type": "error",
     "traceback": [
      "\u001b[1;31m---------------------------------------------------------------------------\u001b[0m",
      "\u001b[1;31mException\u001b[0m                                 Traceback (most recent call last)",
      "Cell \u001b[1;32mIn[8], line 1\u001b[0m\n\u001b[1;32m----> 1\u001b[0m data \u001b[38;5;241m=\u001b[39m \u001b[43mMultiDataFileReader\u001b[49m\u001b[43m(\u001b[49m\u001b[43mfiletype\u001b[49m\u001b[38;5;241;43m=\u001b[39;49m\u001b[38;5;124;43m'\u001b[39;49m\u001b[38;5;124;43mEDDYPRO_FLUXNET_30MIN\u001b[39;49m\u001b[38;5;124;43m'\u001b[39;49m\u001b[43m,\u001b[49m\u001b[43m \u001b[49m\u001b[43mfilepaths\u001b[49m\u001b[38;5;241;43m=\u001b[39;49m\u001b[43mfilepaths\u001b[49m\u001b[43m)\u001b[49m\n",
      "File \u001b[1;32mF:\\Sync\\luhk_work\\20 - CODING\\21 - DIIVE\\diive\\diive\\core\\io\\filereader.py:177\u001b[0m, in \u001b[0;36mMultiDataFileReader.__init__\u001b[1;34m(self, filepaths, filetype, output_middle_timestamp)\u001b[0m\n\u001b[0;32m    174\u001b[0m \u001b[38;5;28mself\u001b[39m\u001b[38;5;241m.\u001b[39moutput_middle_timestamp \u001b[38;5;241m=\u001b[39m output_middle_timestamp\n\u001b[0;32m    176\u001b[0m \u001b[38;5;66;03m# Collect data from all files listed in filepaths\u001b[39;00m\n\u001b[1;32m--> 177\u001b[0m \u001b[38;5;28mself\u001b[39m\u001b[38;5;241m.\u001b[39m_data_df, \u001b[38;5;28mself\u001b[39m\u001b[38;5;241m.\u001b[39m_metadata_df \u001b[38;5;241m=\u001b[39m \u001b[38;5;28;43mself\u001b[39;49m\u001b[38;5;241;43m.\u001b[39;49m\u001b[43m_get_incoming_data\u001b[49m\u001b[43m(\u001b[49m\u001b[43m)\u001b[49m\n\u001b[0;32m    179\u001b[0m \u001b[38;5;28mself\u001b[39m\u001b[38;5;241m.\u001b[39m_data_df \u001b[38;5;241m=\u001b[39m continuous_timestamp_freq(data\u001b[38;5;241m=\u001b[39m\u001b[38;5;28mself\u001b[39m\u001b[38;5;241m.\u001b[39m_data_df, freq\u001b[38;5;241m=\u001b[39m\u001b[38;5;28mself\u001b[39m\u001b[38;5;241m.\u001b[39mfiletypeconfig[\u001b[38;5;124m'\u001b[39m\u001b[38;5;124mDATA\u001b[39m\u001b[38;5;124m'\u001b[39m][\u001b[38;5;124m'\u001b[39m\u001b[38;5;124mFREQUENCY\u001b[39m\u001b[38;5;124m'\u001b[39m])\n",
      "File \u001b[1;32mF:\\Sync\\luhk_work\\20 - CODING\\21 - DIIVE\\diive\\diive\\core\\io\\filereader.py:203\u001b[0m, in \u001b[0;36mMultiDataFileReader._get_incoming_data\u001b[1;34m(self)\u001b[0m\n\u001b[0;32m    199\u001b[0m \u001b[38;5;28;01mfor\u001b[39;00m filepath \u001b[38;5;129;01min\u001b[39;00m \u001b[38;5;28mself\u001b[39m\u001b[38;5;241m.\u001b[39mfilepaths:\n\u001b[0;32m    200\u001b[0m     \u001b[38;5;66;03m# print(f\"\\n{'-' * 40}\\nReading file {filepath.stem}\\n{'-' * 40}\")\u001b[39;00m\n\u001b[0;32m    201\u001b[0m     \u001b[38;5;28;01mtry\u001b[39;00m:\n\u001b[0;32m    202\u001b[0m         incoming_data_df, incoming_metadata_df \u001b[38;5;241m=\u001b[39m \\\n\u001b[1;32m--> 203\u001b[0m             \u001b[43mReadFileType\u001b[49m\u001b[43m(\u001b[49m\u001b[43mfilepath\u001b[49m\u001b[38;5;241;43m=\u001b[39;49m\u001b[43mfilepath\u001b[49m\u001b[43m,\u001b[49m\u001b[43m \u001b[49m\u001b[43mfiletypeconfig\u001b[49m\u001b[38;5;241;43m=\u001b[39;49m\u001b[38;5;28;43mself\u001b[39;49m\u001b[38;5;241;43m.\u001b[39;49m\u001b[43mfiletypeconfig\u001b[49m\u001b[43m,\u001b[49m\n\u001b[0;32m    204\u001b[0m \u001b[43m                         \u001b[49m\u001b[43moutput_middle_timestamp\u001b[49m\u001b[38;5;241;43m=\u001b[39;49m\u001b[38;5;28;43mself\u001b[39;49m\u001b[38;5;241;43m.\u001b[39;49m\u001b[43moutput_middle_timestamp\u001b[49m\u001b[43m)\u001b[49m\u001b[38;5;241m.\u001b[39mget_filedata()\n\u001b[0;32m    205\u001b[0m         data_df, metadata_df \u001b[38;5;241m=\u001b[39m \\\n\u001b[0;32m    206\u001b[0m             \u001b[38;5;28mself\u001b[39m\u001b[38;5;241m.\u001b[39m_merge_with_existing(incoming_data_df\u001b[38;5;241m=\u001b[39mincoming_data_df, data_df\u001b[38;5;241m=\u001b[39mdata_df,\n\u001b[0;32m    207\u001b[0m                                       incoming_metadata_df\u001b[38;5;241m=\u001b[39mincoming_metadata_df, metadata_df\u001b[38;5;241m=\u001b[39mmetadata_df)\n\u001b[0;32m    208\u001b[0m     \u001b[38;5;28;01mexcept\u001b[39;00m pandas\u001b[38;5;241m.\u001b[39merrors\u001b[38;5;241m.\u001b[39mEmptyDataError:\n",
      "File \u001b[1;32mF:\\Sync\\luhk_work\\20 - CODING\\21 - DIIVE\\diive\\diive\\core\\io\\filereader.py:254\u001b[0m, in \u001b[0;36mReadFileType.__init__\u001b[1;34m(self, filepath, filetypeconfig, filetype, data_nrows, output_middle_timestamp)\u001b[0m\n\u001b[0;32m    250\u001b[0m \u001b[38;5;28;01melse\u001b[39;00m:\n\u001b[0;32m    251\u001b[0m     \u001b[38;5;66;03m# Use provided settings dict\u001b[39;00m\n\u001b[0;32m    252\u001b[0m     \u001b[38;5;28mself\u001b[39m\u001b[38;5;241m.\u001b[39mfiletypeconfig \u001b[38;5;241m=\u001b[39m filetypeconfig\n\u001b[1;32m--> 254\u001b[0m \u001b[38;5;28mself\u001b[39m\u001b[38;5;241m.\u001b[39mdata_df, \u001b[38;5;28mself\u001b[39m\u001b[38;5;241m.\u001b[39mmetadata_df \u001b[38;5;241m=\u001b[39m \u001b[38;5;28;43mself\u001b[39;49m\u001b[38;5;241;43m.\u001b[39;49m\u001b[43m_readfile\u001b[49m\u001b[43m(\u001b[49m\u001b[43m)\u001b[49m\n",
      "File \u001b[1;32mF:\\Sync\\luhk_work\\20 - CODING\\21 - DIIVE\\diive\\diive\\core\\io\\filereader.py:262\u001b[0m, in \u001b[0;36mReadFileType._readfile\u001b[1;34m(self)\u001b[0m\n\u001b[0;32m    260\u001b[0m \u001b[38;5;250m\u001b[39m\u001b[38;5;124;03m\"\"\"Load data\"\"\"\u001b[39;00m\n\u001b[0;32m    261\u001b[0m \u001b[38;5;28mprint\u001b[39m(\u001b[38;5;124mf\u001b[39m\u001b[38;5;124m\"\u001b[39m\u001b[38;5;124mReading file \u001b[39m\u001b[38;5;132;01m{\u001b[39;00m\u001b[38;5;28mself\u001b[39m\u001b[38;5;241m.\u001b[39mfilepath\u001b[38;5;241m.\u001b[39mname\u001b[38;5;132;01m}\u001b[39;00m\u001b[38;5;124m ...\u001b[39m\u001b[38;5;124m\"\u001b[39m)\n\u001b[1;32m--> 262\u001b[0m datafilereader \u001b[38;5;241m=\u001b[39m \u001b[43mDataFileReader\u001b[49m\u001b[43m(\u001b[49m\n\u001b[0;32m    263\u001b[0m \u001b[43m    \u001b[49m\u001b[43mfilepath\u001b[49m\u001b[38;5;241;43m=\u001b[39;49m\u001b[38;5;28;43mself\u001b[39;49m\u001b[38;5;241;43m.\u001b[39;49m\u001b[43mfilepath\u001b[49m\u001b[43m,\u001b[49m\n\u001b[0;32m    264\u001b[0m \u001b[43m    \u001b[49m\u001b[43mdata_skiprows\u001b[49m\u001b[38;5;241;43m=\u001b[39;49m\u001b[38;5;28;43mself\u001b[39;49m\u001b[38;5;241;43m.\u001b[39;49m\u001b[43mfiletypeconfig\u001b[49m\u001b[43m[\u001b[49m\u001b[38;5;124;43m'\u001b[39;49m\u001b[38;5;124;43mDATA\u001b[39;49m\u001b[38;5;124;43m'\u001b[39;49m\u001b[43m]\u001b[49m\u001b[43m[\u001b[49m\u001b[38;5;124;43m'\u001b[39;49m\u001b[38;5;124;43mSKIP_ROWS\u001b[39;49m\u001b[38;5;124;43m'\u001b[39;49m\u001b[43m]\u001b[49m\u001b[43m,\u001b[49m\n\u001b[0;32m    265\u001b[0m \u001b[43m    \u001b[49m\u001b[43mdata_headerrows\u001b[49m\u001b[38;5;241;43m=\u001b[39;49m\u001b[38;5;28;43mself\u001b[39;49m\u001b[38;5;241;43m.\u001b[39;49m\u001b[43mfiletypeconfig\u001b[49m\u001b[43m[\u001b[49m\u001b[38;5;124;43m'\u001b[39;49m\u001b[38;5;124;43mDATA\u001b[39;49m\u001b[38;5;124;43m'\u001b[39;49m\u001b[43m]\u001b[49m\u001b[43m[\u001b[49m\u001b[38;5;124;43m'\u001b[39;49m\u001b[38;5;124;43mHEADER_ROWS\u001b[39;49m\u001b[38;5;124;43m'\u001b[39;49m\u001b[43m]\u001b[49m\u001b[43m,\u001b[49m\n\u001b[0;32m    266\u001b[0m \u001b[43m    \u001b[49m\u001b[43mdata_headersection_rows\u001b[49m\u001b[38;5;241;43m=\u001b[39;49m\u001b[38;5;28;43mself\u001b[39;49m\u001b[38;5;241;43m.\u001b[39;49m\u001b[43mfiletypeconfig\u001b[49m\u001b[43m[\u001b[49m\u001b[38;5;124;43m'\u001b[39;49m\u001b[38;5;124;43mDATA\u001b[39;49m\u001b[38;5;124;43m'\u001b[39;49m\u001b[43m]\u001b[49m\u001b[43m[\u001b[49m\u001b[38;5;124;43m'\u001b[39;49m\u001b[38;5;124;43mHEADER_SECTION_ROWS\u001b[39;49m\u001b[38;5;124;43m'\u001b[39;49m\u001b[43m]\u001b[49m\u001b[43m,\u001b[49m\n\u001b[0;32m    267\u001b[0m \u001b[43m    \u001b[49m\u001b[43mdata_na_vals\u001b[49m\u001b[38;5;241;43m=\u001b[39;49m\u001b[38;5;28;43mself\u001b[39;49m\u001b[38;5;241;43m.\u001b[39;49m\u001b[43mfiletypeconfig\u001b[49m\u001b[43m[\u001b[49m\u001b[38;5;124;43m'\u001b[39;49m\u001b[38;5;124;43mDATA\u001b[39;49m\u001b[38;5;124;43m'\u001b[39;49m\u001b[43m]\u001b[49m\u001b[43m[\u001b[49m\u001b[38;5;124;43m'\u001b[39;49m\u001b[38;5;124;43mNA_VALUES\u001b[39;49m\u001b[38;5;124;43m'\u001b[39;49m\u001b[43m]\u001b[49m\u001b[43m,\u001b[49m\n\u001b[0;32m    268\u001b[0m \u001b[43m    \u001b[49m\u001b[43mdata_delimiter\u001b[49m\u001b[38;5;241;43m=\u001b[39;49m\u001b[38;5;28;43mself\u001b[39;49m\u001b[38;5;241;43m.\u001b[39;49m\u001b[43mfiletypeconfig\u001b[49m\u001b[43m[\u001b[49m\u001b[38;5;124;43m'\u001b[39;49m\u001b[38;5;124;43mDATA\u001b[39;49m\u001b[38;5;124;43m'\u001b[39;49m\u001b[43m]\u001b[49m\u001b[43m[\u001b[49m\u001b[38;5;124;43m'\u001b[39;49m\u001b[38;5;124;43mDELIMITER\u001b[39;49m\u001b[38;5;124;43m'\u001b[39;49m\u001b[43m]\u001b[49m\u001b[43m,\u001b[49m\n\u001b[0;32m    269\u001b[0m \u001b[43m    \u001b[49m\u001b[43mdata_freq\u001b[49m\u001b[38;5;241;43m=\u001b[39;49m\u001b[38;5;28;43mself\u001b[39;49m\u001b[38;5;241;43m.\u001b[39;49m\u001b[43mfiletypeconfig\u001b[49m\u001b[43m[\u001b[49m\u001b[38;5;124;43m'\u001b[39;49m\u001b[38;5;124;43mDATA\u001b[39;49m\u001b[38;5;124;43m'\u001b[39;49m\u001b[43m]\u001b[49m\u001b[43m[\u001b[49m\u001b[38;5;124;43m'\u001b[39;49m\u001b[38;5;124;43mFREQUENCY\u001b[39;49m\u001b[38;5;124;43m'\u001b[39;49m\u001b[43m]\u001b[49m\u001b[43m,\u001b[49m\n\u001b[0;32m    270\u001b[0m \u001b[43m    \u001b[49m\u001b[43mdata_nrows\u001b[49m\u001b[38;5;241;43m=\u001b[39;49m\u001b[38;5;28;43mself\u001b[39;49m\u001b[38;5;241;43m.\u001b[39;49m\u001b[43mdata_nrows\u001b[49m\u001b[43m,\u001b[49m\n\u001b[0;32m    271\u001b[0m \u001b[43m    \u001b[49m\u001b[43mtimestamp_idx_col\u001b[49m\u001b[38;5;241;43m=\u001b[39;49m\u001b[38;5;28;43mself\u001b[39;49m\u001b[38;5;241;43m.\u001b[39;49m\u001b[43mfiletypeconfig\u001b[49m\u001b[43m[\u001b[49m\u001b[38;5;124;43m'\u001b[39;49m\u001b[38;5;124;43mTIMESTAMP\u001b[39;49m\u001b[38;5;124;43m'\u001b[39;49m\u001b[43m]\u001b[49m\u001b[43m[\u001b[49m\u001b[38;5;124;43m'\u001b[39;49m\u001b[38;5;124;43mINDEX_COLUMN\u001b[39;49m\u001b[38;5;124;43m'\u001b[39;49m\u001b[43m]\u001b[49m\u001b[43m,\u001b[49m\n\u001b[0;32m    272\u001b[0m \u001b[43m    \u001b[49m\u001b[43mtimestamp_datetime_format\u001b[49m\u001b[38;5;241;43m=\u001b[39;49m\u001b[38;5;28;43mself\u001b[39;49m\u001b[38;5;241;43m.\u001b[39;49m\u001b[43mfiletypeconfig\u001b[49m\u001b[43m[\u001b[49m\u001b[38;5;124;43m'\u001b[39;49m\u001b[38;5;124;43mTIMESTAMP\u001b[39;49m\u001b[38;5;124;43m'\u001b[39;49m\u001b[43m]\u001b[49m\u001b[43m[\u001b[49m\u001b[38;5;124;43m'\u001b[39;49m\u001b[38;5;124;43mDATETIME_FORMAT\u001b[39;49m\u001b[38;5;124;43m'\u001b[39;49m\u001b[43m]\u001b[49m\u001b[43m,\u001b[49m\n\u001b[0;32m    273\u001b[0m \u001b[43m    \u001b[49m\u001b[43mtimestamp_start_middle_end\u001b[49m\u001b[38;5;241;43m=\u001b[39;49m\u001b[38;5;28;43mself\u001b[39;49m\u001b[38;5;241;43m.\u001b[39;49m\u001b[43mfiletypeconfig\u001b[49m\u001b[43m[\u001b[49m\u001b[38;5;124;43m'\u001b[39;49m\u001b[38;5;124;43mTIMESTAMP\u001b[39;49m\u001b[38;5;124;43m'\u001b[39;49m\u001b[43m]\u001b[49m\u001b[43m[\u001b[49m\u001b[38;5;124;43m'\u001b[39;49m\u001b[38;5;124;43mSHOWS_START_MIDDLE_OR_END_OF_RECORD\u001b[39;49m\u001b[38;5;124;43m'\u001b[39;49m\u001b[43m]\u001b[49m\u001b[43m,\u001b[49m\n\u001b[0;32m    274\u001b[0m \u001b[43m    \u001b[49m\u001b[43moutput_middle_timestamp\u001b[49m\u001b[38;5;241;43m=\u001b[39;49m\u001b[38;5;28;43mself\u001b[39;49m\u001b[38;5;241;43m.\u001b[39;49m\u001b[43moutput_middle_timestamp\u001b[49m\u001b[43m,\u001b[49m\n\u001b[0;32m    275\u001b[0m \u001b[43m    \u001b[49m\u001b[43mcompression\u001b[49m\u001b[38;5;241;43m=\u001b[39;49m\u001b[38;5;28;43mself\u001b[39;49m\u001b[38;5;241;43m.\u001b[39;49m\u001b[43mfiletypeconfig\u001b[49m\u001b[43m[\u001b[49m\u001b[38;5;124;43m'\u001b[39;49m\u001b[38;5;124;43mFILE\u001b[39;49m\u001b[38;5;124;43m'\u001b[39;49m\u001b[43m]\u001b[49m\u001b[43m[\u001b[49m\u001b[38;5;124;43m'\u001b[39;49m\u001b[38;5;124;43mCOMPRESSION\u001b[39;49m\u001b[38;5;124;43m'\u001b[39;49m\u001b[43m]\u001b[49m\n\u001b[0;32m    276\u001b[0m \u001b[43m\u001b[49m\u001b[43m)\u001b[49m\n\u001b[0;32m    277\u001b[0m data_df, metadata_df \u001b[38;5;241m=\u001b[39m datafilereader\u001b[38;5;241m.\u001b[39mget_data()\n\u001b[0;32m    278\u001b[0m \u001b[38;5;28;01mreturn\u001b[39;00m data_df, metadata_df\n",
      "File \u001b[1;32mF:\\Sync\\luhk_work\\20 - CODING\\21 - DIIVE\\diive\\diive\\core\\io\\filereader.py:319\u001b[0m, in \u001b[0;36mDataFileReader.__init__\u001b[1;34m(self, filepath, data_skiprows, data_headerrows, data_headersection_rows, data_na_vals, data_delimiter, data_freq, data_nrows, timestamp_idx_col, timestamp_datetime_format, timestamp_start_middle_end, output_middle_timestamp, compression)\u001b[0m\n\u001b[0;32m    316\u001b[0m \u001b[38;5;28mself\u001b[39m\u001b[38;5;241m.\u001b[39mmetadata_df \u001b[38;5;241m=\u001b[39m pd\u001b[38;5;241m.\u001b[39mDataFrame()\n\u001b[0;32m    317\u001b[0m \u001b[38;5;28mself\u001b[39m\u001b[38;5;241m.\u001b[39mgenerated_missing_header_cols_list \u001b[38;5;241m=\u001b[39m []\n\u001b[1;32m--> 319\u001b[0m \u001b[38;5;28;43mself\u001b[39;49m\u001b[38;5;241;43m.\u001b[39;49m\u001b[43m_read\u001b[49m\u001b[43m(\u001b[49m\u001b[43m)\u001b[49m\n",
      "File \u001b[1;32mF:\\Sync\\luhk_work\\20 - CODING\\21 - DIIVE\\diive\\diive\\core\\io\\filereader.py:324\u001b[0m, in \u001b[0;36mDataFileReader._read\u001b[1;34m(self)\u001b[0m\n\u001b[0;32m    322\u001b[0m headercols_list, \u001b[38;5;28mself\u001b[39m\u001b[38;5;241m.\u001b[39mgenerated_missing_header_cols_list \u001b[38;5;241m=\u001b[39m \u001b[38;5;28mself\u001b[39m\u001b[38;5;241m.\u001b[39m_compare_len_header_vs_data()\n\u001b[0;32m    323\u001b[0m \u001b[38;5;28mself\u001b[39m\u001b[38;5;241m.\u001b[39mdata_df \u001b[38;5;241m=\u001b[39m \u001b[38;5;28mself\u001b[39m\u001b[38;5;241m.\u001b[39m_parse_file(headercols_list\u001b[38;5;241m=\u001b[39mheadercols_list)\n\u001b[1;32m--> 324\u001b[0m \u001b[38;5;28mself\u001b[39m\u001b[38;5;241m.\u001b[39mdata_df \u001b[38;5;241m=\u001b[39m \u001b[43mTimestampSanitizer\u001b[49m\u001b[43m(\u001b[49m\u001b[43mdata\u001b[49m\u001b[38;5;241;43m=\u001b[39;49m\u001b[38;5;28;43mself\u001b[39;49m\u001b[38;5;241;43m.\u001b[39;49m\u001b[43mdata_df\u001b[49m\u001b[43m,\u001b[49m\n\u001b[0;32m    325\u001b[0m \u001b[43m                                  \u001b[49m\u001b[43moutput_middle_timestamp\u001b[49m\u001b[38;5;241;43m=\u001b[39;49m\u001b[38;5;28;43mself\u001b[39;49m\u001b[38;5;241;43m.\u001b[39;49m\u001b[43moutput_middle_timestamp\u001b[49m\u001b[43m)\u001b[49m\u001b[38;5;241m.\u001b[39mget()\n\u001b[0;32m    326\u001b[0m \u001b[38;5;28mself\u001b[39m\u001b[38;5;241m.\u001b[39m_clean_data()\n\u001b[0;32m    327\u001b[0m \u001b[38;5;28;01mif\u001b[39;00m \u001b[38;5;28mlen\u001b[39m(\u001b[38;5;28mself\u001b[39m\u001b[38;5;241m.\u001b[39mdata_headerrows) \u001b[38;5;241m==\u001b[39m \u001b[38;5;241m1\u001b[39m:\n",
      "File \u001b[1;32mF:\\Sync\\luhk_work\\20 - CODING\\21 - DIIVE\\diive\\diive\\core\\times\\times.py:171\u001b[0m, in \u001b[0;36mTimestampSanitizer.__init__\u001b[1;34m(self, data, output_middle_timestamp, verbose)\u001b[0m\n\u001b[0;32m    167\u001b[0m \u001b[38;5;28mself\u001b[39m\u001b[38;5;241m.\u001b[39mverbose \u001b[38;5;241m=\u001b[39m verbose\n\u001b[0;32m    169\u001b[0m \u001b[38;5;28mself\u001b[39m\u001b[38;5;241m.\u001b[39minferred_freq \u001b[38;5;241m=\u001b[39m \u001b[38;5;28;01mNone\u001b[39;00m \u001b[38;5;28;01mif\u001b[39;00m \u001b[38;5;129;01mnot\u001b[39;00m data\u001b[38;5;241m.\u001b[39mindex\u001b[38;5;241m.\u001b[39mfreq \u001b[38;5;28;01melse\u001b[39;00m data\u001b[38;5;241m.\u001b[39mindex\u001b[38;5;241m.\u001b[39mfreq\n\u001b[1;32m--> 171\u001b[0m \u001b[38;5;28;43mself\u001b[39;49m\u001b[38;5;241;43m.\u001b[39;49m\u001b[43m_run\u001b[49m\u001b[43m(\u001b[49m\u001b[43m)\u001b[49m\n",
      "File \u001b[1;32mF:\\Sync\\luhk_work\\20 - CODING\\21 - DIIVE\\diive\\diive\\core\\times\\times.py:193\u001b[0m, in \u001b[0;36mTimestampSanitizer._run\u001b[1;34m(self)\u001b[0m\n\u001b[0;32m    191\u001b[0m \u001b[38;5;66;03m# Detect time resolution from data\u001b[39;00m\n\u001b[0;32m    192\u001b[0m \u001b[38;5;28;01mif\u001b[39;00m \u001b[38;5;129;01mnot\u001b[39;00m \u001b[38;5;28mself\u001b[39m\u001b[38;5;241m.\u001b[39minferred_freq:\n\u001b[1;32m--> 193\u001b[0m     \u001b[38;5;28mself\u001b[39m\u001b[38;5;241m.\u001b[39minferred_freq \u001b[38;5;241m=\u001b[39m \u001b[43mDetectFrequency\u001b[49m\u001b[43m(\u001b[49m\u001b[43mindex\u001b[49m\u001b[38;5;241;43m=\u001b[39;49m\u001b[38;5;28;43mself\u001b[39;49m\u001b[38;5;241;43m.\u001b[39;49m\u001b[43mdata\u001b[49m\u001b[38;5;241;43m.\u001b[39;49m\u001b[43mindex\u001b[49m\u001b[43m,\u001b[49m\u001b[43m \u001b[49m\u001b[43mverbose\u001b[49m\u001b[38;5;241;43m=\u001b[39;49m\u001b[38;5;28;43mself\u001b[39;49m\u001b[38;5;241;43m.\u001b[39;49m\u001b[43mverbose\u001b[49m\u001b[43m)\u001b[49m\u001b[38;5;241m.\u001b[39mget()\n\u001b[0;32m    195\u001b[0m \u001b[38;5;66;03m# Make timestamp continuous w/o date gaps\u001b[39;00m\n\u001b[0;32m    196\u001b[0m \u001b[38;5;28mself\u001b[39m\u001b[38;5;241m.\u001b[39mdata \u001b[38;5;241m=\u001b[39m continuous_timestamp_freq(data\u001b[38;5;241m=\u001b[39m\u001b[38;5;28mself\u001b[39m\u001b[38;5;241m.\u001b[39mdata, freq\u001b[38;5;241m=\u001b[39m\u001b[38;5;28mself\u001b[39m\u001b[38;5;241m.\u001b[39minferred_freq, verbose\u001b[38;5;241m=\u001b[39m\u001b[38;5;28mself\u001b[39m\u001b[38;5;241m.\u001b[39mverbose)\n",
      "File \u001b[1;32mF:\\Sync\\luhk_work\\20 - CODING\\21 - DIIVE\\diive\\diive\\core\\times\\times.py:518\u001b[0m, in \u001b[0;36mDetectFrequency.__init__\u001b[1;34m(self, index, verbose)\u001b[0m\n\u001b[0;32m    516\u001b[0m \u001b[38;5;28mself\u001b[39m\u001b[38;5;241m.\u001b[39mnum_datarows \u001b[38;5;241m=\u001b[39m \u001b[38;5;28mself\u001b[39m\u001b[38;5;241m.\u001b[39mindex\u001b[38;5;241m.\u001b[39m\u001b[38;5;21m__len__\u001b[39m()\n\u001b[0;32m    517\u001b[0m \u001b[38;5;28mself\u001b[39m\u001b[38;5;241m.\u001b[39mfreq \u001b[38;5;241m=\u001b[39m \u001b[38;5;28;01mNone\u001b[39;00m\n\u001b[1;32m--> 518\u001b[0m \u001b[38;5;28;43mself\u001b[39;49m\u001b[38;5;241;43m.\u001b[39;49m\u001b[43m_run\u001b[49m\u001b[43m(\u001b[49m\u001b[43m)\u001b[49m\n",
      "File \u001b[1;32mF:\\Sync\\luhk_work\\20 - CODING\\21 - DIIVE\\diive\\diive\\core\\times\\times.py:575\u001b[0m, in \u001b[0;36mDetectFrequency._run\u001b[1;34m(self)\u001b[0m\n\u001b[0;32m    567\u001b[0m     \u001b[38;5;28;01mif\u001b[39;00m \u001b[38;5;28mself\u001b[39m\u001b[38;5;241m.\u001b[39mverbose: \u001b[38;5;28mprint\u001b[39m(\u001b[38;5;124mf\u001b[39m\u001b[38;5;124m\"\u001b[39m\u001b[38;5;124mOK\u001b[39m\u001b[38;5;130;01m\\n\u001b[39;00m\u001b[38;5;124m\"\u001b[39m\n\u001b[0;32m    568\u001b[0m                            \u001b[38;5;124mf\u001b[39m\u001b[38;5;124m\"\u001b[39m\u001b[38;5;124m   Detected \u001b[39m\u001b[38;5;132;01m{\u001b[39;00m\u001b[38;5;28mself\u001b[39m\u001b[38;5;241m.\u001b[39mfreq\u001b[38;5;132;01m}\u001b[39;00m\u001b[38;5;124m time resolution with HIGH confidence.\u001b[39m\u001b[38;5;130;01m\\n\u001b[39;00m\u001b[38;5;124m\"\u001b[39m\n\u001b[0;32m    569\u001b[0m                            \u001b[38;5;124mf\u001b[39m\u001b[38;5;124m\"\u001b[39m\u001b[38;5;124m   Resolution detected from most frequent timestep (timedelta):\u001b[39m\u001b[38;5;130;01m\\n\u001b[39;00m\u001b[38;5;124m\"\u001b[39m\n\u001b[0;32m    570\u001b[0m                            \u001b[38;5;124mf\u001b[39m\u001b[38;5;124m\"\u001b[39m\u001b[38;5;124m       from full data = \u001b[39m\u001b[38;5;132;01m{\u001b[39;00mfreq_full\u001b[38;5;132;01m}\u001b[39;00m\u001b[38;5;124m / \u001b[39m\u001b[38;5;132;01m{\u001b[39;00mfreqinfo_full\u001b[38;5;132;01m}\u001b[39;00m\u001b[38;5;124m (not used)\u001b[39m\u001b[38;5;130;01m\\n\u001b[39;00m\u001b[38;5;124m\"\u001b[39m\n\u001b[0;32m    571\u001b[0m                            \u001b[38;5;124mf\u001b[39m\u001b[38;5;124m\"\u001b[39m\u001b[38;5;124m       from timedelta = \u001b[39m\u001b[38;5;132;01m{\u001b[39;00mfreq_timedelta\u001b[38;5;132;01m}\u001b[39;00m\u001b[38;5;124m / \u001b[39m\u001b[38;5;132;01m{\u001b[39;00mfreqinfo_timedelta\u001b[38;5;132;01m}\u001b[39;00m\u001b[38;5;124m (OK)\u001b[39m\u001b[38;5;130;01m\\n\u001b[39;00m\u001b[38;5;124m\"\u001b[39m\n\u001b[0;32m    572\u001b[0m                            \u001b[38;5;124mf\u001b[39m\u001b[38;5;124m\"\u001b[39m\u001b[38;5;124m       from progressive = \u001b[39m\u001b[38;5;132;01m{\u001b[39;00mfreq_progressive\u001b[38;5;132;01m}\u001b[39;00m\u001b[38;5;124m / \u001b[39m\u001b[38;5;132;01m{\u001b[39;00mfreqinfo_progressive\u001b[38;5;132;01m}\u001b[39;00m\u001b[38;5;124m (not used)\u001b[39m\u001b[38;5;130;01m\\n\u001b[39;00m\u001b[38;5;124m\"\u001b[39m)\n\u001b[0;32m    574\u001b[0m \u001b[38;5;28;01melse\u001b[39;00m:\n\u001b[1;32m--> 575\u001b[0m     \u001b[38;5;28;01mraise\u001b[39;00m \u001b[38;5;167;01mException\u001b[39;00m(\u001b[38;5;124m\"\u001b[39m\u001b[38;5;124mFrequency detection failed.\u001b[39m\u001b[38;5;124m\"\u001b[39m)\n",
      "\u001b[1;31mException\u001b[0m: Frequency detection failed."
     ]
    }
   ],
   "source": [
    "data = MultiDataFileReader(filetype='EDDYPRO_FLUXNET_30MIN', filepaths=filepaths)"
   ]
  },
  {
   "cell_type": "markdown",
   "id": "c615a754-f764-4277-9606-1c87b32aae60",
   "metadata": {},
   "source": [
    "### Check data"
   ]
  },
  {
   "cell_type": "code",
   "execution_count": null,
   "id": "2bd776e3-2e4f-4336-ab1d-b29e4aa1186e",
   "metadata": {
    "tags": []
   },
   "outputs": [],
   "source": [
    "df_orig = data.data_df.copy()\n",
    "df_orig"
   ]
  },
  {
   "cell_type": "code",
   "execution_count": null,
   "id": "25ae8042-12c8-41fd-8a6d-7a71d56cdd4a",
   "metadata": {
    "tags": []
   },
   "outputs": [],
   "source": [
    "df_orig.describe()"
   ]
  },
  {
   "cell_type": "markdown",
   "id": "2caff0ae-d48c-4dd4-9ff9-de5ca43e0a49",
   "metadata": {},
   "source": [
    "</br>"
   ]
  },
  {
   "cell_type": "markdown",
   "id": "c5faf2fb-caa5-44ad-8ef3-096bdc5a02e1",
   "metadata": {},
   "source": [
    "</br>"
   ]
  },
  {
   "cell_type": "markdown",
   "id": "9d2d1d2e-fbc3-423c-ba2f-bbc11b79fdda",
   "metadata": {},
   "source": [
    "---"
   ]
  },
  {
   "cell_type": "markdown",
   "id": "ebd806e7-28db-4e0c-9669-5535188628d3",
   "metadata": {},
   "source": [
    "# **Level-2: Quality flag extension**"
   ]
  },
  {
   "cell_type": "markdown",
   "id": "80d0bf93-c0b7-4788-a12d-9167ec02f623",
   "metadata": {},
   "source": [
    "> Extract additional quality information from the EddyPro `_fluxnet_` output file and store it in newly added quality flags.\n",
    "\n",
    "\n",
    "\n",
    "Note that the USTAR filtering is not part of the Level-2 calculations."
   ]
  },
  {
   "cell_type": "markdown",
   "id": "5f3ae65a-3e6b-48cb-9d8f-60369273a8e2",
   "metadata": {},
   "source": [
    "## Settings"
   ]
  },
  {
   "cell_type": "code",
   "execution_count": null,
   "id": "bf7d14dc-0467-4d98-998e-8573d38ebb01",
   "metadata": {
    "tags": []
   },
   "outputs": [],
   "source": [
    "SIGNAL_STRENGTH_COL = 'CUSTOM_AGC_MEAN'  # Name of the column storing the signal strength, typically 'CUSTOM_AGC_MEAN' for LI-7500, 'XXX?' for LI-7200\n",
    "SIGNAL_STRENGTH_THRESHOLD = 90  # Signal strength threshold, flux values where threshold is exceeded are flagged as rejected\n",
    "SIGNAL_STRENGTH_METHOD = 'discard above'  # 'discard above' flags fluxes where signal strength > threshold, 'discard below' where signal strength < threshold"
   ]
  },
  {
   "cell_type": "markdown",
   "id": "78db3725-cf1e-4d2e-8f00-42c921999774",
   "metadata": {},
   "source": [
    "</br>"
   ]
  },
  {
   "cell_type": "markdown",
   "id": "d722c873-c11e-4a32-8c75-b7154f3157e1",
   "metadata": {},
   "source": [
    "## Inititate calculations"
   ]
  },
  {
   "cell_type": "code",
   "execution_count": null,
   "id": "b9198096-f2d1-4c37-8c98-5f5ea1bf4e2f",
   "metadata": {
    "tags": []
   },
   "outputs": [],
   "source": [
    "fluxqc = FluxQualityFlagsLevel2EddyPro(fluxcol=FLUXVAR, df=df_orig, levelid='L2')"
   ]
  },
  {
   "cell_type": "markdown",
   "id": "195eeb32-7edc-431e-b131-04e442e3caa0",
   "metadata": {},
   "source": [
    "</br>"
   ]
  },
  {
   "cell_type": "markdown",
   "id": "e4abd121-2ae8-41be-99b2-94f73040af73",
   "metadata": {},
   "source": [
    "## Flag: **Missing values** test\n",
    "- Flag calculated here from missing flux values in the EddyPro output file"
   ]
  },
  {
   "cell_type": "code",
   "execution_count": null,
   "id": "6e4e94d1-2713-48a5-8302-c199f19e6e45",
   "metadata": {
    "tags": []
   },
   "outputs": [],
   "source": [
    "fluxqc.missing_vals_test()"
   ]
  },
  {
   "cell_type": "markdown",
   "id": "aa513171-af39-439d-b552-ce17f237f322",
   "metadata": {},
   "source": [
    "</br>"
   ]
  },
  {
   "cell_type": "markdown",
   "id": "a47dc192-7343-4597-bf5d-8214e8f4d980",
   "metadata": {},
   "source": [
    "## Flag: **SSITC** tests\n",
    "- Flag calculated in EddyPro\n",
    "- Combination of the two partial tests *steady state test* and *developed turbulent conditions test*\n",
    "- This notebook expects the SSITC flag to follow the flagging policy according to Mauder and Foken 2004: `0` for best quality fluxes, `1` for fluxes suitable for general analysis such as annual\n",
    "budgets (although this is debatable) and `2` for fluxes that should be discarded from the dataset"
   ]
  },
  {
   "cell_type": "code",
   "execution_count": null,
   "id": "4c53f350-92a6-499e-ac64-700551a6e801",
   "metadata": {
    "tags": []
   },
   "outputs": [],
   "source": [
    "fluxqc.ssitc_test()"
   ]
  },
  {
   "cell_type": "markdown",
   "id": "ab0c596e-9ac9-4fc2-b908-4f778cd86146",
   "metadata": {},
   "source": [
    "</br>"
   ]
  },
  {
   "cell_type": "markdown",
   "id": "19efeae8-2b91-4e46-817b-dc6297d16c66",
   "metadata": {},
   "source": [
    "## Flag: **Completeness** test\n",
    "- Flag calculated here from the gas number of records percentage in EddyPro output file\n",
    "- Checks gas number of records available for each averaging Interval"
   ]
  },
  {
   "cell_type": "code",
   "execution_count": null,
   "id": "05f99875-7300-4381-a4ad-36eb56cbfd25",
   "metadata": {
    "tags": []
   },
   "outputs": [],
   "source": [
    "fluxqc.gas_completeness_test()"
   ]
  },
  {
   "cell_type": "markdown",
   "id": "3b9928fb-4f04-4717-bffa-128c17a41aa1",
   "metadata": {},
   "source": [
    "</br>"
   ]
  },
  {
   "cell_type": "markdown",
   "id": "9a2663cb-8a8a-4854-96d9-74ff24504d37",
   "metadata": {},
   "source": [
    "## Flag: **Spectral correction factor** test\n",
    "- Flag calculated here from the gas `scf` variable in EddyPro output file"
   ]
  },
  {
   "cell_type": "code",
   "execution_count": null,
   "id": "0c80a4d6-87be-4ea8-9061-6d748c08c5a8",
   "metadata": {
    "tags": []
   },
   "outputs": [],
   "source": [
    "fluxqc.spectral_correction_factor_test()"
   ]
  },
  {
   "cell_type": "markdown",
   "id": "51ad2978-17c2-4a27-b1e6-b0722d4a6872",
   "metadata": {},
   "source": [
    "</br>"
   ]
  },
  {
   "cell_type": "markdown",
   "id": "870c5c3d-66e7-4b27-ab84-ce82c4ea738d",
   "metadata": {},
   "source": [
    "## Flag: **Signal strength / AGC** / window dirtiness test (if available)\n",
    "- Flag calculated here from the signal strength / AGC variable in EddyPro output file"
   ]
  },
  {
   "cell_type": "code",
   "execution_count": null,
   "id": "4002323e-d18e-4d96-9c97-e8cafa5504b9",
   "metadata": {
    "tags": []
   },
   "outputs": [],
   "source": [
    "fluxqc.signal_strength_test(signal_strength_col=SIGNAL_STRENGTH_COL,\n",
    "                            method=SIGNAL_STRENGTH_METHOD, \n",
    "                            threshold=SIGNAL_STRENGTH_THRESHOLD)"
   ]
  },
  {
   "cell_type": "markdown",
   "id": "2501c7e9-ee0d-48a8-9e09-1bbcb15ca6e6",
   "metadata": {},
   "source": [
    "</br>"
   ]
  },
  {
   "cell_type": "markdown",
   "id": "e554185a-9fd1-44e4-bce8-58faaabf5107",
   "metadata": {},
   "source": [
    "## Flags: **Raw data screening** tests\n",
    "- Flags were calculated in EddyPro"
   ]
  },
  {
   "cell_type": "code",
   "execution_count": null,
   "id": "ceea883f-5d54-43c3-b42d-5886d28876ef",
   "metadata": {
    "tags": []
   },
   "outputs": [],
   "source": [
    "fluxqc.raw_data_screening_vm97_tests(spikes=True,\n",
    "                                     amplitude=True,\n",
    "                                     dropout=True,\n",
    "                                     abslim=False,\n",
    "                                     skewkurt_hf=False,\n",
    "                                     skewkurt_sf=False,\n",
    "                                     discont_hf=False,\n",
    "                                     discont_sf=False)"
   ]
  },
  {
   "cell_type": "markdown",
   "id": "3fadb9cd-79bf-49b9-8c0a-376e5984dcc6",
   "metadata": {},
   "source": [
    "</br>"
   ]
  },
  {
   "cell_type": "markdown",
   "id": "9134053d-670f-4df5-bf57-a609f46ad315",
   "metadata": {},
   "source": [
    "## Flag: **Angle-of-attack** test (optional)\n",
    "- Flag was calculated in EddyPro"
   ]
  },
  {
   "cell_type": "code",
   "execution_count": null,
   "id": "cd486a35-cc3d-4f1d-a17d-babd96c4c603",
   "metadata": {
    "tags": []
   },
   "outputs": [],
   "source": [
    "fluxqc.angle_of_attack_test()"
   ]
  },
  {
   "cell_type": "markdown",
   "id": "9bc053c1-ea08-4b31-b70e-498ead9ffc92",
   "metadata": {},
   "source": [
    "</br>"
   ]
  },
  {
   "cell_type": "markdown",
   "id": "ad5a406a-edc1-4d52-9901-f68de29639f0",
   "metadata": {},
   "source": [
    "## Add flags to dataset"
   ]
  },
  {
   "cell_type": "code",
   "execution_count": null,
   "id": "7b1b4f29-b958-41e6-a395-29d4a11a8eb3",
   "metadata": {
    "tags": []
   },
   "outputs": [],
   "source": [
    "# print(fluxqc.fluxflags)\n",
    "df_level2 = fluxqc.get()"
   ]
  },
  {
   "cell_type": "markdown",
   "id": "6c6c6edf-7ff3-4bcb-a99b-37d6dd7b1587",
   "metadata": {},
   "source": [
    "</br>"
   ]
  },
  {
   "cell_type": "markdown",
   "id": "be9e19b8-9408-40bf-9b8e-1d9753b4385e",
   "metadata": {},
   "source": [
    "## Available `Level-2` variables"
   ]
  },
  {
   "cell_type": "code",
   "execution_count": null,
   "id": "c95c3407-75ee-4123-804d-de0ba227311b",
   "metadata": {
    "tags": []
   },
   "outputs": [],
   "source": [
    "[x for x in df_level2.columns if 'L2' in x]"
   ]
  },
  {
   "cell_type": "markdown",
   "id": "41570514-9551-48ef-ac9b-7ee9d20240d5",
   "metadata": {},
   "source": [
    "</br>"
   ]
  },
  {
   "cell_type": "markdown",
   "id": "bd84432c-1aca-405a-961f-c82c061851da",
   "metadata": {},
   "source": [
    "</br>"
   ]
  },
  {
   "cell_type": "markdown",
   "id": "13ee505e-759f-42a2-89f0-51c953aabcf2",
   "metadata": {},
   "source": [
    "---"
   ]
  },
  {
   "cell_type": "markdown",
   "id": "b5cf25d3-d6c5-4403-b09a-a6167c9520cf",
   "metadata": {},
   "source": [
    "# **Level-3.1: Storage correction**"
   ]
  },
  {
   "cell_type": "markdown",
   "id": "13851c1e-7bb2-43c6-bca9-8060f3332af7",
   "metadata": {},
   "source": [
    "(description here)"
   ]
  },
  {
   "cell_type": "markdown",
   "id": "29eeb07e-553a-4476-b38e-e40eeb3f2e5a",
   "metadata": {},
   "source": [
    "## Inititate calculations"
   ]
  },
  {
   "cell_type": "code",
   "execution_count": null,
   "id": "3da210eb-4795-4c3d-9fc9-093dbdf7712e",
   "metadata": {
    "tags": []
   },
   "outputs": [],
   "source": [
    "s = FluxStorageCorrectionSinglePointEddyPro(df=df_level2, fluxcol=FLUXVAR)"
   ]
  },
  {
   "cell_type": "markdown",
   "id": "47e1dbdc-e2e9-4608-bc4a-24a858f1b395",
   "metadata": {},
   "source": [
    "</br>"
   ]
  },
  {
   "cell_type": "markdown",
   "id": "e2dace3f-2120-4d26-aa86-a69093760f92",
   "metadata": {},
   "source": [
    "## Calculate storage correction\n",
    "- The flux storage term (single point) is added to the flux\n",
    "- For some records, the storage term can be missing. In such cases, missing terms are gap-filled using random forest\n",
    "- Without gap-filling the storage term, we can lose an additional e.g. 2-3% of flux data"
   ]
  },
  {
   "cell_type": "code",
   "execution_count": null,
   "id": "5d1ada0c-2716-467f-ac0c-b3fdc7abee25",
   "metadata": {
    "tags": []
   },
   "outputs": [],
   "source": [
    "s.storage_correction()"
   ]
  },
  {
   "cell_type": "code",
   "execution_count": null,
   "id": "4351744a-1dea-433e-9218-b2a8ac09a258",
   "metadata": {
    "tags": []
   },
   "outputs": [],
   "source": [
    "s.showplot(maxflux=20)"
   ]
  },
  {
   "cell_type": "code",
   "execution_count": null,
   "id": "9f1e2d0c-4437-4dba-ab8d-3d6f8df4c755",
   "metadata": {
    "tags": []
   },
   "outputs": [],
   "source": [
    "s.report()"
   ]
  },
  {
   "cell_type": "markdown",
   "id": "ef503d8c-333a-446c-9f4e-1c13df50901d",
   "metadata": {},
   "source": [
    "</br>"
   ]
  },
  {
   "cell_type": "markdown",
   "id": "a2be1fc9-93cc-4c42-8d86-e2eee4f0e768",
   "metadata": {},
   "source": [
    "## Add results to dataset\n",
    "- Adds the storage-corrected flux and the gap-filled storage term time series to the dataset"
   ]
  },
  {
   "cell_type": "code",
   "execution_count": null,
   "id": "16278aa8-4812-41c9-a6fe-ded76055b749",
   "metadata": {
    "tags": []
   },
   "outputs": [],
   "source": [
    "# print(s.storage)\n",
    "df_level31 = s.get()"
   ]
  },
  {
   "cell_type": "code",
   "execution_count": null,
   "id": "b2c023fc-0ad5-4694-9149-4535d8cfb659",
   "metadata": {
    "tags": []
   },
   "outputs": [],
   "source": [
    "df_level31"
   ]
  },
  {
   "cell_type": "markdown",
   "id": "2f68a678-9042-4247-884d-c5224a52b06e",
   "metadata": {},
   "source": [
    "</br>"
   ]
  },
  {
   "cell_type": "markdown",
   "id": "a5a771d1-115b-42c9-b8be-a31966a4444f",
   "metadata": {},
   "source": [
    "## Available `Level-3.1` variables before preliminary QCF"
   ]
  },
  {
   "cell_type": "code",
   "execution_count": null,
   "id": "ae83edbc-0b4e-4144-9a69-3de1b8a5d48b",
   "metadata": {
    "tags": []
   },
   "outputs": [],
   "source": [
    "_vars = [print(x) for x in df_level31.columns if 'L3.1' in x]\n",
    "FLUXVAR31 = f\"{FLUXVAR}_L3.1\"  # Storage-corrected flux after Level-3.1\n",
    "print(f\"\\nName of the storage-corrected flux variable after Level-3.1:  {FLUXVAR31}\")"
   ]
  },
  {
   "cell_type": "markdown",
   "id": "2eb85db2-51a4-4211-82a5-35e963133f5a",
   "metadata": {},
   "source": [
    "</br>"
   ]
  },
  {
   "cell_type": "markdown",
   "id": "1f6c6409-0208-45a9-bb2b-4887e730e1f7",
   "metadata": {},
   "source": [
    "## Generate `QCF`, needed for Level-3.2\n",
    "- `QCF` is the `quality control flag` that combines the quality tests so far into one single `QCF` flag (0-1-2)"
   ]
  },
  {
   "cell_type": "code",
   "execution_count": null,
   "id": "85e70bd0-28b4-418f-b91e-3ed55ffe20ab",
   "metadata": {
    "tags": []
   },
   "outputs": [],
   "source": [
    "qcf = FlagQCF(series=df_level31[FLUXVAR31], df=df_level31, levelid='L3.1', swinpot=df_level31['SW_IN_POT'], nighttime_threshold=50)\n",
    "qcf.calculate(daytime_accept_qcf_below=2, nighttimetime_accept_qcf_below=2)\n",
    "df_level31 = qcf.get()"
   ]
  },
  {
   "cell_type": "code",
   "execution_count": null,
   "id": "bb1ef82f-2a00-450b-a3ad-dd2119d78478",
   "metadata": {
    "tags": []
   },
   "outputs": [],
   "source": [
    "qcf.report_qcf_flags()"
   ]
  },
  {
   "cell_type": "code",
   "execution_count": null,
   "id": "af1508d0-4070-4079-addd-fbefda402964",
   "metadata": {
    "tags": []
   },
   "outputs": [],
   "source": [
    "qcf.report_qcf_evolution()"
   ]
  },
  {
   "cell_type": "code",
   "execution_count": null,
   "id": "54c281e7-a409-460c-b052-535d7af390b9",
   "metadata": {
    "tags": []
   },
   "outputs": [],
   "source": [
    "qcf.report_qcf_series()"
   ]
  },
  {
   "cell_type": "code",
   "execution_count": null,
   "id": "9b4fec19-9f88-475a-a7e2-40704946807e",
   "metadata": {
    "tags": []
   },
   "outputs": [],
   "source": [
    "qcf.showplot_qcf_heatmaps()"
   ]
  },
  {
   "cell_type": "code",
   "execution_count": null,
   "id": "4f211ac1-5105-48a8-94d3-8dc0b3e03abf",
   "metadata": {
    "tags": []
   },
   "outputs": [],
   "source": [
    "qcf.showplot_qcf_timeseries()"
   ]
  },
  {
   "cell_type": "markdown",
   "id": "64357ebe-d750-4d02-8f1b-781ccdf9ee11",
   "metadata": {},
   "source": [
    "## Available `Level-3.1` variables after preliminary QCF"
   ]
  },
  {
   "cell_type": "code",
   "execution_count": null,
   "id": "9c2e484e-34bf-4a89-a9ff-553783167da4",
   "metadata": {
    "tags": []
   },
   "outputs": [],
   "source": [
    "_vars = [print(x) for x in df_level31.columns if 'L3.1' in x]\n",
    "FLUXVAR31QCF = f\"{FLUXVAR31}_L3.1_QCF\"  # Quality-controlled flux after Level-3.1\n",
    "print(f\"\\nName of the storage-corrected and quality-controlled flux variable after Level-3.1:  {FLUXVAR31QCF}  (this variable will be used in the following outlier detection)\")"
   ]
  },
  {
   "cell_type": "markdown",
   "id": "ef79a6c9-5b8c-4a50-ba1b-8da2bb38cfd6",
   "metadata": {},
   "source": [
    "</br>"
   ]
  },
  {
   "cell_type": "markdown",
   "id": "dcb2299b-f3a3-4c6d-8a82-388a7f69b7dd",
   "metadata": {},
   "source": [
    "</br>"
   ]
  },
  {
   "cell_type": "markdown",
   "id": "35baca51-a35c-4146-bb94-b665d32f3126",
   "metadata": {},
   "source": [
    "---"
   ]
  },
  {
   "cell_type": "markdown",
   "id": "9ba93d1b-aee8-4b56-ba4f-79a31faf1af6",
   "metadata": {},
   "source": [
    "# **Level-3.2: Outlier detection**\n",
    "- Needs quality-controlled data (so far)"
   ]
  },
  {
   "cell_type": "markdown",
   "id": "cb1cddab-0b2d-4997-9444-6b0af2a37077",
   "metadata": {},
   "source": [
    "</br>"
   ]
  },
  {
   "cell_type": "markdown",
   "id": "c80021a9-07e6-421c-8fe7-78efe54ccbcd",
   "metadata": {},
   "source": [
    "## Plot time series"
   ]
  },
  {
   "cell_type": "code",
   "execution_count": null,
   "id": "2ff94460-5f05-4ea6-bcbf-899e1b184092",
   "metadata": {
    "tags": []
   },
   "outputs": [],
   "source": [
    "df_level31[FLUXVAR31QCF].plot(title=f\"{FLUXVAR31QCF} \\n(quality-controlled Level-3.1 version of {FLUXVAR31}) \\n(originally based on {FLUXVAR})\");"
   ]
  },
  {
   "cell_type": "markdown",
   "id": "a7b3a2dd-092c-4de6-b55f-9c0a018a668d",
   "metadata": {},
   "source": [
    "</br>"
   ]
  },
  {
   "cell_type": "markdown",
   "id": "ebd144ba-f917-473a-8b53-225ef85c0b8e",
   "metadata": {},
   "source": [
    "## Initiate calculations"
   ]
  },
  {
   "cell_type": "code",
   "execution_count": null,
   "id": "c05e1183-8003-4718-a861-265a6a7c27ff",
   "metadata": {
    "tags": []
   },
   "outputs": [],
   "source": [
    "sod = StepwiseOutlierDetection(dataframe=df_level31,\n",
    "                               col=FLUXVAR31QCF,\n",
    "                               site_lat=SITE_LAT,\n",
    "                               site_lon=SITE_LON,\n",
    "                               timezone_of_timestamp='UTC+01:00')"
   ]
  },
  {
   "cell_type": "markdown",
   "id": "3c840e27-07a1-4c87-82a6-df1d8397b255",
   "metadata": {},
   "source": [
    "</br>"
   ]
  },
  {
   "cell_type": "markdown",
   "id": "6d4cb25f-63f7-4239-b963-6f4cdd2198fc",
   "metadata": {},
   "source": [
    "</br>"
   ]
  },
  {
   "cell_type": "markdown",
   "id": "3c506208-143c-40c3-aecb-3d0c2d74a31c",
   "metadata": {},
   "source": [
    "## Flag, outlier detection: **absolute limits, separate for daytime and nighttime data**"
   ]
  },
  {
   "cell_type": "code",
   "execution_count": null,
   "id": "9c069872-7c6a-42bd-b208-7203183e07da",
   "metadata": {
    "tags": []
   },
   "outputs": [],
   "source": [
    "print(sod.flag_outliers_abslim_dtnt_test.__doc__)\n",
    "sod.flag_outliers_abslim_dtnt_test(daytime_minmax=[-50, 50], nighttime_minmax=[-5, 20], showplot=True, verbose=True)"
   ]
  },
  {
   "cell_type": "code",
   "execution_count": null,
   "id": "d2ae334b-f1c3-4021-b19c-22271ee531f8",
   "metadata": {},
   "outputs": [],
   "source": [
    "sod.addflag()"
   ]
  },
  {
   "cell_type": "markdown",
   "id": "e30ce18f-1bfb-4d33-98f0-589dc4356c2a",
   "metadata": {},
   "source": [
    "</br>"
   ]
  },
  {
   "cell_type": "markdown",
   "id": "461b8f22-9068-44a5-879d-e0c34250f8d8",
   "metadata": {},
   "source": [
    "</br>"
   ]
  },
  {
   "cell_type": "markdown",
   "id": "09abe1be-4377-4616-b835-e5724476d88c",
   "metadata": {},
   "source": [
    "## Flag, outlier detection: **Absolute limits**"
   ]
  },
  {
   "cell_type": "code",
   "execution_count": null,
   "id": "8fd8b602-58ed-402f-ab64-7c5676213170",
   "metadata": {
    "tags": []
   },
   "outputs": [],
   "source": [
    "print(sod.flag_outliers_abslim_test.__doc__)\n",
    "sod.flag_outliers_abslim_test(minval=-40, maxval=40, showplot=True, verbose=True)"
   ]
  },
  {
   "cell_type": "code",
   "execution_count": null,
   "id": "ceda34a2-8d86-4ca3-90a8-6dd846fc12e8",
   "metadata": {
    "tags": []
   },
   "outputs": [],
   "source": [
    "sod.addflag()"
   ]
  },
  {
   "cell_type": "markdown",
   "id": "5524c87c-b882-4619-8cbb-1af03ec60868",
   "metadata": {},
   "source": [
    "</br>"
   ]
  },
  {
   "cell_type": "markdown",
   "id": "40853dd6-dc13-4300-b119-2975944768df",
   "metadata": {},
   "source": [
    "</br>"
   ]
  },
  {
   "cell_type": "markdown",
   "id": "9e65896e-b7c0-4079-8efd-418e63cef530",
   "metadata": {
    "tags": []
   },
   "source": [
    "## Flag, outlier detection: **z-score over all data, separate for daytime and nighttime**"
   ]
  },
  {
   "cell_type": "code",
   "execution_count": null,
   "id": "72be7f1b-229a-40a6-b5ce-9130837cc7cf",
   "metadata": {
    "tags": []
   },
   "outputs": [],
   "source": [
    "print(sod.flag_outliers_zscore_dtnt_test.__doc__)\n",
    "sod.flag_outliers_zscore_dtnt_test(threshold=3, showplot=True, verbose=True)"
   ]
  },
  {
   "cell_type": "code",
   "execution_count": null,
   "id": "6dae686b-5dda-49b2-a71a-dde14af4638b",
   "metadata": {
    "tags": []
   },
   "outputs": [],
   "source": [
    "sod.addflag()"
   ]
  },
  {
   "cell_type": "markdown",
   "id": "f6a5c1aa-677a-4c45-8b54-f329a56b2b29",
   "metadata": {},
   "source": [
    "</br>"
   ]
  },
  {
   "cell_type": "markdown",
   "id": "474517b9-612f-4272-9b77-332c29e056aa",
   "metadata": {},
   "source": [
    "</br>"
   ]
  },
  {
   "cell_type": "markdown",
   "id": "923cb2e2-c842-49b5-96cc-9bb790cea9cd",
   "metadata": {},
   "source": [
    "## Flag, outlier detection: **Manual flagging of datapoints**"
   ]
  },
  {
   "cell_type": "code",
   "execution_count": null,
   "id": "772b8680-b7af-4d36-b880-4836574cec4c",
   "metadata": {
    "tags": []
   },
   "outputs": [],
   "source": [
    "print(sod.flag_manualremoval_test.__doc__)\n",
    "sod.flag_manualremoval_test(remove_dates=[['2019-12-31 19:45:00', '2020-01-31 19:45:00']],\n",
    "                            showplot=True, verbose=True)"
   ]
  },
  {
   "cell_type": "code",
   "execution_count": null,
   "id": "4359ea62-3646-4468-92dd-8be44df7f424",
   "metadata": {
    "tags": []
   },
   "outputs": [],
   "source": [
    "sod.addflag()"
   ]
  },
  {
   "cell_type": "markdown",
   "id": "efcea084-17ed-4794-9238-27b92dbe6814",
   "metadata": {},
   "source": [
    "</br>"
   ]
  },
  {
   "cell_type": "markdown",
   "id": "ceed5137-a63b-4055-8fda-6331e5d117b1",
   "metadata": {},
   "source": [
    "</br>"
   ]
  },
  {
   "cell_type": "markdown",
   "id": "da522147-d438-46e5-97ec-622f5863c5d2",
   "metadata": {},
   "source": [
    "## Flag, outlier detection: **Increments z-score**"
   ]
  },
  {
   "cell_type": "code",
   "execution_count": null,
   "id": "8c5060ff-2fca-4bd4-857c-436254413dc8",
   "metadata": {
    "tags": []
   },
   "outputs": [],
   "source": [
    "print(sod.flag_outliers_increments_zcore_test.__doc__)\n",
    "sod.flag_outliers_increments_zcore_test(threshold=10, showplot=True, verbose=True)"
   ]
  },
  {
   "cell_type": "code",
   "execution_count": null,
   "id": "802c07d7-78ee-4860-8462-0be5832c914e",
   "metadata": {},
   "outputs": [],
   "source": [
    "sod.addflag()"
   ]
  },
  {
   "cell_type": "markdown",
   "id": "5826acee-d99f-46d1-a229-3eea07d24e88",
   "metadata": {},
   "source": [
    "</br>"
   ]
  },
  {
   "cell_type": "markdown",
   "id": "638e56b1-e348-4376-a29c-0bcda61be8f8",
   "metadata": {},
   "source": [
    "</br>"
   ]
  },
  {
   "cell_type": "markdown",
   "id": "7e4c89a3-7b4e-4750-9c09-6df4f294cba5",
   "metadata": {},
   "source": [
    "## Flag, outlier detection: **z-score over all data with IQR**"
   ]
  },
  {
   "cell_type": "code",
   "execution_count": null,
   "id": "dbe3807c-f8f9-41da-885d-c2c164e16e57",
   "metadata": {
    "tags": []
   },
   "outputs": [],
   "source": [
    "print(sod.flag_outliers_zscoreiqr_test.__doc__)\n",
    "sod.flag_outliers_zscoreiqr_test(factor=2, showplot=True, verbose=True)"
   ]
  },
  {
   "cell_type": "code",
   "execution_count": null,
   "id": "a3fa3b8f-3e19-4cad-a67c-d7981398fbc7",
   "metadata": {
    "tags": []
   },
   "outputs": [],
   "source": [
    "sod.addflag()"
   ]
  },
  {
   "cell_type": "markdown",
   "id": "71214ffc-64a8-4645-8093-c89da26241bf",
   "metadata": {},
   "source": [
    "</br>"
   ]
  },
  {
   "cell_type": "markdown",
   "id": "8a3cc108-b3ca-4395-beca-b480a396e0ab",
   "metadata": {},
   "source": [
    "</br>"
   ]
  },
  {
   "cell_type": "markdown",
   "id": "4dcc9b0a-4b10-43c0-bcfe-6283e6dc425d",
   "metadata": {},
   "source": [
    "## Flag, outlier detection: **z-score over all data**"
   ]
  },
  {
   "cell_type": "code",
   "execution_count": null,
   "id": "3ccac559-acdf-4b99-94e0-073deb73fa78",
   "metadata": {
    "tags": []
   },
   "outputs": [],
   "source": [
    "print(sod.flag_outliers_zscore_test.__doc__)\n",
    "sod.flag_outliers_zscore_test(threshold=4, showplot=True, verbose=True)"
   ]
  },
  {
   "cell_type": "code",
   "execution_count": null,
   "id": "4a73c771-33e8-4c45-b6c5-8f514289d752",
   "metadata": {
    "tags": []
   },
   "outputs": [],
   "source": [
    "sod.addflag()"
   ]
  },
  {
   "cell_type": "markdown",
   "id": "d953d083-692a-4866-92a3-4e371f095d71",
   "metadata": {},
   "source": [
    "</br>"
   ]
  },
  {
   "cell_type": "markdown",
   "id": "7ad74685-445d-41a0-9efd-3f1933f27c39",
   "metadata": {},
   "source": [
    "</br>"
   ]
  },
  {
   "cell_type": "markdown",
   "id": "b0f36a93-fcbe-4299-8e91-4bab6235c062",
   "metadata": {},
   "source": [
    "## Flag, oulier detection: **Local standard deviation**"
   ]
  },
  {
   "cell_type": "code",
   "execution_count": null,
   "id": "fb282eb0-91b3-4d22-8b8b-5df4cf110568",
   "metadata": {
    "tags": []
   },
   "outputs": [],
   "source": [
    "print(sod.flag_outliers_localsd_test.__doc__)\n",
    "sod.flag_outliers_localsd_test(n_sd=4, winsize=480, showplot=True, verbose=True)"
   ]
  },
  {
   "cell_type": "code",
   "execution_count": null,
   "id": "fa977c05-9ef5-4390-b73e-03220ed81f13",
   "metadata": {
    "tags": []
   },
   "outputs": [],
   "source": [
    "sod.addflag()"
   ]
  },
  {
   "cell_type": "markdown",
   "id": "dfd4260d-9b6f-45a8-8686-8059799e071c",
   "metadata": {},
   "source": [
    "</br>"
   ]
  },
  {
   "cell_type": "markdown",
   "id": "7c9eeddf-6e6b-4d81-ab43-3cee8ba587ca",
   "metadata": {},
   "source": [
    "</br>"
   ]
  },
  {
   "cell_type": "markdown",
   "id": "5673901c-7a17-4ea8-b8ed-c03da4f0b0f9",
   "metadata": {},
   "source": [
    "## Flag, outlier detection: **Seasonal trend decomposition with z-score on residuals**"
   ]
  },
  {
   "cell_type": "code",
   "execution_count": null,
   "id": "5173f0df-0fa3-4f57-a5dc-7e7d3e0927d8",
   "metadata": {
    "tags": []
   },
   "outputs": [],
   "source": [
    "print(sod.flag_outliers_stl_rz_test.__doc__)\n",
    "sod.flag_outliers_stl_rz_test(zfactor=3, decompose_downsampling_freq='6H', repeat=False, showplot=True)"
   ]
  },
  {
   "cell_type": "code",
   "execution_count": null,
   "id": "23082054-9d83-4388-939e-772829c80061",
   "metadata": {
    "tags": []
   },
   "outputs": [],
   "source": [
    "sod.showplot_orig()\n",
    "sod.showplot_cleaned()"
   ]
  },
  {
   "cell_type": "code",
   "execution_count": null,
   "id": "9d57fdcf-6982-4326-8ede-eb23f8ef0e19",
   "metadata": {
    "tags": []
   },
   "outputs": [],
   "source": [
    "sod.addflag()"
   ]
  },
  {
   "cell_type": "markdown",
   "id": "f7e5ec71-fe48-4436-85d7-6fc1b455595e",
   "metadata": {},
   "source": [
    "</br>"
   ]
  },
  {
   "cell_type": "markdown",
   "id": "744b9638-d77c-4524-9180-b3c3732d2097",
   "metadata": {},
   "source": [
    "</br>"
   ]
  },
  {
   "cell_type": "markdown",
   "id": "1f2689df-def1-4295-8d4b-35f7be1ee439",
   "metadata": {},
   "source": [
    "## Flag, outlier detection: **Seasonsal trend decomposition with z-score on residuals (IQR)**"
   ]
  },
  {
   "cell_type": "code",
   "execution_count": null,
   "id": "77652b9c-646c-4434-9f32-587e9ab2ce22",
   "metadata": {
    "tags": []
   },
   "outputs": [],
   "source": [
    "print(sod.flag_outliers_stl_riqrz_test.__doc__)\n",
    "sod.flag_outliers_stl_riqrz_test(zfactor=2, decompose_downsampling_freq='6H', repeat=False, showplot=True)"
   ]
  },
  {
   "cell_type": "code",
   "execution_count": null,
   "id": "d17a05f8-c92a-4269-8b32-d1aef6b050f1",
   "metadata": {},
   "outputs": [],
   "source": [
    "sod.addflag()"
   ]
  },
  {
   "cell_type": "markdown",
   "id": "287ebdbb-e36d-4e47-81d1-31443970989c",
   "metadata": {},
   "source": [
    "</br>"
   ]
  },
  {
   "cell_type": "markdown",
   "id": "1ff503cc-b300-46ea-a11c-c3c78e47f876",
   "metadata": {},
   "source": [
    "</br>"
   ]
  },
  {
   "cell_type": "markdown",
   "id": "5f8972c0-d57d-498d-aa65-f6cc61ab63af",
   "metadata": {},
   "source": [
    "## Flag, outlier detection: **Thymeboost**\n",
    "- More info about [thymeboost](https://github.com/tblume1992/ThymeBoost)"
   ]
  },
  {
   "cell_type": "code",
   "execution_count": null,
   "id": "97d68581-cb9d-496d-89da-8109959414cd",
   "metadata": {
    "tags": []
   },
   "outputs": [],
   "source": [
    "print(sod.flag_outliers_thymeboost_test.__doc__)\n",
    "sod.flag_outliers_thymeboost_test(showplot=True, verbose=True)"
   ]
  },
  {
   "cell_type": "code",
   "execution_count": null,
   "id": "68b48fc2-8b70-4ae7-80b7-9bbc83c7e10e",
   "metadata": {
    "tags": []
   },
   "outputs": [],
   "source": [
    "sod.addflag()"
   ]
  },
  {
   "cell_type": "markdown",
   "id": "fd4948c1-6752-44f1-a106-dcca86aef1c0",
   "metadata": {},
   "source": [
    "</br>"
   ]
  },
  {
   "cell_type": "markdown",
   "id": "8a6fb63d-eef9-46c6-a659-ea1d54109248",
   "metadata": {},
   "source": [
    "</br>"
   ]
  },
  {
   "cell_type": "markdown",
   "id": "2f8de407-3f57-4bfc-8e7f-7f25295231a7",
   "metadata": {},
   "source": [
    "## Flag, outlier detection: **Local outlier factor**"
   ]
  },
  {
   "cell_type": "code",
   "execution_count": null,
   "id": "e5ea7087-e927-4fa2-8a2c-704d14d0ab90",
   "metadata": {
    "tags": []
   },
   "outputs": [],
   "source": [
    "print(sod.flag_outliers_lof_test.__doc__)\n",
    "sod.flag_outliers_lof_test(n_neighbors=None, contamination=0.005, showplot=True, verbose=True)"
   ]
  },
  {
   "cell_type": "code",
   "execution_count": null,
   "id": "04227e53-eab3-4cf1-b2aa-2648786b4316",
   "metadata": {
    "tags": []
   },
   "outputs": [],
   "source": [
    "sod.addflag()"
   ]
  },
  {
   "cell_type": "markdown",
   "id": "db8a69b9-cbbc-41e6-a203-cace4430d61b",
   "metadata": {},
   "source": [
    "</br>"
   ]
  },
  {
   "cell_type": "markdown",
   "id": "8293502d-7153-45a4-b09f-a395bea39d61",
   "metadata": {},
   "source": [
    "</br>"
   ]
  },
  {
   "cell_type": "markdown",
   "id": "567e7197-7447-46f8-89c4-9e6b9bbd815a",
   "metadata": {},
   "source": [
    "## Flag, outlier detection: **Local outlier factor, daytime/nighttime**"
   ]
  },
  {
   "cell_type": "code",
   "execution_count": null,
   "id": "85217430-2ce9-49bb-909f-32bb4b7732f9",
   "metadata": {
    "tags": []
   },
   "outputs": [],
   "source": [
    "print(sod.flag_outliers_lof_dtnt_test.__doc__)\n",
    "sod.flag_outliers_lof_dtnt_test(n_neighbors=None, contamination=0.0005, showplot=True, verbose=True)"
   ]
  },
  {
   "cell_type": "code",
   "execution_count": null,
   "id": "5c6edcc7-1ac3-4be1-995b-a95216b57be6",
   "metadata": {
    "tags": []
   },
   "outputs": [],
   "source": [
    "sod.addflag()"
   ]
  },
  {
   "cell_type": "markdown",
   "id": "9dd1d15b-60fa-4d7a-8c58-c7fe54bffb85",
   "metadata": {},
   "source": [
    "</br>"
   ]
  },
  {
   "cell_type": "markdown",
   "id": "2ce7999d-e76b-4fc5-8f53-189870ff4067",
   "metadata": {},
   "source": [
    "</br>"
   ]
  },
  {
   "cell_type": "markdown",
   "id": "d388cf7f-633d-41ab-bb17-9de976d50690",
   "metadata": {},
   "source": [
    "## Finalize outlier detection: **Collect all flags**"
   ]
  },
  {
   "cell_type": "code",
   "execution_count": null,
   "id": "de58b632-b7f2-4b91-91b6-6c80daba3344",
   "metadata": {
    "tags": []
   },
   "outputs": [],
   "source": [
    "df32 = sod.get()"
   ]
  },
  {
   "cell_type": "markdown",
   "id": "ecf0af74-18cb-4992-af71-e84ec96e2bb6",
   "metadata": {},
   "source": [
    "## Generate `QCF`, needed for Level-3.3"
   ]
  },
  {
   "cell_type": "code",
   "execution_count": null,
   "id": "15e3362e-1594-4a29-8bcf-9c4c0009ec81",
   "metadata": {
    "tags": []
   },
   "outputs": [],
   "source": [
    "qcf = FlagQCF(series=_df['NEE_L3.1'], df=_df, levelid='L3.1', swinpot=_df['SW_IN_POT'], nighttime_threshold=50)\n",
    "qcf.calculate(daytime_accept_qcf_below=2, nighttimetime_accept_qcf_below=2)\n",
    "df32qcf = qcf.get()"
   ]
  },
  {
   "cell_type": "code",
   "execution_count": null,
   "id": "d07510e0-cb27-42e7-b879-61b545947569",
   "metadata": {
    "tags": []
   },
   "outputs": [],
   "source": [
    "qcf.report_qcf_flags()"
   ]
  },
  {
   "cell_type": "code",
   "execution_count": null,
   "id": "d540b7b6-3304-48d6-819a-5e6db588ab3e",
   "metadata": {
    "tags": []
   },
   "outputs": [],
   "source": [
    "qcf.report_qcf_evolution()"
   ]
  },
  {
   "cell_type": "code",
   "execution_count": null,
   "id": "cf34b13e-34c9-4d38-9a90-50108ffbdb7f",
   "metadata": {
    "tags": []
   },
   "outputs": [],
   "source": [
    "qcf.report_qcf_series()"
   ]
  },
  {
   "cell_type": "code",
   "execution_count": null,
   "id": "3e941dc6-4f31-4235-be2b-4098b9df4e49",
   "metadata": {
    "tags": []
   },
   "outputs": [],
   "source": [
    "qcf.showplot_qcf_heatmaps()"
   ]
  },
  {
   "cell_type": "code",
   "execution_count": null,
   "id": "77b459d5-24dd-437f-9d93-08f809a2c931",
   "metadata": {},
   "outputs": [],
   "source": []
  },
  {
   "cell_type": "code",
   "execution_count": null,
   "id": "e00487a8-b331-477a-8aef-47c5e4c45476",
   "metadata": {
    "tags": []
   },
   "outputs": [],
   "source": [
    "df32.describe()"
   ]
  },
  {
   "cell_type": "code",
   "execution_count": null,
   "id": "a8c27896-f289-4e08-b042-26631f831d38",
   "metadata": {
    "tags": []
   },
   "outputs": [],
   "source": [
    "df32.to_csv(\"mylovelyhorse.csv\")"
   ]
  },
  {
   "cell_type": "markdown",
   "id": "def56ee3-2a84-4a86-bd5b-525f0764b48d",
   "metadata": {},
   "source": [
    "# **FINISH**\n",
    "Congratulations, you reached the end of this notebook! Before you go let's store your finish time."
   ]
  },
  {
   "cell_type": "code",
   "execution_count": null,
   "id": "e6ea09b1-a8b1-420f-9df0-44e50d69c37c",
   "metadata": {
    "tags": []
   },
   "outputs": [],
   "source": [
    "dt_string = datetime.now().strftime(\"%Y-%m-%d %H:%M:%S\")\n",
    "print(f\"Finished. {dt_string}\")"
   ]
  }
 ],
 "metadata": {
  "kernelspec": {
   "display_name": "Python 3 (ipykernel)",
   "language": "python",
   "name": "python3"
  },
  "language_info": {
   "codemirror_mode": {
    "name": "ipython",
    "version": 3
   },
   "file_extension": ".py",
   "mimetype": "text/x-python",
   "name": "python",
   "nbconvert_exporter": "python",
   "pygments_lexer": "ipython3",
   "version": "3.9.7"
  },
  "toc-autonumbering": true,
  "toc-showcode": false,
  "toc-showmarkdowntxt": false,
  "toc-showtags": true
 },
 "nbformat": 4,
 "nbformat_minor": 5
}
