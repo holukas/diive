{
 "cells": [
  {
   "cell_type": "markdown",
   "id": "1b68dee5-76ca-44bd-8de6-45c5a314d982",
   "metadata": {},
   "source": [
    "![lop](../../images/logo_diive1_128px.png)"
   ]
  },
  {
   "cell_type": "markdown",
   "id": "80476531-3a45-420c-8ece-d8fe73ab8788",
   "metadata": {},
   "source": [
    "<span style='font-size:40px; display:block;'>\n",
    "<b>\n",
    "    Flux Processing Chain\n",
    "</b>\n",
    "</span>"
   ]
  },
  {
   "cell_type": "markdown",
   "id": "48815613-0181-48f3-a4d7-9620a9f88b15",
   "metadata": {},
   "source": [
    "---\n",
    "**Notebook version**: `5` (XX Jan 2024)  \n",
    "**Author**: Lukas Hörtnagl (holukas@ethz.ch)  "
   ]
  },
  {
   "cell_type": "markdown",
   "id": "16a83491-39e1-4d9d-a0ba-e99ca4c578c4",
   "metadata": {},
   "source": [
    "</br>"
   ]
  },
  {
   "cell_type": "markdown",
   "id": "10364782-eb90-4f6f-b419-d4fd5f2bccd1",
   "metadata": {},
   "source": [
    "# **Background**"
   ]
  },
  {
   "cell_type": "markdown",
   "id": "f4616152-4f22-4f0b-9d31-f590782c0ddb",
   "metadata": {
    "tags": []
   },
   "source": [
    "- This notebook demonstrates part of the flux post-processing used for fluxes from Swiss FluxNet research stations\n",
    "- For a description of the different flux levels, see [Flux Processing Chain](https://www.swissfluxnet.ethz.ch/index.php/data/ecosystem-fluxes/flux-processing-chain/)\n",
    "- Flux calculations (Level-1) were done in a previous step\n",
    "- This notebook uses the calculated fluxes (Level-1) and applies several post-processing steps:\n",
    "    - Quality flag extension (Level-2)\n",
    "    - Storage correction (Level-3.1)\n",
    "    - Outlier removal (Level-3.2)\n",
    "- Other flux levels are currently not produced in this example:\n",
    "    - Gap-filling (Level-4.1)\n",
    "    - NEE Partitioning (Level-4.2)"
   ]
  },
  {
   "cell_type": "markdown",
   "id": "114bdf76-2238-4790-9107-8242990b029a",
   "metadata": {},
   "source": [
    "</br>"
   ]
  },
  {
   "cell_type": "markdown",
   "id": "da7534be-f906-48e0-8257-8134c6f379e2",
   "metadata": {},
   "source": [
    "# **User settings**\n",
    "`FLUXVAR` is the name of the flux variable in the data files. In the EddyPro `_fluxnet_` or - alternatively - `_full_output_` output files, the flux variables we primarily use are:\n",
    "  - `FC`, `co2_flux` ... CO2 flux, becomes `NEE` after storage correction (Level-3.1)\n",
    "  - `LE` ... Latent heat flux (water)\n",
    "  - `H` ... Sensible heat flux\n",
    "  - `FN2O`, `n2o_flux` ... Nitrous oxide flux\n",
    "  - `FCH4`, `ch4_flux` ... Methane flux\n",
    "  \n",
    "There are more flux variables in the output file, but we rarely need them:\n",
    "  - `FH2O`, `h2o_flux` ... H2O flux, very important but it is the same as `ET` and `LE` but with different units\n",
    "  - `ET` ... Evapotranspiration, very important but it is the same as `FH2O` and `LE` but with different units. We can easily calculte `ET` later from `LE`, e.g. in `ReddyProc`.\n",
    "  - `TAU` ... Momentum flux, a measure of the turbulent transfer of momentum between the land surface and the atmosphere"
   ]
  },
  {
   "cell_type": "code",
   "execution_count": null,
   "id": "8cc892bd-75a4-467f-8399-6b152e37c4c1",
   "metadata": {
    "tags": []
   },
   "outputs": [],
   "source": [
    "FLUXVAR = \"co2_flux\"  # Name of the flux variable\n",
    "SOURCEDIRS = [r'L:\\Sync\\luhk_work\\TMP\\fru']  # Folders where the EddyPro output files are located\n",
    "SITE_LAT = 47.115833  # Latitude of site\n",
    "SITE_LON = 8.537778  # Longitude of site\n",
    "FILETYPE = 'EDDYPRO_FULL_OUTPUT_30MIN'  # Filetype of EddyPro output files, can be 'EDDYPRO_FLUXNET_30MIN' or 'EDDYPRO_FULL_OUTPUT_30MIN'\n",
    "UTC_OFFSET = 1  # Time stamp offset in relation to UTC, e.g. 1 for UTC+01:00 (CET), important for the calculation of potential radiation for detecting daytime and nighttime\n",
    "NIGHTTIME_THRESHOLD = 50  # Threshold for potential radiation in W m-2, conditions below threshold are nighttime\n",
    "DAYTIME_ACCEPT_QCF_BELOW = 2\n",
    "NIGHTTIMETIME_ACCEPT_QCF_BELOW = 2"
   ]
  },
  {
   "cell_type": "markdown",
   "id": "308b7e45-e419-4457-8523-58f9bea72b55",
   "metadata": {},
   "source": [
    "</br>"
   ]
  },
  {
   "cell_type": "markdown",
   "id": "a8b8983b-88e5-42e3-8d72-9729f9306653",
   "metadata": {},
   "source": [
    "# **Imports**\n",
    "- This notebook uses `diive` ([source code](https://gitlab.ethz.ch/diive/diive)) to check eddy covariance fluxes for quality"
   ]
  },
  {
   "cell_type": "code",
   "execution_count": null,
   "id": "a5a21aa1-ea9a-4959-995e-3770371efc73",
   "metadata": {
    "tags": []
   },
   "outputs": [],
   "source": [
    "import os\n",
    "import importlib.metadata\n",
    "import pandas as pd\n",
    "import seaborn as sns\n",
    "import matplotlib.pyplot as plt\n",
    "from datetime import datetime\n",
    "from pathlib import Path\n",
    "from diive.core.io.filereader import MultiDataFileReader, search_files\n",
    "from diive.core.io.files import save_parquet, load_parquet\n",
    "# from diive.core.times.times import TimestampSanitizer\n",
    "# from diive.pkgs.fluxprocessingchain.level2_qualityflags import FluxQualityFlagsLevel2EddyPro\n",
    "# from diive.pkgs.fluxprocessingchain.level31_storagecorrection import FluxStorageCorrectionSinglePointEddyPro\n",
    "# from diive.pkgs.outlierdetection.stepwiseoutlierdetection import StepwiseOutlierDetection\n",
    "from diive.pkgs.qaqc.qcf import FlagQCF\n",
    "from diive.core.plotting.timeseries import TimeSeries  # For simple (interactive) time series plotting\n",
    "from diive.core.dfun.stats import sstats  # Time series stats\n",
    "from diive.pkgs.fluxprocessingchain.fluxprocessingchain import FluxProcessingChain, LoadEddyProOutputFiles\n",
    "\n",
    "\n",
    "version_diive = importlib.metadata.version(\"diive\")\n",
    "print(f\"diive version: v{version_diive}\")"
   ]
  },
  {
   "cell_type": "markdown",
   "id": "23c398ca-34db-4e7f-8b54-293a772ec7e4",
   "metadata": {},
   "source": [
    "</br>"
   ]
  },
  {
   "cell_type": "markdown",
   "id": "5d93046a-097d-49d2-b46d-bbf5f67b3850",
   "metadata": {},
   "source": [
    "# **Docstring** for `FluxProcessingChain`"
   ]
  },
  {
   "cell_type": "code",
   "execution_count": null,
   "id": "dabeb49b-8bb0-41bd-adb4-1f496befe41f",
   "metadata": {
    "scrolled": true,
    "tags": []
   },
   "outputs": [],
   "source": [
    "help(FluxProcessingChain)"
   ]
  },
  {
   "cell_type": "markdown",
   "id": "a1c75189-5f15-47f6-a655-c2c91943a1dc",
   "metadata": {},
   "source": [
    "</br>"
   ]
  },
  {
   "cell_type": "markdown",
   "id": "57c69ddc-0420-451d-bf56-95859c5174d0",
   "metadata": {},
   "source": [
    "</br>"
   ]
  },
  {
   "cell_type": "markdown",
   "id": "72383d3c-88ba-4e50-ae97-313c8e701f05",
   "metadata": {},
   "source": [
    "# **Load data** (2 options)"
   ]
  },
  {
   "cell_type": "markdown",
   "id": "a33d178e-0b56-4526-87c6-ab7d8b40561a",
   "metadata": {},
   "source": [
    "## Option 1: Load data from single or multiple output files\n",
    "- Used to read data from the EddyPro _fluxnet_ output files"
   ]
  },
  {
   "cell_type": "code",
   "execution_count": null,
   "id": "27280496-8f1c-4f1f-92b3-78248b113924",
   "metadata": {},
   "outputs": [],
   "source": [
    "ep = LoadEddyProOutputFiles(sourcedir=SOURCEDIRS, filetype=FILETYPE)"
   ]
  },
  {
   "cell_type": "code",
   "execution_count": null,
   "id": "44e87241-8a21-4639-b025-8213182f4e95",
   "metadata": {},
   "outputs": [],
   "source": [
    "ep.searchfiles()"
   ]
  },
  {
   "cell_type": "code",
   "execution_count": null,
   "id": "6f280799-37c5-4c3a-b9d5-bce8dd4538ff",
   "metadata": {},
   "outputs": [],
   "source": [
    "ep.loadfiles()"
   ]
  },
  {
   "cell_type": "code",
   "execution_count": null,
   "id": "5ea1dd4f-94a3-4484-9d02-256dce3e6baa",
   "metadata": {},
   "outputs": [],
   "source": [
    "level1_df = ep.level1_df\n",
    "level1_metadata = ep.metadata"
   ]
  },
  {
   "cell_type": "markdown",
   "id": "5c35481a-d05f-4efc-b059-e3b1d38e72b5",
   "metadata": {},
   "source": [
    "</br>"
   ]
  },
  {
   "cell_type": "markdown",
   "id": "22e6274e-909e-4957-bdd0-562598a855d1",
   "metadata": {},
   "source": [
    "## Option 2: Load data from `parquet` file\n",
    "- Used to continue a previous session where another flux variable was already post-processed\n",
    "- For example, if you have already post-processed CO2 flux and now want to post-process H2O flux\n",
    "- Also detects time resolution of time series, this info was lost when saving to the parquet file"
   ]
  },
  {
   "cell_type": "markdown",
   "id": "71ae505e-1a08-4d23-b164-5ea496cda293",
   "metadata": {},
   "source": [
    "<div class=\"alert alert-block alert-success\">\n",
    "    <b>NEEDS CHECK</b>\n",
    "</div>"
   ]
  },
  {
   "cell_type": "code",
   "execution_count": null,
   "id": "7b470221-0c6b-4200-94ec-02dbfda5ff1a",
   "metadata": {
    "tags": []
   },
   "outputs": [],
   "source": [
    "df_orig = load_parquet(filepath='df_level32_qcf.parquet')"
   ]
  },
  {
   "cell_type": "markdown",
   "id": "16cc1b00-7039-4afb-9a63-e81447b9c4e4",
   "metadata": {},
   "source": [
    "</br>"
   ]
  },
  {
   "cell_type": "markdown",
   "id": "c615a754-f764-4277-9606-1c87b32aae60",
   "metadata": {},
   "source": [
    "## Check data"
   ]
  },
  {
   "cell_type": "code",
   "execution_count": null,
   "id": "2bd776e3-2e4f-4336-ab1d-b29e4aa1186e",
   "metadata": {
    "tags": []
   },
   "outputs": [],
   "source": [
    "level1_df.head()"
   ]
  },
  {
   "cell_type": "code",
   "execution_count": null,
   "id": "c9f9284e-4518-423f-bfdd-55bebc06ed75",
   "metadata": {
    "tags": []
   },
   "outputs": [],
   "source": [
    "sstats(level1_df[FLUXVAR])"
   ]
  },
  {
   "cell_type": "code",
   "execution_count": null,
   "id": "f0d91cb8-d483-4595-baf5-72f7017751ab",
   "metadata": {
    "tags": []
   },
   "outputs": [],
   "source": [
    "TimeSeries(series=level1_df[FLUXVAR]).plot_interactive()\n",
    "# TimeSeries(series=level1_df[FLUXVAR]).plot()"
   ]
  },
  {
   "cell_type": "markdown",
   "id": "2caff0ae-d48c-4dd4-9ff9-de5ca43e0a49",
   "metadata": {},
   "source": [
    "</br>"
   ]
  },
  {
   "cell_type": "markdown",
   "id": "dd36778a-00f4-41c2-9ac6-df9b610f2695",
   "metadata": {},
   "source": [
    "</br>"
   ]
  },
  {
   "cell_type": "markdown",
   "id": "8758828b-c3cf-4c7c-9835-4e3e69a27cf3",
   "metadata": {},
   "source": [
    "# **Flux processing chain**"
   ]
  },
  {
   "cell_type": "code",
   "execution_count": null,
   "id": "41ba6aee-10c5-4305-8feb-46b2c738d00b",
   "metadata": {},
   "outputs": [],
   "source": [
    "fpc = FluxProcessingChain(\n",
    "    level1_df=level1_df,    \n",
    "    filetype=FILETYPE,    \n",
    "    fluxcol=FLUXVAR,    \n",
    "    site_lat=SITE_LAT,\n",
    "    site_lon=SITE_LON,\n",
    "    utc_offset=UTC_OFFSET,\n",
    "    level1_metadata=level1_metadata\n",
    ")"
   ]
  },
  {
   "cell_type": "markdown",
   "id": "9c8ac3c7-9634-4cf1-a90d-b448c2fa8a6b",
   "metadata": {},
   "source": [
    "</br>"
   ]
  },
  {
   "cell_type": "markdown",
   "id": "c5faf2fb-caa5-44ad-8ef3-096bdc5a02e1",
   "metadata": {},
   "source": [
    "</br>"
   ]
  },
  {
   "cell_type": "markdown",
   "id": "ebd806e7-28db-4e0c-9669-5535188628d3",
   "metadata": {},
   "source": [
    "# **Level-2: Quality flag extension**"
   ]
  },
  {
   "cell_type": "markdown",
   "id": "80d0bf93-c0b7-4788-a12d-9167ec02f623",
   "metadata": {},
   "source": [
    "> Extract additional quality information from the EddyPro output and store it in newly added quality flags.\n",
    "\n",
    "\n",
    "\n",
    "Note that the USTAR filtering is not part of the Level-2 calculations."
   ]
  },
  {
   "cell_type": "markdown",
   "id": "de0e7b13-54ef-40c0-a6bb-2d5a261d6b3d",
   "metadata": {},
   "source": [
    "</br>"
   ]
  },
  {
   "cell_type": "markdown",
   "id": "66b328b9-c8c3-4b8d-9fa9-e8b9ae07a98e",
   "metadata": {},
   "source": [
    "## User settings\n",
    "- A test for missing values is always included: flag calculated here from missing flux values in the EddyPro output file"
   ]
  },
  {
   "cell_type": "markdown",
   "id": "79d31198-8909-4bb2-b0e9-46d31915bfa3",
   "metadata": {},
   "source": [
    "</br>"
   ]
  },
  {
   "cell_type": "markdown",
   "id": "d2e92fbd-9a58-4c5c-a4ea-05c2fbc37ada",
   "metadata": {},
   "source": [
    "### Flag: **SSITC** tests (default: `True`)\n",
    "- Flag calculated in EddyPro\n",
    "- Combination of the two partial tests *steady state test* and *developed turbulent conditions test*\n",
    "- This notebook expects the SSITC flag to follow the flagging policy according to Mauder and Foken 2004: 0 for best quality fluxes, 1 for fluxes suitable for general analysis such as annual budgets (although this is debatable) and 2 for fluxes that should be discarded from the dataset"
   ]
  },
  {
   "cell_type": "code",
   "execution_count": null,
   "id": "3c4ec15f-44e3-4ee4-aa1b-99b96cd28b99",
   "metadata": {},
   "outputs": [],
   "source": [
    "TEST_SSITC = True  # Default True"
   ]
  },
  {
   "cell_type": "markdown",
   "id": "b3809277-5a55-4665-beba-5d59a0cc82f4",
   "metadata": {},
   "source": [
    "</br>"
   ]
  },
  {
   "cell_type": "markdown",
   "id": "61b26a89-05f7-4ab9-a0f9-a1df4364e5ed",
   "metadata": {},
   "source": [
    "### Flag: **Gas completeness** test (default: `True`)\n",
    "- Flag calculated here from the gas number of records percentage in EddyPro output file\n",
    "- Checks gas number of records available for each averaging Interval"
   ]
  },
  {
   "cell_type": "code",
   "execution_count": null,
   "id": "dfc54e01-bef6-4b92-87a1-f6cdbd924667",
   "metadata": {},
   "outputs": [],
   "source": [
    "TEST_GAS_COMPLETENESS = True  # Default True"
   ]
  },
  {
   "cell_type": "markdown",
   "id": "b55a6381-664c-47e7-ab5b-b1ada145474c",
   "metadata": {},
   "source": [
    "</br>"
   ]
  },
  {
   "cell_type": "markdown",
   "id": "b7cde439-fe66-43ca-a336-0dc3b321e8a8",
   "metadata": {},
   "source": [
    "### Flag: **Spectral correction factor** test (default: `True`)\n",
    "- Flag calculated here from the gas `scf` variable in EddyPro output file"
   ]
  },
  {
   "cell_type": "code",
   "execution_count": null,
   "id": "4c5ef1ea-3c7f-4dc7-b069-ca63bbd62546",
   "metadata": {},
   "outputs": [],
   "source": [
    "TEST_SPECTRAL_CORRECTION_FACTOR = True  # Default True"
   ]
  },
  {
   "cell_type": "markdown",
   "id": "c27e5550-8368-4e70-bb4a-219a2d6cb70f",
   "metadata": {},
   "source": [
    "</br>"
   ]
  },
  {
   "cell_type": "markdown",
   "id": "1da185f0-4d0b-4987-a9b9-7125a6726ee1",
   "metadata": {},
   "source": [
    "### Flag: **Signal strength** test (always recommended if flux was calculated using a gas analyzer)"
   ]
  },
  {
   "cell_type": "markdown",
   "id": "6c5b9f26-0510-4709-9173-15f515238d0a",
   "metadata": {},
   "source": [
    "<div class=\"alert alert-block alert-danger\">\n",
    "<b>Do not use for H (sensible heat flux).</b> This test is only relevant for fluxes where the concentration was measured by a gas analyzer, e.g. FC, FH2O, LE, ET, N2O, CH4, etc ... \n",
    "</div>  "
   ]
  },
  {
   "cell_type": "markdown",
   "id": "1a99a2cd-aa00-4318-bf3b-1b9a76780d0b",
   "metadata": {},
   "source": [
    "- Signal strength / AGC / window dirtiness test (if available)\n",
    "- Flag calculated here from the signal strength / AGC variable for the gas analyzer in EddyPro output file\n",
    "- `SIGNAL_STRENGTH_COL`: Name of the column storing the signal strength, typically 'CUSTOM_AGC_MEAN' for LI-7500, 'CUSTOM_SIGNAL_STRENGTH_IRGA72_MEAN' for LI-7200, or something similar\n",
    "- `SIGNAL_STRENGTH_THRESHOLD`: Signal strength threshold, flux values where threshold is exceeded are flagged as rejected\n",
    "- `SIGNAL_STRENGTH_METHOD`: `discard above` flags fluxes where signal strength > threshold, `discard below` where signal strength < threshold"
   ]
  },
  {
   "cell_type": "code",
   "execution_count": null,
   "id": "c8f70505-6687-4350-8eb6-ee764c44b728",
   "metadata": {},
   "outputs": [],
   "source": [
    "# Signal strength\n",
    "# SIGNAL_STRENGTH_COL = 'CUSTOM_AGC_MEAN'\n",
    "TEST_SIGNAL_STRENGTH_COL = 'agc_mean'\n",
    "TEST_SIGNAL_STRENGTH_METHOD = 'discard above'\n",
    "TEST_SIGNAL_STRENGTH_THRESHOLD = 90"
   ]
  },
  {
   "cell_type": "code",
   "execution_count": null,
   "id": "05015d17-8000-4e8f-9555-906717e973e2",
   "metadata": {
    "tags": []
   },
   "outputs": [],
   "source": [
    "# TimeSeries(series=df_orig[SIGNAL_STRENGTH_COL]).plot_interactive()\n",
    "TimeSeries(series=level1_df[TEST_SIGNAL_STRENGTH_COL]).plot()"
   ]
  },
  {
   "cell_type": "markdown",
   "id": "8cc70f3e-b90f-44f9-a107-f41eae4b4c4c",
   "metadata": {},
   "source": [
    "</br>"
   ]
  },
  {
   "cell_type": "markdown",
   "id": "29a8579e-d90f-46b2-8953-55ae958650fb",
   "metadata": {},
   "source": [
    "### Flags: **Raw data screening** tests\n",
    "- Flags were calculated in EddyPro"
   ]
  },
  {
   "cell_type": "code",
   "execution_count": null,
   "id": "f2eafef7-48e6-4e81-aacd-7b684151f912",
   "metadata": {},
   "outputs": [],
   "source": [
    "TEST_RAWDATA_SPIKES = True  # Default True\n",
    "TEST_RAWDATA_AMPLITUDE = True  # Default True\n",
    "TEST_RAWDATA_DROPOUT = True  # Default True\n",
    "TEST_RAWDATA_ABSLIM = False  # Default False\n",
    "TEST_RAWDATA_SKEWKURT_HF = False  # Default False\n",
    "TEST_RAWDATA_SKEWKURT_SF = False  # Default False\n",
    "TEST_RAWDATA_DISCONT_HF = False  # Default False\n",
    "TEST_RAWDATA_DISCONT_SF = False  # Default False"
   ]
  },
  {
   "cell_type": "markdown",
   "id": "845e076c-1318-49cf-9f5c-8cbd87591999",
   "metadata": {},
   "source": [
    "</br>"
   ]
  },
  {
   "cell_type": "markdown",
   "id": "6b67ff4f-d2e3-4239-bd29-6ed883dfb994",
   "metadata": {},
   "source": [
    "### Flag: **Angle-of-attack** test (default: `False`)\n",
    "> This test calculates sample-wise Angle of Attacks throughout the current flux averaging period, and flags it if the percentage of angles of attack exceeding a user-defined range is beyond a (user-defined) threshold.  \n",
    "> Source: [EddyPro help](https://www.licor.com/env/support/EddyPro/topics/despiking-raw-statistical-screening.html?Highlight=angle%20of%20attack#Angleofattack)  *(3 Jan 2024)*\n",
    "- Flag was calculated in EddyPro"
   ]
  },
  {
   "cell_type": "code",
   "execution_count": null,
   "id": "7d371ccd-236b-4669-ad35-64dc67d33d2c",
   "metadata": {},
   "outputs": [],
   "source": [
    "TEST_RAWDATA_ANGLE_OF_ATTACK = False  # Default False"
   ]
  },
  {
   "cell_type": "markdown",
   "id": "396532ee-1a90-4cf2-8d43-b848d4fd0b5d",
   "metadata": {},
   "source": [
    "</br>"
   ]
  },
  {
   "cell_type": "markdown",
   "id": "54504952-3b94-46dd-8e7f-d31edc9ad4c1",
   "metadata": {},
   "source": [
    "### Flag: **Steadiness of horizontal wind** test (default: `False`)\n",
    "> This test assesses whether the along-wind and crosswind components of the wind vector undergo a systematic reduction (or increase) throughout the file. If the quadratic combination of such systematic variations is beyond the user-selected limit, the flux averaging period is hard-flagged for instationary horizontal wind (Vickers and Mahrt, 1997, Par. 6g).  \n",
    "> Source: [EddyPro help](https://www.licor.com/env/support/EddyPro/topics/despiking-raw-statistical-screening.html?Highlight=angle%20of%20attack#Steadinessofhorizontalwind)  *(3 Jan 2024)*\n",
    "- Flag was calculated in EddyPro"
   ]
  },
  {
   "cell_type": "code",
   "execution_count": null,
   "id": "b463b413-be1c-4c0c-b64d-6e860fca78c8",
   "metadata": {},
   "outputs": [],
   "source": [
    "TEST_RAWDATA_STEADINESS_OF_HORIZONTAL_WIND = False  # Default False"
   ]
  },
  {
   "cell_type": "markdown",
   "id": "3227aba0-8c96-4e33-97a8-0665d831a2b5",
   "metadata": {},
   "source": [
    "</br>"
   ]
  },
  {
   "cell_type": "markdown",
   "id": "2396f2ca-ef89-46f8-b002-c7c1bda41fcf",
   "metadata": {},
   "source": [
    "## Run"
   ]
  },
  {
   "cell_type": "code",
   "execution_count": null,
   "id": "571988fd-c00c-4ae1-86c1-2aa4c265d242",
   "metadata": {},
   "outputs": [],
   "source": [
    "LEVEL2_SETTINGS = {\n",
    "    'signal_strength': {'signal_strength_col': TEST_SIGNAL_STRENGTH_COL, 'method': TEST_SIGNAL_STRENGTH_METHOD, 'threshold': TEST_SIGNAL_STRENGTH_THRESHOLD},\n",
    "    'raw_data_screening_vm97': {'spikes': TEST_RAWDATA_SPIKES, 'amplitude': TEST_RAWDATA_AMPLITUDE, 'dropout': TEST_RAWDATA_DROPOUT, 'abslim': TEST_RAWDATA_ABSLIM,\n",
    "                                'skewkurt_hf': TEST_RAWDATA_SKEWKURT_HF, 'skewkurt_sf': TEST_RAWDATA_SKEWKURT_SF, 'discont_hf': TEST_RAWDATA_DISCONT_HF, \n",
    "                                'discont_sf': TEST_RAWDATA_DISCONT_SF},\n",
    "    'ssitc': TEST_SSITC,\n",
    "    'gas_completeness': TEST_GAS_COMPLETENESS,\n",
    "    'spectral_correction_factor': TEST_SPECTRAL_CORRECTION_FACTOR,\n",
    "    'angle_of_attack': TEST_RAWDATA_ANGLE_OF_ATTACK,\n",
    "    'steadiness_of_horizontal_wind': TEST_RAWDATA_STEADINESS_OF_HORIZONTAL_WIND\n",
    "}\n",
    "fpc.level2_quality_flag_expansion(**LEVEL2_SETTINGS)\n",
    "fpc.finalize_level2(nighttime_threshold=NIGHTTIME_THRESHOLD, daytime_accept_qcf_below=DAYTIME_ACCEPT_QCF_BELOW, nighttimetime_accept_qcf_below=NIGHTTIMETIME_ACCEPT_QCF_BELOW)"
   ]
  },
  {
   "cell_type": "markdown",
   "id": "32592eaa-12c5-497c-9433-5aa916f67dc2",
   "metadata": {},
   "source": [
    "</br>"
   ]
  },
  {
   "cell_type": "markdown",
   "id": "be9e19b8-9408-40bf-9b8e-1d9753b4385e",
   "metadata": {},
   "source": [
    "## Available `Level-2` variables\n",
    "- This shows all available Level-2 variables, also the ones created previously for other fluxes"
   ]
  },
  {
   "cell_type": "code",
   "execution_count": null,
   "id": "c95c3407-75ee-4123-804d-de0ba227311b",
   "metadata": {
    "tags": []
   },
   "outputs": [],
   "source": [
    "[x for x in fpc.fpc_df.columns if 'L2' in x]"
   ]
  },
  {
   "cell_type": "markdown",
   "id": "41570514-9551-48ef-ac9b-7ee9d20240d5",
   "metadata": {},
   "source": [
    "</br>"
   ]
  },
  {
   "cell_type": "markdown",
   "id": "bd84432c-1aca-405a-961f-c82c061851da",
   "metadata": {},
   "source": [
    "</br>"
   ]
  },
  {
   "cell_type": "markdown",
   "id": "b5cf25d3-d6c5-4403-b09a-a6167c9520cf",
   "metadata": {},
   "source": [
    "# **Level-3.1: Storage correction**"
   ]
  },
  {
   "cell_type": "markdown",
   "id": "13851c1e-7bb2-43c6-bca9-8060f3332af7",
   "metadata": {},
   "source": [
    "- The flux storage term (single point) is added to the flux\n",
    "- For some records, the storage term can be missing. In such cases, missing terms are gap-filled using random forest\n",
    "- Without gap-filling the storage term, we can lose an additional e.g. 2-3% of flux data"
   ]
  },
  {
   "cell_type": "code",
   "execution_count": null,
   "id": "3da210eb-4795-4c3d-9fc9-093dbdf7712e",
   "metadata": {
    "tags": []
   },
   "outputs": [],
   "source": [
    "fpc.level31_storage_correction(gapfill_storage_term=True)"
   ]
  },
  {
   "cell_type": "code",
   "execution_count": null,
   "id": "acbe2a4a-4330-4e8e-81e9-abafd3fe05cf",
   "metadata": {},
   "outputs": [],
   "source": [
    "fpc.finalize_level31()"
   ]
  },
  {
   "cell_type": "code",
   "execution_count": null,
   "id": "abe6b8ab-19bd-4927-a428-eec3d0804938",
   "metadata": {},
   "outputs": [],
   "source": [
    "fpc.level31.showplot(maxflux=50)"
   ]
  },
  {
   "cell_type": "code",
   "execution_count": null,
   "id": "8c0e6a6b-eab3-45ce-8b5c-eb05326eee87",
   "metadata": {},
   "outputs": [],
   "source": [
    "fpc.level31.report()"
   ]
  },
  {
   "cell_type": "markdown",
   "id": "ef503d8c-333a-446c-9f4e-1c13df50901d",
   "metadata": {},
   "source": [
    "</br>"
   ]
  },
  {
   "cell_type": "markdown",
   "id": "a5a771d1-115b-42c9-b8be-a31966a4444f",
   "metadata": {},
   "source": [
    "## Available `Level-3.1` variables before preliminary QCF"
   ]
  },
  {
   "cell_type": "code",
   "execution_count": null,
   "id": "ae83edbc-0b4e-4144-9a69-3de1b8a5d48b",
   "metadata": {
    "tags": []
   },
   "outputs": [],
   "source": [
    "_vars = [print(x) for x in df_level31.columns if 'L3.1' in x]\n",
    "if FLUXVAR == 'FC':\n",
    "    FLUXVAR31 = f\"NEE_L3.1\"\n",
    "else:\n",
    "    FLUXVAR31 = f\"{FLUXVAR}_L3.1\"  # Storage-corrected flux after Level-3.1\n",
    "print(f\"\\nName of the storage-corrected flux variable after Level-3.1:  {FLUXVAR31}\")"
   ]
  },
  {
   "cell_type": "markdown",
   "id": "2eb85db2-51a4-4211-82a5-35e963133f5a",
   "metadata": {},
   "source": [
    "</br>"
   ]
  },
  {
   "cell_type": "markdown",
   "id": "1f6c6409-0208-45a9-bb2b-4887e730e1f7",
   "metadata": {},
   "source": [
    "## Generate `QCF`, needed for Level-3.2\n",
    "- `QCF` is the `quality control flag` that combines the quality tests so far into one single `QCF` flag (0-1-2)"
   ]
  },
  {
   "cell_type": "code",
   "execution_count": null,
   "id": "85e70bd0-28b4-418f-b91e-3ed55ffe20ab",
   "metadata": {
    "tags": []
   },
   "outputs": [],
   "source": [
    "qcf = FlagQCF(series=df_level31[FLUXVAR31], df=df_level31, levelid='L3.1', swinpot=df_level31['SW_IN_POT'], nighttime_threshold=50)\n",
    "qcf.calculate(daytime_accept_qcf_below=2, nighttimetime_accept_qcf_below=2)\n",
    "df_level31 = qcf.get()"
   ]
  },
  {
   "cell_type": "code",
   "execution_count": null,
   "id": "af1508d0-4070-4079-addd-fbefda402964",
   "metadata": {
    "tags": []
   },
   "outputs": [],
   "source": [
    "qcf.report_qcf_evolution()"
   ]
  },
  {
   "cell_type": "code",
   "execution_count": null,
   "id": "9b4fec19-9f88-475a-a7e2-40704946807e",
   "metadata": {
    "tags": []
   },
   "outputs": [],
   "source": [
    "qcf.showplot_qcf_heatmaps()"
   ]
  },
  {
   "cell_type": "code",
   "execution_count": null,
   "id": "54c281e7-a409-460c-b052-535d7af390b9",
   "metadata": {
    "tags": []
   },
   "outputs": [],
   "source": [
    "qcf.report_qcf_series()"
   ]
  },
  {
   "cell_type": "code",
   "execution_count": null,
   "id": "bb1ef82f-2a00-450b-a3ad-dd2119d78478",
   "metadata": {
    "tags": []
   },
   "outputs": [],
   "source": [
    "qcf.report_qcf_flags()"
   ]
  },
  {
   "cell_type": "code",
   "execution_count": null,
   "id": "4f211ac1-5105-48a8-94d3-8dc0b3e03abf",
   "metadata": {
    "tags": []
   },
   "outputs": [],
   "source": [
    "qcf.showplot_qcf_timeseries()"
   ]
  },
  {
   "cell_type": "markdown",
   "id": "64357ebe-d750-4d02-8f1b-781ccdf9ee11",
   "metadata": {},
   "source": [
    "## Available `Level-3.1` variables after preliminary QCF\n",
    "- This shows all available Level-3.1 variables, also the ones created previously for other fluxes"
   ]
  },
  {
   "cell_type": "code",
   "execution_count": null,
   "id": "9c2e484e-34bf-4a89-a9ff-553783167da4",
   "metadata": {
    "tags": []
   },
   "outputs": [],
   "source": [
    "_vars = [print(x) for x in df_level31.columns if 'L3.1' in x]\n",
    "FLUXVAR31QCF = f\"{FLUXVAR31}_L3.1_QCF\"  # Quality-controlled flux after Level-3.1\n",
    "print(f\"\\nName of the storage-corrected and quality-controlled flux variable after Level-3.1:  {FLUXVAR31QCF}  (this variable will be used in the following outlier detection)\")"
   ]
  },
  {
   "cell_type": "markdown",
   "id": "ef79a6c9-5b8c-4a50-ba1b-8da2bb38cfd6",
   "metadata": {},
   "source": [
    "</br>"
   ]
  },
  {
   "cell_type": "markdown",
   "id": "dcb2299b-f3a3-4c6d-8a82-388a7f69b7dd",
   "metadata": {},
   "source": [
    "</br>"
   ]
  },
  {
   "cell_type": "markdown",
   "id": "9ba93d1b-aee8-4b56-ba4f-79a31faf1af6",
   "metadata": {},
   "source": [
    "# **Level-3.2: Outlier detection**\n",
    "- Needs quality-controlled data (so far)"
   ]
  },
  {
   "cell_type": "markdown",
   "id": "cb1cddab-0b2d-4997-9444-6b0af2a37077",
   "metadata": {},
   "source": [
    "</br>"
   ]
  },
  {
   "cell_type": "markdown",
   "id": "c80021a9-07e6-421c-8fe7-78efe54ccbcd",
   "metadata": {},
   "source": [
    "## Plot time series"
   ]
  },
  {
   "cell_type": "code",
   "execution_count": null,
   "id": "2ff94460-5f05-4ea6-bcbf-899e1b184092",
   "metadata": {
    "tags": []
   },
   "outputs": [],
   "source": [
    "print(f\"{FLUXVAR31QCF} \\n(quality-controlled Level-3.1 version of {FLUXVAR31}) \\n(originally based on {FLUXVAR})\")"
   ]
  },
  {
   "cell_type": "code",
   "execution_count": null,
   "id": "350aab8d-8385-470b-ba5b-505a2dc76cd7",
   "metadata": {
    "tags": []
   },
   "outputs": [],
   "source": [
    "# TimeSeries(series=df_level31[FLUXVAR31QCF]).plot_interactive()\n",
    "TimeSeries(series=df_level31[FLUXVAR31QCF]).plot()"
   ]
  },
  {
   "cell_type": "markdown",
   "id": "a7b3a2dd-092c-4de6-b55f-9c0a018a668d",
   "metadata": {},
   "source": [
    "</br>"
   ]
  },
  {
   "cell_type": "markdown",
   "id": "ebd144ba-f917-473a-8b53-225ef85c0b8e",
   "metadata": {},
   "source": [
    "## Initiate calculations"
   ]
  },
  {
   "cell_type": "code",
   "execution_count": null,
   "id": "c05e1183-8003-4718-a861-265a6a7c27ff",
   "metadata": {
    "tags": []
   },
   "outputs": [],
   "source": [
    "sod = StepwiseOutlierDetection(dataframe=df_level31,\n",
    "                               col=FLUXVAR31QCF,\n",
    "                               site_lat=SITE_LAT,\n",
    "                               site_lon=SITE_LON,\n",
    "                               utc_offset=1)"
   ]
  },
  {
   "cell_type": "markdown",
   "id": "3c840e27-07a1-4c87-82a6-df1d8397b255",
   "metadata": {},
   "source": [
    "</br>"
   ]
  },
  {
   "cell_type": "markdown",
   "id": "6d4cb25f-63f7-4239-b963-6f4cdd2198fc",
   "metadata": {},
   "source": [
    "</br>"
   ]
  },
  {
   "cell_type": "markdown",
   "id": "3c506208-143c-40c3-aecb-3d0c2d74a31c",
   "metadata": {},
   "source": [
    "## Flag, outlier detection: **absolute limits, separate for daytime and nighttime data**"
   ]
  },
  {
   "cell_type": "code",
   "execution_count": null,
   "id": "9c069872-7c6a-42bd-b208-7203183e07da",
   "metadata": {
    "tags": []
   },
   "outputs": [],
   "source": [
    "MIN_DT = -50\n",
    "MAX_DT = 50\n",
    "MIN_NT = -10\n",
    "MAX_NT = 50\n",
    "print(sod.flag_outliers_abslim_dtnt_test.__doc__)\n",
    "sod.flag_outliers_abslim_dtnt_test(daytime_minmax=[MIN_DT, MAX_DT], nighttime_minmax=[MIN_NT, MAX_NT], showplot=True, verbose=True)"
   ]
  },
  {
   "cell_type": "code",
   "execution_count": null,
   "id": "d2ae334b-f1c3-4021-b19c-22271ee531f8",
   "metadata": {
    "tags": []
   },
   "outputs": [],
   "source": [
    "sod.addflag()"
   ]
  },
  {
   "cell_type": "markdown",
   "id": "e30ce18f-1bfb-4d33-98f0-589dc4356c2a",
   "metadata": {},
   "source": [
    "</br>"
   ]
  },
  {
   "cell_type": "markdown",
   "id": "461b8f22-9068-44a5-879d-e0c34250f8d8",
   "metadata": {},
   "source": [
    "</br>"
   ]
  },
  {
   "cell_type": "markdown",
   "id": "09abe1be-4377-4616-b835-e5724476d88c",
   "metadata": {},
   "source": [
    "## Flag, outlier detection: **Absolute limits**"
   ]
  },
  {
   "cell_type": "code",
   "execution_count": null,
   "id": "8fd8b602-58ed-402f-ab64-7c5676213170",
   "metadata": {
    "tags": []
   },
   "outputs": [],
   "source": [
    "MIN = -50\n",
    "MAX = 50\n",
    "print(sod.flag_outliers_abslim_test.__doc__)\n",
    "sod.flag_outliers_abslim_test(minval=MIN, maxval=MAX, showplot=True, verbose=True)"
   ]
  },
  {
   "cell_type": "code",
   "execution_count": null,
   "id": "ceda34a2-8d86-4ca3-90a8-6dd846fc12e8",
   "metadata": {
    "tags": []
   },
   "outputs": [],
   "source": [
    "sod.addflag()"
   ]
  },
  {
   "cell_type": "markdown",
   "id": "5524c87c-b882-4619-8cbb-1af03ec60868",
   "metadata": {},
   "source": [
    "</br>"
   ]
  },
  {
   "cell_type": "markdown",
   "id": "40853dd6-dc13-4300-b119-2975944768df",
   "metadata": {},
   "source": [
    "</br>"
   ]
  },
  {
   "cell_type": "markdown",
   "id": "9e65896e-b7c0-4079-8efd-418e63cef530",
   "metadata": {
    "tags": []
   },
   "source": [
    "## Flag, outlier detection: **z-score over all data, separate for daytime and nighttime**"
   ]
  },
  {
   "cell_type": "code",
   "execution_count": null,
   "id": "72be7f1b-229a-40a6-b5ce-9130837cc7cf",
   "metadata": {
    "tags": []
   },
   "outputs": [],
   "source": [
    "print(sod.flag_outliers_zscore_dtnt_test.__doc__)\n",
    "sod.flag_outliers_zscore_dtnt_test(threshold=4, showplot=True, verbose=True)"
   ]
  },
  {
   "cell_type": "code",
   "execution_count": null,
   "id": "6dae686b-5dda-49b2-a71a-dde14af4638b",
   "metadata": {
    "tags": []
   },
   "outputs": [],
   "source": [
    "sod.addflag()"
   ]
  },
  {
   "cell_type": "markdown",
   "id": "f6a5c1aa-677a-4c45-8b54-f329a56b2b29",
   "metadata": {},
   "source": [
    "</br>"
   ]
  },
  {
   "cell_type": "markdown",
   "id": "474517b9-612f-4272-9b77-332c29e056aa",
   "metadata": {},
   "source": [
    "</br>"
   ]
  },
  {
   "cell_type": "markdown",
   "id": "ee153b44-1d9b-4aa2-8c79-eccc8eb94890",
   "metadata": {},
   "source": [
    "## Flag, oulier detection: **Local standard deviation**"
   ]
  },
  {
   "cell_type": "code",
   "execution_count": null,
   "id": "fb282eb0-91b3-4d22-8b8b-5df4cf110568",
   "metadata": {
    "tags": []
   },
   "outputs": [],
   "source": [
    "print(sod.flag_outliers_localsd_test.__doc__)\n",
    "sod.flag_outliers_localsd_test(n_sd=4, winsize=480, showplot=True, verbose=True)"
   ]
  },
  {
   "cell_type": "code",
   "execution_count": null,
   "id": "fa977c05-9ef5-4390-b73e-03220ed81f13",
   "metadata": {
    "tags": []
   },
   "outputs": [],
   "source": [
    "sod.addflag()"
   ]
  },
  {
   "cell_type": "markdown",
   "id": "ed91fc0a-7417-4ccc-8818-64dd6c658d3d",
   "metadata": {},
   "source": [
    "</br>"
   ]
  },
  {
   "cell_type": "markdown",
   "id": "1f5672ea-1139-472a-afd4-759341f3490c",
   "metadata": {},
   "source": [
    "</br>"
   ]
  },
  {
   "cell_type": "markdown",
   "id": "923cb2e2-c842-49b5-96cc-9bb790cea9cd",
   "metadata": {},
   "source": [
    "## Flag, outlier detection: **Manual flagging of datapoints**"
   ]
  },
  {
   "cell_type": "code",
   "execution_count": null,
   "id": "15150e1e-71f6-4908-a132-3d4387fcb7ad",
   "metadata": {
    "tags": []
   },
   "outputs": [],
   "source": [
    "# sod.showplot_cleaned(interactive=True)\n",
    "sod.showplot_cleaned(interactive=False)"
   ]
  },
  {
   "cell_type": "code",
   "execution_count": null,
   "id": "772b8680-b7af-4d36-b880-4836574cec4c",
   "metadata": {
    "tags": []
   },
   "outputs": [],
   "source": [
    "print(sod.flag_manualremoval_test.__doc__)\n",
    "sod.flag_manualremoval_test(remove_dates=[['2022-03-05 19:45:00', '2022-04-05 19:45:00']],\n",
    "                            showplot=True, verbose=True)"
   ]
  },
  {
   "cell_type": "code",
   "execution_count": null,
   "id": "4359ea62-3646-4468-92dd-8be44df7f424",
   "metadata": {
    "tags": []
   },
   "outputs": [],
   "source": [
    "sod.addflag()"
   ]
  },
  {
   "cell_type": "code",
   "execution_count": null,
   "id": "92791785-e385-40e4-8c7c-cebb75c96ff4",
   "metadata": {
    "tags": []
   },
   "outputs": [],
   "source": [
    "# sod.showplot_cleaned(interactive=True)\n",
    "sod.showplot_cleaned(interactive=False)"
   ]
  },
  {
   "cell_type": "markdown",
   "id": "efcea084-17ed-4794-9238-27b92dbe6814",
   "metadata": {},
   "source": [
    "</br>"
   ]
  },
  {
   "cell_type": "markdown",
   "id": "ceed5137-a63b-4055-8fda-6331e5d117b1",
   "metadata": {},
   "source": [
    "</br>"
   ]
  },
  {
   "cell_type": "markdown",
   "id": "da522147-d438-46e5-97ec-622f5863c5d2",
   "metadata": {},
   "source": [
    "## Flag, outlier detection: **Increments z-score**"
   ]
  },
  {
   "cell_type": "code",
   "execution_count": null,
   "id": "8c5060ff-2fca-4bd4-857c-436254413dc8",
   "metadata": {
    "tags": []
   },
   "outputs": [],
   "source": [
    "print(sod.flag_outliers_increments_zcore_test.__doc__)\n",
    "sod.flag_outliers_increments_zcore_test(threshold=8, showplot=True, verbose=True)"
   ]
  },
  {
   "cell_type": "code",
   "execution_count": null,
   "id": "802c07d7-78ee-4860-8462-0be5832c914e",
   "metadata": {
    "tags": []
   },
   "outputs": [],
   "source": [
    "sod.addflag()"
   ]
  },
  {
   "cell_type": "markdown",
   "id": "5826acee-d99f-46d1-a229-3eea07d24e88",
   "metadata": {},
   "source": [
    "</br>"
   ]
  },
  {
   "cell_type": "markdown",
   "id": "638e56b1-e348-4376-a29c-0bcda61be8f8",
   "metadata": {},
   "source": [
    "</br>"
   ]
  },
  {
   "cell_type": "markdown",
   "id": "4dcc9b0a-4b10-43c0-bcfe-6283e6dc425d",
   "metadata": {},
   "source": [
    "## Flag, outlier detection: **z-score over all data**"
   ]
  },
  {
   "cell_type": "code",
   "execution_count": null,
   "id": "3ccac559-acdf-4b99-94e0-073deb73fa78",
   "metadata": {
    "tags": []
   },
   "outputs": [],
   "source": [
    "print(sod.flag_outliers_zscore_test.__doc__)\n",
    "sod.flag_outliers_zscore_test(threshold=5, showplot=True, verbose=True)"
   ]
  },
  {
   "cell_type": "code",
   "execution_count": null,
   "id": "4a73c771-33e8-4c45-b6c5-8f514289d752",
   "metadata": {
    "tags": []
   },
   "outputs": [],
   "source": [
    "sod.addflag()"
   ]
  },
  {
   "cell_type": "markdown",
   "id": "d953d083-692a-4866-92a3-4e371f095d71",
   "metadata": {},
   "source": [
    "</br>"
   ]
  },
  {
   "cell_type": "markdown",
   "id": "7c9eeddf-6e6b-4d81-ab43-3cee8ba587ca",
   "metadata": {},
   "source": [
    "</br>"
   ]
  },
  {
   "cell_type": "markdown",
   "id": "5673901c-7a17-4ea8-b8ed-c03da4f0b0f9",
   "metadata": {},
   "source": [
    "## Flag, outlier detection: **Seasonal trend decomposition with z-score on residuals**"
   ]
  },
  {
   "cell_type": "code",
   "execution_count": null,
   "id": "5173f0df-0fa3-4f57-a5dc-7e7d3e0927d8",
   "metadata": {
    "tags": []
   },
   "outputs": [],
   "source": [
    "print(sod.flag_outliers_stl_rz_test.__doc__)\n",
    "sod.flag_outliers_stl_rz_test(zfactor=3, decompose_downsampling_freq='6H', repeat=False, showplot=True)"
   ]
  },
  {
   "cell_type": "code",
   "execution_count": null,
   "id": "23082054-9d83-4388-939e-772829c80061",
   "metadata": {
    "tags": []
   },
   "outputs": [],
   "source": [
    "sod.showplot_orig()\n",
    "sod.showplot_cleaned()"
   ]
  },
  {
   "cell_type": "code",
   "execution_count": null,
   "id": "9d57fdcf-6982-4326-8ede-eb23f8ef0e19",
   "metadata": {
    "tags": []
   },
   "outputs": [],
   "source": [
    "sod.addflag()"
   ]
  },
  {
   "cell_type": "markdown",
   "id": "f7e5ec71-fe48-4436-85d7-6fc1b455595e",
   "metadata": {},
   "source": [
    "</br>"
   ]
  },
  {
   "cell_type": "markdown",
   "id": "744b9638-d77c-4524-9180-b3c3732d2097",
   "metadata": {},
   "source": [
    "</br>"
   ]
  },
  {
   "cell_type": "markdown",
   "id": "5f8972c0-d57d-498d-aa65-f6cc61ab63af",
   "metadata": {},
   "source": [
    "## Flag, outlier detection: **Thymeboost**\n",
    "- More info about [thymeboost](https://github.com/tblume1992/ThymeBoost)"
   ]
  },
  {
   "cell_type": "code",
   "execution_count": null,
   "id": "97d68581-cb9d-496d-89da-8109959414cd",
   "metadata": {
    "tags": []
   },
   "outputs": [],
   "source": [
    "print(sod.flag_outliers_thymeboost_test.__doc__)\n",
    "sod.flag_outliers_thymeboost_test(showplot=True, verbose=True)"
   ]
  },
  {
   "cell_type": "code",
   "execution_count": null,
   "id": "68b48fc2-8b70-4ae7-80b7-9bbc83c7e10e",
   "metadata": {
    "tags": []
   },
   "outputs": [],
   "source": [
    "sod.addflag()"
   ]
  },
  {
   "cell_type": "markdown",
   "id": "fd4948c1-6752-44f1-a106-dcca86aef1c0",
   "metadata": {},
   "source": [
    "</br>"
   ]
  },
  {
   "cell_type": "markdown",
   "id": "8a6fb63d-eef9-46c6-a659-ea1d54109248",
   "metadata": {},
   "source": [
    "</br>"
   ]
  },
  {
   "cell_type": "markdown",
   "id": "2f8de407-3f57-4bfc-8e7f-7f25295231a7",
   "metadata": {},
   "source": [
    "## Flag, outlier detection: **Local outlier factor**"
   ]
  },
  {
   "cell_type": "code",
   "execution_count": null,
   "id": "e5ea7087-e927-4fa2-8a2c-704d14d0ab90",
   "metadata": {
    "tags": []
   },
   "outputs": [],
   "source": [
    "print(sod.flag_outliers_lof_test.__doc__)\n",
    "sod.flag_outliers_lof_test(n_neighbors=None, contamination=0.005, showplot=True, verbose=True)"
   ]
  },
  {
   "cell_type": "code",
   "execution_count": null,
   "id": "04227e53-eab3-4cf1-b2aa-2648786b4316",
   "metadata": {
    "tags": []
   },
   "outputs": [],
   "source": [
    "sod.addflag()"
   ]
  },
  {
   "cell_type": "markdown",
   "id": "db8a69b9-cbbc-41e6-a203-cace4430d61b",
   "metadata": {},
   "source": [
    "</br>"
   ]
  },
  {
   "cell_type": "markdown",
   "id": "8293502d-7153-45a4-b09f-a395bea39d61",
   "metadata": {},
   "source": [
    "</br>"
   ]
  },
  {
   "cell_type": "markdown",
   "id": "567e7197-7447-46f8-89c4-9e6b9bbd815a",
   "metadata": {},
   "source": [
    "## Flag, outlier detection: **Local outlier factor, daytime/nighttime**"
   ]
  },
  {
   "cell_type": "code",
   "execution_count": null,
   "id": "85217430-2ce9-49bb-909f-32bb4b7732f9",
   "metadata": {
    "tags": []
   },
   "outputs": [],
   "source": [
    "print(sod.flag_outliers_lof_dtnt_test.__doc__)\n",
    "sod.flag_outliers_lof_dtnt_test(n_neighbors=None, contamination=0.0005, showplot=True, verbose=True)"
   ]
  },
  {
   "cell_type": "code",
   "execution_count": null,
   "id": "5c6edcc7-1ac3-4be1-995b-a95216b57be6",
   "metadata": {
    "tags": []
   },
   "outputs": [],
   "source": [
    "sod.addflag()"
   ]
  },
  {
   "cell_type": "markdown",
   "id": "9dd1d15b-60fa-4d7a-8c58-c7fe54bffb85",
   "metadata": {},
   "source": [
    "</br>"
   ]
  },
  {
   "cell_type": "markdown",
   "id": "2ce7999d-e76b-4fc5-8f53-189870ff4067",
   "metadata": {},
   "source": [
    "</br>"
   ]
  },
  {
   "cell_type": "markdown",
   "id": "dd6f26a4-2493-4415-a463-bc6fc0a62779",
   "metadata": {},
   "source": [
    "## Show outlier-cleaned flux"
   ]
  },
  {
   "cell_type": "code",
   "execution_count": null,
   "id": "eb5e3849-ce24-466e-9d7d-06ce36d70c37",
   "metadata": {
    "tags": []
   },
   "outputs": [],
   "source": [
    "# sod.showplot_cleaned(interactive=True)\n",
    "sod.showplot_cleaned(interactive=False)"
   ]
  },
  {
   "cell_type": "markdown",
   "id": "7463a434-06a7-4210-8170-09474535ce7c",
   "metadata": {},
   "source": [
    "</br>"
   ]
  },
  {
   "cell_type": "markdown",
   "id": "2b9c257b-ee34-42b5-b0f0-0811c01d56ae",
   "metadata": {},
   "source": [
    "</br>"
   ]
  },
  {
   "cell_type": "markdown",
   "id": "d388cf7f-633d-41ab-bb17-9de976d50690",
   "metadata": {},
   "source": [
    "## Finalize outlier detection: **Collect all flags**"
   ]
  },
  {
   "cell_type": "code",
   "execution_count": null,
   "id": "de58b632-b7f2-4b91-91b6-6c80daba3344",
   "metadata": {
    "tags": []
   },
   "outputs": [],
   "source": [
    "df_level32 = sod.get()"
   ]
  },
  {
   "cell_type": "markdown",
   "id": "7e26a7ef-5cd8-4376-b27a-6e52d30f4d88",
   "metadata": {},
   "source": [
    "</br>"
   ]
  },
  {
   "cell_type": "markdown",
   "id": "ecf0af74-18cb-4992-af71-e84ec96e2bb6",
   "metadata": {},
   "source": [
    "## Generate `QCF`, needed for Level-3.3"
   ]
  },
  {
   "cell_type": "code",
   "execution_count": null,
   "id": "15e3362e-1594-4a29-8bcf-9c4c0009ec81",
   "metadata": {
    "tags": []
   },
   "outputs": [],
   "source": [
    "qcf = FlagQCF(series=df_level32[FLUXVAR31], df=df_level32, levelid='L3.2', swinpot=df_level32['SW_IN_POT'], nighttime_threshold=50)\n",
    "qcf.calculate(daytime_accept_qcf_below=2, nighttimetime_accept_qcf_below=2)\n",
    "df_level32_qcf = qcf.get()"
   ]
  },
  {
   "cell_type": "code",
   "execution_count": null,
   "id": "d540b7b6-3304-48d6-819a-5e6db588ab3e",
   "metadata": {
    "tags": []
   },
   "outputs": [],
   "source": [
    "qcf.report_qcf_evolution()"
   ]
  },
  {
   "cell_type": "code",
   "execution_count": null,
   "id": "3e941dc6-4f31-4235-be2b-4098b9df4e49",
   "metadata": {
    "tags": []
   },
   "outputs": [],
   "source": [
    "qcf.showplot_qcf_heatmaps()"
   ]
  },
  {
   "cell_type": "code",
   "execution_count": null,
   "id": "cf34b13e-34c9-4d38-9a90-50108ffbdb7f",
   "metadata": {
    "tags": []
   },
   "outputs": [],
   "source": [
    "qcf.report_qcf_series()"
   ]
  },
  {
   "cell_type": "code",
   "execution_count": null,
   "id": "d07510e0-cb27-42e7-b879-61b545947569",
   "metadata": {
    "tags": []
   },
   "outputs": [],
   "source": [
    "qcf.report_qcf_flags()"
   ]
  },
  {
   "cell_type": "code",
   "execution_count": null,
   "id": "637c2a50-f3c1-434f-a0c8-8ffdde91e62b",
   "metadata": {
    "tags": []
   },
   "outputs": [],
   "source": [
    "qcf.showplot_qcf_timeseries()"
   ]
  },
  {
   "cell_type": "markdown",
   "id": "f0deafe1-5b73-45dd-836c-70d19bdc4e6b",
   "metadata": {},
   "source": [
    "</br>"
   ]
  },
  {
   "cell_type": "markdown",
   "id": "ab437964-2fa4-4e5d-8a34-0daba68d71b8",
   "metadata": {},
   "source": [
    "## Available `Level-3.2` variables after preliminary QCF\n",
    "- This shows all available Level-3.2 variables, also the ones created previously for other fluxes"
   ]
  },
  {
   "cell_type": "code",
   "execution_count": null,
   "id": "e5fddd5d-55f0-4dba-bfeb-89de849ed608",
   "metadata": {
    "tags": []
   },
   "outputs": [],
   "source": [
    "_vars = [print(x) for x in df_level32_qcf.columns if 'L3.2' in x]\n",
    "FLUXVAR32QCF = f\"{FLUXVAR31}_L3.2_QCF\"  # Quality-controlled flux after Level-3.2\n",
    "print(f\"\\nName of the storage-corrected and quality-controlled flux variable after Level-3.2:  {FLUXVAR32QCF}\")"
   ]
  },
  {
   "cell_type": "markdown",
   "id": "5ce907d7-3d76-411c-b347-9da6efca4478",
   "metadata": {},
   "source": [
    "</br>"
   ]
  },
  {
   "cell_type": "markdown",
   "id": "5af2bb96-7778-4539-a20f-6380fa17f461",
   "metadata": {},
   "source": [
    "## Plot quality-controlled flux after `Level-3.2`\n",
    "- Plot flux after storage-correction, flux quality control and outlier removal"
   ]
  },
  {
   "cell_type": "code",
   "execution_count": null,
   "id": "8894f3ec-b395-4d63-970a-77286e85909b",
   "metadata": {
    "tags": []
   },
   "outputs": [],
   "source": [
    "# TimeSeries(series=df_level32_qcf[FLUXVAR32QCF]).plot_interactive()\n",
    "TimeSeries(series=df_level32_qcf[FLUXVAR32QCF]).plot()"
   ]
  },
  {
   "cell_type": "code",
   "execution_count": null,
   "id": "be6fd025-fae3-4c46-80ea-211eeabf579a",
   "metadata": {
    "tags": []
   },
   "outputs": [],
   "source": [
    "# Creating a dictionary by passing Series objects as values\n",
    "frame = {\n",
    "    f'original ({FLUXVAR})': df_level32_qcf[FLUXVAR],\n",
    "    f'+ storage correction + flux quality flags ({FLUXVAR31QCF})': df_level32_qcf[FLUXVAR31QCF],    \n",
    "    f'+ storage correction + flux quality flags + outlier removal ({FLUXVAR32QCF})': df_level32_qcf[FLUXVAR32QCF]\n",
    "}\n",
    "\n",
    "overview = pd.DataFrame(frame)\n",
    "overview.cumsum().plot(title=f\"Cumulative\", figsize=(12, 6));"
   ]
  },
  {
   "cell_type": "markdown",
   "id": "e1d6ab64-47d9-479c-8d33-2c9a1bc8f720",
   "metadata": {},
   "source": [
    "</br>"
   ]
  },
  {
   "cell_type": "markdown",
   "id": "de08ab8e-17e9-44df-9707-8b78997eb5ef",
   "metadata": {},
   "source": [
    "# **Overview after `Level-3.2`**"
   ]
  },
  {
   "cell_type": "markdown",
   "id": "fad7e30a-9b3f-43fb-a37f-736af5ad69a1",
   "metadata": {},
   "source": [
    "## Available `Level-3.2` fluxes"
   ]
  },
  {
   "cell_type": "code",
   "execution_count": null,
   "id": "916ca1a1-7ac4-4157-b99d-aa10b12a4534",
   "metadata": {
    "tags": []
   },
   "outputs": [],
   "source": [
    "_fluxcols = [x for x in df_level32_qcf.columns if 'L3.1' and 'L3.2' in x and str(x).endswith('_QCF') and not str(x).startswith('FLAG_') ]\n",
    "_fluxcols"
   ]
  },
  {
   "cell_type": "code",
   "execution_count": null,
   "id": "ef76ddef-fb80-4ad6-80d3-ff8436a8deee",
   "metadata": {
    "tags": []
   },
   "outputs": [],
   "source": [
    "_subset = df_level32_qcf[_fluxcols]\n",
    "_subset"
   ]
  },
  {
   "cell_type": "code",
   "execution_count": null,
   "id": "83fa64b4-3025-4f9c-bc4b-79d7a06d35b3",
   "metadata": {
    "tags": []
   },
   "outputs": [],
   "source": [
    "_subset.plot(subplots=True, title=\"Available Level-3.2 fluxes after application of all quality checks (so far)\", figsize=(12, 4.5));"
   ]
  },
  {
   "cell_type": "code",
   "execution_count": null,
   "id": "c0ba67ca-f60f-4415-9898-8f2dd70a865b",
   "metadata": {},
   "outputs": [],
   "source": [
    "boxplots_df = df_level32_qcf[[FLUXVAR32QCF, \"NIGHT\"]].copy()\n",
    "boxplots_df[\"MONTH\"] = boxplots_df.index.month\n",
    "boxplots_df"
   ]
  },
  {
   "cell_type": "code",
   "execution_count": null,
   "id": "80690a1f-b75a-423a-9206-b26d2fcdd5e4",
   "metadata": {},
   "outputs": [],
   "source": [
    "# Draw boxplots\n",
    "sns.set_theme(style=\"ticks\", palette=\"pastel\")\n",
    "sns.boxplot(x=\"MONTH\", y=FLUXVAR32QCF, palette=[\"r\", \"b\"], hue=\"NIGHT\", data=boxplots_df)\n",
    "sns.despine(offset=10, trim=True)\n",
    "plt.axhline(0, color=\"black\");"
   ]
  },
  {
   "cell_type": "code",
   "execution_count": null,
   "id": "0f5857da-7b5a-4251-b55d-ca90f6e13eae",
   "metadata": {},
   "outputs": [],
   "source": [
    "# Draw a nested violinplot and split the violins for easier comparison\n",
    "sns.violinplot(data=boxplots_df, x=\"MONTH\", y=FLUXVAR32QCF, hue=\"NIGHT\", split=True, palette=[\"r\", \"b\"]);\n",
    "plt.axhline(0, color=\"black\");"
   ]
  },
  {
   "cell_type": "markdown",
   "id": "e9d1dd7e-1cd5-4222-9ba4-bcee22ad7553",
   "metadata": {},
   "source": [
    "</br>"
   ]
  },
  {
   "cell_type": "markdown",
   "id": "e8b2fca3-dbba-4d4f-a3ad-00017ce5a4dc",
   "metadata": {},
   "source": [
    "# **Save results to file**\n",
    "- Save results to file for futher processing\n",
    "- This can be useful if you want to use the data in another software, e.g. continuing post-processing using the library `ReddyProc` in `R` \n",
    "- `Parquet` format is recommended for large datasets"
   ]
  },
  {
   "cell_type": "markdown",
   "id": "97197a7a-7d3c-45b1-83f4-6e6576dc144d",
   "metadata": {},
   "source": [
    "## Option 1: Save to CSV (large and slow)"
   ]
  },
  {
   "cell_type": "code",
   "execution_count": null,
   "id": "a8c27896-f289-4e08-b042-26631f831d38",
   "metadata": {
    "tags": []
   },
   "outputs": [],
   "source": [
    "df_level32_qcf.to_csv(\"mylovelyhorse.csv\")"
   ]
  },
  {
   "cell_type": "markdown",
   "id": "be8ff7f9-67db-4f41-991a-9fc8441b4cfb",
   "metadata": {},
   "source": [
    "## Option 2: Save to Parquet (small and fast)\n",
    "- Needed if you want to continue post-processing in notebooks\n",
    "- Can also be used in `R` with the `arrow` package"
   ]
  },
  {
   "cell_type": "code",
   "execution_count": null,
   "id": "0f40bba0-62e3-4eee-84cf-122a52856880",
   "metadata": {
    "tags": []
   },
   "outputs": [],
   "source": [
    "save_parquet(data=df_level32_qcf, filename=\"df_level32_qcf\")"
   ]
  },
  {
   "cell_type": "markdown",
   "id": "6a9f9793-49ea-4141-ab7d-26415a2e9bca",
   "metadata": {},
   "source": [
    "</br>"
   ]
  },
  {
   "cell_type": "markdown",
   "id": "cf0d5c05-fe8c-489d-907f-bccccbd039ab",
   "metadata": {},
   "source": [
    "# *(Preliminary) USTAR*"
   ]
  },
  {
   "cell_type": "markdown",
   "id": "f706dd1b-11f3-4635-bd60-c1fc2399d4d1",
   "metadata": {},
   "source": [
    "<div class=\"alert alert-block alert-danger\">\n",
    "    No USTAR filtering for: <b>H, LE, ET and FH2O.</b> \n",
    "</div>"
   ]
  },
  {
   "cell_type": "markdown",
   "id": "6f4314bd-6c3d-4aa1-898c-e8ea222546a3",
   "metadata": {},
   "source": [
    "> The USTAR filtering is not applied to H and LE, because it has not been proved that when there are CO2 advective fluxes, these also impact energy fluxes, specifically due to the fact that when advection is in general large (nighttime), energy fluxes are small.\n",
    "\n",
    "source: [Pastorello et al. (2020). The FLUXNET2015 dataset and the ONEFlux processing pipeline for eddy covariance data](https://doi.org/10.1038/s41597-020-0534-3)\n",
    "\n"
   ]
  },
  {
   "cell_type": "markdown",
   "id": "5eddb89a-966b-421e-9fb1-ee5d1a25e700",
   "metadata": {},
   "source": [
    "## *(Preliminary) Impact of different USTAR thresholds on data availability*"
   ]
  },
  {
   "cell_type": "code",
   "execution_count": null,
   "id": "f168f6c7-f1ae-4331-9141-f61d1896a70d",
   "metadata": {
    "tags": []
   },
   "outputs": [],
   "source": [
    "from diive.pkgs.flux.ustarthreshold import UstarThresholdConstantScenarios\n",
    "ust = UstarThresholdConstantScenarios(series=df_level32_qcf[FLUXVAR32QCF],\n",
    "                                      swinpot=df_level32_qcf['SW_IN_POT'],\n",
    "                                      ustar=df_level32_qcf['USTAR'])\n",
    "ust.calc(ustarthresholds=[0.05, 0.1, 0.15], showplot=True, verbose=True)"
   ]
  },
  {
   "cell_type": "markdown",
   "id": "c0239bf0-1115-4936-b738-d0d8452a8665",
   "metadata": {
    "tags": []
   },
   "source": [
    "## *(Preliminary) Apply constant USTAR threshold*\n",
    "- Use constant USTAR threshold for all data"
   ]
  },
  {
   "cell_type": "markdown",
   "id": "c697ac25-2bc2-4c75-97ea-dda7d01bca92",
   "metadata": {},
   "source": [
    "(TODO)"
   ]
  },
  {
   "cell_type": "markdown",
   "id": "62190c1b-c00e-4e0f-bc58-9181c64b8c69",
   "metadata": {},
   "source": [
    "</br>"
   ]
  },
  {
   "cell_type": "markdown",
   "id": "def56ee3-2a84-4a86-bd5b-525f0764b48d",
   "metadata": {},
   "source": [
    "# **End of notebook**\n",
    "Congratulations, you reached the end of this notebook! Before you go let's store your finish time."
   ]
  },
  {
   "cell_type": "code",
   "execution_count": null,
   "id": "e6ea09b1-a8b1-420f-9df0-44e50d69c37c",
   "metadata": {
    "tags": []
   },
   "outputs": [],
   "source": [
    "dt_string = datetime.now().strftime(\"%Y-%m-%d %H:%M:%S\")\n",
    "print(f\"Finished. {dt_string}\")"
   ]
  },
  {
   "cell_type": "code",
   "execution_count": null,
   "id": "4b50b45c-10a0-489d-b6e9-8b3d69d74303",
   "metadata": {},
   "outputs": [],
   "source": []
  }
 ],
 "metadata": {
  "kernelspec": {
   "display_name": "Python 3 (ipykernel)",
   "language": "python",
   "name": "python3"
  },
  "language_info": {
   "codemirror_mode": {
    "name": "ipython",
    "version": 3
   },
   "file_extension": ".py",
   "mimetype": "text/x-python",
   "name": "python",
   "nbconvert_exporter": "python",
   "pygments_lexer": "ipython3",
   "version": "3.9.7"
  },
  "toc-autonumbering": true,
  "toc-showcode": false,
  "toc-showmarkdowntxt": false,
  "toc-showtags": true
 },
 "nbformat": 4,
 "nbformat_minor": 5
}
