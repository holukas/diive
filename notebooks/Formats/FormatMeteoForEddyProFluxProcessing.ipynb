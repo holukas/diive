{
 "cells": [
  {
   "cell_type": "markdown",
   "metadata": {},
   "source": [
    "![lop](../../images/logo_diive1_128px.png)"
   ]
  },
  {
   "cell_type": "markdown",
   "metadata": {},
   "source": [
    "<span style='font-size:32px; display:block;'>\n",
    "<b>\n",
    "    Format meteo data for EddyPro flux processing\n",
    "</b>\n",
    "</span>"
   ]
  },
  {
   "cell_type": "markdown",
   "metadata": {},
   "source": [
    "---\n",
    "**Notebook version**: `1` (24 Feb 2025)  \n",
    "**Author**: Lukas Hörtnagl (holukas@ethz.ch)  "
   ]
  },
  {
   "cell_type": "markdown",
   "metadata": {},
   "source": [
    "</br>"
   ]
  },
  {
   "cell_type": "markdown",
   "metadata": {},
   "source": [
    "# **Background**"
   ]
  },
  {
   "cell_type": "markdown",
   "metadata": {},
   "source": [
    "- Formats meteo data to be used in EddyPro flux processing\n",
    "\n",
    "More info:\n",
    "- [EddyPro help: Supported biomet file formats](https://www.licor.com/support/EddyPro/topics/biomet-data-format.html)"
   ]
  },
  {
   "cell_type": "markdown",
   "metadata": {},
   "source": [
    "</br>"
   ]
  },
  {
   "cell_type": "markdown",
   "metadata": {},
   "source": [
    "# **Settings**"
   ]
  },
  {
   "cell_type": "markdown",
   "metadata": {},
   "source": [
    "## Variables"
   ]
  },
  {
   "cell_type": "code",
   "execution_count": 1,
   "metadata": {},
   "outputs": [],
   "source": [
    "# Name of the variables in the original data file\n",
    "SW_IN = 'SW_IN_T1_1_1'\n",
    "RH = 'RH_T1_2_1'\n",
    "PPFD_IN = 'PPFD_IN_T1_2_1'\n",
    "LW_IN = 'LW_IN_T1_1_1'\n",
    "TA = 'TA_T1_2_1'\n",
    "# PA = None  # Not available for this site\n",
    "\n",
    "# Rename original variables for EddyPro, and add units\n",
    "rename_dict = {\n",
    "    TA: ('Ta_1_1_1', 'C'),\n",
    "    SW_IN: ('Rg_1_1_1', 'W+1m-2'),\n",
    "    RH: ('RH_1_1_1', '%'),\n",
    "    LW_IN: ('Lwin_1_1_1', 'W+1m-2'),\n",
    "    # PA: ('Pa_1_1_1', 'kPa),\n",
    "    PPFD_IN: ('PPFD_1_1_1', 'umol+1m-2s-1'),\n",
    "}"
   ]
  },
  {
   "cell_type": "markdown",
   "metadata": {},
   "source": [
    "## Database settings (used for example data)"
   ]
  },
  {
   "cell_type": "code",
   "execution_count": 2,
   "metadata": {},
   "outputs": [],
   "source": [
    "# Settings for database download\n",
    "SITE = 'ch-fru'  # Site name\n",
    "START = '2024-01-01 00:01:00'  # Download data starting with this date\n",
    "STOP = '2024-02-01 00:01:00'  # Download data before this date (the stop date itself is not included)\n",
    "MEASUREMENTS = ['TA', 'RH', 'SW', 'PPFD', 'LW']  # No PA in this example\n",
    "FIELDS = [TA, RH, SW_IN, LW_IN, PPFD_IN]  # No PA in this example\n",
    "TIMEZONE_OFFSET_TO_UTC_HOURS = 1  # Timezone, e.g. \"1\" is translated to timezone \"UTC+01:00\" (CET, winter time)\n",
    "data_version = \"meteoscreening_diive\"\n",
    "DIRCONF = r'F:\\Sync\\luhk_work\\20 - CODING\\22 - POET\\configs'"
   ]
  },
  {
   "cell_type": "markdown",
   "metadata": {},
   "source": [
    "</br>"
   ]
  },
  {
   "cell_type": "markdown",
   "metadata": {},
   "source": [
    "# **Imports**"
   ]
  },
  {
   "cell_type": "code",
   "execution_count": 3,
   "metadata": {
    "ExecuteTime": {
     "end_time": "2024-08-22T13:58:42.635066Z",
     "start_time": "2024-08-22T13:58:42.619110Z"
    },
    "is_executing": true,
    "tags": []
   },
   "outputs": [
    {
     "name": "stdout",
     "output_type": "stream",
     "text": [
      "diive version: v0.85.6\n"
     ]
    }
   ],
   "source": [
    "import importlib.metadata\n",
    "import warnings\n",
    "from datetime import datetime\n",
    "\n",
    "import matplotlib.gridspec as gridspec\n",
    "import matplotlib.pyplot as plt\n",
    "import numpy as np\n",
    "\n",
    "from dbc_influxdb import dbcInflux\n",
    "\n",
    "from diive.core.plotting.heatmap_datetime import HeatmapDateTime  # For plotting heatmaps\n",
    "from diive.core.plotting.timeseries import TimeSeries  # For simple (interactive) time series plotting\n",
    "from diive.pkgs.formats.meteo import FormatMeteoForEddyProProcessing  # Class to format output files for upload\n",
    "\n",
    "warnings.filterwarnings(action='ignore', category=FutureWarning)\n",
    "warnings.filterwarnings(action='ignore', category=UserWarning)\n",
    "\n",
    "version_diive = importlib.metadata.version(\"diive\")\n",
    "print(f\"diive version: v{version_diive}\")"
   ]
  },
  {
   "cell_type": "markdown",
   "metadata": {},
   "source": [
    "</br>"
   ]
  },
  {
   "cell_type": "markdown",
   "metadata": {},
   "source": [
    "# **Docstring**"
   ]
  },
  {
   "cell_type": "code",
   "execution_count": 4,
   "metadata": {
    "ExecuteTime": {
     "end_time": "2024-08-22T13:58:42.698525Z",
     "start_time": "2024-08-22T13:58:42.678588Z"
    }
   },
   "outputs": [],
   "source": [
    "# help(FormatMeteoForEddyProProcessing)"
   ]
  },
  {
   "cell_type": "markdown",
   "metadata": {},
   "source": [
    "</br>"
   ]
  },
  {
   "cell_type": "markdown",
   "metadata": {},
   "source": [
    "# **Load example data**\n",
    "- This example uses data from a database."
   ]
  },
  {
   "cell_type": "code",
   "execution_count": 5,
   "metadata": {},
   "outputs": [
    {
     "name": "stdout",
     "output_type": "stream",
     "text": [
      "Reading configuration files was successful.\n",
      "Connection to database works.\n",
      "\n",
      "DOWNLOADING\n",
      "    from bucket ch-fru_processed\n",
      "    variables ['TA_T1_2_1', 'RH_T1_2_1', 'SW_IN_T1_1_1', 'LW_IN_T1_1_1', 'PPFD_IN_T1_2_1']\n",
      "    from measurements ['TA', 'RH', 'SW', 'PPFD', 'LW']\n",
      "    from data version meteoscreening_diive\n",
      "    between 2024-01-01 00:01:00 and 2024-02-01 00:01:00\n",
      "    with timezone offset to UTC of 1\n",
      "Used querystring: from(bucket: \"ch-fru_processed\") |> range(start: 2024-01-01T00:01:00+01:00, stop: 2024-02-01T00:01:00+01:00) |> filter(fn: (r) => r[\"_measurement\"] == \"TA\" or r[\"_measurement\"] == \"RH\" or r[\"_measurement\"] == \"SW\" or r[\"_measurement\"] == \"PPFD\" or r[\"_measurement\"] == \"LW\") |> filter(fn: (r) => r[\"data_version\"] == \"meteoscreening_diive\") |> filter(fn: (r) => r[\"_field\"] == \"TA_T1_2_1\" or r[\"_field\"] == \"RH_T1_2_1\" or r[\"_field\"] == \"SW_IN_T1_1_1\" or r[\"_field\"] == \"LW_IN_T1_1_1\" or r[\"_field\"] == \"PPFD_IN_T1_2_1\") |> pivot(rowKey:[\"_time\"], columnKey: [\"_field\"], valueColumn: \"_value\")\n",
      "querystring was constructed from:\n",
      "    bucketstring: from(bucket: \"ch-fru_processed\")\n",
      "    rangestring: |> range(start: 2024-01-01T00:01:00+01:00, stop: 2024-02-01T00:01:00+01:00)\n",
      "    measurementstring: |> filter(fn: (r) => r[\"_measurement\"] == \"TA\" or r[\"_measurement\"] == \"RH\" or r[\"_measurement\"] == \"SW\" or r[\"_measurement\"] == \"PPFD\" or r[\"_measurement\"] == \"LW\")\n",
      "    dataversionstring: |> filter(fn: (r) => r[\"data_version\"] == \"meteoscreening_diive\")\n",
      "    fieldstring: |> filter(fn: (r) => r[\"_field\"] == \"TA_T1_2_1\" or r[\"_field\"] == \"RH_T1_2_1\" or r[\"_field\"] == \"SW_IN_T1_1_1\" or r[\"_field\"] == \"LW_IN_T1_1_1\" or r[\"_field\"] == \"PPFD_IN_T1_2_1\")\n",
      "    pivotstring: |> pivot(rowKey:[\"_time\"], columnKey: [\"_field\"], valueColumn: \"_value\")\n",
      "Download finished.\n",
      "Downloaded data for 5 variables:\n",
      "<-- LW_IN_T1_1_1  (1205 records)  first date: 2024-01-01 00:30:00  last date: 2024-02-01 00:00:00\n",
      "<-- PPFD_IN_T1_2_1  (1389 records)  first date: 2024-01-01 00:30:00  last date: 2024-02-01 00:00:00\n",
      "<-- RH_T1_2_1  (1205 records)  first date: 2024-01-01 00:30:00  last date: 2024-02-01 00:00:00\n",
      "<-- SW_IN_T1_1_1  (1389 records)  first date: 2024-01-01 00:30:00  last date: 2024-02-01 00:00:00\n",
      "<-- TA_T1_2_1  (1205 records)  first date: 2024-01-01 00:30:00  last date: 2024-02-01 00:00:00\n",
      "========================================\n",
      "Fields in measurement TA of bucket ch-fru_processed:\n",
      "#1  ch-fru_processed  TA  TA_EP\n",
      "#2  ch-fru_processed  TA  TA_ERA\n",
      "#3  ch-fru_processed  TA  TA_F\n",
      "#4  ch-fru_processed  TA  TA_F_MDS\n",
      "#5  ch-fru_processed  TA  TA_F_MDS_QC\n",
      "#6  ch-fru_processed  TA  TA_F_QC\n",
      "#7  ch-fru_processed  TA  TA_T1_2_1\n",
      "#8  ch-fru_processed  TA  T_SONIC\n",
      "Found 8 fields in measurement TA of bucket ch-fru_processed.\n",
      "========================================\n",
      "========================================\n",
      "Fields in measurement RH of bucket ch-fru_processed:\n",
      "#1  ch-fru_processed  RH  RH\n",
      "#2  ch-fru_processed  RH  RH_EP\n",
      "#3  ch-fru_processed  RH  RH_T1_2_1\n",
      "Found 3 fields in measurement RH of bucket ch-fru_processed.\n",
      "========================================\n",
      "========================================\n",
      "Fields in measurement SW of bucket ch-fru_processed:\n",
      "#1  ch-fru_processed  SW  NIGHT\n",
      "#2  ch-fru_processed  SW  SW_IN_ERA\n",
      "#3  ch-fru_processed  SW  SW_IN_F\n",
      "#4  ch-fru_processed  SW  SW_IN_F_MDS\n",
      "#5  ch-fru_processed  SW  SW_IN_F_MDS_QC\n",
      "#6  ch-fru_processed  SW  SW_IN_F_QC\n",
      "#7  ch-fru_processed  SW  SW_IN_POT\n",
      "#8  ch-fru_processed  SW  SW_IN_T1_1_1\n",
      "#9  ch-fru_processed  SW  SW_OUT\n",
      "#10  ch-fru_processed  SW  SW_OUT_T1_1_1\n",
      "Found 10 fields in measurement SW of bucket ch-fru_processed.\n",
      "========================================\n",
      "========================================\n",
      "Fields in measurement PPFD of bucket ch-fru_processed:\n",
      "#1  ch-fru_processed  PPFD  PPFD_IN\n",
      "#2  ch-fru_processed  PPFD  PPFD_IN_T1_2_1\n",
      "#3  ch-fru_processed  PPFD  PPFD_OUT_T1_2_1\n",
      "Found 3 fields in measurement PPFD of bucket ch-fru_processed.\n",
      "========================================\n",
      "========================================\n",
      "Fields in measurement LW of bucket ch-fru_processed:\n",
      "#1  ch-fru_processed  LW  LW_IN_ERA\n",
      "#2  ch-fru_processed  LW  LW_IN_F\n",
      "#3  ch-fru_processed  LW  LW_IN_F_MDS\n",
      "#4  ch-fru_processed  LW  LW_IN_F_MDS_QC\n",
      "#5  ch-fru_processed  LW  LW_IN_F_QC\n",
      "#6  ch-fru_processed  LW  LW_IN_JSB\n",
      "#7  ch-fru_processed  LW  LW_IN_JSB_ERA\n",
      "#8  ch-fru_processed  LW  LW_IN_JSB_F\n",
      "#9  ch-fru_processed  LW  LW_IN_JSB_F_QC\n",
      "#10  ch-fru_processed  LW  LW_IN_JSB_QC\n",
      "#11  ch-fru_processed  LW  LW_IN_T1_1_1\n",
      "#12  ch-fru_processed  LW  LW_OUT_T1_1_1\n",
      "Found 12 fields in measurement LW of bucket ch-fru_processed.\n",
      "========================================\n"
     ]
    }
   ],
   "source": [
    "dbc = dbcInflux(dirconf=DIRCONF)\n",
    "df, _, _ = \\\n",
    "    dbc.download(bucket=f'{SITE}_processed',\n",
    "                 measurements=MEASUREMENTS,\n",
    "                 fields=FIELDS,\n",
    "                 start=START,\n",
    "                 stop=STOP,\n",
    "                 timezone_offset_to_utc_hours=TIMEZONE_OFFSET_TO_UTC_HOURS,\n",
    "                 data_version='meteoscreening_diive')"
   ]
  },
  {
   "cell_type": "markdown",
   "metadata": {},
   "source": [
    "The dataframe with original data looks like this:"
   ]
  },
  {
   "cell_type": "code",
   "execution_count": 6,
   "metadata": {},
   "outputs": [
    {
     "data": {
      "text/html": [
       "<div>\n",
       "<style scoped>\n",
       "    .dataframe tbody tr th:only-of-type {\n",
       "        vertical-align: middle;\n",
       "    }\n",
       "\n",
       "    .dataframe tbody tr th {\n",
       "        vertical-align: top;\n",
       "    }\n",
       "\n",
       "    .dataframe thead th {\n",
       "        text-align: right;\n",
       "    }\n",
       "</style>\n",
       "<table border=\"1\" class=\"dataframe\">\n",
       "  <thead>\n",
       "    <tr style=\"text-align: right;\">\n",
       "      <th></th>\n",
       "      <th>LW_IN_T1_1_1</th>\n",
       "      <th>PPFD_IN_T1_2_1</th>\n",
       "      <th>RH_T1_2_1</th>\n",
       "      <th>SW_IN_T1_1_1</th>\n",
       "      <th>TA_T1_2_1</th>\n",
       "    </tr>\n",
       "    <tr>\n",
       "      <th>TIMESTAMP_END</th>\n",
       "      <th></th>\n",
       "      <th></th>\n",
       "      <th></th>\n",
       "      <th></th>\n",
       "      <th></th>\n",
       "    </tr>\n",
       "  </thead>\n",
       "  <tbody>\n",
       "    <tr>\n",
       "      <th>2024-01-01 00:30:00</th>\n",
       "      <td>298.680643</td>\n",
       "      <td>0.0</td>\n",
       "      <td>99.997990</td>\n",
       "      <td>0.0</td>\n",
       "      <td>0.063089</td>\n",
       "    </tr>\n",
       "    <tr>\n",
       "      <th>2024-01-01 01:00:00</th>\n",
       "      <td>269.906123</td>\n",
       "      <td>0.0</td>\n",
       "      <td>98.689082</td>\n",
       "      <td>0.0</td>\n",
       "      <td>0.365761</td>\n",
       "    </tr>\n",
       "    <tr>\n",
       "      <th>2024-01-01 01:30:00</th>\n",
       "      <td>241.274010</td>\n",
       "      <td>0.0</td>\n",
       "      <td>95.548050</td>\n",
       "      <td>0.0</td>\n",
       "      <td>0.326444</td>\n",
       "    </tr>\n",
       "    <tr>\n",
       "      <th>2024-01-01 02:00:00</th>\n",
       "      <td>228.099020</td>\n",
       "      <td>0.0</td>\n",
       "      <td>89.946188</td>\n",
       "      <td>0.0</td>\n",
       "      <td>0.767750</td>\n",
       "    </tr>\n",
       "    <tr>\n",
       "      <th>2024-01-01 02:30:00</th>\n",
       "      <td>251.443823</td>\n",
       "      <td>0.0</td>\n",
       "      <td>85.651175</td>\n",
       "      <td>0.0</td>\n",
       "      <td>1.136206</td>\n",
       "    </tr>\n",
       "    <tr>\n",
       "      <th>...</th>\n",
       "      <td>...</td>\n",
       "      <td>...</td>\n",
       "      <td>...</td>\n",
       "      <td>...</td>\n",
       "      <td>...</td>\n",
       "    </tr>\n",
       "    <tr>\n",
       "      <th>2024-01-31 22:00:00</th>\n",
       "      <td>243.446680</td>\n",
       "      <td>0.0</td>\n",
       "      <td>68.076216</td>\n",
       "      <td>0.0</td>\n",
       "      <td>2.878339</td>\n",
       "    </tr>\n",
       "    <tr>\n",
       "      <th>2024-01-31 22:30:00</th>\n",
       "      <td>243.958657</td>\n",
       "      <td>0.0</td>\n",
       "      <td>68.221826</td>\n",
       "      <td>0.0</td>\n",
       "      <td>2.901994</td>\n",
       "    </tr>\n",
       "    <tr>\n",
       "      <th>2024-01-31 23:00:00</th>\n",
       "      <td>245.087567</td>\n",
       "      <td>0.0</td>\n",
       "      <td>69.436327</td>\n",
       "      <td>0.0</td>\n",
       "      <td>2.463166</td>\n",
       "    </tr>\n",
       "    <tr>\n",
       "      <th>2024-01-31 23:30:00</th>\n",
       "      <td>247.150223</td>\n",
       "      <td>0.0</td>\n",
       "      <td>65.885408</td>\n",
       "      <td>0.0</td>\n",
       "      <td>3.031844</td>\n",
       "    </tr>\n",
       "    <tr>\n",
       "      <th>2024-02-01 00:00:00</th>\n",
       "      <td>245.751360</td>\n",
       "      <td>0.0</td>\n",
       "      <td>65.322848</td>\n",
       "      <td>0.0</td>\n",
       "      <td>3.107906</td>\n",
       "    </tr>\n",
       "  </tbody>\n",
       "</table>\n",
       "<p>1389 rows × 5 columns</p>\n",
       "</div>"
      ],
      "text/plain": [
       "                     LW_IN_T1_1_1  PPFD_IN_T1_2_1  RH_T1_2_1  SW_IN_T1_1_1  TA_T1_2_1\n",
       "TIMESTAMP_END                                                                        \n",
       "2024-01-01 00:30:00    298.680643             0.0  99.997990           0.0   0.063089\n",
       "2024-01-01 01:00:00    269.906123             0.0  98.689082           0.0   0.365761\n",
       "2024-01-01 01:30:00    241.274010             0.0  95.548050           0.0   0.326444\n",
       "2024-01-01 02:00:00    228.099020             0.0  89.946188           0.0   0.767750\n",
       "2024-01-01 02:30:00    251.443823             0.0  85.651175           0.0   1.136206\n",
       "...                           ...             ...        ...           ...        ...\n",
       "2024-01-31 22:00:00    243.446680             0.0  68.076216           0.0   2.878339\n",
       "2024-01-31 22:30:00    243.958657             0.0  68.221826           0.0   2.901994\n",
       "2024-01-31 23:00:00    245.087567             0.0  69.436327           0.0   2.463166\n",
       "2024-01-31 23:30:00    247.150223             0.0  65.885408           0.0   3.031844\n",
       "2024-02-01 00:00:00    245.751360             0.0  65.322848           0.0   3.107906\n",
       "\n",
       "[1389 rows x 5 columns]"
      ]
     },
     "execution_count": 6,
     "metadata": {},
     "output_type": "execute_result"
    }
   ],
   "source": [
    "df"
   ]
  },
  {
   "cell_type": "markdown",
   "metadata": {},
   "source": [
    "</br>"
   ]
  },
  {
   "cell_type": "markdown",
   "metadata": {},
   "source": [
    "# **Format data**"
   ]
  },
  {
   "cell_type": "code",
   "execution_count": 7,
   "metadata": {},
   "outputs": [
    {
     "name": "stdout",
     "output_type": "stream",
     "text": [
      "\n",
      "Sanitizing timestamp ...\n",
      ">>> Validating timestamp naming of timestamp column TIMESTAMP_END ... Timestamp name OK.\n",
      ">>> Converting timestamp TIMESTAMP_END to datetime ... OK\n",
      ">>> All rows have timestamp TIMESTAMP_END, no rows removed.\n",
      ">>> Sorting timestamp TIMESTAMP_END ascending ...\n",
      ">>> Removing data records with duplicate indexes ... OK (no duplicates found in timestamp index)\n",
      "Detecting time resolution from timestamp TIMESTAMP_END ... OK\n",
      "   Detected 30min time resolution with HIGH confidence.\n",
      "   Resolution detected from most frequent timestep (timedelta):\n",
      "       from full data = None / -failed- (not used)\n",
      "       from timedelta = 30min / 99% occurrence (OK)\n",
      "       from progressive = 30min / data 312+312 (not used)\n",
      "\n",
      ">>> Creating continuous 30min timestamp index for timestamp TIMESTAMP_END between 2024-01-01 00:30:00 and 2024-02-01 00:00:00 ...\n",
      "Splitting timestamp into two separate columns ('TIMESTAMP_1', 'yyyy-mm-dd') and ('TIMSTAMP_2', 'HH:MM')\n",
      "Filling missing values with -9999 ...\n",
      "Renaming columns ...\n"
     ]
    }
   ],
   "source": [
    "f = FormatMeteoForEddyProProcessing(\n",
    "    df=df,\n",
    "    cols=rename_dict\n",
    ")\n",
    "f.run()"
   ]
  },
  {
   "cell_type": "code",
   "execution_count": 8,
   "metadata": {},
   "outputs": [
    {
     "data": {
      "text/html": [
       "<div>\n",
       "<style scoped>\n",
       "    .dataframe tbody tr th:only-of-type {\n",
       "        vertical-align: middle;\n",
       "    }\n",
       "\n",
       "    .dataframe tbody tr th {\n",
       "        vertical-align: top;\n",
       "    }\n",
       "\n",
       "    .dataframe thead tr th {\n",
       "        text-align: left;\n",
       "    }\n",
       "\n",
       "    .dataframe thead tr:last-of-type th {\n",
       "        text-align: right;\n",
       "    }\n",
       "</style>\n",
       "<table border=\"1\" class=\"dataframe\">\n",
       "  <thead>\n",
       "    <tr>\n",
       "      <th></th>\n",
       "      <th>TIMESTAMP_1</th>\n",
       "      <th>TIMSTAMP_2</th>\n",
       "      <th>Lwin_1_1_1</th>\n",
       "      <th>PPFD_1_1_1</th>\n",
       "      <th>RH_1_1_1</th>\n",
       "      <th>Rg_1_1_1</th>\n",
       "      <th>Ta_1_1_1</th>\n",
       "    </tr>\n",
       "    <tr>\n",
       "      <th></th>\n",
       "      <th>yyyy-mm-dd</th>\n",
       "      <th>HH:MM</th>\n",
       "      <th>W+1m-2</th>\n",
       "      <th>umol+1m-2s-1</th>\n",
       "      <th>%</th>\n",
       "      <th>W+1m-2</th>\n",
       "      <th>C</th>\n",
       "    </tr>\n",
       "    <tr>\n",
       "      <th>TIMESTAMP_END</th>\n",
       "      <th></th>\n",
       "      <th></th>\n",
       "      <th></th>\n",
       "      <th></th>\n",
       "      <th></th>\n",
       "      <th></th>\n",
       "      <th></th>\n",
       "    </tr>\n",
       "  </thead>\n",
       "  <tbody>\n",
       "    <tr>\n",
       "      <th>2024-01-01 00:30:00</th>\n",
       "      <td>2024-01-01</td>\n",
       "      <td>00:30</td>\n",
       "      <td>298.680643</td>\n",
       "      <td>0.0</td>\n",
       "      <td>99.997990</td>\n",
       "      <td>0.0</td>\n",
       "      <td>0.063089</td>\n",
       "    </tr>\n",
       "    <tr>\n",
       "      <th>2024-01-01 01:00:00</th>\n",
       "      <td>2024-01-01</td>\n",
       "      <td>01:00</td>\n",
       "      <td>269.906123</td>\n",
       "      <td>0.0</td>\n",
       "      <td>98.689082</td>\n",
       "      <td>0.0</td>\n",
       "      <td>0.365761</td>\n",
       "    </tr>\n",
       "    <tr>\n",
       "      <th>2024-01-01 01:30:00</th>\n",
       "      <td>2024-01-01</td>\n",
       "      <td>01:30</td>\n",
       "      <td>241.274010</td>\n",
       "      <td>0.0</td>\n",
       "      <td>95.548050</td>\n",
       "      <td>0.0</td>\n",
       "      <td>0.326444</td>\n",
       "    </tr>\n",
       "    <tr>\n",
       "      <th>2024-01-01 02:00:00</th>\n",
       "      <td>2024-01-01</td>\n",
       "      <td>02:00</td>\n",
       "      <td>228.099020</td>\n",
       "      <td>0.0</td>\n",
       "      <td>89.946188</td>\n",
       "      <td>0.0</td>\n",
       "      <td>0.767750</td>\n",
       "    </tr>\n",
       "    <tr>\n",
       "      <th>2024-01-01 02:30:00</th>\n",
       "      <td>2024-01-01</td>\n",
       "      <td>02:30</td>\n",
       "      <td>251.443823</td>\n",
       "      <td>0.0</td>\n",
       "      <td>85.651175</td>\n",
       "      <td>0.0</td>\n",
       "      <td>1.136206</td>\n",
       "    </tr>\n",
       "    <tr>\n",
       "      <th>...</th>\n",
       "      <td>...</td>\n",
       "      <td>...</td>\n",
       "      <td>...</td>\n",
       "      <td>...</td>\n",
       "      <td>...</td>\n",
       "      <td>...</td>\n",
       "      <td>...</td>\n",
       "    </tr>\n",
       "    <tr>\n",
       "      <th>2024-01-31 22:00:00</th>\n",
       "      <td>2024-01-31</td>\n",
       "      <td>22:00</td>\n",
       "      <td>243.446680</td>\n",
       "      <td>0.0</td>\n",
       "      <td>68.076216</td>\n",
       "      <td>0.0</td>\n",
       "      <td>2.878339</td>\n",
       "    </tr>\n",
       "    <tr>\n",
       "      <th>2024-01-31 22:30:00</th>\n",
       "      <td>2024-01-31</td>\n",
       "      <td>22:30</td>\n",
       "      <td>243.958657</td>\n",
       "      <td>0.0</td>\n",
       "      <td>68.221826</td>\n",
       "      <td>0.0</td>\n",
       "      <td>2.901994</td>\n",
       "    </tr>\n",
       "    <tr>\n",
       "      <th>2024-01-31 23:00:00</th>\n",
       "      <td>2024-01-31</td>\n",
       "      <td>23:00</td>\n",
       "      <td>245.087567</td>\n",
       "      <td>0.0</td>\n",
       "      <td>69.436327</td>\n",
       "      <td>0.0</td>\n",
       "      <td>2.463166</td>\n",
       "    </tr>\n",
       "    <tr>\n",
       "      <th>2024-01-31 23:30:00</th>\n",
       "      <td>2024-01-31</td>\n",
       "      <td>23:30</td>\n",
       "      <td>247.150223</td>\n",
       "      <td>0.0</td>\n",
       "      <td>65.885408</td>\n",
       "      <td>0.0</td>\n",
       "      <td>3.031844</td>\n",
       "    </tr>\n",
       "    <tr>\n",
       "      <th>2024-02-01 00:00:00</th>\n",
       "      <td>2024-02-01</td>\n",
       "      <td>00:00</td>\n",
       "      <td>245.751360</td>\n",
       "      <td>0.0</td>\n",
       "      <td>65.322848</td>\n",
       "      <td>0.0</td>\n",
       "      <td>3.107906</td>\n",
       "    </tr>\n",
       "  </tbody>\n",
       "</table>\n",
       "<p>1488 rows × 7 columns</p>\n",
       "</div>"
      ],
      "text/plain": [
       "                    TIMESTAMP_1 TIMSTAMP_2  Lwin_1_1_1   PPFD_1_1_1   RH_1_1_1 Rg_1_1_1  Ta_1_1_1\n",
       "                     yyyy-mm-dd      HH:MM      W+1m-2 umol+1m-2s-1          %   W+1m-2         C\n",
       "TIMESTAMP_END                                                                                    \n",
       "2024-01-01 00:30:00  2024-01-01      00:30  298.680643          0.0  99.997990      0.0  0.063089\n",
       "2024-01-01 01:00:00  2024-01-01      01:00  269.906123          0.0  98.689082      0.0  0.365761\n",
       "2024-01-01 01:30:00  2024-01-01      01:30  241.274010          0.0  95.548050      0.0  0.326444\n",
       "2024-01-01 02:00:00  2024-01-01      02:00  228.099020          0.0  89.946188      0.0  0.767750\n",
       "2024-01-01 02:30:00  2024-01-01      02:30  251.443823          0.0  85.651175      0.0  1.136206\n",
       "...                         ...        ...         ...          ...        ...      ...       ...\n",
       "2024-01-31 22:00:00  2024-01-31      22:00  243.446680          0.0  68.076216      0.0  2.878339\n",
       "2024-01-31 22:30:00  2024-01-31      22:30  243.958657          0.0  68.221826      0.0  2.901994\n",
       "2024-01-31 23:00:00  2024-01-31      23:00  245.087567          0.0  69.436327      0.0  2.463166\n",
       "2024-01-31 23:30:00  2024-01-31      23:30  247.150223          0.0  65.885408      0.0  3.031844\n",
       "2024-02-01 00:00:00  2024-02-01      00:00  245.751360          0.0  65.322848      0.0  3.107906\n",
       "\n",
       "[1488 rows x 7 columns]"
      ]
     },
     "execution_count": 8,
     "metadata": {},
     "output_type": "execute_result"
    }
   ],
   "source": [
    "reformatted_df = f.get_results()\n",
    "reformatted_df"
   ]
  },
  {
   "cell_type": "markdown",
   "metadata": {},
   "source": [
    "</br>"
   ]
  },
  {
   "cell_type": "markdown",
   "metadata": {},
   "source": [
    "# **Save reformatted data to CSV**"
   ]
  },
  {
   "cell_type": "code",
   "execution_count": 9,
   "metadata": {
    "ExecuteTime": {
     "end_time": "2024-08-22T13:58:46.636862Z",
     "start_time": "2024-08-22T13:58:46.620905Z"
    },
    "tags": []
   },
   "outputs": [],
   "source": [
    "reformatted_df.to_csv(\"meteo.csv\", index=False)"
   ]
  },
  {
   "cell_type": "markdown",
   "metadata": {},
   "source": [
    "</br>"
   ]
  },
  {
   "cell_type": "markdown",
   "metadata": {
    "tags": []
   },
   "source": [
    "# **End of notebook**"
   ]
  },
  {
   "cell_type": "code",
   "execution_count": 10,
   "metadata": {
    "ExecuteTime": {
     "end_time": "2024-08-22T13:58:53.081811Z",
     "start_time": "2024-08-22T13:58:53.071265Z"
    },
    "tags": []
   },
   "outputs": [
    {
     "name": "stdout",
     "output_type": "stream",
     "text": [
      "Finished 2025-02-24 15:14:24\n"
     ]
    }
   ],
   "source": [
    "dt_string = datetime.now().strftime(\"%Y-%m-%d %H:%M:%S\")\n",
    "print(f\"Finished {dt_string}\")"
   ]
  },
  {
   "cell_type": "code",
   "execution_count": null,
   "metadata": {
    "ExecuteTime": {
     "end_time": "2024-08-22T13:58:53.129655Z",
     "start_time": "2024-08-22T13:58:53.115695Z"
    }
   },
   "outputs": [],
   "source": []
  }
 ],
 "metadata": {
  "kernelspec": {
   "display_name": "Python 3 (ipykernel)",
   "language": "python",
   "name": "python3"
  },
  "language_info": {
   "codemirror_mode": {
    "name": "ipython",
    "version": 3
   },
   "file_extension": ".py",
   "mimetype": "text/x-python",
   "name": "python",
   "nbconvert_exporter": "python",
   "pygments_lexer": "ipython3",
   "version": "3.11.10"
  },
  "toc-autonumbering": true
 },
 "nbformat": 4,
 "nbformat_minor": 4
}
