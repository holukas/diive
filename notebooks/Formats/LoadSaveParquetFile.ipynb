{
 "cells": [
  {
   "cell_type": "markdown",
   "metadata": {},
   "source": [
    "![lop](../../images/logo_diive1_128px.png)"
   ]
  },
  {
   "cell_type": "markdown",
   "metadata": {},
   "source": [
    "<span style='font-size:32px; display:block;'>\n",
    "<b>\n",
    "    Load and save Parquet file\n",
    "</b>\n",
    "</span>"
   ]
  },
  {
   "cell_type": "markdown",
   "metadata": {},
   "source": [
    "---\n",
    "**Notebook version**: `2` (24 Oct 2023)  \n",
    "**Author**: Lukas Hörtnagl (holukas@ethz.ch)  "
   ]
  },
  {
   "cell_type": "markdown",
   "metadata": {},
   "source": [
    "</br>"
   ]
  },
  {
   "cell_type": "markdown",
   "metadata": {},
   "source": [
    "# **Background**"
   ]
  },
  {
   "cell_type": "markdown",
   "metadata": {},
   "source": [
    "> Apache Parquet is an open source, column-oriented data file format designed for efficient data storage and retrieval. It provides efficient data compression and encoding schemes with enhanced performance to handle complex data in bulk. Parquet is available in multiple languages including Java, C++, Python, etc...\n",
    "\n",
    "source: https://parquet.apache.org/\n",
    "\n",
    "- Parquet files are much smaller than e.g. CSV files, and faster to load and save"
   ]
  },
  {
   "cell_type": "markdown",
   "metadata": {},
   "source": [
    "</br>"
   ]
  },
  {
   "cell_type": "markdown",
   "metadata": {},
   "source": [
    "# **Imports**"
   ]
  },
  {
   "cell_type": "code",
   "execution_count": null,
   "metadata": {
    "ExecuteTime": {
     "end_time": "2024-08-28T08:36:50.016575Z",
     "start_time": "2024-08-28T08:36:48.419565Z"
    },
    "tags": []
   },
   "outputs": [],
   "source": [
    "import importlib.metadata\n",
    "import os\n",
    "from datetime import datetime\n",
    "from pathlib import Path\n",
    "\n",
    "from diive.core.io.filereader import MultiDataFileReader\n",
    "from diive.core.io.files import save_parquet, load_parquet\n",
    "\n",
    "version_diive = importlib.metadata.version(\"diive\")\n",
    "print(f\"diive version: v{version_diive}\")"
   ]
  },
  {
   "cell_type": "markdown",
   "metadata": {},
   "source": [
    "</br>"
   ]
  },
  {
   "cell_type": "markdown",
   "metadata": {},
   "source": [
    "# **Docstring** of `save_parquet`"
   ]
  },
  {
   "cell_type": "code",
   "execution_count": null,
   "metadata": {
    "ExecuteTime": {
     "end_time": "2024-08-28T08:36:50.032574Z",
     "start_time": "2024-08-28T08:36:50.027574Z"
    },
    "tags": []
   },
   "outputs": [],
   "source": [
    "# help(save_parquet)"
   ]
  },
  {
   "cell_type": "markdown",
   "metadata": {},
   "source": [
    "</br>"
   ]
  },
  {
   "cell_type": "markdown",
   "metadata": {},
   "source": [
    "# **Docstring** of `load_parquet`"
   ]
  },
  {
   "cell_type": "code",
   "execution_count": null,
   "metadata": {
    "ExecuteTime": {
     "end_time": "2024-08-28T08:36:50.157601Z",
     "start_time": "2024-08-28T08:36:50.143088Z"
    },
    "tags": []
   },
   "outputs": [],
   "source": [
    "# help(load_parquet)"
   ]
  },
  {
   "cell_type": "markdown",
   "metadata": {},
   "source": [
    "</br>"
   ]
  },
  {
   "cell_type": "markdown",
   "metadata": {},
   "source": [
    "# **Input data**"
   ]
  },
  {
   "cell_type": "markdown",
   "metadata": {},
   "source": [
    "## Source and output folder"
   ]
  },
  {
   "cell_type": "code",
   "execution_count": null,
   "metadata": {
    "ExecuteTime": {
     "end_time": "2024-08-28T08:36:50.188843Z",
     "start_time": "2024-08-28T08:36:50.174600Z"
    },
    "tags": []
   },
   "outputs": [],
   "source": [
    "DIR = Path(r'F:\\TMP\\example')"
   ]
  },
  {
   "cell_type": "markdown",
   "metadata": {},
   "source": [
    "## Search files in folder"
   ]
  },
  {
   "cell_type": "code",
   "execution_count": null,
   "metadata": {
    "ExecuteTime": {
     "end_time": "2024-08-28T08:36:50.220213Z",
     "start_time": "2024-08-28T08:36:50.205844Z"
    },
    "tags": []
   },
   "outputs": [],
   "source": [
    "filepaths = [f for f in os.listdir(DIR) if f.endswith(\".csv\")]\n",
    "filepaths = [DIR / f for f in filepaths]\n",
    "filepaths = [Path(f) for f in filepaths]\n",
    "filepaths = [f for f in filepaths if 'fluxnet' in str(f)]\n",
    "[print(f) for f in filepaths];"
   ]
  },
  {
   "cell_type": "markdown",
   "metadata": {},
   "source": [
    "## Load and merge data from files\n",
    "- Read datafiles in `filepaths` using `diive`\n",
    "- All datafiles are in the `EDDYPRO_FLUXNET_30MIN` format"
   ]
  },
  {
   "cell_type": "code",
   "execution_count": null,
   "metadata": {
    "ExecuteTime": {
     "end_time": "2024-08-28T08:36:54.264244Z",
     "start_time": "2024-08-28T08:36:53.699503Z"
    },
    "tags": []
   },
   "outputs": [],
   "source": [
    "loaddatafile = MultiDataFileReader(filetype='EDDYPRO-FLUXNET-CSV-30MIN', \n",
    "                                   filepaths=filepaths,\n",
    "                                   output_middle_timestamp=False)\n",
    "df = loaddatafile.data_df"
   ]
  },
  {
   "cell_type": "markdown",
   "metadata": {},
   "source": [
    "## Check data"
   ]
  },
  {
   "cell_type": "code",
   "execution_count": null,
   "metadata": {
    "ExecuteTime": {
     "end_time": "2024-08-28T08:36:54.311245Z",
     "start_time": "2024-08-28T08:36:54.271245Z"
    },
    "tags": []
   },
   "outputs": [],
   "source": [
    "df"
   ]
  },
  {
   "cell_type": "markdown",
   "metadata": {},
   "source": [
    "</br>"
   ]
  },
  {
   "cell_type": "markdown",
   "metadata": {},
   "source": [
    "# **Save dataframe as parquet file**"
   ]
  },
  {
   "cell_type": "markdown",
   "metadata": {},
   "source": [
    "## (1) Save to specific folder"
   ]
  },
  {
   "cell_type": "code",
   "execution_count": null,
   "metadata": {
    "ExecuteTime": {
     "end_time": "2024-08-28T08:37:04.482545Z",
     "start_time": "2024-08-28T08:37:04.421039Z"
    },
    "tags": []
   },
   "outputs": [],
   "source": [
    "filepath = save_parquet(outpath=DIR, filename=\"output_file\", data=df)"
   ]
  },
  {
   "cell_type": "markdown",
   "metadata": {},
   "source": [
    "## (2) Save to same folder as notebook"
   ]
  },
  {
   "cell_type": "code",
   "execution_count": null,
   "metadata": {
    "ExecuteTime": {
     "end_time": "2024-08-28T08:37:06.245718Z",
     "start_time": "2024-08-28T08:37:06.237665Z"
    },
    "tags": []
   },
   "outputs": [],
   "source": [
    "# filepath = save_parquet(filename=\"output_file\", data=df)"
   ]
  },
  {
   "cell_type": "markdown",
   "metadata": {},
   "source": [
    "## Filepath"
   ]
  },
  {
   "cell_type": "code",
   "execution_count": null,
   "metadata": {
    "ExecuteTime": {
     "end_time": "2024-08-28T08:37:06.623502Z",
     "start_time": "2024-08-28T08:37:06.617503Z"
    },
    "tags": []
   },
   "outputs": [],
   "source": [
    "filepath"
   ]
  },
  {
   "cell_type": "markdown",
   "metadata": {},
   "source": [
    "</br>"
   ]
  },
  {
   "cell_type": "markdown",
   "metadata": {},
   "source": [
    "# **Load data from parquet file**"
   ]
  },
  {
   "cell_type": "code",
   "execution_count": null,
   "metadata": {
    "ExecuteTime": {
     "end_time": "2024-08-28T08:37:20.236964Z",
     "start_time": "2024-08-28T08:37:20.191964Z"
    },
    "tags": []
   },
   "outputs": [],
   "source": [
    "data_from_parquet = load_parquet(filepath=filepath, output_middle_timestamp=False)"
   ]
  },
  {
   "cell_type": "code",
   "execution_count": null,
   "metadata": {
    "ExecuteTime": {
     "end_time": "2024-08-28T08:37:21.343663Z",
     "start_time": "2024-08-28T08:37:21.318664Z"
    },
    "tags": []
   },
   "outputs": [],
   "source": [
    "data_from_parquet"
   ]
  },
  {
   "cell_type": "markdown",
   "metadata": {},
   "source": [
    "</br>"
   ]
  },
  {
   "cell_type": "markdown",
   "metadata": {
    "tags": []
   },
   "source": [
    "# **Finish**"
   ]
  },
  {
   "cell_type": "code",
   "execution_count": null,
   "metadata": {
    "ExecuteTime": {
     "end_time": "2024-08-28T08:37:31.302123Z",
     "start_time": "2024-08-28T08:37:31.294115Z"
    },
    "tags": []
   },
   "outputs": [],
   "source": [
    "dt_string = datetime.now().strftime(\"%Y-%m-%d %H:%M:%S\")\n",
    "print(f\"Finished {dt_string}\")"
   ]
  },
  {
   "cell_type": "code",
   "execution_count": null,
   "metadata": {},
   "outputs": [],
   "source": []
  }
 ],
 "metadata": {
  "kernelspec": {
   "display_name": "Python 3 (ipykernel)",
   "language": "python",
   "name": "python3"
  },
  "language_info": {
   "codemirror_mode": {
    "name": "ipython",
    "version": 3
   },
   "file_extension": ".py",
   "mimetype": "text/x-python",
   "name": "python",
   "nbconvert_exporter": "python",
   "pygments_lexer": "ipython3",
   "version": "3.11.10"
  }
 },
 "nbformat": 4,
 "nbformat_minor": 4
}
