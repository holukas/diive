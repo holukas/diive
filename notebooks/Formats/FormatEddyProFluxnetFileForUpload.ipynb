{
 "cells": [
  {
   "cell_type": "markdown",
   "metadata": {},
   "source": [
    "![lop](../../images/logo_diive1_128px.png)"
   ]
  },
  {
   "cell_type": "markdown",
   "metadata": {},
   "source": [
    "<span style='font-size:32px; display:block;'>\n",
    "<b>\n",
    "    Format EddyPro _fluxnet_ output files for upload to FLUXNET database\n",
    "</b>\n",
    "</span>"
   ]
  },
  {
   "cell_type": "markdown",
   "metadata": {},
   "source": [
    "---\n",
    "**Notebook version**: `4` (27 Feb 2024)  \n",
    "**Author**: Lukas Hörtnagl (holukas@ethz.ch)  "
   ]
  },
  {
   "cell_type": "markdown",
   "metadata": {},
   "source": [
    "</br>"
   ]
  },
  {
   "cell_type": "markdown",
   "metadata": {},
   "source": [
    "# **Background**"
   ]
  },
  {
   "cell_type": "markdown",
   "metadata": {},
   "source": [
    "- Eddypro outputs `_fluxnet_` files\n",
    "- The files cannot be directly uploaded to the FLUXNET database\n",
    "- The class `FormatEddyProFluxnetFileForUpload` helps in formatting the files to comply with FLUXNET requirements for data sharing\n",
    "\n",
    "More info:\n",
    "- [FLUXNET Requirements for Data Sharing](https://www.swissfluxnet.ethz.ch/index.php/knowledge-base/fluxnet-requirements/)\n",
    "- [Data submission - General Information](http://www.europe-fluxdata.eu/home/guidelines/how-to-submit-data/general-information)\n",
    "- [FLUXNET Variables codes](http://www.europe-fluxdata.eu/home/guidelines/how-to-submit-data/variables-codes)"
   ]
  },
  {
   "cell_type": "markdown",
   "metadata": {},
   "source": [
    "</br>"
   ]
  },
  {
   "cell_type": "markdown",
   "metadata": {},
   "source": [
    "# **Imports**"
   ]
  },
  {
   "cell_type": "code",
   "execution_count": null,
   "metadata": {
    "ExecuteTime": {
     "end_time": "2024-08-22T13:58:42.635066Z",
     "start_time": "2024-08-22T13:58:42.619110Z"
    },
    "is_executing": true,
    "tags": []
   },
   "outputs": [],
   "source": [
    "import importlib.metadata\n",
    "import warnings\n",
    "from datetime import datetime\n",
    "\n",
    "import matplotlib.gridspec as gridspec\n",
    "import matplotlib.pyplot as plt\n",
    "import numpy as np\n",
    "\n",
    "from diive.core.plotting.heatmap_datetime import HeatmapDateTime  # For plotting heatmaps\n",
    "from diive.core.plotting.timeseries import TimeSeries  # For simple (interactive) time series plotting\n",
    "from diive.pkgs.formats.fluxnet import FormatEddyProFluxnetFileForUpload  # Class to format output files for upload\n",
    "\n",
    "warnings.filterwarnings(action='ignore', category=FutureWarning)\n",
    "warnings.filterwarnings(action='ignore', category=UserWarning)\n",
    "\n",
    "version_diive = importlib.metadata.version(\"diive\")\n",
    "print(f\"diive version: v{version_diive}\")"
   ]
  },
  {
   "cell_type": "markdown",
   "metadata": {},
   "source": [
    "</br>"
   ]
  },
  {
   "cell_type": "markdown",
   "metadata": {},
   "source": [
    "# **Docstring**"
   ]
  },
  {
   "cell_type": "code",
   "execution_count": null,
   "metadata": {
    "ExecuteTime": {
     "end_time": "2024-08-22T13:58:42.698525Z",
     "start_time": "2024-08-22T13:58:42.678588Z"
    }
   },
   "outputs": [],
   "source": [
    "# help(FormatEddyProFluxnetFileForUpload)"
   ]
  },
  {
   "cell_type": "markdown",
   "metadata": {},
   "source": [
    "</br>"
   ]
  },
  {
   "cell_type": "markdown",
   "metadata": {},
   "source": [
    "# **Input and output folders**"
   ]
  },
  {
   "cell_type": "code",
   "execution_count": null,
   "metadata": {
    "ExecuteTime": {
     "end_time": "2024-08-22T13:58:42.746400Z",
     "start_time": "2024-08-22T13:58:42.730412Z"
    },
    "tags": []
   },
   "outputs": [],
   "source": [
    "SOURCE = r\"F:\\TMP\\example\"  # This is the folder where datafiles are searched\n",
    "OUTDIR = r\"F:\\TMP\\example\"  # Output yearly CSV to this folder"
   ]
  },
  {
   "cell_type": "markdown",
   "metadata": {},
   "source": [
    "</br>"
   ]
  },
  {
   "cell_type": "markdown",
   "metadata": {},
   "source": [
    "# **Format data**"
   ]
  },
  {
   "cell_type": "markdown",
   "metadata": {},
   "source": [
    "## Initialize"
   ]
  },
  {
   "cell_type": "code",
   "execution_count": null,
   "metadata": {
    "ExecuteTime": {
     "end_time": "2024-08-22T13:58:42.825122Z",
     "start_time": "2024-08-22T13:58:42.810161Z"
    },
    "tags": []
   },
   "outputs": [],
   "source": [
    "fxn = FormatEddyProFluxnetFileForUpload(\n",
    "    site='CH-FRU',\n",
    "    sourcedir=SOURCE,\n",
    "    outdir=OUTDIR,\n",
    "    add_runid=True)"
   ]
  },
  {
   "cell_type": "markdown",
   "metadata": {},
   "source": [
    "## Search and merge `_fluxnet_` datafiles"
   ]
  },
  {
   "cell_type": "code",
   "execution_count": null,
   "metadata": {
    "ExecuteTime": {
     "end_time": "2024-08-22T13:58:44.548992Z",
     "start_time": "2024-08-22T13:58:42.828115Z"
    },
    "tags": []
   },
   "outputs": [],
   "source": [
    "fxn.mergefiles(limit_n_files=None)"
   ]
  },
  {
   "cell_type": "markdown",
   "metadata": {},
   "source": [
    "## Merged dataset"
   ]
  },
  {
   "cell_type": "code",
   "execution_count": null,
   "metadata": {
    "ExecuteTime": {
     "end_time": "2024-08-22T13:58:44.612413Z",
     "start_time": "2024-08-22T13:58:44.565539Z"
    },
    "tags": []
   },
   "outputs": [],
   "source": [
    "fxn.merged_df"
   ]
  },
  {
   "cell_type": "markdown",
   "metadata": {},
   "source": [
    "## Test for signal strength / AGC"
   ]
  },
  {
   "cell_type": "markdown",
   "metadata": {},
   "source": [
    "<div class=\"alert alert-block alert-danger\">\n",
    "    <b>Do not use for H (sensible heat flux).</b> This test is only relevant for fluxes where the concentration was measured by a gas analyzer, e.g. FC, FH2O, LE, ET, N2O, CH4, etc ... \n",
    "</div>"
   ]
  },
  {
   "cell_type": "code",
   "execution_count": null,
   "metadata": {
    "ExecuteTime": {
     "end_time": "2024-08-22T13:58:44.801915Z",
     "start_time": "2024-08-22T13:58:44.786953Z"
    },
    "tags": []
   },
   "outputs": [],
   "source": [
    "FLUXCOLS = ['FC', 'LE']  # Give flux columns as list\n",
    "SIGNAL_STRENGTH_COL = 'CUSTOM_AGC_MEAN'  # Name of the column storing the signal strength, typically 'CUSTOM_AGC_MEAN' for LI-7500, 'CUSTOM_SIGNAL_STRENGTH_IRGA72_MEAN' for LI-7200, or something similar\n",
    "SIGNAL_STRENGTH_THRESHOLD = 90  # Signal strength threshold, flux values where threshold is exceeded are flagged as rejected\n",
    "SIGNAL_STRENGTH_METHOD = 'discard above'  # 'discard above' flags fluxes where signal strength > threshold, 'discard below' where signal strength < threshold"
   ]
  },
  {
   "cell_type": "code",
   "execution_count": null,
   "metadata": {
    "ExecuteTime": {
     "end_time": "2024-08-22T13:58:45.458915Z",
     "start_time": "2024-08-22T13:58:45.099323Z"
    },
    "tags": []
   },
   "outputs": [],
   "source": [
    "# TimeSeries(series=fxn.merged_df[SIGNAL_STRENGTH_COL]).plot_interactive()\n",
    "TimeSeries(series=fxn.merged_df[SIGNAL_STRENGTH_COL]).plot()"
   ]
  },
  {
   "cell_type": "code",
   "execution_count": null,
   "metadata": {
    "ExecuteTime": {
     "end_time": "2024-08-22T13:58:45.884213Z",
     "start_time": "2024-08-22T13:58:45.862764Z"
    },
    "tags": []
   },
   "outputs": [],
   "source": [
    "for f in FLUXCOLS:\n",
    "    fxn.remove_low_signal_data(fluxcol=f,\n",
    "                               signal_strength_col=SIGNAL_STRENGTH_COL,\n",
    "                               method=SIGNAL_STRENGTH_METHOD,\n",
    "                               threshold=SIGNAL_STRENGTH_THRESHOLD)"
   ]
  },
  {
   "cell_type": "markdown",
   "metadata": {},
   "source": [
    "## Remove problematic time periods\n",
    "               \n",
    "Use `REMOVE_DATES` to specify the time period(s) for `VAR` that are removed from the dataset.\n",
    "\n",
    "For example:\n",
    "\n",
    "```python\n",
    "REMOVE_DATES = ['2022-06-30 23:58:30',\n",
    "                ['2022-06-05 00:00:30', '2022-06-07 14:30:00']]\n",
    "```\n",
    "will remove the record for `2022-06-30 23:58:30` and all records between\n",
    "`2022-06-05 00:00:30` (inclusive) and `2022-06-07 14:30:00` (inclusive).\n",
    "\n",
    "This also works when providing only the date, e.g.\n",
    "```python\n",
    "REMOVE_DATES = [['2006-05-01', '2006-07-18']] \n",
    "```\n",
    "will remove all data points between `2006-05-01` (inclusive) and `2006-07-18` (inclusive)."
   ]
  },
  {
   "cell_type": "markdown",
   "metadata": {},
   "source": [
    "### Plot affected variables"
   ]
  },
  {
   "cell_type": "code",
   "execution_count": null,
   "metadata": {
    "ExecuteTime": {
     "end_time": "2024-08-22T13:58:46.196831Z",
     "start_time": "2024-08-22T13:58:46.183882Z"
    },
    "tags": []
   },
   "outputs": [],
   "source": [
    "# VAR = ['FC', 'LE', 'H', 'USTAR', 'FETCH_70', 'FETCH_90', 'FETCH_MAX']\n",
    "# for v in VAR:\n",
    "#     # TimeSeries(series=fxn.merged_df[v]).plot_interactive()\n",
    "#     TimeSeries(series=fxn.merged_df[v]).plot()"
   ]
  },
  {
   "cell_type": "code",
   "execution_count": null,
   "metadata": {
    "ExecuteTime": {
     "end_time": "2024-08-22T13:58:46.385470Z",
     "start_time": "2024-08-22T13:58:46.371481Z"
    },
    "tags": []
   },
   "outputs": [],
   "source": [
    "# # These variables are erroneous during the defined time period\n",
    "# VAR = ['FC', 'LE', 'H', 'USTAR', 'FETCH_70', 'FETCH_90', 'FETCH_MAX']  \n",
    "# REMOVE_DATES = [\n",
    "#     ['2023-03-20', '2023-07-09']\n",
    "# ]"
   ]
  },
  {
   "cell_type": "code",
   "execution_count": null,
   "metadata": {
    "ExecuteTime": {
     "end_time": "2024-08-22T13:58:46.449302Z",
     "start_time": "2024-08-22T13:58:46.435308Z"
    },
    "tags": []
   },
   "outputs": [],
   "source": [
    "# for v in VAR:\n",
    "#     fxn.remove_erroneous_data(var=v,\n",
    "#                               remove_dates=REMOVE_DATES,\n",
    "#                               showplot=True)"
   ]
  },
  {
   "cell_type": "code",
   "execution_count": null,
   "metadata": {
    "ExecuteTime": {
     "end_time": "2024-08-22T13:58:46.464791Z",
     "start_time": "2024-08-22T13:58:46.457251Z"
    },
    "tags": []
   },
   "outputs": [],
   "source": [
    "# # These variables are erroneous during the defined time period\n",
    "# VAR = ['FC', 'LE']  \n",
    "# REMOVE_DATES = [    \n",
    "#     ['2017-06-09 00:30', '2017-06-12 11:00'],\n",
    "#     ['2017-06-12 18:00', '2017-06-16 11:00']\n",
    "# ]"
   ]
  },
  {
   "cell_type": "code",
   "execution_count": null,
   "metadata": {
    "ExecuteTime": {
     "end_time": "2024-08-22T13:58:46.527629Z",
     "start_time": "2024-08-22T13:58:46.513102Z"
    },
    "tags": []
   },
   "outputs": [],
   "source": [
    "# for v in VAR:\n",
    "#     fxn.remove_erroneous_data(var=v,\n",
    "#                               remove_dates=REMOVE_DATES,\n",
    "#                               showplot=True)"
   ]
  },
  {
   "cell_type": "markdown",
   "metadata": {},
   "source": [
    "## Format data for FLUXNET"
   ]
  },
  {
   "cell_type": "code",
   "execution_count": null,
   "metadata": {
    "ExecuteTime": {
     "end_time": "2024-08-22T13:58:46.574031Z",
     "start_time": "2024-08-22T13:58:46.549989Z"
    },
    "tags": []
   },
   "outputs": [],
   "source": [
    "fxn.apply_fluxnet_format()"
   ]
  },
  {
   "cell_type": "markdown",
   "metadata": {},
   "source": [
    "## Save yearly `CSV` files"
   ]
  },
  {
   "cell_type": "code",
   "execution_count": null,
   "metadata": {
    "ExecuteTime": {
     "end_time": "2024-08-22T13:58:46.636862Z",
     "start_time": "2024-08-22T13:58:46.620905Z"
    },
    "tags": []
   },
   "outputs": [],
   "source": [
    "fxn.export_yearly_files()"
   ]
  },
  {
   "cell_type": "markdown",
   "metadata": {},
   "source": [
    "</br>"
   ]
  },
  {
   "cell_type": "markdown",
   "metadata": {},
   "source": [
    "# **Check FLUXNET data**"
   ]
  },
  {
   "cell_type": "markdown",
   "metadata": {},
   "source": [
    "- The merged file data from all files can be directly returned with `.get_data()`\n",
    "- Note that the dataframe below does not show exactly how the data look like in the formatted data files, but how data were stored in `diive`, hence the timestamp index `TIMESTAMP_MIDDLE`\n",
    "- The yearly files do not contain the timestamp index `TIMESTAMP_MIDDLE`"
   ]
  },
  {
   "cell_type": "markdown",
   "metadata": {},
   "source": [
    "## Dataframe that was used to generate yearly files"
   ]
  },
  {
   "cell_type": "code",
   "execution_count": null,
   "metadata": {
    "ExecuteTime": {
     "end_time": "2024-08-22T13:58:46.730883Z",
     "start_time": "2024-08-22T13:58:46.696975Z"
    },
    "collapsed": false,
    "jupyter": {
     "outputs_hidden": false
    },
    "tags": []
   },
   "outputs": [],
   "source": [
    "data_fluxnet = fxn.get_data()\n",
    "data_fluxnet"
   ]
  },
  {
   "cell_type": "code",
   "execution_count": null,
   "metadata": {
    "ExecuteTime": {
     "end_time": "2024-08-22T13:58:46.825758Z",
     "start_time": "2024-08-22T13:58:46.810804Z"
    },
    "tags": []
   },
   "outputs": [],
   "source": [
    "data_fluxnet.columns.to_list()"
   ]
  },
  {
   "cell_type": "markdown",
   "metadata": {},
   "source": [
    "## Overview of variables and some stats"
   ]
  },
  {
   "cell_type": "code",
   "execution_count": null,
   "metadata": {
    "ExecuteTime": {
     "end_time": "2024-08-22T13:58:46.951033Z",
     "start_time": "2024-08-22T13:58:46.911078Z"
    },
    "tags": []
   },
   "outputs": [],
   "source": [
    "# print(*data_fluxnet.columns, sep = \"\\n\")\n",
    "data_fluxnet.describe().T"
   ]
  },
  {
   "cell_type": "markdown",
   "metadata": {},
   "source": [
    "## Plot some key variables\n",
    "- Keep in mind that FLUXNET requires missing values as `-9999` when looking at the plots"
   ]
  },
  {
   "cell_type": "code",
   "execution_count": null,
   "metadata": {
    "ExecuteTime": {
     "end_time": "2024-08-22T13:58:47.987507Z",
     "start_time": "2024-08-22T13:58:47.064728Z"
    },
    "collapsed": false,
    "jupyter": {
     "outputs_hidden": false
    },
    "tags": []
   },
   "outputs": [],
   "source": [
    "fig = plt.figure(facecolor='white', figsize=(16, 9))\n",
    "gs = gridspec.GridSpec(1, 3)  # rows, cols\n",
    "ax_fc = fig.add_subplot(gs[0, 0])\n",
    "ax_le = fig.add_subplot(gs[0, 1])\n",
    "ax_ta = fig.add_subplot(gs[0, 2])\n",
    "HeatmapDateTime(ax=ax_fc, series=data_fluxnet['FC_1_1_1'], vmin=-40, vmax=40).plot()\n",
    "HeatmapDateTime(ax=ax_le, series=data_fluxnet['LE_1_1_1'], vmin=-100, vmax=800).plot()\n",
    "HeatmapDateTime(ax=ax_ta, series=data_fluxnet['H_1_1_1'], vmin=-20, vmax=40).plot()\n",
    "ax_fc.set_title(\"FC_1_1_1\", color='black')\n",
    "ax_le.set_title(\"LE_1_1_1\", color='black')\n",
    "ax_ta.set_title(\"H_1_1_1\", color='black')\n",
    "ax_le.tick_params(left=True, right=False, top=False, bottom=True,\n",
    "                  labelleft=False, labelright=False, labeltop=False, labelbottom=True)\n",
    "ax_ta.tick_params(left=True, right=False, top=False, bottom=True,\n",
    "                  labelleft=False, labelright=False, labeltop=False, labelbottom=True)"
   ]
  },
  {
   "cell_type": "markdown",
   "metadata": {},
   "source": [
    "## Plot all variables"
   ]
  },
  {
   "cell_type": "code",
   "execution_count": null,
   "metadata": {
    "ExecuteTime": {
     "end_time": "2024-08-22T13:58:53.018485Z",
     "start_time": "2024-08-22T13:58:48.036350Z"
    },
    "collapsed": false,
    "jupyter": {
     "outputs_hidden": false
    },
    "tags": []
   },
   "outputs": [],
   "source": [
    "for col in data_fluxnet.columns:\n",
    "    series = data_fluxnet[col].copy()\n",
    "    series.replace(to_replace=-9999, value=np.nan, inplace=True)\n",
    "    try:\n",
    "        fig = plt.figure(facecolor='white', figsize=(4, 8))\n",
    "        gs = gridspec.GridSpec(1, 1)  # rows, cols\n",
    "        ax = fig.add_subplot(gs[0, 0])\n",
    "        vmin = series.quantile(.01)\n",
    "        vmax = series.quantile(.99)\n",
    "        HeatmapDateTime(ax=ax, series=series, vmin=vmin, vmax=vmax).plot()\n",
    "        ax_fc.set_title(col, color='black')\n",
    "        fig.show()\n",
    "    except TypeError:\n",
    "        pass"
   ]
  },
  {
   "cell_type": "markdown",
   "metadata": {},
   "source": [
    "</br>"
   ]
  },
  {
   "cell_type": "markdown",
   "metadata": {
    "tags": []
   },
   "source": [
    "# **End of notebook**"
   ]
  },
  {
   "cell_type": "code",
   "execution_count": null,
   "metadata": {
    "ExecuteTime": {
     "end_time": "2024-08-22T13:58:53.081811Z",
     "start_time": "2024-08-22T13:58:53.071265Z"
    },
    "tags": []
   },
   "outputs": [],
   "source": [
    "dt_string = datetime.now().strftime(\"%Y-%m-%d %H:%M:%S\")\n",
    "print(f\"Finished {dt_string}\")"
   ]
  },
  {
   "cell_type": "code",
   "execution_count": null,
   "metadata": {
    "ExecuteTime": {
     "end_time": "2024-08-22T13:58:53.129655Z",
     "start_time": "2024-08-22T13:58:53.115695Z"
    }
   },
   "outputs": [],
   "source": []
  }
 ],
 "metadata": {
  "kernelspec": {
   "display_name": "Python 3 (ipykernel)",
   "language": "python",
   "name": "python3"
  },
  "language_info": {
   "codemirror_mode": {
    "name": "ipython",
    "version": 3
   },
   "file_extension": ".py",
   "mimetype": "text/x-python",
   "name": "python",
   "nbconvert_exporter": "python",
   "pygments_lexer": "ipython3",
   "version": "3.11.10"
  },
  "toc-autonumbering": true
 },
 "nbformat": 4,
 "nbformat_minor": 4
}
