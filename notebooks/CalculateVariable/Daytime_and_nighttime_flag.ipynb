{
 "cells": [
  {
   "cell_type": "markdown",
   "metadata": {},
   "source": [
    "![lop](../../images/logo_diive1_128px.png)"
   ]
  },
  {
   "cell_type": "markdown",
   "metadata": {},
   "source": [
    "<span style='font-size:28px; display:block;'>\n",
    "<b>\n",
    "    Calculate daytime flag, nighttime flag and potential radiation from latitude and longitude\n",
    "</b>\n",
    "</span>"
   ]
  },
  {
   "cell_type": "markdown",
   "metadata": {},
   "source": [
    "---\n",
    "**Notebook version**: `2` (23 Mar 2024)  \n",
    "**Author**: Lukas Hörtnagl (holukas@ethz.ch)  "
   ]
  },
  {
   "cell_type": "markdown",
   "metadata": {},
   "source": [
    "</br>"
   ]
  },
  {
   "cell_type": "markdown",
   "metadata": {},
   "source": [
    "# **Description**"
   ]
  },
  {
   "cell_type": "markdown",
   "metadata": {},
   "source": [
    "- Calculation of two flags for each record:\n",
    "    - Daytime flag, where daytime=1 and nighttime=0\n",
    "    - Nighttime flag, where daytime=0 and nighttime=1\n",
    "- Both flags are calculated from potential radiation, whereby values below a specified threshold are nighttime\n",
    "- Potential radiation is calculated from latitude and longitude"
   ]
  },
  {
   "cell_type": "markdown",
   "metadata": {},
   "source": [
    "</br>"
   ]
  },
  {
   "cell_type": "markdown",
   "metadata": {},
   "source": [
    "# **Imports**"
   ]
  },
  {
   "cell_type": "code",
   "execution_count": 1,
   "metadata": {
    "ExecuteTime": {
     "end_time": "2024-08-22T14:02:53.557297Z",
     "start_time": "2024-08-22T14:02:49.775813Z"
    },
    "tags": []
   },
   "outputs": [
    {
     "name": "stdout",
     "output_type": "stream",
     "text": [
      "diive version: v0.83.2\n"
     ]
    }
   ],
   "source": [
    "import importlib.metadata\n",
    "import warnings\n",
    "from datetime import datetime\n",
    "\n",
    "import matplotlib.gridspec as gridspec\n",
    "import matplotlib.pyplot as plt\n",
    "\n",
    "from diive.configs.exampledata import load_exampledata_parquet\n",
    "from diive.core.plotting.heatmap_datetime import HeatmapDateTime\n",
    "from diive.pkgs.createvar.daynightflag import DaytimeNighttimeFlag\n",
    "\n",
    "warnings.filterwarnings(\"ignore\")\n",
    "version_diive = importlib.metadata.version(\"diive\")\n",
    "print(f\"diive version: v{version_diive}\")"
   ]
  },
  {
   "cell_type": "markdown",
   "metadata": {},
   "source": [
    "</br>"
   ]
  },
  {
   "cell_type": "markdown",
   "metadata": {},
   "source": [
    "# **Docstring**"
   ]
  },
  {
   "cell_type": "code",
   "execution_count": 2,
   "metadata": {
    "ExecuteTime": {
     "end_time": "2024-08-22T14:02:53.622643Z",
     "start_time": "2024-08-22T14:02:53.563282Z"
    },
    "tags": []
   },
   "outputs": [],
   "source": [
    "# help(DaytimeNighttimeFlag)"
   ]
  },
  {
   "cell_type": "markdown",
   "metadata": {},
   "source": [
    "</br>"
   ]
  },
  {
   "cell_type": "markdown",
   "metadata": {},
   "source": [
    "</br>"
   ]
  },
  {
   "cell_type": "markdown",
   "metadata": {},
   "source": [
    "# **Load example data**"
   ]
  },
  {
   "cell_type": "code",
   "execution_count": 3,
   "metadata": {
    "ExecuteTime": {
     "end_time": "2024-08-22T14:02:54.182742Z",
     "start_time": "2024-08-22T14:02:53.810663Z"
    },
    "tags": []
   },
   "outputs": [
    {
     "name": "stdout",
     "output_type": "stream",
     "text": [
      "Loaded .parquet file F:\\Sync\\luhk_work\\20 - CODING\\21 - DIIVE\\diive\\diive\\configs\\exampledata\\exampledata_PARQUET_CH-DAV_FP2022.5_2013-2022_ID20230206154316_30MIN.parquet (0.054 seconds). Detected time resolution of <30 * Minutes> / 30min \n"
     ]
    }
   ],
   "source": [
    "df = load_exampledata_parquet()"
   ]
  },
  {
   "cell_type": "code",
   "execution_count": 4,
   "metadata": {
    "ExecuteTime": {
     "end_time": "2024-08-22T14:02:54.386235Z",
     "start_time": "2024-08-22T14:02:54.268032Z"
    },
    "tags": []
   },
   "outputs": [
    {
     "data": {
      "text/html": [
       "<div>\n",
       "<style scoped>\n",
       "    .dataframe tbody tr th:only-of-type {\n",
       "        vertical-align: middle;\n",
       "    }\n",
       "\n",
       "    .dataframe tbody tr th {\n",
       "        vertical-align: top;\n",
       "    }\n",
       "\n",
       "    .dataframe thead th {\n",
       "        text-align: right;\n",
       "    }\n",
       "</style>\n",
       "<table border=\"1\" class=\"dataframe\">\n",
       "  <thead>\n",
       "    <tr style=\"text-align: right;\">\n",
       "      <th></th>\n",
       "      <th>ET_f</th>\n",
       "      <th>GPP_CUT_16_f</th>\n",
       "      <th>GPP_CUT_84_f</th>\n",
       "      <th>GPP_CUT_REF_f</th>\n",
       "      <th>GPP_DT_CUT_16</th>\n",
       "      <th>GPP_DT_CUT_84</th>\n",
       "      <th>GPP_DT_CUT_REF</th>\n",
       "      <th>LE_f</th>\n",
       "      <th>LE_orig</th>\n",
       "      <th>LW_IN</th>\n",
       "      <th>NEE_CUT_16_f</th>\n",
       "      <th>NEE_CUT_16_orig</th>\n",
       "      <th>NEE_CUT_84_f</th>\n",
       "      <th>NEE_CUT_84_orig</th>\n",
       "      <th>NEE_CUT_REF_f</th>\n",
       "      <th>NEE_CUT_REF_orig</th>\n",
       "      <th>PA</th>\n",
       "      <th>PPFD</th>\n",
       "      <th>PREC_TOT_T1_25+20_1</th>\n",
       "      <th>QCF_LE</th>\n",
       "      <th>QCF_NEE</th>\n",
       "      <th>Reco_CUT_16</th>\n",
       "      <th>Reco_CUT_84</th>\n",
       "      <th>Reco_CUT_REF</th>\n",
       "      <th>Reco_DT_CUT_16</th>\n",
       "      <th>Reco_DT_CUT_84</th>\n",
       "      <th>Reco_DT_CUT_REF</th>\n",
       "      <th>Reco_DT_CUT_REF_SD</th>\n",
       "      <th>Rg_f</th>\n",
       "      <th>Rg_orig</th>\n",
       "      <th>RH</th>\n",
       "      <th>SWC_FF0_0.15_1</th>\n",
       "      <th>Tair_f</th>\n",
       "      <th>Tair_orig</th>\n",
       "      <th>Ustar_CUT_REF_Thres</th>\n",
       "      <th>VPD_f</th>\n",
       "      <th>VPD_orig</th>\n",
       "    </tr>\n",
       "    <tr>\n",
       "      <th>TIMESTAMP_MIDDLE</th>\n",
       "      <th></th>\n",
       "      <th></th>\n",
       "      <th></th>\n",
       "      <th></th>\n",
       "      <th></th>\n",
       "      <th></th>\n",
       "      <th></th>\n",
       "      <th></th>\n",
       "      <th></th>\n",
       "      <th></th>\n",
       "      <th></th>\n",
       "      <th></th>\n",
       "      <th></th>\n",
       "      <th></th>\n",
       "      <th></th>\n",
       "      <th></th>\n",
       "      <th></th>\n",
       "      <th></th>\n",
       "      <th></th>\n",
       "      <th></th>\n",
       "      <th></th>\n",
       "      <th></th>\n",
       "      <th></th>\n",
       "      <th></th>\n",
       "      <th></th>\n",
       "      <th></th>\n",
       "      <th></th>\n",
       "      <th></th>\n",
       "      <th></th>\n",
       "      <th></th>\n",
       "      <th></th>\n",
       "      <th></th>\n",
       "      <th></th>\n",
       "      <th></th>\n",
       "      <th></th>\n",
       "      <th></th>\n",
       "      <th></th>\n",
       "    </tr>\n",
       "  </thead>\n",
       "  <tbody>\n",
       "    <tr>\n",
       "      <th>2013-01-01 00:15:00</th>\n",
       "      <td>0.290</td>\n",
       "      <td>0.510</td>\n",
       "      <td>-0.082</td>\n",
       "      <td>0.705</td>\n",
       "      <td>0.0</td>\n",
       "      <td>0.0</td>\n",
       "      <td>0.0</td>\n",
       "      <td>13.093</td>\n",
       "      <td>NaN</td>\n",
       "      <td>194.913</td>\n",
       "      <td>1.376</td>\n",
       "      <td>NaN</td>\n",
       "      <td>1.537</td>\n",
       "      <td>NaN</td>\n",
       "      <td>1.595</td>\n",
       "      <td>NaN</td>\n",
       "      <td>832.520</td>\n",
       "      <td>0.017</td>\n",
       "      <td>0.0</td>\n",
       "      <td>NaN</td>\n",
       "      <td>1.0</td>\n",
       "      <td>1.886</td>\n",
       "      <td>1.455</td>\n",
       "      <td>2.300</td>\n",
       "      <td>1.252</td>\n",
       "      <td>1.908</td>\n",
       "      <td>1.613</td>\n",
       "      <td>0.510</td>\n",
       "      <td>0.0</td>\n",
       "      <td>0.0</td>\n",
       "      <td>31.933</td>\n",
       "      <td>34.977</td>\n",
       "      <td>-1.618</td>\n",
       "      <td>-1.618</td>\n",
       "      <td>0.288</td>\n",
       "      <td>1.339</td>\n",
       "      <td>1.339</td>\n",
       "    </tr>\n",
       "    <tr>\n",
       "      <th>2013-01-01 00:45:00</th>\n",
       "      <td>0.290</td>\n",
       "      <td>0.512</td>\n",
       "      <td>-0.084</td>\n",
       "      <td>0.708</td>\n",
       "      <td>0.0</td>\n",
       "      <td>0.0</td>\n",
       "      <td>0.0</td>\n",
       "      <td>13.093</td>\n",
       "      <td>NaN</td>\n",
       "      <td>193.568</td>\n",
       "      <td>1.376</td>\n",
       "      <td>NaN</td>\n",
       "      <td>1.537</td>\n",
       "      <td>NaN</td>\n",
       "      <td>1.595</td>\n",
       "      <td>NaN</td>\n",
       "      <td>832.430</td>\n",
       "      <td>0.031</td>\n",
       "      <td>0.0</td>\n",
       "      <td>NaN</td>\n",
       "      <td>NaN</td>\n",
       "      <td>1.888</td>\n",
       "      <td>1.454</td>\n",
       "      <td>2.303</td>\n",
       "      <td>1.241</td>\n",
       "      <td>1.914</td>\n",
       "      <td>1.616</td>\n",
       "      <td>0.512</td>\n",
       "      <td>0.0</td>\n",
       "      <td>0.0</td>\n",
       "      <td>32.600</td>\n",
       "      <td>34.977</td>\n",
       "      <td>-1.630</td>\n",
       "      <td>-1.630</td>\n",
       "      <td>0.288</td>\n",
       "      <td>1.337</td>\n",
       "      <td>1.337</td>\n",
       "    </tr>\n",
       "    <tr>\n",
       "      <th>2013-01-01 01:15:00</th>\n",
       "      <td>0.290</td>\n",
       "      <td>0.514</td>\n",
       "      <td>-0.086</td>\n",
       "      <td>0.710</td>\n",
       "      <td>0.0</td>\n",
       "      <td>0.0</td>\n",
       "      <td>0.0</td>\n",
       "      <td>13.066</td>\n",
       "      <td>NaN</td>\n",
       "      <td>193.135</td>\n",
       "      <td>1.376</td>\n",
       "      <td>NaN</td>\n",
       "      <td>1.537</td>\n",
       "      <td>NaN</td>\n",
       "      <td>1.595</td>\n",
       "      <td>NaN</td>\n",
       "      <td>832.207</td>\n",
       "      <td>-0.006</td>\n",
       "      <td>0.0</td>\n",
       "      <td>NaN</td>\n",
       "      <td>1.0</td>\n",
       "      <td>1.890</td>\n",
       "      <td>1.452</td>\n",
       "      <td>2.305</td>\n",
       "      <td>1.230</td>\n",
       "      <td>1.920</td>\n",
       "      <td>1.619</td>\n",
       "      <td>0.515</td>\n",
       "      <td>0.0</td>\n",
       "      <td>0.0</td>\n",
       "      <td>38.867</td>\n",
       "      <td>34.971</td>\n",
       "      <td>-1.644</td>\n",
       "      <td>-1.644</td>\n",
       "      <td>0.288</td>\n",
       "      <td>1.335</td>\n",
       "      <td>1.335</td>\n",
       "    </tr>\n",
       "    <tr>\n",
       "      <th>2013-01-01 01:45:00</th>\n",
       "      <td>0.290</td>\n",
       "      <td>1.354</td>\n",
       "      <td>-0.088</td>\n",
       "      <td>1.771</td>\n",
       "      <td>0.0</td>\n",
       "      <td>0.0</td>\n",
       "      <td>0.0</td>\n",
       "      <td>13.066</td>\n",
       "      <td>NaN</td>\n",
       "      <td>192.083</td>\n",
       "      <td>0.538</td>\n",
       "      <td>0.538</td>\n",
       "      <td>1.537</td>\n",
       "      <td>NaN</td>\n",
       "      <td>0.538</td>\n",
       "      <td>0.538</td>\n",
       "      <td>831.903</td>\n",
       "      <td>-0.018</td>\n",
       "      <td>0.0</td>\n",
       "      <td>NaN</td>\n",
       "      <td>0.0</td>\n",
       "      <td>1.892</td>\n",
       "      <td>1.450</td>\n",
       "      <td>2.308</td>\n",
       "      <td>1.219</td>\n",
       "      <td>1.926</td>\n",
       "      <td>1.622</td>\n",
       "      <td>0.518</td>\n",
       "      <td>0.0</td>\n",
       "      <td>0.0</td>\n",
       "      <td>37.767</td>\n",
       "      <td>34.975</td>\n",
       "      <td>-1.657</td>\n",
       "      <td>-1.657</td>\n",
       "      <td>0.288</td>\n",
       "      <td>1.332</td>\n",
       "      <td>1.332</td>\n",
       "    </tr>\n",
       "    <tr>\n",
       "      <th>2013-01-01 02:15:00</th>\n",
       "      <td>0.377</td>\n",
       "      <td>0.545</td>\n",
       "      <td>-0.080</td>\n",
       "      <td>0.797</td>\n",
       "      <td>0.0</td>\n",
       "      <td>0.0</td>\n",
       "      <td>0.0</td>\n",
       "      <td>16.995</td>\n",
       "      <td>NaN</td>\n",
       "      <td>192.677</td>\n",
       "      <td>1.544</td>\n",
       "      <td>NaN</td>\n",
       "      <td>1.709</td>\n",
       "      <td>NaN</td>\n",
       "      <td>1.765</td>\n",
       "      <td>NaN</td>\n",
       "      <td>831.680</td>\n",
       "      <td>0.007</td>\n",
       "      <td>0.0</td>\n",
       "      <td>NaN</td>\n",
       "      <td>1.0</td>\n",
       "      <td>2.090</td>\n",
       "      <td>1.630</td>\n",
       "      <td>2.562</td>\n",
       "      <td>1.347</td>\n",
       "      <td>2.105</td>\n",
       "      <td>1.790</td>\n",
       "      <td>0.578</td>\n",
       "      <td>0.0</td>\n",
       "      <td>0.0</td>\n",
       "      <td>39.533</td>\n",
       "      <td>34.967</td>\n",
       "      <td>-0.567</td>\n",
       "      <td>-0.567</td>\n",
       "      <td>0.288</td>\n",
       "      <td>3.545</td>\n",
       "      <td>3.545</td>\n",
       "    </tr>\n",
       "    <tr>\n",
       "      <th>...</th>\n",
       "      <td>...</td>\n",
       "      <td>...</td>\n",
       "      <td>...</td>\n",
       "      <td>...</td>\n",
       "      <td>...</td>\n",
       "      <td>...</td>\n",
       "      <td>...</td>\n",
       "      <td>...</td>\n",
       "      <td>...</td>\n",
       "      <td>...</td>\n",
       "      <td>...</td>\n",
       "      <td>...</td>\n",
       "      <td>...</td>\n",
       "      <td>...</td>\n",
       "      <td>...</td>\n",
       "      <td>...</td>\n",
       "      <td>...</td>\n",
       "      <td>...</td>\n",
       "      <td>...</td>\n",
       "      <td>...</td>\n",
       "      <td>...</td>\n",
       "      <td>...</td>\n",
       "      <td>...</td>\n",
       "      <td>...</td>\n",
       "      <td>...</td>\n",
       "      <td>...</td>\n",
       "      <td>...</td>\n",
       "      <td>...</td>\n",
       "      <td>...</td>\n",
       "      <td>...</td>\n",
       "      <td>...</td>\n",
       "      <td>...</td>\n",
       "      <td>...</td>\n",
       "      <td>...</td>\n",
       "      <td>...</td>\n",
       "      <td>...</td>\n",
       "      <td>...</td>\n",
       "    </tr>\n",
       "    <tr>\n",
       "      <th>2022-12-31 21:45:00</th>\n",
       "      <td>-0.016</td>\n",
       "      <td>0.373</td>\n",
       "      <td>0.203</td>\n",
       "      <td>0.600</td>\n",
       "      <td>0.0</td>\n",
       "      <td>0.0</td>\n",
       "      <td>0.0</td>\n",
       "      <td>-0.735</td>\n",
       "      <td>-0.735</td>\n",
       "      <td>230.499</td>\n",
       "      <td>0.629</td>\n",
       "      <td>NaN</td>\n",
       "      <td>1.253</td>\n",
       "      <td>NaN</td>\n",
       "      <td>1.224</td>\n",
       "      <td>NaN</td>\n",
       "      <td>842.985</td>\n",
       "      <td>0.000</td>\n",
       "      <td>0.0</td>\n",
       "      <td>1.0</td>\n",
       "      <td>1.0</td>\n",
       "      <td>1.001</td>\n",
       "      <td>1.456</td>\n",
       "      <td>1.824</td>\n",
       "      <td>2.568</td>\n",
       "      <td>1.221</td>\n",
       "      <td>1.032</td>\n",
       "      <td>0.759</td>\n",
       "      <td>0.0</td>\n",
       "      <td>0.0</td>\n",
       "      <td>71.790</td>\n",
       "      <td>19.572</td>\n",
       "      <td>3.463</td>\n",
       "      <td>3.463</td>\n",
       "      <td>0.288</td>\n",
       "      <td>2.210</td>\n",
       "      <td>2.210</td>\n",
       "    </tr>\n",
       "    <tr>\n",
       "      <th>2022-12-31 22:15:00</th>\n",
       "      <td>0.105</td>\n",
       "      <td>-2.379</td>\n",
       "      <td>0.894</td>\n",
       "      <td>-1.433</td>\n",
       "      <td>0.0</td>\n",
       "      <td>0.0</td>\n",
       "      <td>0.0</td>\n",
       "      <td>4.724</td>\n",
       "      <td>4.724</td>\n",
       "      <td>231.788</td>\n",
       "      <td>3.518</td>\n",
       "      <td>3.518</td>\n",
       "      <td>0.803</td>\n",
       "      <td>NaN</td>\n",
       "      <td>3.518</td>\n",
       "      <td>3.518</td>\n",
       "      <td>842.976</td>\n",
       "      <td>0.000</td>\n",
       "      <td>0.0</td>\n",
       "      <td>0.0</td>\n",
       "      <td>0.0</td>\n",
       "      <td>1.139</td>\n",
       "      <td>1.697</td>\n",
       "      <td>2.085</td>\n",
       "      <td>2.959</td>\n",
       "      <td>1.356</td>\n",
       "      <td>1.174</td>\n",
       "      <td>0.838</td>\n",
       "      <td>0.0</td>\n",
       "      <td>0.0</td>\n",
       "      <td>62.627</td>\n",
       "      <td>19.577</td>\n",
       "      <td>5.283</td>\n",
       "      <td>5.283</td>\n",
       "      <td>0.288</td>\n",
       "      <td>3.327</td>\n",
       "      <td>3.327</td>\n",
       "    </tr>\n",
       "    <tr>\n",
       "      <th>2022-12-31 22:45:00</th>\n",
       "      <td>0.220</td>\n",
       "      <td>-0.515</td>\n",
       "      <td>0.926</td>\n",
       "      <td>-0.305</td>\n",
       "      <td>0.0</td>\n",
       "      <td>0.0</td>\n",
       "      <td>0.0</td>\n",
       "      <td>9.840</td>\n",
       "      <td>NaN</td>\n",
       "      <td>237.303</td>\n",
       "      <td>1.673</td>\n",
       "      <td>NaN</td>\n",
       "      <td>0.803</td>\n",
       "      <td>NaN</td>\n",
       "      <td>2.424</td>\n",
       "      <td>NaN</td>\n",
       "      <td>842.965</td>\n",
       "      <td>0.000</td>\n",
       "      <td>0.0</td>\n",
       "      <td>2.0</td>\n",
       "      <td>1.0</td>\n",
       "      <td>1.158</td>\n",
       "      <td>1.729</td>\n",
       "      <td>2.119</td>\n",
       "      <td>3.038</td>\n",
       "      <td>1.367</td>\n",
       "      <td>1.199</td>\n",
       "      <td>0.857</td>\n",
       "      <td>0.0</td>\n",
       "      <td>0.0</td>\n",
       "      <td>61.747</td>\n",
       "      <td>19.589</td>\n",
       "      <td>5.537</td>\n",
       "      <td>5.537</td>\n",
       "      <td>0.288</td>\n",
       "      <td>3.467</td>\n",
       "      <td>3.467</td>\n",
       "    </tr>\n",
       "    <tr>\n",
       "      <th>2022-12-31 23:15:00</th>\n",
       "      <td>0.059</td>\n",
       "      <td>0.847</td>\n",
       "      <td>0.843</td>\n",
       "      <td>1.014</td>\n",
       "      <td>0.0</td>\n",
       "      <td>0.0</td>\n",
       "      <td>0.0</td>\n",
       "      <td>2.653</td>\n",
       "      <td>2.653</td>\n",
       "      <td>251.268</td>\n",
       "      <td>0.266</td>\n",
       "      <td>NaN</td>\n",
       "      <td>0.803</td>\n",
       "      <td>NaN</td>\n",
       "      <td>1.017</td>\n",
       "      <td>NaN</td>\n",
       "      <td>843.057</td>\n",
       "      <td>0.000</td>\n",
       "      <td>0.0</td>\n",
       "      <td>0.0</td>\n",
       "      <td>2.0</td>\n",
       "      <td>1.112</td>\n",
       "      <td>1.646</td>\n",
       "      <td>2.031</td>\n",
       "      <td>2.942</td>\n",
       "      <td>1.311</td>\n",
       "      <td>1.159</td>\n",
       "      <td>0.843</td>\n",
       "      <td>0.0</td>\n",
       "      <td>0.0</td>\n",
       "      <td>65.427</td>\n",
       "      <td>19.609</td>\n",
       "      <td>4.963</td>\n",
       "      <td>4.963</td>\n",
       "      <td>0.288</td>\n",
       "      <td>3.010</td>\n",
       "      <td>3.010</td>\n",
       "    </tr>\n",
       "    <tr>\n",
       "      <th>2022-12-31 23:45:00</th>\n",
       "      <td>0.328</td>\n",
       "      <td>-1.049</td>\n",
       "      <td>0.754</td>\n",
       "      <td>-0.023</td>\n",
       "      <td>0.0</td>\n",
       "      <td>0.0</td>\n",
       "      <td>0.0</td>\n",
       "      <td>14.700</td>\n",
       "      <td>14.700</td>\n",
       "      <td>244.312</td>\n",
       "      <td>2.281</td>\n",
       "      <td>NaN</td>\n",
       "      <td>1.104</td>\n",
       "      <td>NaN</td>\n",
       "      <td>2.281</td>\n",
       "      <td>NaN</td>\n",
       "      <td>843.050</td>\n",
       "      <td>0.000</td>\n",
       "      <td>0.0</td>\n",
       "      <td>0.0</td>\n",
       "      <td>0.0</td>\n",
       "      <td>1.232</td>\n",
       "      <td>1.859</td>\n",
       "      <td>2.258</td>\n",
       "      <td>3.298</td>\n",
       "      <td>1.426</td>\n",
       "      <td>1.286</td>\n",
       "      <td>0.916</td>\n",
       "      <td>0.0</td>\n",
       "      <td>0.0</td>\n",
       "      <td>59.667</td>\n",
       "      <td>19.631</td>\n",
       "      <td>6.490</td>\n",
       "      <td>6.490</td>\n",
       "      <td>0.288</td>\n",
       "      <td>3.905</td>\n",
       "      <td>3.905</td>\n",
       "    </tr>\n",
       "  </tbody>\n",
       "</table>\n",
       "<p>175296 rows × 37 columns</p>\n",
       "</div>"
      ],
      "text/plain": [
       "                      ET_f  GPP_CUT_16_f  GPP_CUT_84_f  GPP_CUT_REF_f  GPP_DT_CUT_16  GPP_DT_CUT_84  GPP_DT_CUT_REF    LE_f  LE_orig    LW_IN  NEE_CUT_16_f  NEE_CUT_16_orig  NEE_CUT_84_f  NEE_CUT_84_orig  NEE_CUT_REF_f  NEE_CUT_REF_orig       PA   PPFD  PREC_TOT_T1_25+20_1  QCF_LE  QCF_NEE  Reco_CUT_16  Reco_CUT_84  Reco_CUT_REF  Reco_DT_CUT_16  Reco_DT_CUT_84  Reco_DT_CUT_REF  Reco_DT_CUT_REF_SD  Rg_f  Rg_orig      RH  SWC_FF0_0.15_1  Tair_f  Tair_orig  Ustar_CUT_REF_Thres  VPD_f  VPD_orig\n",
       "TIMESTAMP_MIDDLE                                                                                                                                                                                                                                                                                                                                                                                                                                                                                               \n",
       "2013-01-01 00:15:00  0.290         0.510        -0.082          0.705            0.0            0.0             0.0  13.093      NaN  194.913         1.376              NaN         1.537              NaN          1.595               NaN  832.520  0.017                  0.0     NaN      1.0        1.886        1.455         2.300           1.252           1.908            1.613               0.510   0.0      0.0  31.933          34.977  -1.618     -1.618                0.288  1.339     1.339\n",
       "2013-01-01 00:45:00  0.290         0.512        -0.084          0.708            0.0            0.0             0.0  13.093      NaN  193.568         1.376              NaN         1.537              NaN          1.595               NaN  832.430  0.031                  0.0     NaN      NaN        1.888        1.454         2.303           1.241           1.914            1.616               0.512   0.0      0.0  32.600          34.977  -1.630     -1.630                0.288  1.337     1.337\n",
       "2013-01-01 01:15:00  0.290         0.514        -0.086          0.710            0.0            0.0             0.0  13.066      NaN  193.135         1.376              NaN         1.537              NaN          1.595               NaN  832.207 -0.006                  0.0     NaN      1.0        1.890        1.452         2.305           1.230           1.920            1.619               0.515   0.0      0.0  38.867          34.971  -1.644     -1.644                0.288  1.335     1.335\n",
       "2013-01-01 01:45:00  0.290         1.354        -0.088          1.771            0.0            0.0             0.0  13.066      NaN  192.083         0.538            0.538         1.537              NaN          0.538             0.538  831.903 -0.018                  0.0     NaN      0.0        1.892        1.450         2.308           1.219           1.926            1.622               0.518   0.0      0.0  37.767          34.975  -1.657     -1.657                0.288  1.332     1.332\n",
       "2013-01-01 02:15:00  0.377         0.545        -0.080          0.797            0.0            0.0             0.0  16.995      NaN  192.677         1.544              NaN         1.709              NaN          1.765               NaN  831.680  0.007                  0.0     NaN      1.0        2.090        1.630         2.562           1.347           2.105            1.790               0.578   0.0      0.0  39.533          34.967  -0.567     -0.567                0.288  3.545     3.545\n",
       "...                    ...           ...           ...            ...            ...            ...             ...     ...      ...      ...           ...              ...           ...              ...            ...               ...      ...    ...                  ...     ...      ...          ...          ...           ...             ...             ...              ...                 ...   ...      ...     ...             ...     ...        ...                  ...    ...       ...\n",
       "2022-12-31 21:45:00 -0.016         0.373         0.203          0.600            0.0            0.0             0.0  -0.735   -0.735  230.499         0.629              NaN         1.253              NaN          1.224               NaN  842.985  0.000                  0.0     1.0      1.0        1.001        1.456         1.824           2.568           1.221            1.032               0.759   0.0      0.0  71.790          19.572   3.463      3.463                0.288  2.210     2.210\n",
       "2022-12-31 22:15:00  0.105        -2.379         0.894         -1.433            0.0            0.0             0.0   4.724    4.724  231.788         3.518            3.518         0.803              NaN          3.518             3.518  842.976  0.000                  0.0     0.0      0.0        1.139        1.697         2.085           2.959           1.356            1.174               0.838   0.0      0.0  62.627          19.577   5.283      5.283                0.288  3.327     3.327\n",
       "2022-12-31 22:45:00  0.220        -0.515         0.926         -0.305            0.0            0.0             0.0   9.840      NaN  237.303         1.673              NaN         0.803              NaN          2.424               NaN  842.965  0.000                  0.0     2.0      1.0        1.158        1.729         2.119           3.038           1.367            1.199               0.857   0.0      0.0  61.747          19.589   5.537      5.537                0.288  3.467     3.467\n",
       "2022-12-31 23:15:00  0.059         0.847         0.843          1.014            0.0            0.0             0.0   2.653    2.653  251.268         0.266              NaN         0.803              NaN          1.017               NaN  843.057  0.000                  0.0     0.0      2.0        1.112        1.646         2.031           2.942           1.311            1.159               0.843   0.0      0.0  65.427          19.609   4.963      4.963                0.288  3.010     3.010\n",
       "2022-12-31 23:45:00  0.328        -1.049         0.754         -0.023            0.0            0.0             0.0  14.700   14.700  244.312         2.281              NaN         1.104              NaN          2.281               NaN  843.050  0.000                  0.0     0.0      0.0        1.232        1.859         2.258           3.298           1.426            1.286               0.916   0.0      0.0  59.667          19.631   6.490      6.490                0.288  3.905     3.905\n",
       "\n",
       "[175296 rows x 37 columns]"
      ]
     },
     "execution_count": 4,
     "metadata": {},
     "output_type": "execute_result"
    }
   ],
   "source": [
    "df"
   ]
  },
  {
   "cell_type": "markdown",
   "metadata": {},
   "source": [
    "</br>"
   ]
  },
  {
   "cell_type": "markdown",
   "metadata": {},
   "source": [
    "</br>"
   ]
  },
  {
   "cell_type": "markdown",
   "metadata": {},
   "source": [
    "# **Calculation of flags from potential radiation**"
   ]
  },
  {
   "cell_type": "code",
   "execution_count": 5,
   "metadata": {
    "ExecuteTime": {
     "end_time": "2024-08-22T14:02:54.883505Z",
     "start_time": "2024-08-22T14:02:54.558807Z"
    },
    "tags": []
   },
   "outputs": [],
   "source": [
    "dnf = DaytimeNighttimeFlag(\n",
    "    timestamp_index=df.index,\n",
    "    nighttime_threshold=1,\n",
    "    lat=47.286417,\n",
    "    lon=7.733750,\n",
    "    utc_offset=1\n",
    ")"
   ]
  },
  {
   "cell_type": "markdown",
   "metadata": {},
   "source": [
    "## Results"
   ]
  },
  {
   "cell_type": "code",
   "execution_count": 6,
   "metadata": {
    "ExecuteTime": {
     "end_time": "2024-08-22T14:02:55.134401Z",
     "start_time": "2024-08-22T14:02:55.083023Z"
    },
    "tags": []
   },
   "outputs": [
    {
     "data": {
      "text/html": [
       "<div>\n",
       "<style scoped>\n",
       "    .dataframe tbody tr th:only-of-type {\n",
       "        vertical-align: middle;\n",
       "    }\n",
       "\n",
       "    .dataframe tbody tr th {\n",
       "        vertical-align: top;\n",
       "    }\n",
       "\n",
       "    .dataframe thead th {\n",
       "        text-align: right;\n",
       "    }\n",
       "</style>\n",
       "<table border=\"1\" class=\"dataframe\">\n",
       "  <thead>\n",
       "    <tr style=\"text-align: right;\">\n",
       "      <th></th>\n",
       "      <th>SW_IN_POT</th>\n",
       "      <th>DAYTIME</th>\n",
       "      <th>NIGHTTIME</th>\n",
       "    </tr>\n",
       "    <tr>\n",
       "      <th>TIMESTAMP_MIDDLE</th>\n",
       "      <th></th>\n",
       "      <th></th>\n",
       "      <th></th>\n",
       "    </tr>\n",
       "  </thead>\n",
       "  <tbody>\n",
       "    <tr>\n",
       "      <th>2013-01-01 00:15:00</th>\n",
       "      <td>0.0</td>\n",
       "      <td>0.0</td>\n",
       "      <td>1.0</td>\n",
       "    </tr>\n",
       "    <tr>\n",
       "      <th>2013-01-01 00:45:00</th>\n",
       "      <td>0.0</td>\n",
       "      <td>0.0</td>\n",
       "      <td>1.0</td>\n",
       "    </tr>\n",
       "    <tr>\n",
       "      <th>2013-01-01 01:15:00</th>\n",
       "      <td>0.0</td>\n",
       "      <td>0.0</td>\n",
       "      <td>1.0</td>\n",
       "    </tr>\n",
       "    <tr>\n",
       "      <th>2013-01-01 01:45:00</th>\n",
       "      <td>0.0</td>\n",
       "      <td>0.0</td>\n",
       "      <td>1.0</td>\n",
       "    </tr>\n",
       "    <tr>\n",
       "      <th>2013-01-01 02:15:00</th>\n",
       "      <td>0.0</td>\n",
       "      <td>0.0</td>\n",
       "      <td>1.0</td>\n",
       "    </tr>\n",
       "    <tr>\n",
       "      <th>...</th>\n",
       "      <td>...</td>\n",
       "      <td>...</td>\n",
       "      <td>...</td>\n",
       "    </tr>\n",
       "    <tr>\n",
       "      <th>2022-12-31 21:45:00</th>\n",
       "      <td>0.0</td>\n",
       "      <td>0.0</td>\n",
       "      <td>1.0</td>\n",
       "    </tr>\n",
       "    <tr>\n",
       "      <th>2022-12-31 22:15:00</th>\n",
       "      <td>0.0</td>\n",
       "      <td>0.0</td>\n",
       "      <td>1.0</td>\n",
       "    </tr>\n",
       "    <tr>\n",
       "      <th>2022-12-31 22:45:00</th>\n",
       "      <td>0.0</td>\n",
       "      <td>0.0</td>\n",
       "      <td>1.0</td>\n",
       "    </tr>\n",
       "    <tr>\n",
       "      <th>2022-12-31 23:15:00</th>\n",
       "      <td>0.0</td>\n",
       "      <td>0.0</td>\n",
       "      <td>1.0</td>\n",
       "    </tr>\n",
       "    <tr>\n",
       "      <th>2022-12-31 23:45:00</th>\n",
       "      <td>0.0</td>\n",
       "      <td>0.0</td>\n",
       "      <td>1.0</td>\n",
       "    </tr>\n",
       "  </tbody>\n",
       "</table>\n",
       "<p>175296 rows × 3 columns</p>\n",
       "</div>"
      ],
      "text/plain": [
       "                     SW_IN_POT  DAYTIME  NIGHTTIME\n",
       "TIMESTAMP_MIDDLE                                  \n",
       "2013-01-01 00:15:00        0.0      0.0        1.0\n",
       "2013-01-01 00:45:00        0.0      0.0        1.0\n",
       "2013-01-01 01:15:00        0.0      0.0        1.0\n",
       "2013-01-01 01:45:00        0.0      0.0        1.0\n",
       "2013-01-01 02:15:00        0.0      0.0        1.0\n",
       "...                        ...      ...        ...\n",
       "2022-12-31 21:45:00        0.0      0.0        1.0\n",
       "2022-12-31 22:15:00        0.0      0.0        1.0\n",
       "2022-12-31 22:45:00        0.0      0.0        1.0\n",
       "2022-12-31 23:15:00        0.0      0.0        1.0\n",
       "2022-12-31 23:45:00        0.0      0.0        1.0\n",
       "\n",
       "[175296 rows x 3 columns]"
      ]
     },
     "execution_count": 6,
     "metadata": {},
     "output_type": "execute_result"
    }
   ],
   "source": [
    "results = dnf.get_results()\n",
    "results"
   ]
  },
  {
   "cell_type": "code",
   "execution_count": 7,
   "metadata": {
    "ExecuteTime": {
     "end_time": "2024-08-22T14:02:55.304468Z",
     "start_time": "2024-08-22T14:02:55.272553Z"
    }
   },
   "outputs": [
    {
     "data": {
      "text/plain": [
       "TIMESTAMP_MIDDLE\n",
       "2013-01-01 00:15:00    0.0\n",
       "2013-01-01 00:45:00    0.0\n",
       "2013-01-01 01:15:00    0.0\n",
       "2013-01-01 01:45:00    0.0\n",
       "2013-01-01 02:15:00    0.0\n",
       "                      ... \n",
       "2022-12-31 21:45:00    0.0\n",
       "2022-12-31 22:15:00    0.0\n",
       "2022-12-31 22:45:00    0.0\n",
       "2022-12-31 23:15:00    0.0\n",
       "2022-12-31 23:45:00    0.0\n",
       "Freq: 30min, Name: SW_IN_POT, Length: 175296, dtype: float64"
      ]
     },
     "execution_count": 7,
     "metadata": {},
     "output_type": "execute_result"
    }
   ],
   "source": [
    "dnf.get_swinpot()"
   ]
  },
  {
   "cell_type": "code",
   "execution_count": 8,
   "metadata": {
    "ExecuteTime": {
     "end_time": "2024-08-22T14:02:55.536415Z",
     "start_time": "2024-08-22T14:02:55.511966Z"
    }
   },
   "outputs": [
    {
     "data": {
      "text/plain": [
       "TIMESTAMP_MIDDLE\n",
       "2013-01-01 00:15:00    0.0\n",
       "2013-01-01 00:45:00    0.0\n",
       "2013-01-01 01:15:00    0.0\n",
       "2013-01-01 01:45:00    0.0\n",
       "2013-01-01 02:15:00    0.0\n",
       "                      ... \n",
       "2022-12-31 21:45:00    0.0\n",
       "2022-12-31 22:15:00    0.0\n",
       "2022-12-31 22:45:00    0.0\n",
       "2022-12-31 23:15:00    0.0\n",
       "2022-12-31 23:45:00    0.0\n",
       "Freq: 30min, Name: DAYTIME, Length: 175296, dtype: float64"
      ]
     },
     "execution_count": 8,
     "metadata": {},
     "output_type": "execute_result"
    }
   ],
   "source": [
    "dnf.get_daytime_flag()"
   ]
  },
  {
   "cell_type": "code",
   "execution_count": 9,
   "metadata": {
    "ExecuteTime": {
     "end_time": "2024-08-22T14:02:55.834174Z",
     "start_time": "2024-08-22T14:02:55.795759Z"
    }
   },
   "outputs": [
    {
     "data": {
      "text/plain": [
       "TIMESTAMP_MIDDLE\n",
       "2013-01-01 00:15:00    1.0\n",
       "2013-01-01 00:45:00    1.0\n",
       "2013-01-01 01:15:00    1.0\n",
       "2013-01-01 01:45:00    1.0\n",
       "2013-01-01 02:15:00    1.0\n",
       "                      ... \n",
       "2022-12-31 21:45:00    1.0\n",
       "2022-12-31 22:15:00    1.0\n",
       "2022-12-31 22:45:00    1.0\n",
       "2022-12-31 23:15:00    1.0\n",
       "2022-12-31 23:45:00    1.0\n",
       "Freq: 30min, Name: NIGHTTIME, Length: 175296, dtype: float64"
      ]
     },
     "execution_count": 9,
     "metadata": {},
     "output_type": "execute_result"
    }
   ],
   "source": [
    "dnf.get_nighttime_flag()"
   ]
  },
  {
   "cell_type": "markdown",
   "metadata": {},
   "source": [
    "</br>"
   ]
  },
  {
   "cell_type": "markdown",
   "metadata": {},
   "source": [
    "</br>"
   ]
  },
  {
   "cell_type": "markdown",
   "metadata": {},
   "source": [
    "# **Plot some variables**"
   ]
  },
  {
   "cell_type": "code",
   "execution_count": 10,
   "metadata": {
    "ExecuteTime": {
     "end_time": "2024-08-22T14:03:08.288343Z",
     "start_time": "2024-08-22T14:02:56.443735Z"
    },
    "tags": []
   },
   "outputs": [
    {
     "data": {
      "image/png": "[encoded data removed]",
      "text/plain": [
       "<Figure size 1600x900 with 6 Axes>"
      ]
     },
     "metadata": {},
     "output_type": "display_data"
    }
   ],
   "source": [
    "fig = plt.figure(facecolor='white', figsize=(16, 9))\n",
    "gs = gridspec.GridSpec(1, 3)  # rows, cols\n",
    "gs.update(wspace=0.3, hspace=0.3, left=0.03, right=0.97, top=0.97, bottom=0.03)\n",
    "ax_sw = fig.add_subplot(gs[0, 0])\n",
    "ax_dt = fig.add_subplot(gs[0, 1])\n",
    "ax_nt = fig.add_subplot(gs[0, 2])\n",
    "HeatmapDateTime(ax=ax_sw, series=dnf.get_swinpot()).plot()\n",
    "HeatmapDateTime(ax=ax_dt, series=dnf.get_daytime_flag()).plot()\n",
    "HeatmapDateTime(ax=ax_nt, series=dnf.get_nighttime_flag()).plot()\n",
    "ax_sw.set_title(\"SW_IN_POT\", color='black')\n",
    "ax_dt.set_title(\"DAYTIME FLAG\", color='black')\n",
    "ax_nt.set_title(\"NIGHTTIME FLAG\", color='black')\n",
    "ax_dt.tick_params(left=True, right=False, top=False, bottom=True,\n",
    "                  labelleft=False, labelright=False, labeltop=False, labelbottom=True)\n",
    "ax_nt.tick_params(left=True, right=False, top=False, bottom=True,\n",
    "                  labelleft=False, labelright=False, labeltop=False, labelbottom=True)"
   ]
  },
  {
   "cell_type": "markdown",
   "metadata": {},
   "source": [
    "</br>"
   ]
  },
  {
   "cell_type": "markdown",
   "metadata": {
    "tags": []
   },
   "source": [
    "# **End of notebook**"
   ]
  },
  {
   "cell_type": "code",
   "execution_count": 11,
   "metadata": {
    "ExecuteTime": {
     "end_time": "2024-08-22T14:03:08.423493Z",
     "start_time": "2024-08-22T14:03:08.413519Z"
    },
    "tags": []
   },
   "outputs": [
    {
     "name": "stdout",
     "output_type": "stream",
     "text": [
      "Finished 2024-10-24 13:42:12\n"
     ]
    }
   ],
   "source": [
    "dt_string = datetime.now().strftime(\"%Y-%m-%d %H:%M:%S\")\n",
    "print(f\"Finished {dt_string}\")"
   ]
  },
  {
   "cell_type": "code",
   "execution_count": null,
   "metadata": {
    "ExecuteTime": {
     "end_time": "2024-08-22T14:03:08.579101Z",
     "start_time": "2024-08-22T14:03:08.572119Z"
    }
   },
   "outputs": [],
   "source": []
  }
 ],
 "metadata": {
  "kernelspec": {
   "display_name": "Python 3 (ipykernel)",
   "language": "python",
   "name": "python3"
  },
  "language_info": {
   "codemirror_mode": {
    "name": "ipython",
    "version": 3
   },
   "file_extension": ".py",
   "mimetype": "text/x-python",
   "name": "python",
   "nbconvert_exporter": "python",
   "pygments_lexer": "ipython3",
   "version": "3.11.10"
  }
 },
 "nbformat": 4,
 "nbformat_minor": 4
}
