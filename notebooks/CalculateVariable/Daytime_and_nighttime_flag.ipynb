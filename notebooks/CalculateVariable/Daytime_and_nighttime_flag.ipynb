{
 "cells": [
  {
   "cell_type": "markdown",
   "metadata": {},
   "source": [
    "![lop](../../images/logo_diive1_128px.png)"
   ]
  },
  {
   "cell_type": "markdown",
   "metadata": {},
   "source": [
    "<span style='font-size:28px; display:block;'>\n",
    "<b>\n",
    "    Calculate daytime flag, nighttime flag and potential radiation from latitude and longitude\n",
    "</b>\n",
    "</span>"
   ]
  },
  {
   "cell_type": "markdown",
   "metadata": {},
   "source": [
    "---\n",
    "**Notebook version**: `2` (23 Mar 2024)  \n",
    "**Author**: Lukas Hörtnagl (holukas@ethz.ch)  "
   ]
  },
  {
   "cell_type": "markdown",
   "metadata": {},
   "source": [
    "</br>"
   ]
  },
  {
   "cell_type": "markdown",
   "metadata": {},
   "source": [
    "# **Description**"
   ]
  },
  {
   "cell_type": "markdown",
   "metadata": {},
   "source": [
    "- Calculation of two flags for each record:\n",
    "    - Daytime flag, where daytime=1 and nighttime=0\n",
    "    - Nighttime flag, where daytime=0 and nighttime=1\n",
    "- Both flags are calculated from potential radiation, whereby values below a specified threshold are nighttime\n",
    "- Potential radiation is calculated from latitude and longitude"
   ]
  },
  {
   "cell_type": "markdown",
   "metadata": {},
   "source": [
    "</br>"
   ]
  },
  {
   "cell_type": "markdown",
   "metadata": {},
   "source": [
    "# **Imports**"
   ]
  },
  {
   "cell_type": "code",
   "execution_count": 1,
   "metadata": {
    "ExecuteTime": {
     "end_time": "2023-04-15T23:32:14.665420Z",
     "start_time": "2023-04-15T23:32:12.825689Z"
    },
    "tags": []
   },
   "outputs": [
    {
     "name": "stdout",
     "output_type": "stream",
     "text": [
      "diive version: v0.71.6\n"
     ]
    }
   ],
   "source": [
    "import importlib.metadata\n",
    "from datetime import datetime\n",
    "from pathlib import Path\n",
    "import matplotlib.pyplot as plt\n",
    "import matplotlib.gridspec as gridspec\n",
    "from diive.configs.exampledata import load_exampledata_parquet\n",
    "from diive.pkgs.createvar.daynightflag import DaytimeNighttimeFlag\n",
    "from diive.core.plotting.heatmap_datetime import HeatmapDateTime\n",
    "\n",
    "version_diive = importlib.metadata.version(\"diive\")\n",
    "print(f\"diive version: v{version_diive}\")"
   ]
  },
  {
   "cell_type": "markdown",
   "metadata": {},
   "source": [
    "</br>"
   ]
  },
  {
   "cell_type": "markdown",
   "metadata": {},
   "source": [
    "# **Docstring**"
   ]
  },
  {
   "cell_type": "code",
   "execution_count": 2,
   "metadata": {
    "tags": []
   },
   "outputs": [
    {
     "name": "stdout",
     "output_type": "stream",
     "text": [
      "Help on class DaytimeNighttimeFlag in module diive.pkgs.createvar.daynightflag:\n",
      "\n",
      "class DaytimeNighttimeFlag(builtins.object)\n",
      " |  DaytimeNighttimeFlag(timestamp_index: pandas.core.indexes.datetimes.DatetimeIndex, utc_offset: int, lat: float, lon: float, nighttime_threshold: float = 50)\n",
      " |  \n",
      " |  Methods defined here:\n",
      " |  \n",
      " |  __init__(self, timestamp_index: pandas.core.indexes.datetimes.DatetimeIndex, utc_offset: int, lat: float, lon: float, nighttime_threshold: float = 50)\n",
      " |      Calculate flags to identify daytime and nighttime data from potential radiation.\n",
      " |      \n",
      " |      Args:\n",
      " |          timestamp_index: Time series index, flags and potential radiation\n",
      " |              are calculated using this index\n",
      " |          utc_offset: UTC offset of *timestamp_index*, e.g. 1 for UTC+01:00\n",
      " |          lat: Latitude\n",
      " |          lon: Longitude\n",
      " |          nighttime_threshold: Threshold for potential radiation below which data\n",
      " |              are flagged as nighttime (W m-2)\n",
      " |      \n",
      " |      - Example notebook available in:\n",
      " |          notebooks/CalculateVariable/DaytimeNighttimeFlag.ipynb\n",
      " |  \n",
      " |  get_daytime_flag(self) -> pandas.core.series.Series\n",
      " |      Return daytime flag where 1=daytime, 0=nighttime\n",
      " |  \n",
      " |  get_nighttime_flag(self) -> pandas.core.series.Series\n",
      " |      Return nighttime flag where 0=daytime, 1=nighttime\n",
      " |  \n",
      " |  get_results(self) -> pandas.core.frame.DataFrame\n",
      " |      Return dataframe with results\n",
      " |  \n",
      " |  get_swinpot(self) -> pandas.core.series.Series\n",
      " |      Return potential radiation\n",
      " |  \n",
      " |  ----------------------------------------------------------------------\n",
      " |  Readonly properties defined here:\n",
      " |  \n",
      " |  df\n",
      " |      Get dataframe with potential radiation and daytime/nighttime flags\n",
      " |  \n",
      " |  ----------------------------------------------------------------------\n",
      " |  Data descriptors defined here:\n",
      " |  \n",
      " |  __dict__\n",
      " |      dictionary for instance variables (if defined)\n",
      " |  \n",
      " |  __weakref__\n",
      " |      list of weak references to the object (if defined)\n",
      " |  \n",
      " |  ----------------------------------------------------------------------\n",
      " |  Data and other attributes defined here:\n",
      " |  \n",
      " |  daytime_col = 'DAYTIME'\n",
      " |  \n",
      " |  nighttime_col = 'NIGHTTIME'\n",
      " |  \n",
      " |  swinpot_col = 'SW_IN_POT'\n",
      "\n"
     ]
    }
   ],
   "source": [
    "help(DaytimeNighttimeFlag)"
   ]
  },
  {
   "cell_type": "markdown",
   "metadata": {},
   "source": [
    "</br>"
   ]
  },
  {
   "cell_type": "markdown",
   "metadata": {},
   "source": [
    "</br>"
   ]
  },
  {
   "cell_type": "markdown",
   "metadata": {},
   "source": [
    "# **Load example data**"
   ]
  },
  {
   "cell_type": "code",
   "execution_count": 3,
   "metadata": {
    "tags": []
   },
   "outputs": [
    {
     "name": "stdout",
     "output_type": "stream",
     "text": [
      "Loaded .parquet file L:\\Sync\\luhk_work\\20 - CODING\\21 - DIIVE\\diive\\diive\\configs\\exampledata\\exampledata_CH-DAV_FP2022.5_2013-2022_ID20230206154316_30MIN.parquet (0.055 seconds). Detected time resolution of <30 * Minutes> / 30T \n"
     ]
    }
   ],
   "source": [
    "df = load_exampledata_parquet()"
   ]
  },
  {
   "cell_type": "code",
   "execution_count": 4,
   "metadata": {
    "tags": []
   },
   "outputs": [
    {
     "data": {
      "text/html": [
       "<div>\n",
       "<style scoped>\n",
       "    .dataframe tbody tr th:only-of-type {\n",
       "        vertical-align: middle;\n",
       "    }\n",
       "\n",
       "    .dataframe tbody tr th {\n",
       "        vertical-align: top;\n",
       "    }\n",
       "\n",
       "    .dataframe thead th {\n",
       "        text-align: right;\n",
       "    }\n",
       "</style>\n",
       "<table border=\"1\" class=\"dataframe\">\n",
       "  <thead>\n",
       "    <tr style=\"text-align: right;\">\n",
       "      <th></th>\n",
       "      <th>ET_f</th>\n",
       "      <th>GPP_CUT_16_f</th>\n",
       "      <th>GPP_CUT_84_f</th>\n",
       "      <th>GPP_CUT_REF_f</th>\n",
       "      <th>GPP_CUT_REF_fqc</th>\n",
       "      <th>GPP_DT_CUT_16</th>\n",
       "      <th>GPP_DT_CUT_84</th>\n",
       "      <th>GPP_DT_CUT_REF</th>\n",
       "      <th>GPP_DT_CUT_REF_SD</th>\n",
       "      <th>LE_f</th>\n",
       "      <th>LE_orig</th>\n",
       "      <th>LW_IN</th>\n",
       "      <th>NEE_CUT_16_f</th>\n",
       "      <th>NEE_CUT_16_orig</th>\n",
       "      <th>NEE_CUT_84_f</th>\n",
       "      <th>...</th>\n",
       "      <th>Reco_CUT_REF</th>\n",
       "      <th>Reco_DT_CUT_16</th>\n",
       "      <th>Reco_DT_CUT_84</th>\n",
       "      <th>Reco_DT_CUT_REF</th>\n",
       "      <th>Reco_DT_CUT_REF_SD</th>\n",
       "      <th>Rg_f</th>\n",
       "      <th>Rg_orig</th>\n",
       "      <th>RH</th>\n",
       "      <th>SWC_FF0_0.15_1</th>\n",
       "      <th>Tair_f</th>\n",
       "      <th>Tair_orig</th>\n",
       "      <th>Ustar_CUT_REF_fqc</th>\n",
       "      <th>Ustar_CUT_REF_Thres</th>\n",
       "      <th>VPD_f</th>\n",
       "      <th>VPD_orig</th>\n",
       "    </tr>\n",
       "    <tr>\n",
       "      <th>TIMESTAMP_MIDDLE</th>\n",
       "      <th></th>\n",
       "      <th></th>\n",
       "      <th></th>\n",
       "      <th></th>\n",
       "      <th></th>\n",
       "      <th></th>\n",
       "      <th></th>\n",
       "      <th></th>\n",
       "      <th></th>\n",
       "      <th></th>\n",
       "      <th></th>\n",
       "      <th></th>\n",
       "      <th></th>\n",
       "      <th></th>\n",
       "      <th></th>\n",
       "      <th></th>\n",
       "      <th></th>\n",
       "      <th></th>\n",
       "      <th></th>\n",
       "      <th></th>\n",
       "      <th></th>\n",
       "      <th></th>\n",
       "      <th></th>\n",
       "      <th></th>\n",
       "      <th></th>\n",
       "      <th></th>\n",
       "      <th></th>\n",
       "      <th></th>\n",
       "      <th></th>\n",
       "      <th></th>\n",
       "      <th></th>\n",
       "    </tr>\n",
       "  </thead>\n",
       "  <tbody>\n",
       "    <tr>\n",
       "      <th>2013-01-01 00:15:00</th>\n",
       "      <td>0.290134</td>\n",
       "      <td>0.509709</td>\n",
       "      <td>-0.082120</td>\n",
       "      <td>0.704570</td>\n",
       "      <td>1.0</td>\n",
       "      <td>0.0</td>\n",
       "      <td>0.0</td>\n",
       "      <td>0.0</td>\n",
       "      <td>0.0</td>\n",
       "      <td>13.092806</td>\n",
       "      <td>NaN</td>\n",
       "      <td>194.913214</td>\n",
       "      <td>1.376122</td>\n",
       "      <td>NaN</td>\n",
       "      <td>1.537436</td>\n",
       "      <td>...</td>\n",
       "      <td>2.300025</td>\n",
       "      <td>1.251884</td>\n",
       "      <td>1.907757</td>\n",
       "      <td>1.613003</td>\n",
       "      <td>0.509600</td>\n",
       "      <td>0.0</td>\n",
       "      <td>0.0</td>\n",
       "      <td>31.933333</td>\n",
       "      <td>34.976620</td>\n",
       "      <td>-1.618000</td>\n",
       "      <td>-1.618000</td>\n",
       "      <td>0.0</td>\n",
       "      <td>0.287644</td>\n",
       "      <td>1.339000</td>\n",
       "      <td>1.339000</td>\n",
       "    </tr>\n",
       "    <tr>\n",
       "      <th>2013-01-01 00:45:00</th>\n",
       "      <td>0.290130</td>\n",
       "      <td>0.511877</td>\n",
       "      <td>-0.083807</td>\n",
       "      <td>0.707522</td>\n",
       "      <td>1.0</td>\n",
       "      <td>0.0</td>\n",
       "      <td>0.0</td>\n",
       "      <td>0.0</td>\n",
       "      <td>0.0</td>\n",
       "      <td>13.092806</td>\n",
       "      <td>NaN</td>\n",
       "      <td>193.567693</td>\n",
       "      <td>1.376122</td>\n",
       "      <td>NaN</td>\n",
       "      <td>1.537436</td>\n",
       "      <td>...</td>\n",
       "      <td>2.302977</td>\n",
       "      <td>1.241100</td>\n",
       "      <td>1.913934</td>\n",
       "      <td>1.616019</td>\n",
       "      <td>0.512473</td>\n",
       "      <td>0.0</td>\n",
       "      <td>0.0</td>\n",
       "      <td>32.600000</td>\n",
       "      <td>34.976730</td>\n",
       "      <td>-1.630000</td>\n",
       "      <td>-1.630000</td>\n",
       "      <td>0.0</td>\n",
       "      <td>0.287644</td>\n",
       "      <td>1.337000</td>\n",
       "      <td>1.337000</td>\n",
       "    </tr>\n",
       "    <tr>\n",
       "      <th>2013-01-01 01:15:00</th>\n",
       "      <td>0.289530</td>\n",
       "      <td>0.513692</td>\n",
       "      <td>-0.085813</td>\n",
       "      <td>0.710022</td>\n",
       "      <td>1.0</td>\n",
       "      <td>0.0</td>\n",
       "      <td>0.0</td>\n",
       "      <td>0.0</td>\n",
       "      <td>0.0</td>\n",
       "      <td>13.065880</td>\n",
       "      <td>NaN</td>\n",
       "      <td>193.135202</td>\n",
       "      <td>1.376122</td>\n",
       "      <td>NaN</td>\n",
       "      <td>1.537436</td>\n",
       "      <td>...</td>\n",
       "      <td>2.305477</td>\n",
       "      <td>1.230092</td>\n",
       "      <td>1.919791</td>\n",
       "      <td>1.618733</td>\n",
       "      <td>0.515297</td>\n",
       "      <td>0.0</td>\n",
       "      <td>0.0</td>\n",
       "      <td>38.866667</td>\n",
       "      <td>34.971310</td>\n",
       "      <td>-1.644000</td>\n",
       "      <td>-1.644000</td>\n",
       "      <td>0.0</td>\n",
       "      <td>0.287644</td>\n",
       "      <td>1.335000</td>\n",
       "      <td>1.335000</td>\n",
       "    </tr>\n",
       "    <tr>\n",
       "      <th>2013-01-01 01:45:00</th>\n",
       "      <td>0.289526</td>\n",
       "      <td>1.354227</td>\n",
       "      <td>-0.087657</td>\n",
       "      <td>1.770620</td>\n",
       "      <td>0.0</td>\n",
       "      <td>0.0</td>\n",
       "      <td>0.0</td>\n",
       "      <td>0.0</td>\n",
       "      <td>0.0</td>\n",
       "      <td>13.065880</td>\n",
       "      <td>NaN</td>\n",
       "      <td>192.082736</td>\n",
       "      <td>0.537565</td>\n",
       "      <td>0.537565</td>\n",
       "      <td>1.537436</td>\n",
       "      <td>...</td>\n",
       "      <td>2.308185</td>\n",
       "      <td>1.219232</td>\n",
       "      <td>1.925787</td>\n",
       "      <td>1.621581</td>\n",
       "      <td>0.518213</td>\n",
       "      <td>0.0</td>\n",
       "      <td>0.0</td>\n",
       "      <td>37.766667</td>\n",
       "      <td>34.974970</td>\n",
       "      <td>-1.657000</td>\n",
       "      <td>-1.657000</td>\n",
       "      <td>0.0</td>\n",
       "      <td>0.287644</td>\n",
       "      <td>1.332000</td>\n",
       "      <td>1.332000</td>\n",
       "    </tr>\n",
       "    <tr>\n",
       "      <th>2013-01-01 02:15:00</th>\n",
       "      <td>0.376985</td>\n",
       "      <td>0.545335</td>\n",
       "      <td>-0.079582</td>\n",
       "      <td>0.796802</td>\n",
       "      <td>1.0</td>\n",
       "      <td>0.0</td>\n",
       "      <td>0.0</td>\n",
       "      <td>0.0</td>\n",
       "      <td>0.0</td>\n",
       "      <td>16.995263</td>\n",
       "      <td>NaN</td>\n",
       "      <td>192.677177</td>\n",
       "      <td>1.544471</td>\n",
       "      <td>NaN</td>\n",
       "      <td>1.709463</td>\n",
       "      <td>...</td>\n",
       "      <td>2.561882</td>\n",
       "      <td>1.346570</td>\n",
       "      <td>2.105211</td>\n",
       "      <td>1.790283</td>\n",
       "      <td>0.578416</td>\n",
       "      <td>0.0</td>\n",
       "      <td>0.0</td>\n",
       "      <td>39.533333</td>\n",
       "      <td>34.966570</td>\n",
       "      <td>-0.567000</td>\n",
       "      <td>-0.567000</td>\n",
       "      <td>1.0</td>\n",
       "      <td>0.287644</td>\n",
       "      <td>3.545000</td>\n",
       "      <td>3.545000</td>\n",
       "    </tr>\n",
       "    <tr>\n",
       "      <th>...</th>\n",
       "      <td>...</td>\n",
       "      <td>...</td>\n",
       "      <td>...</td>\n",
       "      <td>...</td>\n",
       "      <td>...</td>\n",
       "      <td>...</td>\n",
       "      <td>...</td>\n",
       "      <td>...</td>\n",
       "      <td>...</td>\n",
       "      <td>...</td>\n",
       "      <td>...</td>\n",
       "      <td>...</td>\n",
       "      <td>...</td>\n",
       "      <td>...</td>\n",
       "      <td>...</td>\n",
       "      <td>...</td>\n",
       "      <td>...</td>\n",
       "      <td>...</td>\n",
       "      <td>...</td>\n",
       "      <td>...</td>\n",
       "      <td>...</td>\n",
       "      <td>...</td>\n",
       "      <td>...</td>\n",
       "      <td>...</td>\n",
       "      <td>...</td>\n",
       "      <td>...</td>\n",
       "      <td>...</td>\n",
       "      <td>...</td>\n",
       "      <td>...</td>\n",
       "      <td>...</td>\n",
       "      <td>...</td>\n",
       "    </tr>\n",
       "    <tr>\n",
       "      <th>2022-12-31 21:45:00</th>\n",
       "      <td>-0.016362</td>\n",
       "      <td>0.372884</td>\n",
       "      <td>0.203050</td>\n",
       "      <td>0.599719</td>\n",
       "      <td>1.0</td>\n",
       "      <td>0.0</td>\n",
       "      <td>0.0</td>\n",
       "      <td>0.0</td>\n",
       "      <td>0.0</td>\n",
       "      <td>-0.734820</td>\n",
       "      <td>-0.73482</td>\n",
       "      <td>230.498649</td>\n",
       "      <td>0.628517</td>\n",
       "      <td>NaN</td>\n",
       "      <td>1.252629</td>\n",
       "      <td>...</td>\n",
       "      <td>1.823971</td>\n",
       "      <td>2.568115</td>\n",
       "      <td>1.221357</td>\n",
       "      <td>1.031544</td>\n",
       "      <td>0.758554</td>\n",
       "      <td>0.0</td>\n",
       "      <td>0.0</td>\n",
       "      <td>71.790000</td>\n",
       "      <td>19.571710</td>\n",
       "      <td>3.463333</td>\n",
       "      <td>3.463333</td>\n",
       "      <td>0.0</td>\n",
       "      <td>0.287644</td>\n",
       "      <td>2.210036</td>\n",
       "      <td>2.210036</td>\n",
       "    </tr>\n",
       "    <tr>\n",
       "      <th>2022-12-31 22:15:00</th>\n",
       "      <td>0.105363</td>\n",
       "      <td>-2.379376</td>\n",
       "      <td>0.893736</td>\n",
       "      <td>-1.433363</td>\n",
       "      <td>0.0</td>\n",
       "      <td>0.0</td>\n",
       "      <td>0.0</td>\n",
       "      <td>0.0</td>\n",
       "      <td>0.0</td>\n",
       "      <td>4.723780</td>\n",
       "      <td>4.72378</td>\n",
       "      <td>231.787766</td>\n",
       "      <td>3.517950</td>\n",
       "      <td>3.517950</td>\n",
       "      <td>0.802932</td>\n",
       "      <td>...</td>\n",
       "      <td>2.084587</td>\n",
       "      <td>2.959299</td>\n",
       "      <td>1.355551</td>\n",
       "      <td>1.173899</td>\n",
       "      <td>0.837950</td>\n",
       "      <td>0.0</td>\n",
       "      <td>0.0</td>\n",
       "      <td>62.626667</td>\n",
       "      <td>19.577070</td>\n",
       "      <td>5.283333</td>\n",
       "      <td>5.283333</td>\n",
       "      <td>0.0</td>\n",
       "      <td>0.287644</td>\n",
       "      <td>3.327497</td>\n",
       "      <td>3.327497</td>\n",
       "    </tr>\n",
       "    <tr>\n",
       "      <th>2022-12-31 22:45:00</th>\n",
       "      <td>0.219531</td>\n",
       "      <td>-0.515191</td>\n",
       "      <td>0.925969</td>\n",
       "      <td>-0.305039</td>\n",
       "      <td>1.0</td>\n",
       "      <td>0.0</td>\n",
       "      <td>0.0</td>\n",
       "      <td>0.0</td>\n",
       "      <td>0.0</td>\n",
       "      <td>9.839938</td>\n",
       "      <td>NaN</td>\n",
       "      <td>237.303455</td>\n",
       "      <td>1.672768</td>\n",
       "      <td>NaN</td>\n",
       "      <td>0.802932</td>\n",
       "      <td>...</td>\n",
       "      <td>2.119267</td>\n",
       "      <td>3.038077</td>\n",
       "      <td>1.366567</td>\n",
       "      <td>1.198887</td>\n",
       "      <td>0.857108</td>\n",
       "      <td>0.0</td>\n",
       "      <td>0.0</td>\n",
       "      <td>61.746667</td>\n",
       "      <td>19.588683</td>\n",
       "      <td>5.536667</td>\n",
       "      <td>5.536667</td>\n",
       "      <td>0.0</td>\n",
       "      <td>0.287644</td>\n",
       "      <td>3.466505</td>\n",
       "      <td>3.466505</td>\n",
       "    </tr>\n",
       "    <tr>\n",
       "      <th>2022-12-31 23:15:00</th>\n",
       "      <td>0.059158</td>\n",
       "      <td>0.846571</td>\n",
       "      <td>0.843147</td>\n",
       "      <td>1.014173</td>\n",
       "      <td>1.0</td>\n",
       "      <td>0.0</td>\n",
       "      <td>0.0</td>\n",
       "      <td>0.0</td>\n",
       "      <td>0.0</td>\n",
       "      <td>2.653050</td>\n",
       "      <td>2.65305</td>\n",
       "      <td>251.267846</td>\n",
       "      <td>0.265662</td>\n",
       "      <td>NaN</td>\n",
       "      <td>0.802932</td>\n",
       "      <td>...</td>\n",
       "      <td>2.030768</td>\n",
       "      <td>2.942001</td>\n",
       "      <td>1.311038</td>\n",
       "      <td>1.159237</td>\n",
       "      <td>0.842531</td>\n",
       "      <td>0.0</td>\n",
       "      <td>0.0</td>\n",
       "      <td>65.426667</td>\n",
       "      <td>19.608800</td>\n",
       "      <td>4.963333</td>\n",
       "      <td>4.963333</td>\n",
       "      <td>0.0</td>\n",
       "      <td>0.287644</td>\n",
       "      <td>3.010161</td>\n",
       "      <td>3.010161</td>\n",
       "    </tr>\n",
       "    <tr>\n",
       "      <th>2022-12-31 23:45:00</th>\n",
       "      <td>0.328245</td>\n",
       "      <td>-1.049266</td>\n",
       "      <td>0.754274</td>\n",
       "      <td>-0.023250</td>\n",
       "      <td>1.0</td>\n",
       "      <td>0.0</td>\n",
       "      <td>0.0</td>\n",
       "      <td>0.0</td>\n",
       "      <td>0.0</td>\n",
       "      <td>14.699510</td>\n",
       "      <td>14.69951</td>\n",
       "      <td>244.312403</td>\n",
       "      <td>2.280901</td>\n",
       "      <td>NaN</td>\n",
       "      <td>1.104382</td>\n",
       "      <td>...</td>\n",
       "      <td>2.257652</td>\n",
       "      <td>3.298283</td>\n",
       "      <td>1.425618</td>\n",
       "      <td>1.285868</td>\n",
       "      <td>0.915934</td>\n",
       "      <td>0.0</td>\n",
       "      <td>0.0</td>\n",
       "      <td>59.666667</td>\n",
       "      <td>19.630710</td>\n",
       "      <td>6.490000</td>\n",
       "      <td>6.490000</td>\n",
       "      <td>0.0</td>\n",
       "      <td>0.287644</td>\n",
       "      <td>3.904747</td>\n",
       "      <td>3.904747</td>\n",
       "    </tr>\n",
       "  </tbody>\n",
       "</table>\n",
       "<p>175296 rows × 49 columns</p>\n",
       "</div>"
      ],
      "text/plain": [
       "                         ET_f  GPP_CUT_16_f  GPP_CUT_84_f  GPP_CUT_REF_f  GPP_CUT_REF_fqc  GPP_DT_CUT_16  GPP_DT_CUT_84  GPP_DT_CUT_REF  GPP_DT_CUT_REF_SD       LE_f   LE_orig       LW_IN  NEE_CUT_16_f  NEE_CUT_16_orig  NEE_CUT_84_f  ...  Reco_CUT_REF  Reco_DT_CUT_16  Reco_DT_CUT_84  Reco_DT_CUT_REF  Reco_DT_CUT_REF_SD  Rg_f  Rg_orig         RH  SWC_FF0_0.15_1    Tair_f  Tair_orig  Ustar_CUT_REF_fqc  Ustar_CUT_REF_Thres     VPD_f  VPD_orig\n",
       "TIMESTAMP_MIDDLE                                                                                                                                                                                                                          ...                                                                                                                                                                                                              \n",
       "2013-01-01 00:15:00  0.290134      0.509709     -0.082120       0.704570              1.0            0.0            0.0             0.0                0.0  13.092806       NaN  194.913214      1.376122              NaN      1.537436  ...      2.300025        1.251884        1.907757         1.613003            0.509600   0.0      0.0  31.933333       34.976620 -1.618000  -1.618000                0.0             0.287644  1.339000  1.339000\n",
       "2013-01-01 00:45:00  0.290130      0.511877     -0.083807       0.707522              1.0            0.0            0.0             0.0                0.0  13.092806       NaN  193.567693      1.376122              NaN      1.537436  ...      2.302977        1.241100        1.913934         1.616019            0.512473   0.0      0.0  32.600000       34.976730 -1.630000  -1.630000                0.0             0.287644  1.337000  1.337000\n",
       "2013-01-01 01:15:00  0.289530      0.513692     -0.085813       0.710022              1.0            0.0            0.0             0.0                0.0  13.065880       NaN  193.135202      1.376122              NaN      1.537436  ...      2.305477        1.230092        1.919791         1.618733            0.515297   0.0      0.0  38.866667       34.971310 -1.644000  -1.644000                0.0             0.287644  1.335000  1.335000\n",
       "2013-01-01 01:45:00  0.289526      1.354227     -0.087657       1.770620              0.0            0.0            0.0             0.0                0.0  13.065880       NaN  192.082736      0.537565         0.537565      1.537436  ...      2.308185        1.219232        1.925787         1.621581            0.518213   0.0      0.0  37.766667       34.974970 -1.657000  -1.657000                0.0             0.287644  1.332000  1.332000\n",
       "2013-01-01 02:15:00  0.376985      0.545335     -0.079582       0.796802              1.0            0.0            0.0             0.0                0.0  16.995263       NaN  192.677177      1.544471              NaN      1.709463  ...      2.561882        1.346570        2.105211         1.790283            0.578416   0.0      0.0  39.533333       34.966570 -0.567000  -0.567000                1.0             0.287644  3.545000  3.545000\n",
       "...                       ...           ...           ...            ...              ...            ...            ...             ...                ...        ...       ...         ...           ...              ...           ...  ...           ...             ...             ...              ...                 ...   ...      ...        ...             ...       ...        ...                ...                  ...       ...       ...\n",
       "2022-12-31 21:45:00 -0.016362      0.372884      0.203050       0.599719              1.0            0.0            0.0             0.0                0.0  -0.734820  -0.73482  230.498649      0.628517              NaN      1.252629  ...      1.823971        2.568115        1.221357         1.031544            0.758554   0.0      0.0  71.790000       19.571710  3.463333   3.463333                0.0             0.287644  2.210036  2.210036\n",
       "2022-12-31 22:15:00  0.105363     -2.379376      0.893736      -1.433363              0.0            0.0            0.0             0.0                0.0   4.723780   4.72378  231.787766      3.517950         3.517950      0.802932  ...      2.084587        2.959299        1.355551         1.173899            0.837950   0.0      0.0  62.626667       19.577070  5.283333   5.283333                0.0             0.287644  3.327497  3.327497\n",
       "2022-12-31 22:45:00  0.219531     -0.515191      0.925969      -0.305039              1.0            0.0            0.0             0.0                0.0   9.839938       NaN  237.303455      1.672768              NaN      0.802932  ...      2.119267        3.038077        1.366567         1.198887            0.857108   0.0      0.0  61.746667       19.588683  5.536667   5.536667                0.0             0.287644  3.466505  3.466505\n",
       "2022-12-31 23:15:00  0.059158      0.846571      0.843147       1.014173              1.0            0.0            0.0             0.0                0.0   2.653050   2.65305  251.267846      0.265662              NaN      0.802932  ...      2.030768        2.942001        1.311038         1.159237            0.842531   0.0      0.0  65.426667       19.608800  4.963333   4.963333                0.0             0.287644  3.010161  3.010161\n",
       "2022-12-31 23:45:00  0.328245     -1.049266      0.754274      -0.023250              1.0            0.0            0.0             0.0                0.0  14.699510  14.69951  244.312403      2.280901              NaN      1.104382  ...      2.257652        3.298283        1.425618         1.285868            0.915934   0.0      0.0  59.666667       19.630710  6.490000   6.490000                0.0             0.287644  3.904747  3.904747\n",
       "\n",
       "[175296 rows x 49 columns]"
      ]
     },
     "execution_count": 4,
     "metadata": {},
     "output_type": "execute_result"
    }
   ],
   "source": [
    "df"
   ]
  },
  {
   "cell_type": "markdown",
   "metadata": {},
   "source": [
    "</br>"
   ]
  },
  {
   "cell_type": "markdown",
   "metadata": {},
   "source": [
    "</br>"
   ]
  },
  {
   "cell_type": "markdown",
   "metadata": {},
   "source": [
    "# **Calculation of flags from potential radiation**"
   ]
  },
  {
   "cell_type": "code",
   "execution_count": 5,
   "metadata": {
    "tags": []
   },
   "outputs": [],
   "source": [
    "dnf = DaytimeNighttimeFlag(\n",
    "    timestamp_index=df.index,\n",
    "    nighttime_threshold=1,\n",
    "    lat=47.286417,\n",
    "    lon=7.733750,\n",
    "    utc_offset=1\n",
    ")"
   ]
  },
  {
   "cell_type": "markdown",
   "metadata": {},
   "source": [
    "## Results"
   ]
  },
  {
   "cell_type": "code",
   "execution_count": 6,
   "metadata": {
    "tags": []
   },
   "outputs": [
    {
     "data": {
      "text/html": [
       "<div>\n",
       "<style scoped>\n",
       "    .dataframe tbody tr th:only-of-type {\n",
       "        vertical-align: middle;\n",
       "    }\n",
       "\n",
       "    .dataframe tbody tr th {\n",
       "        vertical-align: top;\n",
       "    }\n",
       "\n",
       "    .dataframe thead th {\n",
       "        text-align: right;\n",
       "    }\n",
       "</style>\n",
       "<table border=\"1\" class=\"dataframe\">\n",
       "  <thead>\n",
       "    <tr style=\"text-align: right;\">\n",
       "      <th></th>\n",
       "      <th>SW_IN_POT</th>\n",
       "      <th>DAYTIME</th>\n",
       "      <th>NIGHTTIME</th>\n",
       "    </tr>\n",
       "    <tr>\n",
       "      <th>TIMESTAMP_MIDDLE</th>\n",
       "      <th></th>\n",
       "      <th></th>\n",
       "      <th></th>\n",
       "    </tr>\n",
       "  </thead>\n",
       "  <tbody>\n",
       "    <tr>\n",
       "      <th>2013-01-01 00:15:00</th>\n",
       "      <td>0.0</td>\n",
       "      <td>0.0</td>\n",
       "      <td>1.0</td>\n",
       "    </tr>\n",
       "    <tr>\n",
       "      <th>2013-01-01 00:45:00</th>\n",
       "      <td>0.0</td>\n",
       "      <td>0.0</td>\n",
       "      <td>1.0</td>\n",
       "    </tr>\n",
       "    <tr>\n",
       "      <th>2013-01-01 01:15:00</th>\n",
       "      <td>0.0</td>\n",
       "      <td>0.0</td>\n",
       "      <td>1.0</td>\n",
       "    </tr>\n",
       "    <tr>\n",
       "      <th>2013-01-01 01:45:00</th>\n",
       "      <td>0.0</td>\n",
       "      <td>0.0</td>\n",
       "      <td>1.0</td>\n",
       "    </tr>\n",
       "    <tr>\n",
       "      <th>2013-01-01 02:15:00</th>\n",
       "      <td>0.0</td>\n",
       "      <td>0.0</td>\n",
       "      <td>1.0</td>\n",
       "    </tr>\n",
       "    <tr>\n",
       "      <th>...</th>\n",
       "      <td>...</td>\n",
       "      <td>...</td>\n",
       "      <td>...</td>\n",
       "    </tr>\n",
       "    <tr>\n",
       "      <th>2022-12-31 21:45:00</th>\n",
       "      <td>0.0</td>\n",
       "      <td>0.0</td>\n",
       "      <td>1.0</td>\n",
       "    </tr>\n",
       "    <tr>\n",
       "      <th>2022-12-31 22:15:00</th>\n",
       "      <td>0.0</td>\n",
       "      <td>0.0</td>\n",
       "      <td>1.0</td>\n",
       "    </tr>\n",
       "    <tr>\n",
       "      <th>2022-12-31 22:45:00</th>\n",
       "      <td>0.0</td>\n",
       "      <td>0.0</td>\n",
       "      <td>1.0</td>\n",
       "    </tr>\n",
       "    <tr>\n",
       "      <th>2022-12-31 23:15:00</th>\n",
       "      <td>0.0</td>\n",
       "      <td>0.0</td>\n",
       "      <td>1.0</td>\n",
       "    </tr>\n",
       "    <tr>\n",
       "      <th>2022-12-31 23:45:00</th>\n",
       "      <td>0.0</td>\n",
       "      <td>0.0</td>\n",
       "      <td>1.0</td>\n",
       "    </tr>\n",
       "  </tbody>\n",
       "</table>\n",
       "<p>175296 rows × 3 columns</p>\n",
       "</div>"
      ],
      "text/plain": [
       "                     SW_IN_POT  DAYTIME  NIGHTTIME\n",
       "TIMESTAMP_MIDDLE                                  \n",
       "2013-01-01 00:15:00        0.0      0.0        1.0\n",
       "2013-01-01 00:45:00        0.0      0.0        1.0\n",
       "2013-01-01 01:15:00        0.0      0.0        1.0\n",
       "2013-01-01 01:45:00        0.0      0.0        1.0\n",
       "2013-01-01 02:15:00        0.0      0.0        1.0\n",
       "...                        ...      ...        ...\n",
       "2022-12-31 21:45:00        0.0      0.0        1.0\n",
       "2022-12-31 22:15:00        0.0      0.0        1.0\n",
       "2022-12-31 22:45:00        0.0      0.0        1.0\n",
       "2022-12-31 23:15:00        0.0      0.0        1.0\n",
       "2022-12-31 23:45:00        0.0      0.0        1.0\n",
       "\n",
       "[175296 rows x 3 columns]"
      ]
     },
     "execution_count": 6,
     "metadata": {},
     "output_type": "execute_result"
    }
   ],
   "source": [
    "results = dnf.get_results()\n",
    "results"
   ]
  },
  {
   "cell_type": "code",
   "execution_count": 7,
   "metadata": {},
   "outputs": [
    {
     "data": {
      "text/plain": [
       "TIMESTAMP_MIDDLE\n",
       "2013-01-01 00:15:00    0.0\n",
       "2013-01-01 00:45:00    0.0\n",
       "2013-01-01 01:15:00    0.0\n",
       "2013-01-01 01:45:00    0.0\n",
       "2013-01-01 02:15:00    0.0\n",
       "                      ... \n",
       "2022-12-31 21:45:00    0.0\n",
       "2022-12-31 22:15:00    0.0\n",
       "2022-12-31 22:45:00    0.0\n",
       "2022-12-31 23:15:00    0.0\n",
       "2022-12-31 23:45:00    0.0\n",
       "Freq: 30T, Name: SW_IN_POT, Length: 175296, dtype: float64"
      ]
     },
     "execution_count": 7,
     "metadata": {},
     "output_type": "execute_result"
    }
   ],
   "source": [
    "dnf.get_swinpot()"
   ]
  },
  {
   "cell_type": "code",
   "execution_count": 8,
   "metadata": {},
   "outputs": [
    {
     "data": {
      "text/plain": [
       "TIMESTAMP_MIDDLE\n",
       "2013-01-01 00:15:00    0.0\n",
       "2013-01-01 00:45:00    0.0\n",
       "2013-01-01 01:15:00    0.0\n",
       "2013-01-01 01:45:00    0.0\n",
       "2013-01-01 02:15:00    0.0\n",
       "                      ... \n",
       "2022-12-31 21:45:00    0.0\n",
       "2022-12-31 22:15:00    0.0\n",
       "2022-12-31 22:45:00    0.0\n",
       "2022-12-31 23:15:00    0.0\n",
       "2022-12-31 23:45:00    0.0\n",
       "Freq: 30T, Name: DAYTIME, Length: 175296, dtype: float64"
      ]
     },
     "execution_count": 8,
     "metadata": {},
     "output_type": "execute_result"
    }
   ],
   "source": [
    "dnf.get_daytime_flag()"
   ]
  },
  {
   "cell_type": "code",
   "execution_count": 9,
   "metadata": {},
   "outputs": [
    {
     "data": {
      "text/plain": [
       "TIMESTAMP_MIDDLE\n",
       "2013-01-01 00:15:00    1.0\n",
       "2013-01-01 00:45:00    1.0\n",
       "2013-01-01 01:15:00    1.0\n",
       "2013-01-01 01:45:00    1.0\n",
       "2013-01-01 02:15:00    1.0\n",
       "                      ... \n",
       "2022-12-31 21:45:00    1.0\n",
       "2022-12-31 22:15:00    1.0\n",
       "2022-12-31 22:45:00    1.0\n",
       "2022-12-31 23:15:00    1.0\n",
       "2022-12-31 23:45:00    1.0\n",
       "Freq: 30T, Name: NIGHTTIME, Length: 175296, dtype: float64"
      ]
     },
     "execution_count": 9,
     "metadata": {},
     "output_type": "execute_result"
    }
   ],
   "source": [
    "dnf.get_nighttime_flag()"
   ]
  },
  {
   "cell_type": "markdown",
   "metadata": {},
   "source": [
    "</br>"
   ]
  },
  {
   "cell_type": "markdown",
   "metadata": {},
   "source": [
    "</br>"
   ]
  },
  {
   "cell_type": "markdown",
   "metadata": {},
   "source": [
    "# **Plot some variables**"
   ]
  },
  {
   "cell_type": "code",
   "execution_count": 10,
   "metadata": {
    "tags": []
   },
   "outputs": [
    {
     "data": {
      "image/png": "[encoded data removed]",
      "text/plain": [
       "<Figure size 1600x900 with 6 Axes>"
      ]
     },
     "metadata": {},
     "output_type": "display_data"
    }
   ],
   "source": [
    "fig = plt.figure(facecolor='white', figsize=(16, 9))\n",
    "gs = gridspec.GridSpec(1, 3)  # rows, cols\n",
    "gs.update(wspace=0.3, hspace=0.3, left=0.03, right=0.97, top=0.97, bottom=0.03)\n",
    "ax_sw = fig.add_subplot(gs[0, 0])\n",
    "ax_dt = fig.add_subplot(gs[0, 1])\n",
    "ax_nt = fig.add_subplot(gs[0, 2])\n",
    "HeatmapDateTime(ax=ax_sw, series=dnf.get_swinpot()).plot()\n",
    "HeatmapDateTime(ax=ax_dt, series=dnf.get_daytime_flag()).plot()\n",
    "HeatmapDateTime(ax=ax_nt, series=dnf.get_nighttime_flag()).plot()\n",
    "ax_sw.set_title(\"SW_IN_POT\", color='black')\n",
    "ax_dt.set_title(\"DAYTIME FLAG\", color='black')\n",
    "ax_nt.set_title(\"NIGHTTIME FLAG\", color='black')\n",
    "ax_dt.tick_params(left=True, right=False, top=False, bottom=True,\n",
    "                     labelleft=False, labelright=False, labeltop=False, labelbottom=True)\n",
    "ax_nt.tick_params(left=True, right=False, top=False, bottom=True,\n",
    "                     labelleft=False, labelright=False, labeltop=False, labelbottom=True)"
   ]
  },
  {
   "cell_type": "markdown",
   "metadata": {},
   "source": [
    "</br>"
   ]
  },
  {
   "cell_type": "markdown",
   "metadata": {
    "tags": []
   },
   "source": [
    "# **End of notebook**"
   ]
  },
  {
   "cell_type": "code",
   "execution_count": 11,
   "metadata": {
    "tags": []
   },
   "outputs": [
    {
     "name": "stdout",
     "output_type": "stream",
     "text": [
      "Finished 2024-03-22 23:40:48\n"
     ]
    }
   ],
   "source": [
    "dt_string = datetime.now().strftime(\"%Y-%m-%d %H:%M:%S\")\n",
    "print(f\"Finished {dt_string}\")"
   ]
  },
  {
   "cell_type": "code",
   "execution_count": null,
   "metadata": {},
   "outputs": [],
   "source": []
  }
 ],
 "metadata": {
  "kernelspec": {
   "display_name": "Python 3 (ipykernel)",
   "language": "python",
   "name": "python3"
  },
  "language_info": {
   "codemirror_mode": {
    "name": "ipython",
    "version": 3
   },
   "file_extension": ".py",
   "mimetype": "text/x-python",
   "name": "python",
   "nbconvert_exporter": "python",
   "pygments_lexer": "ipython3",
   "version": "3.9.7"
  }
 },
 "nbformat": 4,
 "nbformat_minor": 4
}
