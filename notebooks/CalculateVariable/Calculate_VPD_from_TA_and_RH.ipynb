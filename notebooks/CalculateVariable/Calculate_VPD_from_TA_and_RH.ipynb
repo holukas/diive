{
 "cells": [
  {
   "cell_type": "markdown",
   "metadata": {},
   "source": [
    "![lop](../../images/logo_diive1_128px.png)"
   ]
  },
  {
   "cell_type": "markdown",
   "metadata": {},
   "source": [
    "<span style='font-size:32px; display:block;'>\n",
    "<b>\n",
    "    Calculate VPD from air temperature and relative humidity\n",
    "</b>\n",
    "</span>"
   ]
  },
  {
   "cell_type": "markdown",
   "metadata": {},
   "source": [
    "---\n",
    "**Notebook version**: `2` (6 Sep 2023)  \n",
    "Example notebook for function `pkgs.createvar.vpd.calc_vpd_from_ta_rh` of the time series processing library `diive`.  \n",
    "**Author**: Lukas Hörtnagl (holukas@ethz.ch)  "
   ]
  },
  {
   "cell_type": "markdown",
   "metadata": {},
   "source": [
    "</br>"
   ]
  },
  {
   "cell_type": "markdown",
   "metadata": {},
   "source": [
    "# **Description**"
   ]
  },
  {
   "cell_type": "markdown",
   "metadata": {},
   "source": [
    "- Air temperature (TA) and relative humidity (RH) are two widely available measurements\n",
    "- VPD can be calculated from TA and RH\n",
    "- In this example, gap-filled TA is used in combination with RH (not gap-filled) to calculate VPD \n",
    "- `QuickFillRFTS` is used for quick gap-filling of the calculated VPD. It uses the input features in combination with timestamp info."
   ]
  },
  {
   "cell_type": "markdown",
   "metadata": {},
   "source": [
    "</br>"
   ]
  },
  {
   "cell_type": "markdown",
   "metadata": {},
   "source": [
    "# **Imports**"
   ]
  },
  {
   "cell_type": "code",
   "execution_count": null,
   "metadata": {
    "ExecuteTime": {
     "end_time": "2023-04-15T23:32:14.665420Z",
     "start_time": "2023-04-15T23:32:12.825689Z"
    },
    "tags": []
   },
   "outputs": [],
   "source": [
    "import pkg_resources\n",
    "from datetime import datetime\n",
    "from pathlib import Path\n",
    "import matplotlib.pyplot as plt\n",
    "import matplotlib.gridspec as gridspec\n",
    "from diive.configs.exampledata import load_exampledata_pickle\n",
    "from diive.core.times.times import insert_timestamp  # Used to insert TIMESTAMP_END\n",
    "from diive.core.plotting.heatmap_datetime import HeatmapDateTime  # Used for plotting\n",
    "from diive.pkgs.gapfilling.randomforest_ts import QuickFillRFTS  # Used for gap-filling\n",
    "from diive.pkgs.createvar.vpd import calc_vpd_from_ta_rh  # Used to calculate VPD\n",
    "\n",
    "dt_string = datetime.now().strftime(\"%Y-%m-%d %H:%M:%S\")\n",
    "print(f\"This page was last modified on: {dt_string}\")\n",
    "version_diive = pkg_resources.get_distribution(\"diive\").version\n",
    "print(f\"diive version: v{version_diive}\")"
   ]
  },
  {
   "cell_type": "markdown",
   "metadata": {},
   "source": [
    "</br>"
   ]
  },
  {
   "cell_type": "markdown",
   "metadata": {},
   "source": [
    "# **Docstring**"
   ]
  },
  {
   "cell_type": "code",
   "execution_count": null,
   "metadata": {
    "tags": []
   },
   "outputs": [],
   "source": [
    "print(calc_vpd_from_ta_rh.__doc__)"
   ]
  },
  {
   "cell_type": "markdown",
   "metadata": {},
   "source": [
    "</br>"
   ]
  },
  {
   "cell_type": "markdown",
   "metadata": {},
   "source": [
    "# **Variables**\n",
    "- Names of the required variables in the datafiles"
   ]
  },
  {
   "cell_type": "code",
   "execution_count": null,
   "metadata": {
    "tags": []
   },
   "outputs": [],
   "source": [
    "ta_col = 'Tair_f'  # Air temperature (gap-filled) is used to calculate VPD\n",
    "rh_col = 'RH'  # Relative humidity (not gap-filled) is used to calculate VPD"
   ]
  },
  {
   "cell_type": "markdown",
   "metadata": {},
   "source": [
    "</br>"
   ]
  },
  {
   "cell_type": "markdown",
   "metadata": {},
   "source": [
    "# **Newly created variables**"
   ]
  },
  {
   "cell_type": "code",
   "execution_count": null,
   "metadata": {
    "tags": []
   },
   "outputs": [],
   "source": [
    "vpd_col = 'VPD_hPa'  # VPD will be newly calculated from gap-filled TA and non-gap-filled RH\n",
    "vpd_gf_col = f'{vpd_col}_gfRF'  # Name of the gap-filled VPD in output"
   ]
  },
  {
   "cell_type": "markdown",
   "metadata": {},
   "source": [
    "</br>"
   ]
  },
  {
   "cell_type": "markdown",
   "metadata": {},
   "source": [
    "# **Load example data**"
   ]
  },
  {
   "cell_type": "code",
   "execution_count": null,
   "metadata": {
    "tags": []
   },
   "outputs": [],
   "source": [
    "df = load_exampledata_pickle()"
   ]
  },
  {
   "cell_type": "code",
   "execution_count": null,
   "metadata": {
    "tags": []
   },
   "outputs": [],
   "source": [
    "df"
   ]
  },
  {
   "cell_type": "markdown",
   "metadata": {},
   "source": [
    "</br>"
   ]
  },
  {
   "cell_type": "markdown",
   "metadata": {},
   "source": [
    "# **Subset of required variables**"
   ]
  },
  {
   "cell_type": "code",
   "execution_count": null,
   "metadata": {
    "tags": []
   },
   "outputs": [],
   "source": [
    "subsetcols = [ta_col, rh_col]\n",
    "subset_df = df[subsetcols].copy()\n",
    "subset_df"
   ]
  },
  {
   "cell_type": "markdown",
   "metadata": {},
   "source": [
    "</br>"
   ]
  },
  {
   "cell_type": "markdown",
   "metadata": {},
   "source": [
    "# **Calculation of VPD**"
   ]
  },
  {
   "cell_type": "code",
   "execution_count": null,
   "metadata": {
    "tags": []
   },
   "outputs": [],
   "source": [
    "subset_df[vpd_col] = calc_vpd_from_ta_rh(df=subset_df, ta_col=ta_col, rh_col=rh_col)"
   ]
  },
  {
   "cell_type": "code",
   "execution_count": null,
   "metadata": {
    "tags": []
   },
   "outputs": [],
   "source": [
    "subset_df"
   ]
  },
  {
   "cell_type": "markdown",
   "metadata": {},
   "source": [
    "</br>"
   ]
  },
  {
   "cell_type": "markdown",
   "metadata": {},
   "source": [
    "# **Gap-filling VPD**\n",
    "- Quick gap-filling, just using air temperature and timestamp info as predictors"
   ]
  },
  {
   "cell_type": "code",
   "execution_count": null,
   "metadata": {
    "tags": []
   },
   "outputs": [],
   "source": [
    "gfcols = [vpd_col, ta_col]\n",
    "gf_df = subset_df[gfcols].copy()\n",
    "rfts = QuickFillRFTS(df=gf_df, target_col=vpd_col)\n",
    "rfts.fill()\n",
    "subset_df[vpd_gf_col] = rfts.get_gapfilled()"
   ]
  },
  {
   "cell_type": "code",
   "execution_count": null,
   "metadata": {
    "tags": []
   },
   "outputs": [],
   "source": [
    "subset_df"
   ]
  },
  {
   "cell_type": "markdown",
   "metadata": {},
   "source": [
    "</br>"
   ]
  },
  {
   "cell_type": "markdown",
   "metadata": {},
   "source": [
    "# **Plot some variables**"
   ]
  },
  {
   "cell_type": "code",
   "execution_count": 1,
   "metadata": {
    "tags": []
   },
   "outputs": [
    {
     "ename": "NameError",
     "evalue": "name 'plt' is not defined",
     "output_type": "error",
     "traceback": [
      "\u001b[1;31m---------------------------------------------------------------------------\u001b[0m",
      "\u001b[1;31mNameError\u001b[0m                                 Traceback (most recent call last)",
      "Cell \u001b[1;32mIn[1], line 1\u001b[0m\n\u001b[1;32m----> 1\u001b[0m fig \u001b[38;5;241m=\u001b[39m \u001b[43mplt\u001b[49m\u001b[38;5;241m.\u001b[39mfigure(facecolor\u001b[38;5;241m=\u001b[39m\u001b[38;5;124m'\u001b[39m\u001b[38;5;124mwhite\u001b[39m\u001b[38;5;124m'\u001b[39m, figsize\u001b[38;5;241m=\u001b[39m(\u001b[38;5;241m16\u001b[39m, \u001b[38;5;241m9\u001b[39m))\n\u001b[0;32m      2\u001b[0m gs \u001b[38;5;241m=\u001b[39m gridspec\u001b[38;5;241m.\u001b[39mGridSpec(\u001b[38;5;241m1\u001b[39m, \u001b[38;5;241m3\u001b[39m)  \u001b[38;5;66;03m# rows, cols\u001b[39;00m\n\u001b[0;32m      3\u001b[0m ax_fc \u001b[38;5;241m=\u001b[39m fig\u001b[38;5;241m.\u001b[39madd_subplot(gs[\u001b[38;5;241m0\u001b[39m, \u001b[38;5;241m0\u001b[39m])\n",
      "\u001b[1;31mNameError\u001b[0m: name 'plt' is not defined"
     ]
    }
   ],
   "source": [
    "fig = plt.figure(facecolor='white', figsize=(16, 9))\n",
    "gs = gridspec.GridSpec(1, 3)  # rows, cols\n",
    "ax_fc = fig.add_subplot(gs[0, 0])\n",
    "ax_le = fig.add_subplot(gs[0, 1])\n",
    "ax_ta = fig.add_subplot(gs[0, 2])\n",
    "HeatmapDateTime(ax=ax_fc, series=subset_df['VPD_hPa_gfRF']).plot()\n",
    "HeatmapDateTime(ax=ax_le, series=subset_df['VPD_hPa']).plot()\n",
    "HeatmapDateTime(ax=ax_ta, series=subset_df['Tair_f']).plot()\n",
    "ax_fc.set_title(\"Gap-filled VPD\", color='black')\n",
    "ax_le.set_title(\"VPD\", color='black')\n",
    "ax_ta.set_title(\"TA\", color='black')\n",
    "ax_le.tick_params(left=True, right=False, top=False, bottom=True,\n",
    "                     labelleft=False, labelright=False, labeltop=False, labelbottom=True)\n",
    "ax_ta.tick_params(left=True, right=False, top=False, bottom=True,\n",
    "                     labelleft=False, labelright=False, labeltop=False, labelbottom=True)"
   ]
  },
  {
   "cell_type": "markdown",
   "metadata": {},
   "source": [
    "</br>"
   ]
  },
  {
   "cell_type": "markdown",
   "metadata": {},
   "source": [
    "# **Insert TIMESTAMP_END**\n",
    "- `diive` uses TIMESTAMP_MIDDLE for calculations, but sometimes TIMESTAMP_END is required for output files"
   ]
  },
  {
   "cell_type": "code",
   "execution_count": null,
   "metadata": {
    "tags": []
   },
   "outputs": [],
   "source": [
    "subset_df = insert_timestamp(data=subset_df, convention='end')\n",
    "subset_df"
   ]
  },
  {
   "cell_type": "markdown",
   "metadata": {},
   "source": [
    "</br>"
   ]
  },
  {
   "cell_type": "markdown",
   "metadata": {},
   "source": [
    "# **Plot**"
   ]
  },
  {
   "cell_type": "code",
   "execution_count": null,
   "metadata": {
    "tags": []
   },
   "outputs": [],
   "source": [
    "subset_df.plot(subplots=True)\n",
    "plt.show()"
   ]
  },
  {
   "cell_type": "markdown",
   "metadata": {},
   "source": [
    "</br>"
   ]
  },
  {
   "cell_type": "markdown",
   "metadata": {},
   "source": [
    "# **Save to CSV file**"
   ]
  },
  {
   "cell_type": "code",
   "execution_count": null,
   "metadata": {
    "tags": []
   },
   "outputs": [],
   "source": [
    "outfile = \"CH-FRU_VPD_RH_TA_2020-2022_20230615.csv\"\n",
    "subset_df.to_csv(outfile, index=False)"
   ]
  },
  {
   "cell_type": "markdown",
   "metadata": {},
   "source": [
    "</br>"
   ]
  },
  {
   "cell_type": "markdown",
   "metadata": {
    "tags": []
   },
   "source": [
    "# **End of notebook**"
   ]
  },
  {
   "cell_type": "code",
   "execution_count": null,
   "metadata": {
    "tags": []
   },
   "outputs": [],
   "source": [
    "dt_string = datetime.now().strftime(\"%Y-%m-%d %H:%M:%S\")\n",
    "print(f\"Finished {dt_string}\")"
   ]
  },
  {
   "cell_type": "code",
   "execution_count": null,
   "metadata": {},
   "outputs": [],
   "source": []
  }
 ],
 "metadata": {
  "kernelspec": {
   "display_name": "Python 3 (ipykernel)",
   "language": "python",
   "name": "python3"
  },
  "language_info": {
   "codemirror_mode": {
    "name": "ipython",
    "version": 3
   },
   "file_extension": ".py",
   "mimetype": "text/x-python",
   "name": "python",
   "nbconvert_exporter": "python",
   "pygments_lexer": "ipython3",
   "version": "3.9.7"
  }
 },
 "nbformat": 4,
 "nbformat_minor": 4
}
