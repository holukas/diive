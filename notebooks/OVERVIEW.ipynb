{
 "cells": [
  {
   "cell_type": "markdown",
   "id": "3e18c962-196d-4ebc-9d71-4eafa5547c7e",
   "metadata": {},
   "source": [
    "![lop](../../images/logo_diive1_128px.png)"
   ]
  },
  {
   "cell_type": "markdown",
   "id": "c8acb6cf-1ff1-4621-bcc1-4995cb6ecee6",
   "metadata": {},
   "source": [
    "<span style='font-size:40px; display:block;'>\n",
    "<b>\n",
    "    Overview of Notebooks\n",
    "</b>\n",
    "</span>"
   ]
  },
  {
   "cell_type": "markdown",
   "id": "24336649-58a4-452d-ac0b-b7ebc7b29450",
   "metadata": {},
   "source": [
    "---\n",
    "**Last updated**: 25 Jun 2025  \n",
    "**Author**: Lukas Hörtnagl (holukas@ethz.ch)  \n",
    "Overview of example notebooks for the time series processing library `diive`."
   ]
  },
  {
   "cell_type": "markdown",
   "id": "67c375a9-2ad0-406e-a304-8775ff829de7",
   "metadata": {},
   "source": [
    "</br>"
   ]
  },
  {
   "cell_type": "markdown",
   "id": "46045ed1-9cdc-4e41-bde9-69bf9e41ebf4",
   "metadata": {},
   "source": [
    "# **Analyses**"
   ]
  },
  {
   "cell_type": "markdown",
   "id": "8bee8460-ffc1-43e7-b3d9-99c63be7e07b",
   "metadata": {},
   "source": [
    "- [Daily correlation between two time series](Analyses/DailyCorrelation.ipynb)\n",
    "- <b><span style=\"color:#66BB6A;background-color:#E8F5E9;\">UPDATED in v0.87.0!</span></b> [Decoupling: Sorting bins method](Analyses/DecouplingSortingBins.ipynb)\n",
    "- [Find gaps in time series](Analyses/GapFinder.ipynb)\n",
    "- [Histogram calculation](Analyses/Histogram.ipynb)\n",
    "- [Percentiles](Analyses/Percentiles.ipynb)\n",
    "- [z-aggregates in quantiles (classes) of x and y](Analyses/CalculateZaggregatesInQuantileClassesOfXY.ipynb)"
   ]
  },
  {
   "cell_type": "markdown",
   "id": "d867ad1b-a82e-4303-94b1-661ee4f03fb6",
   "metadata": {},
   "source": [
    "</br>"
   ]
  },
  {
   "cell_type": "markdown",
   "id": "a8370933-2a5b-455a-9efb-3d32849cf43b",
   "metadata": {},
   "source": [
    "# **Calculate Variable**"
   ]
  },
  {
   "cell_type": "markdown",
   "id": "400a5e8c-adb7-4f8f-856a-4f8da965948f",
   "metadata": {},
   "source": [
    "- [Calculate VPD from TA and RH](CalculateVariable/Calculate_VPD_from_TA_and_RH.ipynb)\n",
    "- <b><span style=\"color:#F4511E;background-color:#FFECB3;\">NEW in v0.87.0!</span></b> [Calculate ET from LE](CalculateVariable/Calculate_ET_from_LE.ipynb)\n",
    "- [Calculate daytime flag, nighttime flag and potential radiation from latitude and longitude ](CalculateVariable/Daytime_and_nighttime_flag.ipynb)\n",
    "- [Calculate time since last occurrence, e.g. since last precipitation](CalculateVariable/TimeSince.ipynb)\n",
    "- [Calculate lagged variants of variables](CalculateVariable/Create_lagged_variants.ipynb)"
   ]
  },
  {
   "cell_type": "markdown",
   "id": "5c5e2f37-2b24-4e00-ba16-248d750f7a5a",
   "metadata": {},
   "source": [
    "</br>"
   ]
  },
  {
   "cell_type": "markdown",
   "id": "2c06f82a-418e-48b7-8ba7-3d411ad1c557",
   "metadata": {
    "tags": []
   },
   "source": [
    "# **Corrections**\n",
    "Examples for data corrections"
   ]
  },
  {
   "cell_type": "markdown",
   "id": "8ceb3736-b947-4578-bbd5-0d106147cffd",
   "metadata": {},
   "source": [
    "- [Find and correct offset between two time series](Corrections/MeasurementOffset.ipynb)\n",
    "- <b><span style=\"color:#F4511E;background-color:#FFECB3;\">NEW in v0.87.1!</span></b> [Set exact values to missing](Corrections/SetExactValuesToMissing.ipynb)\n",
    "- [Wind direction offset correction](Corrections/WindDirectionOffset.ipynb)"
   ]
  },
  {
   "cell_type": "markdown",
   "id": "20ebc30d-ef5d-4328-801a-673f6fd1e444",
   "metadata": {},
   "source": [
    "</br>"
   ]
  },
  {
   "cell_type": "markdown",
   "id": "77b38e75-178a-44c5-88a9-fb205c39633c",
   "metadata": {},
   "source": [
    "# **Fits**\n",
    "Fit functions"
   ]
  },
  {
   "cell_type": "markdown",
   "id": "ef05062b-d379-4509-b02b-f9e6978c1083",
   "metadata": {},
   "source": [
    "- [BinFitterCP](Fits/BinFitterCP.ipynb): Fit function to binned data, including confidence and prediction interval"
   ]
  },
  {
   "cell_type": "markdown",
   "id": "4adc37cc-b4c6-41d9-918b-bd451f329bb7",
   "metadata": {},
   "source": [
    "</br>"
   ]
  },
  {
   "cell_type": "markdown",
   "id": "6f56983c-9d4a-4e38-93ec-654347709ea1",
   "metadata": {},
   "source": [
    "# **Formats**\n",
    "Format data"
   ]
  },
  {
   "cell_type": "markdown",
   "id": "83cfc453-4d16-41e1-a439-d96aaf2013f8",
   "metadata": {},
   "source": [
    "- [Format meteo data for flux processing in EddyPro](Formats/FormatMeteoForEddyProFluxProcessing.ipynb)\n",
    "- [Format meteo data for flux processing in EddyPro](Formats/FormatMeteoForFluxnetUpload.ipynb)\n",
    "- [Format EddyPro fluxnet output files for upload to FLUXNET database](Formats/FormatEddyProFluxnetFileForUpload.ipynb)\n",
    "- [Load and save Parquet file](Formats/LoadSaveParquetFile.ipynb)"
   ]
  },
  {
   "cell_type": "markdown",
   "id": "1b5e22b5-1cc7-495e-8d4a-a3b98a61c5cf",
   "metadata": {},
   "source": [
    "</br>"
   ]
  },
  {
   "cell_type": "markdown",
   "id": "7e1b4c26-acb6-4d14-bf32-7b98147e4345",
   "metadata": {},
   "source": [
    "# **Flux Processing Chain**\n",
    "Post-processing of Level-1 fluxes  \n",
    "See also: [Swiss FluxNet Flux Processing Chain](https://www.swissfluxnet.ethz.ch/index.php/data/ecosystem-fluxes/flux-processing-chain/)"
   ]
  },
  {
   "cell_type": "markdown",
   "id": "e3344d3b-0d72-4915-a84e-45b5eec3c7b6",
   "metadata": {},
   "source": [
    "- [Flux Processing Chain, example NEE](FluxProcessingChain/FluxProcessingChain.ipynb): flux quality flag extension (Level-2), storage correction (Level-3.1), outlier removal (Level-3.2)\n",
    "- [Quick Flux Processing Chain](FluxProcessingChain/QuickFluxProcessingChain.ipynb): quickly run a simplified version of the flux processing chain"
   ]
  },
  {
   "cell_type": "markdown",
   "id": "ddb8a350-dd5d-420b-9c7f-04ca4003164a",
   "metadata": {},
   "source": [
    "</br>"
   ]
  },
  {
   "cell_type": "markdown",
   "id": "047ca5dd-0f31-4eb6-90f3-638d830712c0",
   "metadata": {},
   "source": [
    "# **Gap-filling**\n",
    "Gap-filling of time series data"
   ]
  },
  {
   "cell_type": "markdown",
   "id": "ec0b4ba4-f35a-4e3c-988e-83b79b70fec7",
   "metadata": {},
   "source": [
    "\n",
    "- [Linear interpolation](GapFilling/LinearInterpolation.ipynb)\n",
    "- [MDS gap-filling of ecosystem fluxes](GapFilling/FluxMDSGapFilling.ipynb): approach by [Reichstein et al., 2005](https://onlinelibrary.wiley.com/doi/10.1111/j.1365-2486.2005.001002.x)\n",
    "- [Random forest parameter optimization](GapFilling/RandomForestParamOptimization.ipynb)\n",
    "- [Random forest gap-filling](GapFilling/RandomForestGapFilling.ipynb)\n",
    "- [Random forest long-term gap-filling](GapFilling/LongTermRandomForestGapFilling.ipynb)\n",
    "- [Random forest quick gap-filling with ](GapFilling/QuickRandomForestGapFilling.ipynb): Quick gap-filling with pre-defined parameters\n",
    "- [XGBoost gap-filling, minimal example](GapFilling/XGBoostGapFillingMinimal.ipynb)\n",
    "- [XGBoost gap-filling, more extensive example](GapFilling/XGBoostGapFillingExtensive.ipynb)"
   ]
  },
  {
   "cell_type": "markdown",
   "id": "479899d9-881d-4231-bc7d-0e83789cbe09",
   "metadata": {},
   "source": [
    "</br>"
   ]
  },
  {
   "cell_type": "markdown",
   "id": "cd147261-d558-4bf1-adf8-b0d6b6c26553",
   "metadata": {},
   "source": [
    "# **QA/QC - Data Quality Checks, Corrections and Flags**"
   ]
  },
  {
   "cell_type": "markdown",
   "id": "db13d0fc-6ee4-4bec-a768-d5464513b0d6",
   "metadata": {},
   "source": [
    "- <b><span style=\"color:#66BB6A;background-color:#E8F5E9;\">UPDATED in v0.87.1!</span></b> [Step-wise quality screening of meteo data from database](MeteoScreening/StepwiseMeteoScreeningFromDatabase.ipynb): Example of how `diive` is used to quality-screen meteorological data using a direct connection to a database. In this case, the database used is [InfluxDB](https://www.influxdata.com/).\n",
    "- Flux quality-screening is part of the Flux Processing Chain (see above)."
   ]
  },
  {
   "cell_type": "markdown",
   "id": "f07f2006-9434-42b8-b590-2811bd31861f",
   "metadata": {},
   "source": [
    "</br>"
   ]
  },
  {
   "cell_type": "markdown",
   "id": "4827dd6e-dd2f-416d-a46d-5a1b0b809153",
   "metadata": {},
   "source": [
    "# **Outlier Detection**"
   ]
  },
  {
   "cell_type": "markdown",
   "id": "d82f88e5-2345-492c-a0c6-50211375783f",
   "metadata": {},
   "source": [
    "## Multiple tests combined\n",
    "- *SOON* Step-wise outlier detection"
   ]
  },
  {
   "cell_type": "markdown",
   "id": "f7ca8e7f-d991-4fe2-ac2c-e259c72246f7",
   "metadata": {},
   "source": [
    "## Single tests\n",
    "- [Absolute limits, separately for daytime and nighttime](OutlierDetection/AbsoluteLimitsDaytimeNighttime.ipynb)\n",
    "- [Absolute limits](OutlierDetection/AbsoluteLimits.ipynb)\n",
    "- [Incremental z-score: Identify outliers based on the z-score of double increments](OutlierDetection/zScoreIncremental.ipynb)\n",
    "- [Local outlier factor across all data](OutlierDetection/LocalOutlierFactorAllData.ipynb)\n",
    "- [Local outlier factor across, separately for daytime and nighttime](OutlierDetection/LocalOutlierFactorDaytimeNighttime.ipynb)\n",
    "- [Local standard deviation](OutlierDetection/LocalSD.ipynb)\n",
    "- [Missing values flag](OutlierDetection/MissingValues.ipynb)\n",
    "- [Manual removal of time periods (from-to) or single records from time series](OutlierDetection/ManualRemoval.ipynb)\n",
    "- [Hampel filter](OutlierDetection/Hampel.ipynb)\n",
    "- [Hampel filter separately for daytime and nighttime data](OutlierDetection/HampelDaytimeNighttime.ipynb)\n",
    "- [Trim data](OutlierDetection/TrimLow.ipynb)\n",
    "- [z-score](OutlierDetection/zScore.ipynb) \n",
    "- [z-score separately on daytime and nighttime data](OutlierDetection/zScoreDaytimeNighttime.ipynb)\n",
    "- [z-score in a rolling time window](OutlierDetection/zScoreRolling.ipynb)"
   ]
  },
  {
   "cell_type": "markdown",
   "id": "ebbc8e90-dc12-4bc1-a4d6-88659496506e",
   "metadata": {},
   "source": [
    "</br>"
   ]
  },
  {
   "cell_type": "markdown",
   "id": "0c23ce8b-44db-405a-9278-7aca5b13dc25",
   "metadata": {},
   "source": [
    "# **Plotting**"
   ]
  },
  {
   "cell_type": "markdown",
   "id": "3f12e3ac-15eb-4dcb-bbbc-4652149b25d9",
   "metadata": {},
   "source": [
    "- [Cumulative sums across all data](Plotting/Cumulative.ipynb)\n",
    "- [Cumulatives per year](Plotting/CumulativesPerYear.ipynb)\n",
    "- [Diel cycle per month](Plotting/DielCycle.ipynb) (for calculating diel cycles without plotting see Resampling/[Calculate diel cycles](Resampling/ResamplingDielCycle.ipynb))\n",
    "- <b><span style=\"color:#66BB6A;background-color:#E8F5E9;\">UPDATED in v0.88.0!</span></b> [Heatmap datetime plot](Plotting/HeatmapDateTime.ipynb): show values (z) of time series as date vs time\n",
    "- <b><span style=\"color:#66BB6A;background-color:#E8F5E9;\">UPDATED in v0.88.0!</span></b> [Heatmap year/month plot](Plotting/HeatmapYearMonth.ipynb): show values or ranks of values (z) of time series as year vs month\n",
    "- [Histogram with options to show z-scores, highlight peak distribution, show counts](Plotting/Histogram.ipynb)\n",
    "- [Long-term anomalies per year](Plotting/LongTermAnomalies.ipynb)\n",
    "- <b><span style=\"color:#F4511E;background-color:#FFECB3;\">NEW in v0.86.0!</span></b> [Ridgeline plot](Plotting/RidgeLine.ipynb)\n",
    "- [Scatter plot with bins](Plotting/ScatterXY.ipynb)\n",
    "- [Simple (interactive) time series plot](Plotting/TimeSeries.ipynb)"
   ]
  },
  {
   "cell_type": "markdown",
   "id": "0367c6d6-09ec-45e8-bbd1-bccd391bd514",
   "metadata": {},
   "source": [
    "</br>"
   ]
  },
  {
   "cell_type": "markdown",
   "id": "0d1039de-33f0-4e03-9ac5-e38e570ef56d",
   "metadata": {},
   "source": [
    "# **ReadFiles**\n",
    "Examples for reading data from files"
   ]
  },
  {
   "cell_type": "markdown",
   "id": "f1fbedcb-ac0f-4065-b976-2073161d9d4c",
   "metadata": {},
   "source": [
    "- [Read single EddyPro _fluxnet_ output file with DataFileReader using parameters](ReadFiles/Read_single_EddyPro_fluxnet_output_file_with_DataFileReader.ipynb)\n",
    "- [Read single EddyPro _fluxnet_ output file with ReadFileType using pre-defined filetype](ReadFiles/Read_single_EddyPro_fluxnet_output_file_with_ReadFileType.ipynb)\n",
    "- [Read multiple EddyPro _fluxnet_ output file with MultiDataFileReader using pre-defined filetype](ReadFiles/Read_multiple_EddyPro_fluxnet_output_files_with_MultiDataFileReader.ipynb)"
   ]
  },
  {
   "cell_type": "markdown",
   "id": "808f0e8c-c40c-4513-88e9-14e1828df9de",
   "metadata": {},
   "source": [
    "</br>"
   ]
  },
  {
   "cell_type": "markdown",
   "id": "05993e55-79da-4d27-b686-84f1dedbdaac",
   "metadata": {},
   "source": [
    "# **Resampling**\n",
    "Examples for resampling data"
   ]
  },
  {
   "cell_type": "markdown",
   "id": "58392ffb-964e-4d72-b3fe-74023e6a4ca5",
   "metadata": {},
   "source": [
    "- [Diel cycles](Resampling/ResamplingDielCycle.ipynb) (for plotting diel cycles see Plotting/[Diel cycle per month](Resampling/ResamplingDielCycle.ipynb))\n",
    "- <b><span style=\"color:#F4511E;background-color:#FFECB3;\">NEW in v0.87.0!</span></b> [Monthly aggregation matrix](Resampling/ResamplingMonthlyMatrix.ipynb)"
   ]
  },
  {
   "cell_type": "markdown",
   "id": "0c8a70ba-dd44-49e8-b3ef-74922b4d7741",
   "metadata": {},
   "source": [
    "</br>"
   ]
  },
  {
   "cell_type": "markdown",
   "id": "acfd5fc6",
   "metadata": {},
   "source": [
    "# **Stats**"
   ]
  },
  {
   "cell_type": "markdown",
   "id": "219558b3",
   "metadata": {},
   "source": [
    "- [Calculate time series stats](Stats/TimeSeriesStats.ipynb)"
   ]
  },
  {
   "cell_type": "markdown",
   "id": "bcb29deb-65fb-4f91-aced-83f78a324805",
   "metadata": {},
   "source": [
    "</br>"
   ]
  },
  {
   "cell_type": "markdown",
   "id": "7c81ebbd-a31d-4fe1-8186-888277072046",
   "metadata": {},
   "source": [
    "# **Time Functions**"
   ]
  },
  {
   "cell_type": "markdown",
   "id": "4fc96f7c-cff8-4221-8524-7742b7d63cda",
   "metadata": {},
   "source": [
    "- [Various time functions](TimeFunctions/times.ipynb)"
   ]
  },
  {
   "cell_type": "markdown",
   "id": "c751f7f7-bdb2-4f23-a863-3c466c2764a2",
   "metadata": {},
   "source": [
    "</br>"
   ]
  },
  {
   "cell_type": "markdown",
   "id": "adcde2e8-b2e3-44a0-9ec5-29b9f79d69f8",
   "metadata": {},
   "source": [
    "# **Timestamps**"
   ]
  },
  {
   "cell_type": "markdown",
   "id": "5a27be0c-3e50-460a-b642-1d71241f95e4",
   "metadata": {},
   "source": [
    "- [Detect time resolution from data](TimeStamps/Detect_time_resolution.ipynb)"
   ]
  },
  {
   "cell_type": "markdown",
   "id": "fe142dc3-0978-4d00-8665-d9a689a7bb8d",
   "metadata": {},
   "source": [
    "</br>"
   ]
  },
  {
   "cell_type": "markdown",
   "id": "14b575ae-c02a-4113-9df3-3de5d919b868",
   "metadata": {},
   "source": [
    "</br>"
   ]
  }
 ],
 "metadata": {
  "kernelspec": {
   "display_name": "Python 3 (ipykernel)",
   "language": "python",
   "name": "python3"
  },
  "language_info": {
   "codemirror_mode": {
    "name": "ipython",
    "version": 3
   },
   "file_extension": ".py",
   "mimetype": "text/x-python",
   "name": "python",
   "nbconvert_exporter": "python",
   "pygments_lexer": "ipython3",
   "version": "3.11.11"
  }
 },
 "nbformat": 4,
 "nbformat_minor": 5
}
