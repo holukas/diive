{
 "cells": [
  {
   "cell_type": "markdown",
   "id": "6bfdd14f-0936-4eac-8642-5dd9541add8b",
   "metadata": {},
   "source": [
    "![lop](../../images/logo_diive1_128px.png)\n",
    "# **Overview**\n",
    "---\n",
    "**Last updated**: 17 Apr 2023  \n",
    "**Author**: Lukas Hörtnagl (holukas@ethz.ch)\n",
    "---\n",
    "Overview of example notebooks for the time series processing library `diive`."
   ]
  },
  {
   "cell_type": "markdown",
   "id": "46045ed1-9cdc-4e41-bde9-69bf9e41ebf4",
   "metadata": {},
   "source": [
    "# Corrections\n",
    "Examples for data corrections"
   ]
  },
  {
   "cell_type": "markdown",
   "id": "8ceb3736-b947-4578-bbd5-0d106147cffd",
   "metadata": {},
   "source": [
    "- `Corrections/WindDirectionOffset.ipynb`"
   ]
  },
  {
   "cell_type": "markdown",
   "id": "0d1039de-33f0-4e03-9ac5-e38e570ef56d",
   "metadata": {},
   "source": [
    "# ReadFiles\n",
    "Examples for reading data from files"
   ]
  },
  {
   "cell_type": "markdown",
   "id": "f1fbedcb-ac0f-4065-b976-2073161d9d4c",
   "metadata": {},
   "source": [
    "- [`ReadFiles/Read_data_from_ICOS_BM_files.ipynb`](notebooks/ReadFiles/Read_data_from_ICOS_BM_files.ipynb)"
   ]
  },
  {
   "cell_type": "code",
   "execution_count": null,
   "id": "55cf86b1-2fc1-409f-8bf1-a753f4284936",
   "metadata": {},
   "outputs": [],
   "source": []
  }
 ],
 "metadata": {
  "kernelspec": {
   "display_name": "Python 3 (ipykernel)",
   "language": "python",
   "name": "python3"
  },
  "language_info": {
   "codemirror_mode": {
    "name": "ipython",
    "version": 3
   },
   "file_extension": ".py",
   "mimetype": "text/x-python",
   "name": "python",
   "nbconvert_exporter": "python",
   "pygments_lexer": "ipython3",
   "version": "3.9.7"
  }
 },
 "nbformat": 4,
 "nbformat_minor": 5
}
