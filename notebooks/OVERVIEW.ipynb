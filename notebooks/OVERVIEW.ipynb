{
 "cells": [
  {
   "cell_type": "markdown",
   "id": "6bfdd14f-0936-4eac-8642-5dd9541add8b",
   "metadata": {},
   "source": [
    "![lop](../images/logo_diive1_128px.png)\n",
    "# **Overview**\n",
    "\n",
    "**Last updated**: 15 Jun 2023  \n",
    "**Author**: Lukas Hörtnagl (holukas@ethz.ch)\n",
    "---\n",
    "Overview of example notebooks for the time series processing library `diive`."
   ]
  },
  {
   "cell_type": "markdown",
   "id": "46045ed1-9cdc-4e41-bde9-69bf9e41ebf4",
   "metadata": {},
   "source": [
    "# Analyses\n",
    "Examples for data analyses"
   ]
  },
  {
   "cell_type": "markdown",
   "id": "8bee8460-ffc1-43e7-b3d9-99c63be7e07b",
   "metadata": {},
   "source": [
    "- [Find gaps in time series](Analyses/GapFinder.ipynb)"
   ]
  },
  {
   "cell_type": "markdown",
   "id": "a8370933-2a5b-455a-9efb-3d32849cf43b",
   "metadata": {},
   "source": [
    "# Calculate Variable"
   ]
  },
  {
   "cell_type": "markdown",
   "id": "400a5e8c-adb7-4f8f-856a-4f8da965948f",
   "metadata": {},
   "source": [
    "- [Calculate VPD from TA and RH](CalculateVariable/Calculate_VPD_from_TA_and_RH.ipynb)"
   ]
  },
  {
   "cell_type": "markdown",
   "id": "2c06f82a-418e-48b7-8ba7-3d411ad1c557",
   "metadata": {
    "tags": []
   },
   "source": [
    "# Corrections\n",
    "Examples for data corrections"
   ]
  },
  {
   "cell_type": "markdown",
   "id": "8ceb3736-b947-4578-bbd5-0d106147cffd",
   "metadata": {},
   "source": [
    "- [Wind direction offset correction](Corrections/WindDirectionOffset.ipynb)"
   ]
  },
  {
   "cell_type": "markdown",
   "id": "6f56983c-9d4a-4e38-93ec-654347709ea1",
   "metadata": {},
   "source": [
    "# Formats\n",
    "Format data"
   ]
  },
  {
   "cell_type": "markdown",
   "id": "83cfc453-4d16-41e1-a439-d96aaf2013f8",
   "metadata": {},
   "source": [
    "- [Format EddyPro fluxnet output files for upload to FLUXNET database](Formats/FormatEddyProFluxnetFileForUpload.ipynb)"
   ]
  },
  {
   "cell_type": "markdown",
   "id": "0d1039de-33f0-4e03-9ac5-e38e570ef56d",
   "metadata": {},
   "source": [
    "# ReadFiles\n",
    "Examples for reading data from files"
   ]
  },
  {
   "cell_type": "markdown",
   "id": "f1fbedcb-ac0f-4065-b976-2073161d9d4c",
   "metadata": {},
   "source": [
    "- [Read data from multiple ICOS BM files with 1-row header](ReadFiles/Read_data_from_multiple_ICOS_BM_files_1header-row.ipynb)\n",
    "- [Read data from multiple ICOS BM files with 2-row header](ReadFiles/Read_data_from_multiple_ICOS_BM_files_2header-rows.ipynb)\n",
    "- [Read data from single ICOS BM file with 2-row header](ReadFiles/Read_data_from_single_ICOS_BM_file_2header-rows.ipynb)"
   ]
  },
  {
   "cell_type": "markdown",
   "source": [
    "# Stats"
   ],
   "metadata": {
    "collapsed": false
   }
  },
  {
   "cell_type": "markdown",
   "source": [
    "- [Calculate time series stats](Stats/TimeSeriesStats.ipynb)"
   ],
   "metadata": {
    "collapsed": false
   }
  },
  {
   "cell_type": "markdown",
   "id": "7c81ebbd-a31d-4fe1-8186-888277072046",
   "metadata": {},
   "source": [
    "# Time Functions"
   ]
  },
  {
   "cell_type": "markdown",
   "id": "4fc96f7c-cff8-4221-8524-7742b7d63cda",
   "metadata": {},
   "source": [
    "- [Various time functions](TimeFunctions/times.ipynb)"
   ]
  },
  {
   "cell_type": "markdown",
   "id": "adcde2e8-b2e3-44a0-9ec5-29b9f79d69f8",
   "metadata": {},
   "source": [
    "# Timestamps"
   ]
  },
  {
   "cell_type": "markdown",
   "id": "5a27be0c-3e50-460a-b642-1d71241f95e4",
   "metadata": {},
   "source": [
    "- [Detect time resolution from data](TimeStamps/Detect_time_resolution.ipynb)"
   ]
  },
  {
   "cell_type": "markdown",
   "id": "92028111-2dc8-4e7e-b7a9-11bdd1990800",
   "metadata": {},
   "source": [
    "# Workbench\n",
    "Use cases\n",
    "- [ICOS: Compare uploaded to local precipitation data](Workbench/ICOS_precipitation_compare_uploaded_to_local_data.ipynb)"
   ]
  },
  {
   "cell_type": "code",
   "execution_count": null,
   "id": "82bcccec-f76a-48ab-ab24-3db008d37eab",
   "metadata": {},
   "outputs": [],
   "source": []
  }
 ],
 "metadata": {
  "kernelspec": {
   "display_name": "Python 3 (ipykernel)",
   "language": "python",
   "name": "python3"
  },
  "language_info": {
   "codemirror_mode": {
    "name": "ipython",
    "version": 3
   },
   "file_extension": ".py",
   "mimetype": "text/x-python",
   "name": "python",
   "nbconvert_exporter": "python",
   "pygments_lexer": "ipython3",
   "version": "3.9.7"
  }
 },
 "nbformat": 4,
 "nbformat_minor": 5
}
