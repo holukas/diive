{
 "cells": [
  {
   "cell_type": "markdown",
   "id": "32077b37-03b2-49a1-9fdc-374b462d9e25",
   "metadata": {},
   "source": [
    "![lop](../../../images/logo_diive1_128px.png)"
   ]
  },
  {
   "cell_type": "markdown",
   "id": "ae4bccc9-325d-407f-bcbe-e2f8b036d48d",
   "metadata": {},
   "source": [
    "<span style='font-size:40px; display:block;'>\n",
    "<b>\n",
    "    FCH4 vs. USTAR\n",
    "</b>\n",
    "</span>"
   ]
  },
  {
   "cell_type": "markdown",
   "id": "3002f149-68af-4af7-b852-a1022aa2816b",
   "metadata": {},
   "source": [
    "---\n",
    "**Notebook version**: `1` (19 Nov 2023)  \n",
    "**Author**: Lukas Hörtnagl (holukas@ethz.ch)"
   ]
  },
  {
   "cell_type": "markdown",
   "id": "f246a1fe-4dc0-4376-a920-ded8db538906",
   "metadata": {},
   "source": [
    "# Background\n",
    "- This notebook investigates the eddy covariance CH4 flux (nmol m-2 s-1) in relation to USTAR (m s-1).\n",
    "- The used dataset is a special version of the [FLUXNET-CH4 Community Product](https://fluxnet.org/data/fluxnet-ch4-community-product/).\n",
    "- `FCH4` in this notebook is the flux **before** USTAR filtering."
   ]
  },
  {
   "cell_type": "markdown",
   "id": "befc6424-205d-4936-a0f7-d5887a202929",
   "metadata": {},
   "source": [
    "# Setup"
   ]
  },
  {
   "cell_type": "code",
   "execution_count": null,
   "id": "2f1a7d4e-736a-448c-9904-126148459c74",
   "metadata": {
    "is_executing": true
   },
   "outputs": [],
   "source": [
    "# Variable names in data files\n",
    "USTAR1 = 'USTAR'\n",
    "USTAR2 = 'USTAR_1_1_1'  # Alternative name in some files\n",
    "FLUX1 = 'FCH4'\n",
    "FLUX2 = 'FCH4_1_1_1'  # Alternative name in some files\n",
    "\n",
    "# Source folder with data files in parquet format\n",
    "SOURCEDIR = r\"data/CH4/FLUXNET-CH4 Community Product Special Version preUSTAR/PARQUET\""
   ]
  },
  {
   "cell_type": "markdown",
   "id": "e04c6ba6-d4fe-4cb3-8d55-f2d2e11bb55c",
   "metadata": {},
   "source": [
    "# Imports"
   ]
  },
  {
   "cell_type": "code",
   "execution_count": null,
   "id": "27b39603-ef79-47b8-b4fd-8ca4ec9a7a74",
   "metadata": {},
   "outputs": [],
   "source": [
    "import importlib.metadata\n",
    "import matplotlib.pyplot as plt\n",
    "import matplotlib.gridspec as gridspec\n",
    "%matplotlib inline\n",
    "import numpy as np\n",
    "import pandas as pd\n",
    "\n",
    "from diive.core.io.filereader import search_files\n",
    "from diive.core.io.files import load_parquet\n",
    "from diive.core.plotting.scatter import ScatterXY\n",
    "\n",
    "version_diive = importlib.metadata.version(\"diive\")\n",
    "print(f\"diive version: v{version_diive}\")"
   ]
  },
  {
   "cell_type": "markdown",
   "id": "66d3218b-f996-4caa-bfc8-d7ae2649a0f1",
   "metadata": {},
   "source": [
    "# Search data files\n",
    "- All data files were first converted to the [Parquet](https://parquet.apache.org/) format for faster processing."
   ]
  },
  {
   "cell_type": "code",
   "execution_count": null,
   "id": "1dca9422-418a-40e8-b191-244d49627993",
   "metadata": {},
   "outputs": [],
   "source": [
    "foundfiles = search_files(searchdirs=[SOURCEDIR], pattern='*.parquet')\n",
    "# foundfiles = foundfiles[0:11]\n",
    "[print(f\"{ix}: {f}\") for ix, f in enumerate(foundfiles)];"
   ]
  },
  {
   "cell_type": "markdown",
   "id": "307acec1-bcfb-46c6-9911-42db68c2424e",
   "metadata": {},
   "source": [
    "# Determine required number of rows for large figure"
   ]
  },
  {
   "cell_type": "code",
   "execution_count": null,
   "id": "01d57e8e-50a8-4523-a7ab-dbf9e3c12531",
   "metadata": {},
   "outputs": [],
   "source": [
    "n_files = len(foundfiles)\n",
    "plots_per_row = 4"
   ]
  },
  {
   "cell_type": "markdown",
   "id": "8c8ba0b8-2aee-4756-86bc-e785b7c94657",
   "metadata": {},
   "source": [
    "# Plotting function (with bins)"
   ]
  },
  {
   "cell_type": "code",
   "execution_count": null,
   "id": "ea416e62-23f4-42cc-9493-5b41cf449065",
   "metadata": {},
   "outputs": [],
   "source": [
    "def plot(foundfiles: list, patchid: int):\n",
    "    fig = plt.figure(facecolor='white', figsize=(28.8, 21.6), dpi=72)\n",
    "    gs = gridspec.GridSpec(3, 4)  # rows, cols   \n",
    "    gs.update(wspace=0.15, hspace=0.25, left=0.03, right=0.97, top=0.97, bottom=0.03)\n",
    "    \n",
    "    current_row = 0\n",
    "    col = 0\n",
    "    axes = {} \n",
    "    for ix, ff in enumerate(foundfiles):\n",
    "        site = ff.name.replace('AMF_', '').split('_')[0]\n",
    "        df = load_parquet(ff)\n",
    "       \n",
    "        if col > plots_per_row-1:    \n",
    "            col = 0\n",
    "            current_row += 1        \n",
    "        ax = fig.add_subplot(gs[current_row, col])        \n",
    "        xcol = USTAR1 if USTAR1 in df.columns else USTAR2\n",
    "        ycol = FLUX1 if FLUX1 in df.columns else FLUX2    \n",
    "        ScatterXY(x=df[xcol], y=df[ycol], nbins=20, title=site, binagg='median', ax=ax, ylim='auto').plot()        \n",
    "        col += 1   \n",
    "    fig.savefig(f\"FCH4vsUSTAR_{patchid}.png\")"
   ]
  },
  {
   "cell_type": "markdown",
   "id": "a44f2c5c-4460-4ad6-8a48-e933eda6b2dc",
   "metadata": {},
   "source": [
    "# Create plots (with bins)"
   ]
  },
  {
   "cell_type": "code",
   "execution_count": null,
   "id": "eb6f0b0d-eb84-409c-911e-f4d21027daf3",
   "metadata": {},
   "outputs": [],
   "source": [
    "patch = 0\n",
    "for firstfile in range(0, n_files, 12):    \n",
    "    patch += 1\n",
    "    lastfile = firstfile + 12\n",
    "    print(f\"Patch {patch} ({firstfile}-{lastfile})\")\n",
    "    plot(foundfiles=foundfiles[firstfile:lastfile], patchid=patch)    "
   ]
  },
  {
   "cell_type": "code",
   "execution_count": null,
   "id": "0f382f3f-f3c1-4f0f-a70c-46299f3a032c",
   "metadata": {},
   "outputs": [],
   "source": []
  },
  {
   "cell_type": "code",
   "execution_count": null,
   "id": "2d6ef300-45f4-41dc-86d6-940b750d9d48",
   "metadata": {},
   "outputs": [],
   "source": []
  }
 ],
 "metadata": {
  "kernelspec": {
   "display_name": "Python 3 (ipykernel)",
   "language": "python",
   "name": "python3"
  },
  "language_info": {
   "codemirror_mode": {
    "name": "ipython",
    "version": 3
   },
   "file_extension": ".py",
   "mimetype": "text/x-python",
   "name": "python",
   "nbconvert_exporter": "python",
   "pygments_lexer": "ipython3",
   "version": "3.9.7"
  }
 },
 "nbformat": 4,
 "nbformat_minor": 5
}
