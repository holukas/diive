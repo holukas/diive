{
 "cells": [
  {
   "cell_type": "markdown",
   "id": "ddd6b896-1ca9-4400-9a56-b6c54f1227bc",
   "metadata": {},
   "source": [
    "![lop](../../images/logo_diive1_128px.png)"
   ]
  },
  {
   "cell_type": "markdown",
   "id": "f7d62392-029c-4617-88ff-c2858fd2843d",
   "metadata": {},
   "source": [
    "<span style='font-size:40px; display:block;'>\n",
    "<b>\n",
    "    Find gaps in time series\n",
    "</b>\n",
    "</span>"
   ]
  },
  {
   "cell_type": "markdown",
   "id": "ed56e372-8871-4941-830b-fc7ec5ea4b0d",
   "metadata": {},
   "source": [
    "---\n",
    "**Notebook version**: `2` (24 Oct 2023)  \n",
    "**Author**: Lukas Hörtnagl (holukas@ethz.ch)  "
   ]
  },
  {
   "cell_type": "markdown",
   "id": "9bda4b13-d901-4573-a0ef-8d07e42246ef",
   "metadata": {},
   "source": [
    "</br>"
   ]
  },
  {
   "cell_type": "markdown",
   "id": "6c3fffd7-c44b-4200-bf56-0a6320c2727b",
   "metadata": {},
   "source": [
    "# **Description**"
   ]
  },
  {
   "cell_type": "markdown",
   "id": "1ad88540-8c83-48f0-a83a-7e208a437b80",
   "metadata": {},
   "source": [
    "- Get an overview of existing data gaps in a time series"
   ]
  },
  {
   "cell_type": "markdown",
   "id": "44abf4d0-dfa4-4366-aa88-c472d6e271d7",
   "metadata": {},
   "source": [
    "</br>"
   ]
  },
  {
   "cell_type": "markdown",
   "id": "59154e56-b3bb-4a5e-8cf1-0959bfc3dd54",
   "metadata": {},
   "source": [
    "# **Imports**"
   ]
  },
  {
   "cell_type": "code",
   "execution_count": 1,
   "id": "98a0b6ed-8f83-4519-b23f-a13453dff0a1",
   "metadata": {
    "ExecuteTime": {
     "end_time": "2024-08-22T14:07:25.069717Z",
     "start_time": "2024-08-22T14:07:22.560523Z"
    },
    "tags": []
   },
   "outputs": [
    {
     "name": "stdout",
     "output_type": "stream",
     "text": [
      "diive version: v0.85.0\n"
     ]
    }
   ],
   "source": [
    "import importlib.metadata\n",
    "import warnings\n",
    "from datetime import datetime\n",
    "\n",
    "from diive.configs.exampledata import load_exampledata_parquet\n",
    "from diive.pkgs.analyses.gapfinder import GapFinder\n",
    "\n",
    "warnings.filterwarnings(\"ignore\")\n",
    "version_diive = importlib.metadata.version(\"diive\")\n",
    "print(f\"diive version: v{version_diive}\")"
   ]
  },
  {
   "cell_type": "markdown",
   "id": "7ecfa5e2-4747-480a-b1ba-52a00efcfef5",
   "metadata": {},
   "source": [
    "</br>"
   ]
  },
  {
   "cell_type": "markdown",
   "id": "e0d8b5ef-0284-4885-91a8-e270aa85395e",
   "metadata": {},
   "source": [
    "# **Docstring**"
   ]
  },
  {
   "cell_type": "code",
   "execution_count": 2,
   "id": "f2b3d8ae-bf18-4376-bdee-69533e71a1f1",
   "metadata": {
    "ExecuteTime": {
     "end_time": "2024-08-22T14:07:25.303599Z",
     "start_time": "2024-08-22T14:07:25.258432Z"
    }
   },
   "outputs": [],
   "source": [
    "# help(GapFinder)"
   ]
  },
  {
   "cell_type": "markdown",
   "id": "ef6dd178-e77a-4ad2-b2fe-d9b6b7a95e6d",
   "metadata": {},
   "source": [
    "</br>"
   ]
  },
  {
   "cell_type": "markdown",
   "id": "c7c703c0-0b80-4b6e-b85a-43c8c4b4c2c6",
   "metadata": {},
   "source": [
    "# **Load example data**"
   ]
  },
  {
   "cell_type": "code",
   "execution_count": 3,
   "id": "d6a8a136-b0da-44e5-989a-2f23e3109e79",
   "metadata": {
    "ExecuteTime": {
     "end_time": "2024-08-22T14:07:25.583017Z",
     "start_time": "2024-08-22T14:07:25.395860Z"
    },
    "tags": []
   },
   "outputs": [
    {
     "name": "stdout",
     "output_type": "stream",
     "text": [
      "Loaded .parquet file L:\\Sync\\luhk_work\\20 - CODING\\21 - DIIVE\\diive\\diive\\configs\\exampledata\\exampledata_PARQUET_CH-DAV_FP2022.5_2013-2022_ID20230206154316_30MIN.parquet (0.042 seconds).\n",
      "    --> Detected time resolution of <30 * Minutes> / 30min \n"
     ]
    },
    {
     "data": {
      "text/plain": [
       "TIMESTAMP_MIDDLE\n",
       "2013-01-01 00:15:00      NaN\n",
       "2013-01-01 00:45:00      NaN\n",
       "2013-01-01 01:15:00      NaN\n",
       "2013-01-01 01:45:00    0.538\n",
       "2013-01-01 02:15:00      NaN\n",
       "                       ...  \n",
       "2022-12-31 21:45:00      NaN\n",
       "2022-12-31 22:15:00    3.518\n",
       "2022-12-31 22:45:00      NaN\n",
       "2022-12-31 23:15:00      NaN\n",
       "2022-12-31 23:45:00      NaN\n",
       "Freq: 30min, Name: NEE_CUT_REF_orig, Length: 175296, dtype: float64"
      ]
     },
     "execution_count": 3,
     "metadata": {},
     "output_type": "execute_result"
    }
   ],
   "source": [
    "data_df = load_exampledata_parquet()\n",
    "series = data_df['NEE_CUT_REF_orig']\n",
    "series"
   ]
  },
  {
   "cell_type": "markdown",
   "id": "fdb3e3b2-3ca0-4439-830b-7cf77216cc8c",
   "metadata": {},
   "source": [
    "</br>"
   ]
  },
  {
   "cell_type": "markdown",
   "id": "d1b83405-0274-4587-a6ba-0f29f2b30742",
   "metadata": {},
   "source": [
    "# **Find gaps in time series**"
   ]
  },
  {
   "cell_type": "code",
   "execution_count": 4,
   "id": "0783bda1-e410-42f0-a4c6-be64000852e9",
   "metadata": {
    "ExecuteTime": {
     "end_time": "2024-08-22T14:07:25.689446Z",
     "start_time": "2024-08-22T14:07:25.661014Z"
    },
    "tags": []
   },
   "outputs": [],
   "source": [
    "gf = GapFinder(series=series, limit=None, sort_results=True)\n",
    "gapfinder_df = gf.get_results()"
   ]
  },
  {
   "cell_type": "markdown",
   "id": "35133812-d597-4a16-b1ec-0d15c288d492",
   "metadata": {},
   "source": [
    "</br>"
   ]
  },
  {
   "cell_type": "markdown",
   "id": "0ffe715d-79ad-4d56-8b93-c76fc240e182",
   "metadata": {},
   "source": [
    "# **Results**"
   ]
  },
  {
   "cell_type": "code",
   "execution_count": 5,
   "id": "c90d528e-9415-46d4-9eea-030c265e65f3",
   "metadata": {
    "ExecuteTime": {
     "end_time": "2024-08-22T14:07:25.751281Z",
     "start_time": "2024-08-22T14:07:25.738314Z"
    },
    "tags": []
   },
   "outputs": [
    {
     "data": {
      "text/html": [
       "<div>\n",
       "<style scoped>\n",
       "    .dataframe tbody tr th:only-of-type {\n",
       "        vertical-align: middle;\n",
       "    }\n",
       "\n",
       "    .dataframe tbody tr th {\n",
       "        vertical-align: top;\n",
       "    }\n",
       "\n",
       "    .dataframe thead th {\n",
       "        text-align: right;\n",
       "    }\n",
       "</style>\n",
       "<table border=\"1\" class=\"dataframe\">\n",
       "  <thead>\n",
       "    <tr style=\"text-align: right;\">\n",
       "      <th></th>\n",
       "      <th>GAP_START</th>\n",
       "      <th>GAP_END</th>\n",
       "      <th>GAP_LENGTH</th>\n",
       "    </tr>\n",
       "    <tr>\n",
       "      <th>IS_NUMERIC_CUMSUM</th>\n",
       "      <th></th>\n",
       "      <th></th>\n",
       "      <th></th>\n",
       "    </tr>\n",
       "  </thead>\n",
       "  <tbody>\n",
       "    <tr>\n",
       "      <th>30027</th>\n",
       "      <td>2018-03-06 19:15:00</td>\n",
       "      <td>2018-04-30 15:15:00</td>\n",
       "      <td>2633</td>\n",
       "    </tr>\n",
       "    <tr>\n",
       "      <th>21932</th>\n",
       "      <td>2016-09-12 16:15:00</td>\n",
       "      <td>2016-09-22 09:45:00</td>\n",
       "      <td>468</td>\n",
       "    </tr>\n",
       "    <tr>\n",
       "      <th>48475</th>\n",
       "      <td>2021-05-18 16:15:00</td>\n",
       "      <td>2021-05-25 13:45:00</td>\n",
       "      <td>332</td>\n",
       "    </tr>\n",
       "    <tr>\n",
       "      <th>31041</th>\n",
       "      <td>2018-06-19 22:45:00</td>\n",
       "      <td>2018-06-26 10:45:00</td>\n",
       "      <td>313</td>\n",
       "    </tr>\n",
       "    <tr>\n",
       "      <th>5204</th>\n",
       "      <td>2013-11-22 13:15:00</td>\n",
       "      <td>2013-11-28 09:45:00</td>\n",
       "      <td>282</td>\n",
       "    </tr>\n",
       "    <tr>\n",
       "      <th>...</th>\n",
       "      <td>...</td>\n",
       "      <td>...</td>\n",
       "      <td>...</td>\n",
       "    </tr>\n",
       "    <tr>\n",
       "      <th>14639</th>\n",
       "      <td>2015-07-23 21:45:00</td>\n",
       "      <td>2015-07-23 21:45:00</td>\n",
       "      <td>1</td>\n",
       "    </tr>\n",
       "    <tr>\n",
       "      <th>14613</th>\n",
       "      <td>2015-07-22 17:45:00</td>\n",
       "      <td>2015-07-22 17:45:00</td>\n",
       "      <td>1</td>\n",
       "    </tr>\n",
       "    <tr>\n",
       "      <th>58130</th>\n",
       "      <td>2022-12-25 12:45:00</td>\n",
       "      <td>2022-12-25 12:45:00</td>\n",
       "      <td>1</td>\n",
       "    </tr>\n",
       "    <tr>\n",
       "      <th>100</th>\n",
       "      <td>2013-01-14 10:15:00</td>\n",
       "      <td>2013-01-14 10:15:00</td>\n",
       "      <td>1</td>\n",
       "    </tr>\n",
       "    <tr>\n",
       "      <th>96</th>\n",
       "      <td>2013-01-13 15:45:00</td>\n",
       "      <td>2013-01-13 15:45:00</td>\n",
       "      <td>1</td>\n",
       "    </tr>\n",
       "  </tbody>\n",
       "</table>\n",
       "<p>15602 rows × 3 columns</p>\n",
       "</div>"
      ],
      "text/plain": [
       "                            GAP_START             GAP_END  GAP_LENGTH\n",
       "IS_NUMERIC_CUMSUM                                                    \n",
       "30027             2018-03-06 19:15:00 2018-04-30 15:15:00        2633\n",
       "21932             2016-09-12 16:15:00 2016-09-22 09:45:00         468\n",
       "48475             2021-05-18 16:15:00 2021-05-25 13:45:00         332\n",
       "31041             2018-06-19 22:45:00 2018-06-26 10:45:00         313\n",
       "5204              2013-11-22 13:15:00 2013-11-28 09:45:00         282\n",
       "...                               ...                 ...         ...\n",
       "14639             2015-07-23 21:45:00 2015-07-23 21:45:00           1\n",
       "14613             2015-07-22 17:45:00 2015-07-22 17:45:00           1\n",
       "58130             2022-12-25 12:45:00 2022-12-25 12:45:00           1\n",
       "100               2013-01-14 10:15:00 2013-01-14 10:15:00           1\n",
       "96                2013-01-13 15:45:00 2013-01-13 15:45:00           1\n",
       "\n",
       "[15602 rows x 3 columns]"
      ]
     },
     "execution_count": 5,
     "metadata": {},
     "output_type": "execute_result"
    }
   ],
   "source": [
    "gapfinder_df"
   ]
  },
  {
   "cell_type": "code",
   "execution_count": 6,
   "id": "8861b4a1-072f-41a1-85da-a64a34d22218",
   "metadata": {
    "ExecuteTime": {
     "end_time": "2024-08-22T14:07:25.844847Z",
     "start_time": "2024-08-22T14:07:25.829887Z"
    },
    "tags": []
   },
   "outputs": [
    {
     "name": "stdout",
     "output_type": "stream",
     "text": [
      "The longest gap had a length of 2633 missing records and was found between 2018-03-06 19:15:00 and 2018-04-30 15:15:00.\n"
     ]
    }
   ],
   "source": [
    "longestgap = gapfinder_df.iloc[0]\n",
    "print(\n",
    "    f\"The longest gap had a length of {longestgap['GAP_LENGTH']} missing records and was found between {longestgap['GAP_START']} and {longestgap['GAP_END']}.\")"
   ]
  },
  {
   "cell_type": "code",
   "execution_count": 7,
   "id": "7a273c65-f514-4e4e-85be-c2b0f2862047",
   "metadata": {
    "ExecuteTime": {
     "end_time": "2024-08-22T14:07:25.906204Z",
     "start_time": "2024-08-22T14:07:25.899225Z"
    },
    "tags": []
   },
   "outputs": [
    {
     "name": "stdout",
     "output_type": "stream",
     "text": [
      "Here are the three longest gaps:\n",
      "                            GAP_START             GAP_END  GAP_LENGTH\n",
      "IS_NUMERIC_CUMSUM                                                    \n",
      "30027             2018-03-06 19:15:00 2018-04-30 15:15:00        2633\n",
      "21932             2016-09-12 16:15:00 2016-09-22 09:45:00         468\n",
      "48475             2021-05-18 16:15:00 2021-05-25 13:45:00         332\n"
     ]
    }
   ],
   "source": [
    "print(f\"Here are the three longest gaps:\\n{gapfinder_df.head(3)}\")"
   ]
  },
  {
   "cell_type": "markdown",
   "id": "4ed06f2c-f65f-480f-8795-62a8a99cc47a",
   "metadata": {},
   "source": [
    "</br>"
   ]
  },
  {
   "cell_type": "markdown",
   "id": "6e2e93c7-73ad-4f06-80f5-17014de38057",
   "metadata": {
    "tags": []
   },
   "source": [
    "# **End of notebook**"
   ]
  },
  {
   "cell_type": "code",
   "execution_count": 8,
   "id": "52d47c35-eda2-4bb5-9b2b-1faedb4fb43c",
   "metadata": {
    "ExecuteTime": {
     "end_time": "2024-08-22T14:07:25.954083Z",
     "start_time": "2024-08-22T14:07:25.944105Z"
    },
    "tags": []
   },
   "outputs": [
    {
     "name": "stdout",
     "output_type": "stream",
     "text": [
      "Finished 2025-01-23 12:40:55\n"
     ]
    }
   ],
   "source": [
    "dt_string = datetime.now().strftime(\"%Y-%m-%d %H:%M:%S\")\n",
    "print(f\"Finished {dt_string}\")"
   ]
  },
  {
   "cell_type": "code",
   "execution_count": null,
   "id": "b9900f7d-1bd3-4aa3-bd9a-33a8e3557678",
   "metadata": {
    "ExecuteTime": {
     "end_time": "2024-08-22T14:07:26.001507Z",
     "start_time": "2024-08-22T14:07:25.988510Z"
    }
   },
   "outputs": [],
   "source": []
  }
 ],
 "metadata": {
  "kernelspec": {
   "display_name": "Python 3 (ipykernel)",
   "language": "python",
   "name": "python3"
  },
  "language_info": {
   "codemirror_mode": {
    "name": "ipython",
    "version": 3
   },
   "file_extension": ".py",
   "mimetype": "text/x-python",
   "name": "python",
   "nbconvert_exporter": "python",
   "pygments_lexer": "ipython3",
   "version": "3.11.10"
  }
 },
 "nbformat": 4,
 "nbformat_minor": 5
}
