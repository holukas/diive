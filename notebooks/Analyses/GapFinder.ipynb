{
 "cells": [
  {
   "cell_type": "markdown",
   "id": "eb3e16ae-6cee-4c20-94b6-0294f5fcd0d9",
   "metadata": {},
   "source": [
    "![lop](../../images/logo_diive1_128px.png)\n",
    "# **Find gaps in time series**\n",
    "\n",
    "**Last updated**: 18 Apr 2023  \n",
    "**Author**: Lukas Hörtnagl (holukas@ethz.ch)\n",
    "---\n",
    "Example for the `GapFinder` class in `pkgs.analyses.gapfinder.GapFinder` of the time series processing library `diive`."
   ]
  },
  {
   "cell_type": "markdown",
   "id": "59154e56-b3bb-4a5e-8cf1-0959bfc3dd54",
   "metadata": {},
   "source": [
    "# Imports"
   ]
  },
  {
   "cell_type": "code",
   "execution_count": 1,
   "id": "98a0b6ed-8f83-4519-b23f-a13453dff0a1",
   "metadata": {
    "tags": []
   },
   "outputs": [
    {
     "name": "stderr",
     "output_type": "stream",
     "text": [
      "C:\\Users\\nopan\\AppData\\Local\\pypoetry\\Cache\\virtualenvs\\diive-wQ6jAUAf-py3.9\\lib\\site-packages\\statsmodels\\compat\\pandas.py:65: FutureWarning: pandas.Int64Index is deprecated and will be removed from pandas in a future version. Use pandas.Index with the appropriate dtype instead.\n",
      "  from pandas import Int64Index as NumericIndex\n"
     ]
    }
   ],
   "source": [
    "from diive.pkgs.analyses.gapfinder import GapFinder\n",
    "from diive.configs.exampledata import load_exampledata_DIIVE_CSV_30MIN"
   ]
  },
  {
   "cell_type": "markdown",
   "id": "c7c703c0-0b80-4b6e-b85a-43c8c4b4c2c6",
   "metadata": {},
   "source": [
    "# Load example data"
   ]
  },
  {
   "cell_type": "code",
   "execution_count": 2,
   "id": "d6a8a136-b0da-44e5-989a-2f23e3109e79",
   "metadata": {
    "tags": []
   },
   "outputs": [
    {
     "name": "stdout",
     "output_type": "stream",
     "text": [
      "Reading file exampledata_CH-DAV_FP2022.5_2022.07_ID20230206154316_30MIN.diive.csv ...\n"
     ]
    },
    {
     "data": {
      "text/plain": [
       "TIMESTAMP_MIDDLE\n",
       "2022-07-01 00:15:00         NaN\n",
       "2022-07-01 00:45:00         NaN\n",
       "2022-07-01 01:15:00    1.304188\n",
       "2022-07-01 01:45:00         NaN\n",
       "2022-07-01 02:15:00         NaN\n",
       "                         ...   \n",
       "2022-07-31 21:45:00         NaN\n",
       "2022-07-31 22:15:00         NaN\n",
       "2022-07-31 22:45:00         NaN\n",
       "2022-07-31 23:15:00         NaN\n",
       "2022-07-31 23:45:00         NaN\n",
       "Freq: 30T, Name: NEE_CUT_REF_orig, Length: 1488, dtype: float64"
      ]
     },
     "execution_count": 2,
     "metadata": {},
     "output_type": "execute_result"
    }
   ],
   "source": [
    "data_df, metadata_df = load_exampledata_DIIVE_CSV_30MIN()\n",
    "series = data_df['NEE_CUT_REF_orig']\n",
    "series"
   ]
  },
  {
   "cell_type": "markdown",
   "id": "d1b83405-0274-4587-a6ba-0f29f2b30742",
   "metadata": {},
   "source": [
    "# Find gaps in time series"
   ]
  },
  {
   "cell_type": "code",
   "execution_count": 3,
   "id": "0783bda1-e410-42f0-a4c6-be64000852e9",
   "metadata": {
    "tags": []
   },
   "outputs": [],
   "source": [
    "gf = GapFinder(series=series, limit=None, sort_results=True)\n",
    "gapfinder_df = gf.get_results()"
   ]
  },
  {
   "cell_type": "markdown",
   "id": "0ffe715d-79ad-4d56-8b93-c76fc240e182",
   "metadata": {},
   "source": [
    "# Results"
   ]
  },
  {
   "cell_type": "code",
   "execution_count": 4,
   "id": "c90d528e-9415-46d4-9eea-030c265e65f3",
   "metadata": {
    "tags": []
   },
   "outputs": [
    {
     "data": {
      "text/html": [
       "<div>\n",
       "<style scoped>\n",
       "    .dataframe tbody tr th:only-of-type {\n",
       "        vertical-align: middle;\n",
       "    }\n",
       "\n",
       "    .dataframe tbody tr th {\n",
       "        vertical-align: top;\n",
       "    }\n",
       "\n",
       "    .dataframe thead th {\n",
       "        text-align: right;\n",
       "    }\n",
       "</style>\n",
       "<table border=\"1\" class=\"dataframe\">\n",
       "  <thead>\n",
       "    <tr style=\"text-align: right;\">\n",
       "      <th></th>\n",
       "      <th>GAP_START</th>\n",
       "      <th>GAP_END</th>\n",
       "      <th>GAP_LENGTH</th>\n",
       "    </tr>\n",
       "    <tr>\n",
       "      <th>IS_NUMERIC_CUMSUM</th>\n",
       "      <th></th>\n",
       "      <th></th>\n",
       "      <th></th>\n",
       "    </tr>\n",
       "  </thead>\n",
       "  <tbody>\n",
       "    <tr>\n",
       "      <th>698</th>\n",
       "      <td>2022-07-30 17:45:00</td>\n",
       "      <td>2022-07-31 08:15:00</td>\n",
       "      <td>30</td>\n",
       "    </tr>\n",
       "    <tr>\n",
       "      <th>556</th>\n",
       "      <td>2022-07-23 18:45:00</td>\n",
       "      <td>2022-07-24 08:45:00</td>\n",
       "      <td>29</td>\n",
       "    </tr>\n",
       "    <tr>\n",
       "      <th>684</th>\n",
       "      <td>2022-07-29 19:15:00</td>\n",
       "      <td>2022-07-30 08:15:00</td>\n",
       "      <td>27</td>\n",
       "    </tr>\n",
       "    <tr>\n",
       "      <th>421</th>\n",
       "      <td>2022-07-17 19:45:00</td>\n",
       "      <td>2022-07-18 07:45:00</td>\n",
       "      <td>25</td>\n",
       "    </tr>\n",
       "    <tr>\n",
       "      <th>327</th>\n",
       "      <td>2022-07-13 20:15:00</td>\n",
       "      <td>2022-07-14 07:45:00</td>\n",
       "      <td>24</td>\n",
       "    </tr>\n",
       "    <tr>\n",
       "      <th>...</th>\n",
       "      <td>...</td>\n",
       "      <td>...</td>\n",
       "      <td>...</td>\n",
       "    </tr>\n",
       "    <tr>\n",
       "      <th>516</th>\n",
       "      <td>2022-07-22 10:15:00</td>\n",
       "      <td>2022-07-22 10:15:00</td>\n",
       "      <td>1</td>\n",
       "    </tr>\n",
       "    <tr>\n",
       "      <th>534</th>\n",
       "      <td>2022-07-22 19:45:00</td>\n",
       "      <td>2022-07-22 19:45:00</td>\n",
       "      <td>1</td>\n",
       "    </tr>\n",
       "    <tr>\n",
       "      <th>85</th>\n",
       "      <td>2022-07-04 16:45:00</td>\n",
       "      <td>2022-07-04 16:45:00</td>\n",
       "      <td>1</td>\n",
       "    </tr>\n",
       "    <tr>\n",
       "      <th>548</th>\n",
       "      <td>2022-07-23 14:15:00</td>\n",
       "      <td>2022-07-23 14:15:00</td>\n",
       "      <td>1</td>\n",
       "    </tr>\n",
       "    <tr>\n",
       "      <th>512</th>\n",
       "      <td>2022-07-22 04:45:00</td>\n",
       "      <td>2022-07-22 04:45:00</td>\n",
       "      <td>1</td>\n",
       "    </tr>\n",
       "  </tbody>\n",
       "</table>\n",
       "<p>122 rows × 3 columns</p>\n",
       "</div>"
      ],
      "text/plain": [
       "                            GAP_START             GAP_END  GAP_LENGTH\n",
       "IS_NUMERIC_CUMSUM                                                    \n",
       "698               2022-07-30 17:45:00 2022-07-31 08:15:00          30\n",
       "556               2022-07-23 18:45:00 2022-07-24 08:45:00          29\n",
       "684               2022-07-29 19:15:00 2022-07-30 08:15:00          27\n",
       "421               2022-07-17 19:45:00 2022-07-18 07:45:00          25\n",
       "327               2022-07-13 20:15:00 2022-07-14 07:45:00          24\n",
       "...                               ...                 ...         ...\n",
       "516               2022-07-22 10:15:00 2022-07-22 10:15:00           1\n",
       "534               2022-07-22 19:45:00 2022-07-22 19:45:00           1\n",
       "85                2022-07-04 16:45:00 2022-07-04 16:45:00           1\n",
       "548               2022-07-23 14:15:00 2022-07-23 14:15:00           1\n",
       "512               2022-07-22 04:45:00 2022-07-22 04:45:00           1\n",
       "\n",
       "[122 rows x 3 columns]"
      ]
     },
     "execution_count": 4,
     "metadata": {},
     "output_type": "execute_result"
    }
   ],
   "source": [
    "gapfinder_df"
   ]
  },
  {
   "cell_type": "code",
   "execution_count": 5,
   "id": "8861b4a1-072f-41a1-85da-a64a34d22218",
   "metadata": {
    "tags": []
   },
   "outputs": [
    {
     "name": "stdout",
     "output_type": "stream",
     "text": [
      "The longest gap had a length of 30 missing records and was found between 2022-07-30 17:45:00 and 2022-07-31 08:15:00.\n"
     ]
    }
   ],
   "source": [
    "longestgap = gapfinder_df.iloc[0]\n",
    "print(f\"The longest gap had a length of {longestgap['GAP_LENGTH']} missing records and was found between {longestgap['GAP_START']} and {longestgap['GAP_END']}.\")"
   ]
  },
  {
   "cell_type": "code",
   "execution_count": 6,
   "id": "7a273c65-f514-4e4e-85be-c2b0f2862047",
   "metadata": {
    "tags": []
   },
   "outputs": [
    {
     "name": "stdout",
     "output_type": "stream",
     "text": [
      "Here are the three longest gaps:\n",
      "                            GAP_START             GAP_END  GAP_LENGTH\n",
      "IS_NUMERIC_CUMSUM                                                    \n",
      "698               2022-07-30 17:45:00 2022-07-31 08:15:00          30\n",
      "556               2022-07-23 18:45:00 2022-07-24 08:45:00          29\n",
      "684               2022-07-29 19:15:00 2022-07-30 08:15:00          27\n"
     ]
    }
   ],
   "source": [
    "print(f\"Here are the three longest gaps:\\n{gapfinder_df.head(3)}\")"
   ]
  },
  {
   "cell_type": "code",
   "execution_count": null,
   "id": "1e56ab34-9046-4fd2-8273-796b1c6f1ba2",
   "metadata": {},
   "outputs": [],
   "source": []
  }
 ],
 "metadata": {
  "kernelspec": {
   "display_name": "Python 3 (ipykernel)",
   "language": "python",
   "name": "python3"
  },
  "language_info": {
   "codemirror_mode": {
    "name": "ipython",
    "version": 3
   },
   "file_extension": ".py",
   "mimetype": "text/x-python",
   "name": "python",
   "nbconvert_exporter": "python",
   "pygments_lexer": "ipython3",
   "version": "3.9.7"
  }
 },
 "nbformat": 4,
 "nbformat_minor": 5
}
