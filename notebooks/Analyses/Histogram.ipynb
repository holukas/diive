{
 "cells": [
  {
   "cell_type": "markdown",
   "id": "9a8de845-ab6b-442a-b70a-6d2ebee549e4",
   "metadata": {},
   "source": [
    "![lop](../../images/logo_diive1_128px.png)"
   ]
  },
  {
   "cell_type": "markdown",
   "id": "a12573e8-3455-4d42-aa3e-0fb6e05752df",
   "metadata": {},
   "source": [
    "<span style='font-size:40px; display:block;'>\n",
    "<b>\n",
    "    Histogram\n",
    "</b>\n",
    "</span>"
   ]
  },
  {
   "cell_type": "markdown",
   "id": "da92a450-6d6a-43b7-9104-6ded5ec6afde",
   "metadata": {},
   "source": [
    "---\n",
    "**Notebook version**: `1` (16 Mar 2024)  \n",
    "**Author**: Lukas Hörtnagl (holukas@ethz.ch)"
   ]
  },
  {
   "cell_type": "markdown",
   "id": "28a4631a-a44c-45b2-93c6-b915dd872584",
   "metadata": {},
   "source": [
    "</br>"
   ]
  },
  {
   "cell_type": "markdown",
   "id": "c5cf5648-c62e-41e1-b4db-ecaeee73fbe3",
   "metadata": {},
   "source": [
    "# **Description**"
   ]
  },
  {
   "cell_type": "markdown",
   "id": "2de7b49a-bd26-4a75-aa69-6f659578bb94",
   "metadata": {},
   "source": [
    "- Calculate histogram from input series.\n",
    "- This example calculates a histogram of found CO2 time lags (in seconds) in relation to wind measurements.\n",
    "- The histgram can be calculated\n",
    "    - with a specific number of bins.\n",
    "    - with a specific number of bins, but excluding a defined number of fringe bins at the start and the end of the histogram.\n",
    "    - with separate bins for each unique value in the data.\n",
    "    - with separate bins for each unique value in the data, but excluding a defined number of fringe bins at the start and the end of the histogram.\n",
    "- The optional exclusion of fringe bins was implemented because some histograms are characterized by an undesired accumulation of values at the start or the end of the historgram, resulting in distribution peaks that could mask the \"true\" distribution peak."
   ]
  },
  {
   "cell_type": "markdown",
   "id": "42350015-8c37-4acb-9784-60e348d84675",
   "metadata": {},
   "source": [
    "</br>"
   ]
  },
  {
   "cell_type": "markdown",
   "id": "521bb3ed-bc90-40c1-9e59-615ab97f80c3",
   "metadata": {},
   "source": [
    "# **Imports**"
   ]
  },
  {
   "cell_type": "code",
   "id": "fa24ee26-81bb-4d95-a9f9-d7bfe6e55439",
   "metadata": {
    "ExecuteTime": {
     "end_time": "2024-08-22T14:08:09.022663Z",
     "start_time": "2024-08-22T14:08:06.615396Z"
    }
   },
   "source": [
    "import importlib.metadata\n",
    "import warnings\n",
    "from datetime import datetime\n",
    "\n",
    "from diive.configs.exampledata import load_exampledata_EDDYPRO_FLUXNET_CSV_30MIN  # Example data\n",
    "from diive.pkgs.analyses.histogram import Histogram\n",
    "\n",
    "warnings.filterwarnings(\"ignore\")\n",
    "version_diive = importlib.metadata.version(\"diive\")\n",
    "print(f\"diive version: v{version_diive}\")"
   ],
   "outputs": [
    {
     "name": "stdout",
     "output_type": "stream",
     "text": [
      "diive version: v0.79.0\n"
     ]
    }
   ],
   "execution_count": 1
  },
  {
   "cell_type": "markdown",
   "id": "f91a427c-5e9c-49dd-9bf8-33b1e5cc520f",
   "metadata": {},
   "source": [
    "</br>"
   ]
  },
  {
   "cell_type": "markdown",
   "id": "eebfdf10-f24d-49b1-9855-3870c0bb10c1",
   "metadata": {},
   "source": [
    "# **Load example data**"
   ]
  },
  {
   "cell_type": "code",
   "id": "9de58772-bcaa-46b0-b027-44f9f1a4fd59",
   "metadata": {
    "ExecuteTime": {
     "end_time": "2024-08-22T14:08:09.905118Z",
     "start_time": "2024-08-22T14:08:09.198524Z"
    }
   },
   "source": [
    "data_df, metadata_df = load_exampledata_EDDYPRO_FLUXNET_CSV_30MIN()\n",
    "data_df.head()"
   ],
   "outputs": [
    {
     "name": "stdout",
     "output_type": "stream",
     "text": [
      "Reading file exampledata_EDDYPRO-FLUXNET-CSV-30MIN_CH-AWS_2022.07_FR-20220127-164245_eddypro_fluxnet_2022-01-28T112538_adv.csv ...\n"
     ]
    },
    {
     "data": {
      "text/plain": [
       "                     TIMESTAMP_START  DOY_START  DOY_END  FILENAME_HF  SW_IN_POT  NIGHT  EXPECT_NR  FILE_NR  CUSTOM_FILTER_NR  WD_FILTER_NR  SONIC_NR  T_SONIC_NR   CO2_NR   H2O_NR  CH4_NR  NONE_NR   TAU_NR     H_NR    FC_NR    LE_NR  FCH4_NR  FNONE_NR       TAU        H        LE  ...  BADM_INSTPAIR_EASTWARD_SEP_GA_NONE  BADM_INSTPAIR_HEIGHT_SEP_GA_NONE  BADM_INST_GA_CP_TUBE_LENGTH_GA_NONE  BADM_INST_GA_CP_TUBE_IN_DIAM_GA_NONE  BADM_INST_GA_CP_TUBE_FLOW_RATE_GA_NONE  HPATH_GA_NONE  VPATH_GA_NONE  RESPONSE_TIME_GA_NONE  NUM_CUSTOM_VARS  CUSTOM_DATA_SIZE_IRGA72_MEAN  CUSTOM_STATUS_CODE_IRGA72_MEAN  CUSTOM_GA_DIAG_CODE_IRGA72_MEAN  CUSTOM_SIGNAL_STRENGTH_IRGA72_MEAN  CUSTOM_H2O_MEAN  CUSTOM_CO2_MEAN  CUSTOM_AIR_P_MEAN  CUSTOM_COOLER_V_MEAN  CUSTOM_FLOWRATE_MEAN  NUM_BIOMET_VARS  LW_IN_1_1_1  PA_1_1_1  PPFD_IN_1_1_1  RH_1_1_1  SW_IN_1_1_1  TA_1_1_1\n",
       "TIMESTAMP_MIDDLE                                                                                                                                                                                                                                                                          ...                                                                                                                                                                                                                                                                                                                                                                                                                                                                                                                                                                                           \n",
       "2021-07-01 00:15:00     2.021070e+11    182.000  182.021          NaN        0.0    1.0    36000.0  36000.0           36000.0       36000.0   36000.0     36000.0  35988.0  35988.0     NaN      NaN  36000.0  36000.0  35988.0  35988.0      NaN       NaN -0.012152 -4.93653  6.698080  ...                                 NaN                               NaN                                  NaN                                   NaN                                     NaN            NaN            NaN                    NaN              9.0                          26.0                             0.0                           8191.0                              100.05          340.582          14.2538            80198.2               1.91066              0.000259              6.0      329.076   80.1982            0.0  100.0000          0.0   5.55880\n",
       "2021-07-01 00:45:00     2.021070e+11    182.021  182.042          NaN        0.0    1.0    36000.0  36000.0           36000.0       36000.0   36000.0     36000.0  35988.0  35988.0     NaN      NaN  36000.0  36000.0  35988.0  35988.0      NaN       NaN -0.017730  4.44042 -0.171644  ...                                 NaN                               NaN                                  NaN                                   NaN                                     NaN            NaN            NaN                    NaN              9.0                          26.0                             0.0                           8191.0                              100.05          344.452          14.1511            80203.3               1.91007              0.000259              6.0      340.771   80.2033            0.0  100.0000          0.0   5.59079\n",
       "2021-07-01 01:15:00     2.021070e+11    182.042  182.062          NaN        0.0    1.0    36000.0  36000.0           36000.0       36000.0   36000.0     36000.0  35988.0  35988.0     NaN      NaN  36000.0  36000.0  35988.0  35988.0      NaN       NaN -0.034328  3.49120 -1.036880  ...                                 NaN                               NaN                                  NaN                                   NaN                                     NaN            NaN            NaN                    NaN              9.0                          26.0                             0.0                           8191.0                              100.05          343.712          14.1364            80210.6               1.90857              0.000259              6.0      341.942   80.2106            0.0   99.8620          0.0   5.58350\n",
       "2021-07-01 01:45:00     2.021070e+11    182.062  182.083          NaN        0.0    1.0    36000.0  36000.0           36000.0       36000.0   36000.0     36000.0  35988.0  35988.0     NaN      NaN  36000.0  36000.0  35988.0  35988.0      NaN       NaN -0.018509  4.38549 -0.313793  ...                                 NaN                               NaN                                  NaN                                   NaN                                     NaN            NaN            NaN                    NaN              9.0                          26.0                             0.0                           8191.0                              100.05          342.139          14.1158            80206.5               1.90679              0.000259              6.0      349.003   80.2064            0.0   99.3662          0.0   5.55140\n",
       "2021-07-01 02:15:00     2.021070e+11    182.083  182.104          NaN        0.0    1.0    36000.0  36000.0           36000.0       36000.0   36000.0     36000.0  35988.0  35988.0     NaN      NaN  36000.0  36000.0  35988.0  35988.0      NaN       NaN -0.022376  4.95141  1.616020  ...                                 NaN                               NaN                                  NaN                                   NaN                                     NaN            NaN            NaN                    NaN              9.0                          26.0                             0.0                           8191.0                              100.05          343.733          14.1260            80192.1               1.90773              0.000259              6.0      346.874   80.1922            0.0   99.9380          0.0   5.59066\n",
       "\n",
       "[5 rows x 488 columns]"
      ],
      "text/html": [
       "<div>\n",
       "<style scoped>\n",
       "    .dataframe tbody tr th:only-of-type {\n",
       "        vertical-align: middle;\n",
       "    }\n",
       "\n",
       "    .dataframe tbody tr th {\n",
       "        vertical-align: top;\n",
       "    }\n",
       "\n",
       "    .dataframe thead th {\n",
       "        text-align: right;\n",
       "    }\n",
       "</style>\n",
       "<table border=\"1\" class=\"dataframe\">\n",
       "  <thead>\n",
       "    <tr style=\"text-align: right;\">\n",
       "      <th></th>\n",
       "      <th>TIMESTAMP_START</th>\n",
       "      <th>DOY_START</th>\n",
       "      <th>DOY_END</th>\n",
       "      <th>FILENAME_HF</th>\n",
       "      <th>SW_IN_POT</th>\n",
       "      <th>NIGHT</th>\n",
       "      <th>EXPECT_NR</th>\n",
       "      <th>FILE_NR</th>\n",
       "      <th>CUSTOM_FILTER_NR</th>\n",
       "      <th>WD_FILTER_NR</th>\n",
       "      <th>SONIC_NR</th>\n",
       "      <th>T_SONIC_NR</th>\n",
       "      <th>CO2_NR</th>\n",
       "      <th>H2O_NR</th>\n",
       "      <th>CH4_NR</th>\n",
       "      <th>NONE_NR</th>\n",
       "      <th>TAU_NR</th>\n",
       "      <th>H_NR</th>\n",
       "      <th>FC_NR</th>\n",
       "      <th>LE_NR</th>\n",
       "      <th>FCH4_NR</th>\n",
       "      <th>FNONE_NR</th>\n",
       "      <th>TAU</th>\n",
       "      <th>H</th>\n",
       "      <th>LE</th>\n",
       "      <th>...</th>\n",
       "      <th>BADM_INSTPAIR_EASTWARD_SEP_GA_NONE</th>\n",
       "      <th>BADM_INSTPAIR_HEIGHT_SEP_GA_NONE</th>\n",
       "      <th>BADM_INST_GA_CP_TUBE_LENGTH_GA_NONE</th>\n",
       "      <th>BADM_INST_GA_CP_TUBE_IN_DIAM_GA_NONE</th>\n",
       "      <th>BADM_INST_GA_CP_TUBE_FLOW_RATE_GA_NONE</th>\n",
       "      <th>HPATH_GA_NONE</th>\n",
       "      <th>VPATH_GA_NONE</th>\n",
       "      <th>RESPONSE_TIME_GA_NONE</th>\n",
       "      <th>NUM_CUSTOM_VARS</th>\n",
       "      <th>CUSTOM_DATA_SIZE_IRGA72_MEAN</th>\n",
       "      <th>CUSTOM_STATUS_CODE_IRGA72_MEAN</th>\n",
       "      <th>CUSTOM_GA_DIAG_CODE_IRGA72_MEAN</th>\n",
       "      <th>CUSTOM_SIGNAL_STRENGTH_IRGA72_MEAN</th>\n",
       "      <th>CUSTOM_H2O_MEAN</th>\n",
       "      <th>CUSTOM_CO2_MEAN</th>\n",
       "      <th>CUSTOM_AIR_P_MEAN</th>\n",
       "      <th>CUSTOM_COOLER_V_MEAN</th>\n",
       "      <th>CUSTOM_FLOWRATE_MEAN</th>\n",
       "      <th>NUM_BIOMET_VARS</th>\n",
       "      <th>LW_IN_1_1_1</th>\n",
       "      <th>PA_1_1_1</th>\n",
       "      <th>PPFD_IN_1_1_1</th>\n",
       "      <th>RH_1_1_1</th>\n",
       "      <th>SW_IN_1_1_1</th>\n",
       "      <th>TA_1_1_1</th>\n",
       "    </tr>\n",
       "    <tr>\n",
       "      <th>TIMESTAMP_MIDDLE</th>\n",
       "      <th></th>\n",
       "      <th></th>\n",
       "      <th></th>\n",
       "      <th></th>\n",
       "      <th></th>\n",
       "      <th></th>\n",
       "      <th></th>\n",
       "      <th></th>\n",
       "      <th></th>\n",
       "      <th></th>\n",
       "      <th></th>\n",
       "      <th></th>\n",
       "      <th></th>\n",
       "      <th></th>\n",
       "      <th></th>\n",
       "      <th></th>\n",
       "      <th></th>\n",
       "      <th></th>\n",
       "      <th></th>\n",
       "      <th></th>\n",
       "      <th></th>\n",
       "      <th></th>\n",
       "      <th></th>\n",
       "      <th></th>\n",
       "      <th></th>\n",
       "      <th></th>\n",
       "      <th></th>\n",
       "      <th></th>\n",
       "      <th></th>\n",
       "      <th></th>\n",
       "      <th></th>\n",
       "      <th></th>\n",
       "      <th></th>\n",
       "      <th></th>\n",
       "      <th></th>\n",
       "      <th></th>\n",
       "      <th></th>\n",
       "      <th></th>\n",
       "      <th></th>\n",
       "      <th></th>\n",
       "      <th></th>\n",
       "      <th></th>\n",
       "      <th></th>\n",
       "      <th></th>\n",
       "      <th></th>\n",
       "      <th></th>\n",
       "      <th></th>\n",
       "      <th></th>\n",
       "      <th></th>\n",
       "      <th></th>\n",
       "      <th></th>\n",
       "    </tr>\n",
       "  </thead>\n",
       "  <tbody>\n",
       "    <tr>\n",
       "      <th>2021-07-01 00:15:00</th>\n",
       "      <td>2.021070e+11</td>\n",
       "      <td>182.000</td>\n",
       "      <td>182.021</td>\n",
       "      <td>NaN</td>\n",
       "      <td>0.0</td>\n",
       "      <td>1.0</td>\n",
       "      <td>36000.0</td>\n",
       "      <td>36000.0</td>\n",
       "      <td>36000.0</td>\n",
       "      <td>36000.0</td>\n",
       "      <td>36000.0</td>\n",
       "      <td>36000.0</td>\n",
       "      <td>35988.0</td>\n",
       "      <td>35988.0</td>\n",
       "      <td>NaN</td>\n",
       "      <td>NaN</td>\n",
       "      <td>36000.0</td>\n",
       "      <td>36000.0</td>\n",
       "      <td>35988.0</td>\n",
       "      <td>35988.0</td>\n",
       "      <td>NaN</td>\n",
       "      <td>NaN</td>\n",
       "      <td>-0.012152</td>\n",
       "      <td>-4.93653</td>\n",
       "      <td>6.698080</td>\n",
       "      <td>...</td>\n",
       "      <td>NaN</td>\n",
       "      <td>NaN</td>\n",
       "      <td>NaN</td>\n",
       "      <td>NaN</td>\n",
       "      <td>NaN</td>\n",
       "      <td>NaN</td>\n",
       "      <td>NaN</td>\n",
       "      <td>NaN</td>\n",
       "      <td>9.0</td>\n",
       "      <td>26.0</td>\n",
       "      <td>0.0</td>\n",
       "      <td>8191.0</td>\n",
       "      <td>100.05</td>\n",
       "      <td>340.582</td>\n",
       "      <td>14.2538</td>\n",
       "      <td>80198.2</td>\n",
       "      <td>1.91066</td>\n",
       "      <td>0.000259</td>\n",
       "      <td>6.0</td>\n",
       "      <td>329.076</td>\n",
       "      <td>80.1982</td>\n",
       "      <td>0.0</td>\n",
       "      <td>100.0000</td>\n",
       "      <td>0.0</td>\n",
       "      <td>5.55880</td>\n",
       "    </tr>\n",
       "    <tr>\n",
       "      <th>2021-07-01 00:45:00</th>\n",
       "      <td>2.021070e+11</td>\n",
       "      <td>182.021</td>\n",
       "      <td>182.042</td>\n",
       "      <td>NaN</td>\n",
       "      <td>0.0</td>\n",
       "      <td>1.0</td>\n",
       "      <td>36000.0</td>\n",
       "      <td>36000.0</td>\n",
       "      <td>36000.0</td>\n",
       "      <td>36000.0</td>\n",
       "      <td>36000.0</td>\n",
       "      <td>36000.0</td>\n",
       "      <td>35988.0</td>\n",
       "      <td>35988.0</td>\n",
       "      <td>NaN</td>\n",
       "      <td>NaN</td>\n",
       "      <td>36000.0</td>\n",
       "      <td>36000.0</td>\n",
       "      <td>35988.0</td>\n",
       "      <td>35988.0</td>\n",
       "      <td>NaN</td>\n",
       "      <td>NaN</td>\n",
       "      <td>-0.017730</td>\n",
       "      <td>4.44042</td>\n",
       "      <td>-0.171644</td>\n",
       "      <td>...</td>\n",
       "      <td>NaN</td>\n",
       "      <td>NaN</td>\n",
       "      <td>NaN</td>\n",
       "      <td>NaN</td>\n",
       "      <td>NaN</td>\n",
       "      <td>NaN</td>\n",
       "      <td>NaN</td>\n",
       "      <td>NaN</td>\n",
       "      <td>9.0</td>\n",
       "      <td>26.0</td>\n",
       "      <td>0.0</td>\n",
       "      <td>8191.0</td>\n",
       "      <td>100.05</td>\n",
       "      <td>344.452</td>\n",
       "      <td>14.1511</td>\n",
       "      <td>80203.3</td>\n",
       "      <td>1.91007</td>\n",
       "      <td>0.000259</td>\n",
       "      <td>6.0</td>\n",
       "      <td>340.771</td>\n",
       "      <td>80.2033</td>\n",
       "      <td>0.0</td>\n",
       "      <td>100.0000</td>\n",
       "      <td>0.0</td>\n",
       "      <td>5.59079</td>\n",
       "    </tr>\n",
       "    <tr>\n",
       "      <th>2021-07-01 01:15:00</th>\n",
       "      <td>2.021070e+11</td>\n",
       "      <td>182.042</td>\n",
       "      <td>182.062</td>\n",
       "      <td>NaN</td>\n",
       "      <td>0.0</td>\n",
       "      <td>1.0</td>\n",
       "      <td>36000.0</td>\n",
       "      <td>36000.0</td>\n",
       "      <td>36000.0</td>\n",
       "      <td>36000.0</td>\n",
       "      <td>36000.0</td>\n",
       "      <td>36000.0</td>\n",
       "      <td>35988.0</td>\n",
       "      <td>35988.0</td>\n",
       "      <td>NaN</td>\n",
       "      <td>NaN</td>\n",
       "      <td>36000.0</td>\n",
       "      <td>36000.0</td>\n",
       "      <td>35988.0</td>\n",
       "      <td>35988.0</td>\n",
       "      <td>NaN</td>\n",
       "      <td>NaN</td>\n",
       "      <td>-0.034328</td>\n",
       "      <td>3.49120</td>\n",
       "      <td>-1.036880</td>\n",
       "      <td>...</td>\n",
       "      <td>NaN</td>\n",
       "      <td>NaN</td>\n",
       "      <td>NaN</td>\n",
       "      <td>NaN</td>\n",
       "      <td>NaN</td>\n",
       "      <td>NaN</td>\n",
       "      <td>NaN</td>\n",
       "      <td>NaN</td>\n",
       "      <td>9.0</td>\n",
       "      <td>26.0</td>\n",
       "      <td>0.0</td>\n",
       "      <td>8191.0</td>\n",
       "      <td>100.05</td>\n",
       "      <td>343.712</td>\n",
       "      <td>14.1364</td>\n",
       "      <td>80210.6</td>\n",
       "      <td>1.90857</td>\n",
       "      <td>0.000259</td>\n",
       "      <td>6.0</td>\n",
       "      <td>341.942</td>\n",
       "      <td>80.2106</td>\n",
       "      <td>0.0</td>\n",
       "      <td>99.8620</td>\n",
       "      <td>0.0</td>\n",
       "      <td>5.58350</td>\n",
       "    </tr>\n",
       "    <tr>\n",
       "      <th>2021-07-01 01:45:00</th>\n",
       "      <td>2.021070e+11</td>\n",
       "      <td>182.062</td>\n",
       "      <td>182.083</td>\n",
       "      <td>NaN</td>\n",
       "      <td>0.0</td>\n",
       "      <td>1.0</td>\n",
       "      <td>36000.0</td>\n",
       "      <td>36000.0</td>\n",
       "      <td>36000.0</td>\n",
       "      <td>36000.0</td>\n",
       "      <td>36000.0</td>\n",
       "      <td>36000.0</td>\n",
       "      <td>35988.0</td>\n",
       "      <td>35988.0</td>\n",
       "      <td>NaN</td>\n",
       "      <td>NaN</td>\n",
       "      <td>36000.0</td>\n",
       "      <td>36000.0</td>\n",
       "      <td>35988.0</td>\n",
       "      <td>35988.0</td>\n",
       "      <td>NaN</td>\n",
       "      <td>NaN</td>\n",
       "      <td>-0.018509</td>\n",
       "      <td>4.38549</td>\n",
       "      <td>-0.313793</td>\n",
       "      <td>...</td>\n",
       "      <td>NaN</td>\n",
       "      <td>NaN</td>\n",
       "      <td>NaN</td>\n",
       "      <td>NaN</td>\n",
       "      <td>NaN</td>\n",
       "      <td>NaN</td>\n",
       "      <td>NaN</td>\n",
       "      <td>NaN</td>\n",
       "      <td>9.0</td>\n",
       "      <td>26.0</td>\n",
       "      <td>0.0</td>\n",
       "      <td>8191.0</td>\n",
       "      <td>100.05</td>\n",
       "      <td>342.139</td>\n",
       "      <td>14.1158</td>\n",
       "      <td>80206.5</td>\n",
       "      <td>1.90679</td>\n",
       "      <td>0.000259</td>\n",
       "      <td>6.0</td>\n",
       "      <td>349.003</td>\n",
       "      <td>80.2064</td>\n",
       "      <td>0.0</td>\n",
       "      <td>99.3662</td>\n",
       "      <td>0.0</td>\n",
       "      <td>5.55140</td>\n",
       "    </tr>\n",
       "    <tr>\n",
       "      <th>2021-07-01 02:15:00</th>\n",
       "      <td>2.021070e+11</td>\n",
       "      <td>182.083</td>\n",
       "      <td>182.104</td>\n",
       "      <td>NaN</td>\n",
       "      <td>0.0</td>\n",
       "      <td>1.0</td>\n",
       "      <td>36000.0</td>\n",
       "      <td>36000.0</td>\n",
       "      <td>36000.0</td>\n",
       "      <td>36000.0</td>\n",
       "      <td>36000.0</td>\n",
       "      <td>36000.0</td>\n",
       "      <td>35988.0</td>\n",
       "      <td>35988.0</td>\n",
       "      <td>NaN</td>\n",
       "      <td>NaN</td>\n",
       "      <td>36000.0</td>\n",
       "      <td>36000.0</td>\n",
       "      <td>35988.0</td>\n",
       "      <td>35988.0</td>\n",
       "      <td>NaN</td>\n",
       "      <td>NaN</td>\n",
       "      <td>-0.022376</td>\n",
       "      <td>4.95141</td>\n",
       "      <td>1.616020</td>\n",
       "      <td>...</td>\n",
       "      <td>NaN</td>\n",
       "      <td>NaN</td>\n",
       "      <td>NaN</td>\n",
       "      <td>NaN</td>\n",
       "      <td>NaN</td>\n",
       "      <td>NaN</td>\n",
       "      <td>NaN</td>\n",
       "      <td>NaN</td>\n",
       "      <td>9.0</td>\n",
       "      <td>26.0</td>\n",
       "      <td>0.0</td>\n",
       "      <td>8191.0</td>\n",
       "      <td>100.05</td>\n",
       "      <td>343.733</td>\n",
       "      <td>14.1260</td>\n",
       "      <td>80192.1</td>\n",
       "      <td>1.90773</td>\n",
       "      <td>0.000259</td>\n",
       "      <td>6.0</td>\n",
       "      <td>346.874</td>\n",
       "      <td>80.1922</td>\n",
       "      <td>0.0</td>\n",
       "      <td>99.9380</td>\n",
       "      <td>0.0</td>\n",
       "      <td>5.59066</td>\n",
       "    </tr>\n",
       "  </tbody>\n",
       "</table>\n",
       "<p>5 rows × 488 columns</p>\n",
       "</div>"
      ]
     },
     "execution_count": 2,
     "metadata": {},
     "output_type": "execute_result"
    }
   ],
   "execution_count": 2
  },
  {
   "cell_type": "code",
   "id": "b8df9b16-1f15-4a57-b475-83f417815538",
   "metadata": {
    "ExecuteTime": {
     "end_time": "2024-08-22T14:08:10.109704Z",
     "start_time": "2024-08-22T14:08:10.097733Z"
    }
   },
   "source": [
    "series = data_df['CO2_TLAG_ACTUAL'].copy()\n",
    "print(\"Time series of found CO2 time lags in seconds:\")\n",
    "series.head()"
   ],
   "outputs": [
    {
     "name": "stdout",
     "output_type": "stream",
     "text": [
      "Time series of found CO2 time lags in seconds:\n"
     ]
    },
    {
     "data": {
      "text/plain": [
       "TIMESTAMP_MIDDLE\n",
       "2021-07-01 00:15:00    1.30\n",
       "2021-07-01 00:45:00    1.25\n",
       "2021-07-01 01:15:00    1.30\n",
       "2021-07-01 01:45:00    1.20\n",
       "2021-07-01 02:15:00    1.30\n",
       "Freq: 30min, Name: CO2_TLAG_ACTUAL, dtype: float64"
      ]
     },
     "execution_count": 3,
     "metadata": {},
     "output_type": "execute_result"
    }
   ],
   "execution_count": 3
  },
  {
   "cell_type": "markdown",
   "id": "09387737-0732-496d-bf79-da8f339bb5ec",
   "metadata": {},
   "source": [
    "</br>"
   ]
  },
  {
   "cell_type": "markdown",
   "id": "df38fda9-066a-4fef-986a-cfe921fb88c0",
   "metadata": {},
   "source": [
    "# **Calculate histogram**"
   ]
  },
  {
   "cell_type": "markdown",
   "id": "6052381c-4725-4a6e-9adb-091a096fe0f9",
   "metadata": {},
   "source": [
    "</br>"
   ]
  },
  {
   "cell_type": "markdown",
   "id": "eeab2e8f-caa9-4dcd-972e-2a43fed5faca",
   "metadata": {},
   "source": [
    "## (1) Specific number of bins\n",
    "- A simple histogram with 10 bins."
   ]
  },
  {
   "cell_type": "code",
   "id": "1d0d90b2-1c8d-4443-ac7e-1c87c99fc5af",
   "metadata": {
    "ExecuteTime": {
     "end_time": "2024-08-22T14:08:10.190031Z",
     "start_time": "2024-08-22T14:08:10.172079Z"
    }
   },
   "source": [
    "hist = Histogram(\n",
    "    s=series,\n",
    "    method='n_bins',\n",
    "    n_bins=10,\n",
    "    ignore_fringe_bins=None\n",
    ")"
   ],
   "outputs": [],
   "execution_count": 4
  },
  {
   "cell_type": "code",
   "id": "b9eb9bce-814f-4a20-bc7b-3ebc4b7b3127",
   "metadata": {
    "ExecuteTime": {
     "end_time": "2024-08-22T14:08:10.522696Z",
     "start_time": "2024-08-22T14:08:10.508731Z"
    }
   },
   "source": [
    "hist.results"
   ],
   "outputs": [
    {
     "data": {
      "text/plain": [
       "   BIN_START_INCL  COUNTS\n",
       "0             0.0      10\n",
       "1             0.5       2\n",
       "2             1.0     746\n",
       "3             1.5       3\n",
       "4             2.0       1\n",
       "5             2.5       0\n",
       "6             3.0       4\n",
       "7             3.5       4\n",
       "8             4.0       5\n",
       "9             4.5      36"
      ],
      "text/html": [
       "<div>\n",
       "<style scoped>\n",
       "    .dataframe tbody tr th:only-of-type {\n",
       "        vertical-align: middle;\n",
       "    }\n",
       "\n",
       "    .dataframe tbody tr th {\n",
       "        vertical-align: top;\n",
       "    }\n",
       "\n",
       "    .dataframe thead th {\n",
       "        text-align: right;\n",
       "    }\n",
       "</style>\n",
       "<table border=\"1\" class=\"dataframe\">\n",
       "  <thead>\n",
       "    <tr style=\"text-align: right;\">\n",
       "      <th></th>\n",
       "      <th>BIN_START_INCL</th>\n",
       "      <th>COUNTS</th>\n",
       "    </tr>\n",
       "  </thead>\n",
       "  <tbody>\n",
       "    <tr>\n",
       "      <th>0</th>\n",
       "      <td>0.0</td>\n",
       "      <td>10</td>\n",
       "    </tr>\n",
       "    <tr>\n",
       "      <th>1</th>\n",
       "      <td>0.5</td>\n",
       "      <td>2</td>\n",
       "    </tr>\n",
       "    <tr>\n",
       "      <th>2</th>\n",
       "      <td>1.0</td>\n",
       "      <td>746</td>\n",
       "    </tr>\n",
       "    <tr>\n",
       "      <th>3</th>\n",
       "      <td>1.5</td>\n",
       "      <td>3</td>\n",
       "    </tr>\n",
       "    <tr>\n",
       "      <th>4</th>\n",
       "      <td>2.0</td>\n",
       "      <td>1</td>\n",
       "    </tr>\n",
       "    <tr>\n",
       "      <th>5</th>\n",
       "      <td>2.5</td>\n",
       "      <td>0</td>\n",
       "    </tr>\n",
       "    <tr>\n",
       "      <th>6</th>\n",
       "      <td>3.0</td>\n",
       "      <td>4</td>\n",
       "    </tr>\n",
       "    <tr>\n",
       "      <th>7</th>\n",
       "      <td>3.5</td>\n",
       "      <td>4</td>\n",
       "    </tr>\n",
       "    <tr>\n",
       "      <th>8</th>\n",
       "      <td>4.0</td>\n",
       "      <td>5</td>\n",
       "    </tr>\n",
       "    <tr>\n",
       "      <th>9</th>\n",
       "      <td>4.5</td>\n",
       "      <td>36</td>\n",
       "    </tr>\n",
       "  </tbody>\n",
       "</table>\n",
       "</div>"
      ]
     },
     "execution_count": 5,
     "metadata": {},
     "output_type": "execute_result"
    }
   ],
   "execution_count": 5
  },
  {
   "cell_type": "code",
   "id": "2cef8932-70a3-4296-bd0f-06ce11e1b4fc",
   "metadata": {
    "ExecuteTime": {
     "end_time": "2024-08-22T14:08:10.554127Z",
     "start_time": "2024-08-22T14:08:10.531188Z"
    }
   },
   "source": [
    "# Show the five bins with highest counts in decreasing order\n",
    "hist.peakbins"
   ],
   "outputs": [
    {
     "data": {
      "text/plain": [
       "[1.0, 4.5, 0.0, 4.0, 3.0]"
      ]
     },
     "execution_count": 6,
     "metadata": {},
     "output_type": "execute_result"
    }
   ],
   "execution_count": 6
  },
  {
   "cell_type": "markdown",
   "id": "cce9a17d-95ea-4baa-91ed-2bc6c64932f6",
   "metadata": {},
   "source": [
    "- Peak distribution was found for the bin at 1s.\n",
    "- In addition, several counts were found for the bins at 4.5s, 0s, 4s and 3s.\n",
    "- Here, each bin covers a time period of 0.5s, which means that the peak bin at 1s covers all values between 1s (inclusive) and 1.5s (exclusive)."
   ]
  },
  {
   "cell_type": "markdown",
   "id": "ae74916f-2224-4c20-886c-35324adb3385",
   "metadata": {},
   "source": [
    "</br>"
   ]
  },
  {
   "cell_type": "markdown",
   "id": "d2abc5aa-4489-4084-9d5f-45292eb7a275",
   "metadata": {},
   "source": [
    "## (2) Specific number of bins, but excluding fringe bins\n",
    "- Histogram with 10 bins, but the first bin and the last two bins are ignored."
   ]
  },
  {
   "cell_type": "code",
   "id": "17cb6f8e-49f1-4ad6-ab38-334eb6b3502e",
   "metadata": {
    "ExecuteTime": {
     "end_time": "2024-08-22T14:08:10.711221Z",
     "start_time": "2024-08-22T14:08:10.698256Z"
    }
   },
   "source": [
    "hist = Histogram(\n",
    "    s=series,\n",
    "    method='n_bins',\n",
    "    n_bins=10,\n",
    "    ignore_fringe_bins=[1, 2]\n",
    ")"
   ],
   "outputs": [],
   "execution_count": 7
  },
  {
   "cell_type": "code",
   "id": "f39339fd-fd03-43e0-96c4-032e2d9d2249",
   "metadata": {
    "ExecuteTime": {
     "end_time": "2024-08-22T14:08:11.842701Z",
     "start_time": "2024-08-22T14:08:11.829733Z"
    }
   },
   "source": [
    "hist.results"
   ],
   "outputs": [
    {
     "data": {
      "text/plain": [
       "   BIN_START_INCL  COUNTS\n",
       "0             0.5       2\n",
       "1             1.0     746\n",
       "2             1.5       3\n",
       "3             2.0       1\n",
       "4             2.5       0\n",
       "5             3.0       4\n",
       "6             3.5       4"
      ],
      "text/html": [
       "<div>\n",
       "<style scoped>\n",
       "    .dataframe tbody tr th:only-of-type {\n",
       "        vertical-align: middle;\n",
       "    }\n",
       "\n",
       "    .dataframe tbody tr th {\n",
       "        vertical-align: top;\n",
       "    }\n",
       "\n",
       "    .dataframe thead th {\n",
       "        text-align: right;\n",
       "    }\n",
       "</style>\n",
       "<table border=\"1\" class=\"dataframe\">\n",
       "  <thead>\n",
       "    <tr style=\"text-align: right;\">\n",
       "      <th></th>\n",
       "      <th>BIN_START_INCL</th>\n",
       "      <th>COUNTS</th>\n",
       "    </tr>\n",
       "  </thead>\n",
       "  <tbody>\n",
       "    <tr>\n",
       "      <th>0</th>\n",
       "      <td>0.5</td>\n",
       "      <td>2</td>\n",
       "    </tr>\n",
       "    <tr>\n",
       "      <th>1</th>\n",
       "      <td>1.0</td>\n",
       "      <td>746</td>\n",
       "    </tr>\n",
       "    <tr>\n",
       "      <th>2</th>\n",
       "      <td>1.5</td>\n",
       "      <td>3</td>\n",
       "    </tr>\n",
       "    <tr>\n",
       "      <th>3</th>\n",
       "      <td>2.0</td>\n",
       "      <td>1</td>\n",
       "    </tr>\n",
       "    <tr>\n",
       "      <th>4</th>\n",
       "      <td>2.5</td>\n",
       "      <td>0</td>\n",
       "    </tr>\n",
       "    <tr>\n",
       "      <th>5</th>\n",
       "      <td>3.0</td>\n",
       "      <td>4</td>\n",
       "    </tr>\n",
       "    <tr>\n",
       "      <th>6</th>\n",
       "      <td>3.5</td>\n",
       "      <td>4</td>\n",
       "    </tr>\n",
       "  </tbody>\n",
       "</table>\n",
       "</div>"
      ]
     },
     "execution_count": 8,
     "metadata": {},
     "output_type": "execute_result"
    }
   ],
   "execution_count": 8
  },
  {
   "cell_type": "code",
   "id": "13681318-107e-4679-ba01-1ef9524160f8",
   "metadata": {
    "ExecuteTime": {
     "end_time": "2024-08-22T14:08:12.202298Z",
     "start_time": "2024-08-22T14:08:12.183350Z"
    }
   },
   "source": [
    "hist.peakbins"
   ],
   "outputs": [
    {
     "data": {
      "text/plain": [
       "[1.0, 3.0, 3.5, 1.5, 0.5]"
      ]
     },
     "execution_count": 9,
     "metadata": {},
     "output_type": "execute_result"
    }
   ],
   "execution_count": 9
  },
  {
   "cell_type": "markdown",
   "id": "e1fbc49a-43b1-4fe1-9d2f-79b1092affba",
   "metadata": {},
   "source": [
    "- Peak distribution was found for the bin at 1s.\n",
    "- In addition, several counts were found for the bins at 3s, 3.5s, 1.5s and 0.5s.\n",
    "- As defined, the fringe bins at 0s, 4s and 4.5s were ignored.\n",
    "- Here, each bin covers a time period of 0.5s, which means that the peak bin at 1s covers all values between 1s (inclusive) and 1.5s (exclusive)."
   ]
  },
  {
   "cell_type": "markdown",
   "id": "08a24b8c-b6ab-46f0-8303-5a321e36aa5f",
   "metadata": {},
   "source": [
    "</br>"
   ]
  },
  {
   "cell_type": "markdown",
   "id": "5963513b-71ad-4f91-8367-95a3c862aa74",
   "metadata": {},
   "source": [
    "## (3) Separate bin for each unique value\n",
    "- Histogram with many bins, whereby bins correspond to unique values found in the dataset."
   ]
  },
  {
   "cell_type": "code",
   "id": "efc9e1b0-3117-4062-83a8-7fe16b7ff106",
   "metadata": {
    "ExecuteTime": {
     "end_time": "2024-08-22T14:08:12.470166Z",
     "start_time": "2024-08-22T14:08:12.456205Z"
    }
   },
   "source": [
    "hist = Histogram(\n",
    "    s=series,\n",
    "    method='uniques',\n",
    "    ignore_fringe_bins=None\n",
    ")"
   ],
   "outputs": [],
   "execution_count": 10
  },
  {
   "cell_type": "code",
   "id": "7d4b37f7-fd8e-4f5b-9cb7-383a95a45e22",
   "metadata": {
    "ExecuteTime": {
     "end_time": "2024-08-22T14:08:12.707080Z",
     "start_time": "2024-08-22T14:08:12.693116Z"
    }
   },
   "source": [
    "hist.results"
   ],
   "outputs": [
    {
     "data": {
      "text/plain": [
       "    BIN_START_INCL  COUNTS\n",
       "0             0.00       8\n",
       "1             0.05       1\n",
       "2             0.25       1\n",
       "3             0.85       1\n",
       "4             0.95       1\n",
       "5             1.05       3\n",
       "6             1.10       4\n",
       "7             1.15       8\n",
       "8             1.20      28\n",
       "9             1.25     245\n",
       "10            1.30     398\n",
       "11            1.35      55\n",
       "12            1.40       5\n",
       "13            1.50       1\n",
       "14            1.75       1\n",
       "15            1.80       1\n",
       "16            2.25       1\n",
       "17            3.15       2\n",
       "18            3.20       1\n",
       "19            3.40       1\n",
       "20            3.50       1\n",
       "21            3.55       1\n",
       "22            3.70       2\n",
       "23            4.10       2\n",
       "24            4.25       1\n",
       "25            4.40       2\n",
       "26            4.50       2\n",
       "27            4.55       1\n",
       "28            4.60       1\n",
       "29            4.65       1\n",
       "30            4.70       2\n",
       "31            4.75       1\n",
       "32            4.80       4\n",
       "33            4.85       1\n",
       "34            4.90      23"
      ],
      "text/html": [
       "<div>\n",
       "<style scoped>\n",
       "    .dataframe tbody tr th:only-of-type {\n",
       "        vertical-align: middle;\n",
       "    }\n",
       "\n",
       "    .dataframe tbody tr th {\n",
       "        vertical-align: top;\n",
       "    }\n",
       "\n",
       "    .dataframe thead th {\n",
       "        text-align: right;\n",
       "    }\n",
       "</style>\n",
       "<table border=\"1\" class=\"dataframe\">\n",
       "  <thead>\n",
       "    <tr style=\"text-align: right;\">\n",
       "      <th></th>\n",
       "      <th>BIN_START_INCL</th>\n",
       "      <th>COUNTS</th>\n",
       "    </tr>\n",
       "  </thead>\n",
       "  <tbody>\n",
       "    <tr>\n",
       "      <th>0</th>\n",
       "      <td>0.00</td>\n",
       "      <td>8</td>\n",
       "    </tr>\n",
       "    <tr>\n",
       "      <th>1</th>\n",
       "      <td>0.05</td>\n",
       "      <td>1</td>\n",
       "    </tr>\n",
       "    <tr>\n",
       "      <th>2</th>\n",
       "      <td>0.25</td>\n",
       "      <td>1</td>\n",
       "    </tr>\n",
       "    <tr>\n",
       "      <th>3</th>\n",
       "      <td>0.85</td>\n",
       "      <td>1</td>\n",
       "    </tr>\n",
       "    <tr>\n",
       "      <th>4</th>\n",
       "      <td>0.95</td>\n",
       "      <td>1</td>\n",
       "    </tr>\n",
       "    <tr>\n",
       "      <th>5</th>\n",
       "      <td>1.05</td>\n",
       "      <td>3</td>\n",
       "    </tr>\n",
       "    <tr>\n",
       "      <th>6</th>\n",
       "      <td>1.10</td>\n",
       "      <td>4</td>\n",
       "    </tr>\n",
       "    <tr>\n",
       "      <th>7</th>\n",
       "      <td>1.15</td>\n",
       "      <td>8</td>\n",
       "    </tr>\n",
       "    <tr>\n",
       "      <th>8</th>\n",
       "      <td>1.20</td>\n",
       "      <td>28</td>\n",
       "    </tr>\n",
       "    <tr>\n",
       "      <th>9</th>\n",
       "      <td>1.25</td>\n",
       "      <td>245</td>\n",
       "    </tr>\n",
       "    <tr>\n",
       "      <th>10</th>\n",
       "      <td>1.30</td>\n",
       "      <td>398</td>\n",
       "    </tr>\n",
       "    <tr>\n",
       "      <th>11</th>\n",
       "      <td>1.35</td>\n",
       "      <td>55</td>\n",
       "    </tr>\n",
       "    <tr>\n",
       "      <th>12</th>\n",
       "      <td>1.40</td>\n",
       "      <td>5</td>\n",
       "    </tr>\n",
       "    <tr>\n",
       "      <th>13</th>\n",
       "      <td>1.50</td>\n",
       "      <td>1</td>\n",
       "    </tr>\n",
       "    <tr>\n",
       "      <th>14</th>\n",
       "      <td>1.75</td>\n",
       "      <td>1</td>\n",
       "    </tr>\n",
       "    <tr>\n",
       "      <th>15</th>\n",
       "      <td>1.80</td>\n",
       "      <td>1</td>\n",
       "    </tr>\n",
       "    <tr>\n",
       "      <th>16</th>\n",
       "      <td>2.25</td>\n",
       "      <td>1</td>\n",
       "    </tr>\n",
       "    <tr>\n",
       "      <th>17</th>\n",
       "      <td>3.15</td>\n",
       "      <td>2</td>\n",
       "    </tr>\n",
       "    <tr>\n",
       "      <th>18</th>\n",
       "      <td>3.20</td>\n",
       "      <td>1</td>\n",
       "    </tr>\n",
       "    <tr>\n",
       "      <th>19</th>\n",
       "      <td>3.40</td>\n",
       "      <td>1</td>\n",
       "    </tr>\n",
       "    <tr>\n",
       "      <th>20</th>\n",
       "      <td>3.50</td>\n",
       "      <td>1</td>\n",
       "    </tr>\n",
       "    <tr>\n",
       "      <th>21</th>\n",
       "      <td>3.55</td>\n",
       "      <td>1</td>\n",
       "    </tr>\n",
       "    <tr>\n",
       "      <th>22</th>\n",
       "      <td>3.70</td>\n",
       "      <td>2</td>\n",
       "    </tr>\n",
       "    <tr>\n",
       "      <th>23</th>\n",
       "      <td>4.10</td>\n",
       "      <td>2</td>\n",
       "    </tr>\n",
       "    <tr>\n",
       "      <th>24</th>\n",
       "      <td>4.25</td>\n",
       "      <td>1</td>\n",
       "    </tr>\n",
       "    <tr>\n",
       "      <th>25</th>\n",
       "      <td>4.40</td>\n",
       "      <td>2</td>\n",
       "    </tr>\n",
       "    <tr>\n",
       "      <th>26</th>\n",
       "      <td>4.50</td>\n",
       "      <td>2</td>\n",
       "    </tr>\n",
       "    <tr>\n",
       "      <th>27</th>\n",
       "      <td>4.55</td>\n",
       "      <td>1</td>\n",
       "    </tr>\n",
       "    <tr>\n",
       "      <th>28</th>\n",
       "      <td>4.60</td>\n",
       "      <td>1</td>\n",
       "    </tr>\n",
       "    <tr>\n",
       "      <th>29</th>\n",
       "      <td>4.65</td>\n",
       "      <td>1</td>\n",
       "    </tr>\n",
       "    <tr>\n",
       "      <th>30</th>\n",
       "      <td>4.70</td>\n",
       "      <td>2</td>\n",
       "    </tr>\n",
       "    <tr>\n",
       "      <th>31</th>\n",
       "      <td>4.75</td>\n",
       "      <td>1</td>\n",
       "    </tr>\n",
       "    <tr>\n",
       "      <th>32</th>\n",
       "      <td>4.80</td>\n",
       "      <td>4</td>\n",
       "    </tr>\n",
       "    <tr>\n",
       "      <th>33</th>\n",
       "      <td>4.85</td>\n",
       "      <td>1</td>\n",
       "    </tr>\n",
       "    <tr>\n",
       "      <th>34</th>\n",
       "      <td>4.90</td>\n",
       "      <td>23</td>\n",
       "    </tr>\n",
       "  </tbody>\n",
       "</table>\n",
       "</div>"
      ]
     },
     "execution_count": 11,
     "metadata": {},
     "output_type": "execute_result"
    }
   ],
   "execution_count": 11
  },
  {
   "cell_type": "code",
   "id": "80d7d8cf-564f-4a93-a3b0-45a703635374",
   "metadata": {
    "ExecuteTime": {
     "end_time": "2024-08-22T14:08:12.817304Z",
     "start_time": "2024-08-22T14:08:12.804337Z"
    }
   },
   "source": [
    "hist.peakbins"
   ],
   "outputs": [
    {
     "data": {
      "text/plain": [
       "[1.3, 1.25, 1.35, 1.2, 4.9]"
      ]
     },
     "execution_count": 12,
     "metadata": {},
     "output_type": "execute_result"
    }
   ],
   "execution_count": 12
  },
  {
   "cell_type": "markdown",
   "id": "7280f6e8-fa27-4d4b-bf2a-5c5789e9544d",
   "metadata": {},
   "source": [
    "- Peak distribution was found for the bin at 1.3s.\n",
    "- In addition, several counts were found for the bins at 1.25s, 1.35s, 1.2s and 4.9s.\n",
    "- Here, each bin covers a time period of 0.05s, which means that the peak bin at 1.3s covers all values between 1.3s (inclusive) and 1.35s (exclusive)."
   ]
  },
  {
   "cell_type": "markdown",
   "id": "9d628b57-ffc8-46ec-9613-b213b16e2a65",
   "metadata": {},
   "source": [
    "</br>"
   ]
  },
  {
   "cell_type": "markdown",
   "id": "ed89ee91-91f2-430c-9710-ce932b4cf716",
   "metadata": {},
   "source": [
    "## (4) Separate bin for each unique value, but excluding fringe bins\n",
    "- Histogram with many bins, whereby bins correspond to unique values found in the dataset. The first eight and the last 20 bins are ignored."
   ]
  },
  {
   "cell_type": "code",
   "id": "f67cb4cb-2cce-4973-adc8-cc4b742ac6ee",
   "metadata": {
    "ExecuteTime": {
     "end_time": "2024-08-22T14:08:12.911567Z",
     "start_time": "2024-08-22T14:08:12.900596Z"
    }
   },
   "source": [
    "hist = Histogram(\n",
    "    s=series,\n",
    "    method='uniques',\n",
    "    ignore_fringe_bins=[8, 20]\n",
    ")"
   ],
   "outputs": [],
   "execution_count": 13
  },
  {
   "cell_type": "code",
   "id": "1daabe42-8ddf-4dde-8ddc-54f9c24bf51a",
   "metadata": {
    "ExecuteTime": {
     "end_time": "2024-08-22T14:08:13.035193Z",
     "start_time": "2024-08-22T14:08:13.014613Z"
    }
   },
   "source": [
    "hist.results"
   ],
   "outputs": [
    {
     "data": {
      "text/plain": [
       "   BIN_START_INCL  COUNTS\n",
       "0            1.20      28\n",
       "1            1.25     245\n",
       "2            1.30     398\n",
       "3            1.35      55\n",
       "4            1.40       5\n",
       "5            1.50       1\n",
       "6            1.75       1"
      ],
      "text/html": [
       "<div>\n",
       "<style scoped>\n",
       "    .dataframe tbody tr th:only-of-type {\n",
       "        vertical-align: middle;\n",
       "    }\n",
       "\n",
       "    .dataframe tbody tr th {\n",
       "        vertical-align: top;\n",
       "    }\n",
       "\n",
       "    .dataframe thead th {\n",
       "        text-align: right;\n",
       "    }\n",
       "</style>\n",
       "<table border=\"1\" class=\"dataframe\">\n",
       "  <thead>\n",
       "    <tr style=\"text-align: right;\">\n",
       "      <th></th>\n",
       "      <th>BIN_START_INCL</th>\n",
       "      <th>COUNTS</th>\n",
       "    </tr>\n",
       "  </thead>\n",
       "  <tbody>\n",
       "    <tr>\n",
       "      <th>0</th>\n",
       "      <td>1.20</td>\n",
       "      <td>28</td>\n",
       "    </tr>\n",
       "    <tr>\n",
       "      <th>1</th>\n",
       "      <td>1.25</td>\n",
       "      <td>245</td>\n",
       "    </tr>\n",
       "    <tr>\n",
       "      <th>2</th>\n",
       "      <td>1.30</td>\n",
       "      <td>398</td>\n",
       "    </tr>\n",
       "    <tr>\n",
       "      <th>3</th>\n",
       "      <td>1.35</td>\n",
       "      <td>55</td>\n",
       "    </tr>\n",
       "    <tr>\n",
       "      <th>4</th>\n",
       "      <td>1.40</td>\n",
       "      <td>5</td>\n",
       "    </tr>\n",
       "    <tr>\n",
       "      <th>5</th>\n",
       "      <td>1.50</td>\n",
       "      <td>1</td>\n",
       "    </tr>\n",
       "    <tr>\n",
       "      <th>6</th>\n",
       "      <td>1.75</td>\n",
       "      <td>1</td>\n",
       "    </tr>\n",
       "  </tbody>\n",
       "</table>\n",
       "</div>"
      ]
     },
     "execution_count": 14,
     "metadata": {},
     "output_type": "execute_result"
    }
   ],
   "execution_count": 14
  },
  {
   "cell_type": "code",
   "id": "3b94d9ef-cae8-43ff-b46e-0ef681eef438",
   "metadata": {
    "ExecuteTime": {
     "end_time": "2024-08-22T14:08:13.160969Z",
     "start_time": "2024-08-22T14:08:13.147006Z"
    }
   },
   "source": [
    "hist.peakbins"
   ],
   "outputs": [
    {
     "data": {
      "text/plain": [
       "[1.3, 1.25, 1.35, 1.2, 1.4]"
      ]
     },
     "execution_count": 15,
     "metadata": {},
     "output_type": "execute_result"
    }
   ],
   "execution_count": 15
  },
  {
   "cell_type": "markdown",
   "id": "ffd789d8-8b26-478d-9130-bfd93db00bf0",
   "metadata": {},
   "source": [
    "- Peak distribution was found for the bin at 1.3s.\n",
    "- In addition, many counts were found for the bins at 1.25s, 1.35s, 1.2s and 1.4s.\n",
    "- Many fringe bins were ignored, including the bin at 4.9s with 23 counts.\n",
    "- Here, each bin covers a time period of 0.05s, which means that the peak bin at 1.3s covers all values between 1.3s (inclusive) and 1.35s (exclusive)."
   ]
  },
  {
   "cell_type": "markdown",
   "id": "bdcab969-91fc-45a9-b01c-a2adbb0fd548",
   "metadata": {},
   "source": [
    "</br>"
   ]
  },
  {
   "cell_type": "markdown",
   "id": "d05555fc-afd7-41be-8d9c-3d743374975e",
   "metadata": {
    "tags": []
   },
   "source": [
    "# **End of notebook**"
   ]
  },
  {
   "cell_type": "code",
   "id": "858aa379-5643-4afe-b53f-eb370dee2835",
   "metadata": {
    "tags": [],
    "ExecuteTime": {
     "end_time": "2024-08-22T14:08:13.304104Z",
     "start_time": "2024-08-22T14:08:13.298121Z"
    }
   },
   "source": [
    "dt_string = datetime.now().strftime(\"%Y-%m-%d %H:%M:%S\")\n",
    "print(f\"Finished {dt_string}\")"
   ],
   "outputs": [
    {
     "name": "stdout",
     "output_type": "stream",
     "text": [
      "Finished 2024-08-22 16:08:13\n"
     ]
    }
   ],
   "execution_count": 16
  },
  {
   "cell_type": "code",
   "id": "23e2f42a-cea0-4c9e-82c9-d3b47b3665c0",
   "metadata": {
    "ExecuteTime": {
     "end_time": "2024-08-22T14:08:13.444789Z",
     "start_time": "2024-08-22T14:08:13.440800Z"
    }
   },
   "source": [],
   "outputs": [],
   "execution_count": null
  }
 ],
 "metadata": {
  "kernelspec": {
   "display_name": "Python 3 (ipykernel)",
   "language": "python",
   "name": "python3"
  },
  "language_info": {
   "codemirror_mode": {
    "name": "ipython",
    "version": 3
   },
   "file_extension": ".py",
   "mimetype": "text/x-python",
   "name": "python",
   "nbconvert_exporter": "python",
   "pygments_lexer": "ipython3",
   "version": "3.9.7"
  },
  "toc-autonumbering": false
 },
 "nbformat": 4,
 "nbformat_minor": 5
}
