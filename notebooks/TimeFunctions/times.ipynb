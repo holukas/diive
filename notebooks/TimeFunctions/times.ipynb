{
 "cells": [
  {
   "cell_type": "markdown",
   "id": "2d723e10-b02e-4453-b18f-d124b8a88fc5",
   "metadata": {},
   "source": [
    "![lop](../../images/logo_diive1_128px.png)\n",
    "# **Time Functions**\n",
    "\n",
    "**Notebook creation date**: 18 Apr 2023  \n",
    "**Author**: Lukas Hörtnagl (holukas@ethz.ch)\n",
    "---\n",
    "Example notebook for time functions in the time series processing library `diive`.  "
   ]
  },
  {
   "cell_type": "markdown",
   "id": "5760b826-f582-48b3-ba48-edb606868bd9",
   "metadata": {
    "tags": []
   },
   "source": [
    "# Current unix Time\n",
    "Number given in nanoseconds since epoch"
   ]
  },
  {
   "cell_type": "code",
   "execution_count": 2,
   "id": "a02fa159-3a48-43aa-9aaa-e2f471e7b2dd",
   "metadata": {},
   "outputs": [
    {
     "name": "stderr",
     "output_type": "stream",
     "text": [
      "C:\\Users\\holukas\\AppData\\Local\\pypoetry\\Cache\\virtualenvs\\diive-VjNhA4Xt-py3.9\\lib\\site-packages\\statsmodels\\compat\\pandas.py:65: FutureWarning: pandas.Int64Index is deprecated and will be removed from pandas in a future version. Use pandas.Index with the appropriate dtype instead.\n",
      "  from pandas import Int64Index as NumericIndex\n"
     ]
    },
    {
     "data": {
      "text/plain": [
       "1681775583987969200"
      ]
     },
     "execution_count": 2,
     "metadata": {},
     "output_type": "execute_result"
    }
   ],
   "source": [
    "from diive.core.times.times import current_unixtime\n",
    "current_unixtime()"
   ]
  },
  {
   "cell_type": "markdown",
   "id": "f5c263c2-b6d8-40de-9f6a-c58ca15fb527",
   "metadata": {},
   "source": [
    "# Current datetime"
   ]
  },
  {
   "cell_type": "code",
   "execution_count": 3,
   "id": "20a61333-9d40-4695-ab5b-7401512d4c8e",
   "metadata": {},
   "outputs": [
    {
     "name": "stdout",
     "output_type": "stream",
     "text": [
      "Current datetime as datetime: 2023-04-18 01:53:04.006971\n",
      "Current datetime as string: 2023-04-18 01:53:04\n"
     ]
    }
   ],
   "source": [
    "from diive.core.times.times import current_datetime\n",
    "a, b = current_datetime()\n",
    "print(f\"Current datetime as datetime: {a}\")\n",
    "print(f\"Current datetime as string: {b}\")"
   ]
  },
  {
   "cell_type": "markdown",
   "id": "a454cc06-9c27-4041-825a-4ff49023aaa4",
   "metadata": {},
   "source": [
    "# Current datetime as string\n",
    "String given as YYYYmmddHHMMSS"
   ]
  },
  {
   "cell_type": "code",
   "execution_count": 4,
   "id": "d46e6ac3-5183-4741-bd0b-b397b110ca24",
   "metadata": {},
   "outputs": [
    {
     "data": {
      "text/plain": [
       "'20230418015304'"
      ]
     },
     "execution_count": 4,
     "metadata": {},
     "output_type": "execute_result"
    }
   ],
   "source": [
    "from diive.core.times.times import current_datetime_str_condensed\n",
    "current_datetime_str_condensed()"
   ]
  },
  {
   "cell_type": "markdown",
   "id": "efb0b9c1-aac3-4270-9368-aaed4e276495",
   "metadata": {},
   "source": [
    "# Current time with microseconds as string\n",
    "String given as HHMMSSffffff"
   ]
  },
  {
   "cell_type": "code",
   "execution_count": 5,
   "id": "010feca7-6430-44be-8851-b04540a574d1",
   "metadata": {},
   "outputs": [
    {
     "data": {
      "text/plain": [
       "'015304035976'"
      ]
     },
     "execution_count": 5,
     "metadata": {},
     "output_type": "execute_result"
    }
   ],
   "source": [
    "from diive.core.times.times import current_time_microseconds_str\n",
    "current_time_microseconds_str()"
   ]
  },
  {
   "cell_type": "markdown",
   "id": "ae1400ff-9400-49a1-96a9-0f3aeb167a28",
   "metadata": {},
   "source": [
    "# Identifier string\n",
    "Includes current datetime as YYYYmmdd-HHMMSS"
   ]
  },
  {
   "cell_type": "code",
   "execution_count": 6,
   "id": "70799633-ef8b-4d0c-872b-a4f86760b539",
   "metadata": {},
   "outputs": [
    {
     "data": {
      "text/plain": [
       "'RUN-20230418-015304'"
      ]
     },
     "execution_count": 6,
     "metadata": {},
     "output_type": "execute_result"
    }
   ],
   "source": [
    "from diive.core.times.times import make_run_id\n",
    "make_run_id()"
   ]
  },
  {
   "cell_type": "code",
   "execution_count": 7,
   "id": "2c41cf9d-3d57-4cbb-8c15-66cb7d01d7fe",
   "metadata": {},
   "outputs": [
    {
     "data": {
      "text/plain": [
       "'MYSCRIPT-20230418-015304'"
      ]
     },
     "execution_count": 7,
     "metadata": {},
     "output_type": "execute_result"
    }
   ],
   "source": [
    "make_run_id(prefix=\"MYSCRIPT\")"
   ]
  },
  {
   "cell_type": "markdown",
   "id": "8e4d906e-258c-4c99-b665-efeece6dabb2",
   "metadata": {},
   "source": [
    "# pandas Timedelta as pandas string representation"
   ]
  },
  {
   "cell_type": "code",
   "execution_count": 8,
   "id": "13f80b6a-08b5-43e1-ad83-abd5dc5756fb",
   "metadata": {},
   "outputs": [
    {
     "name": "stdout",
     "output_type": "stream",
     "text": [
      "1 days 00:00:00\n",
      "0 days 00:30:00\n",
      "0 days 10:00:00\n"
     ]
    }
   ],
   "source": [
    "# Example timedelta\n",
    "from pandas import Timedelta\n",
    "timedelta1 = Timedelta(1, \"days\")  # 1 day\n",
    "timedelta2 = Timedelta(30, \"minutes\")  # 30 minutes\n",
    "timedelta3 = Timedelta(hours=10)\n",
    "print(timedelta1)\n",
    "print(timedelta2)\n",
    "print(timedelta3)"
   ]
  },
  {
   "cell_type": "code",
   "execution_count": 9,
   "id": "1767ccc5-e7eb-486e-a6d9-8e94cfbc3083",
   "metadata": {},
   "outputs": [
    {
     "data": {
      "text/plain": [
       "'D'"
      ]
     },
     "execution_count": 9,
     "metadata": {},
     "output_type": "execute_result"
    }
   ],
   "source": [
    "from diive.core.times.times import timedelta_to_string\n",
    "timedelta_to_string(timedelta1)"
   ]
  },
  {
   "cell_type": "code",
   "execution_count": 10,
   "id": "539ef3b4-8e77-4bce-a64b-b26e14c56823",
   "metadata": {},
   "outputs": [
    {
     "data": {
      "text/plain": [
       "'30T'"
      ]
     },
     "execution_count": 10,
     "metadata": {},
     "output_type": "execute_result"
    }
   ],
   "source": [
    "timedelta_to_string(timedelta2)"
   ]
  },
  {
   "cell_type": "code",
   "execution_count": 11,
   "id": "7152d58f-7cf9-4e57-8109-2c2fdc7823f1",
   "metadata": {},
   "outputs": [
    {
     "data": {
      "text/plain": [
       "'10H'"
      ]
     },
     "execution_count": 11,
     "metadata": {},
     "output_type": "execute_result"
    }
   ],
   "source": [
    "timedelta_to_string(timedelta3)"
   ]
  },
  {
   "cell_type": "code",
   "execution_count": null,
   "id": "88d3ef8e-fc23-417c-8748-a5bbc6bb2623",
   "metadata": {},
   "outputs": [],
   "source": []
  }
 ],
 "metadata": {
  "kernelspec": {
   "display_name": "Python 3 (ipykernel)",
   "language": "python",
   "name": "python3"
  },
  "language_info": {
   "codemirror_mode": {
    "name": "ipython",
    "version": 3
   },
   "file_extension": ".py",
   "mimetype": "text/x-python",
   "name": "python",
   "nbconvert_exporter": "python",
   "pygments_lexer": "ipython3",
   "version": "3.9.7"
  }
 },
 "nbformat": 4,
 "nbformat_minor": 5
}
