{
 "cells": [
  {
   "cell_type": "markdown",
   "id": "051a6117-322e-40ce-a5d2-5e87ec9a90dc",
   "metadata": {},
   "source": [
    "![lop](../../images/logo_diive1_128px.png)"
   ]
  },
  {
   "cell_type": "markdown",
   "id": "3ff15eb9-7664-482d-ad68-990fa3a5b6c4",
   "metadata": {},
   "source": [
    "<span style='font-size:40px; display:block;'>\n",
    "<b>\n",
    "    Time Functions\n",
    "</b>\n",
    "</span>"
   ]
  },
  {
   "cell_type": "markdown",
   "id": "3f0a1b8c-f2ad-431a-b26d-86eb0280cf41",
   "metadata": {},
   "source": [
    "---\n",
    "**Notebook version**: `2` (20 Apr 2024)  \n",
    "**Author**: Lukas Hörtnagl (holukas@ethz.ch) "
   ]
  },
  {
   "cell_type": "code",
   "execution_count": 1,
   "id": "122f2da1-b6c9-4010-b9e3-75dbe86ac2f1",
   "metadata": {
    "ExecuteTime": {
     "end_time": "2024-08-22T13:46:08.185924Z",
     "start_time": "2024-08-22T13:46:08.167974Z"
    }
   },
   "outputs": [
    {
     "name": "stdout",
     "output_type": "stream",
     "text": [
      "diive version: v0.83.2\n"
     ]
    }
   ],
   "source": [
    "import importlib.metadata\n",
    "from datetime import datetime\n",
    "\n",
    "version_diive = importlib.metadata.version(\"diive\")\n",
    "print(f\"diive version: v{version_diive}\")"
   ]
  },
  {
   "cell_type": "markdown",
   "id": "5760b826-f582-48b3-ba48-edb606868bd9",
   "metadata": {
    "tags": []
   },
   "source": [
    "# Current unix Time\n",
    "Number given in nanoseconds since epoch"
   ]
  },
  {
   "cell_type": "code",
   "execution_count": 2,
   "id": "a02fa159-3a48-43aa-9aaa-e2f471e7b2dd",
   "metadata": {
    "ExecuteTime": {
     "end_time": "2024-08-22T13:46:08.310886Z",
     "start_time": "2024-08-22T13:46:08.301737Z"
    }
   },
   "outputs": [
    {
     "data": {
      "text/plain": [
       "1729784437829891200"
      ]
     },
     "execution_count": 2,
     "metadata": {},
     "output_type": "execute_result"
    }
   ],
   "source": [
    "from diive.core.times.times import current_unixtime\n",
    "\n",
    "current_unixtime()"
   ]
  },
  {
   "cell_type": "markdown",
   "id": "f5c263c2-b6d8-40de-9f6a-c58ca15fb527",
   "metadata": {},
   "source": [
    "# Current datetime"
   ]
  },
  {
   "cell_type": "code",
   "execution_count": 3,
   "id": "20a61333-9d40-4695-ab5b-7401512d4c8e",
   "metadata": {
    "ExecuteTime": {
     "end_time": "2024-08-22T13:46:08.451923Z",
     "start_time": "2024-08-22T13:46:08.430979Z"
    }
   },
   "outputs": [
    {
     "name": "stdout",
     "output_type": "stream",
     "text": [
      "Current datetime as datetime: 2024-10-24 17:40:39.240779\n",
      "Current datetime as string: 2024-10-24 17:40:39\n"
     ]
    }
   ],
   "source": [
    "from diive.core.times.times import current_datetime\n",
    "\n",
    "a, b = current_datetime()\n",
    "print(f\"Current datetime as datetime: {a}\")\n",
    "print(f\"Current datetime as string: {b}\")"
   ]
  },
  {
   "cell_type": "markdown",
   "id": "a454cc06-9c27-4041-825a-4ff49023aaa4",
   "metadata": {},
   "source": [
    "# Current datetime as string\n",
    "String given as YYYYmmddHHMMSS"
   ]
  },
  {
   "cell_type": "code",
   "execution_count": 4,
   "id": "d46e6ac3-5183-4741-bd0b-b397b110ca24",
   "metadata": {
    "ExecuteTime": {
     "end_time": "2024-08-22T13:46:08.545068Z",
     "start_time": "2024-08-22T13:46:08.529960Z"
    }
   },
   "outputs": [
    {
     "data": {
      "text/plain": [
       "'20241024174039'"
      ]
     },
     "execution_count": 4,
     "metadata": {},
     "output_type": "execute_result"
    }
   ],
   "source": [
    "from diive.core.times.times import current_datetime_str_condensed\n",
    "\n",
    "current_datetime_str_condensed()"
   ]
  },
  {
   "cell_type": "markdown",
   "id": "efb0b9c1-aac3-4270-9368-aaed4e276495",
   "metadata": {},
   "source": [
    "# Current time with microseconds as string\n",
    "String given as HHMMSSffffff"
   ]
  },
  {
   "cell_type": "code",
   "execution_count": 5,
   "id": "010feca7-6430-44be-8851-b04540a574d1",
   "metadata": {
    "ExecuteTime": {
     "end_time": "2024-08-22T13:46:08.591914Z",
     "start_time": "2024-08-22T13:46:08.578948Z"
    }
   },
   "outputs": [
    {
     "data": {
      "text/plain": [
       "'174040868353'"
      ]
     },
     "execution_count": 5,
     "metadata": {},
     "output_type": "execute_result"
    }
   ],
   "source": [
    "from diive.core.times.times import current_time_microseconds_str\n",
    "\n",
    "current_time_microseconds_str()"
   ]
  },
  {
   "cell_type": "markdown",
   "id": "ae1400ff-9400-49a1-96a9-0f3aeb167a28",
   "metadata": {},
   "source": [
    "# Identifier string\n",
    "Includes current datetime as YYYYmmdd-HHMMSS"
   ]
  },
  {
   "cell_type": "code",
   "execution_count": 6,
   "id": "70799633-ef8b-4d0c-872b-a4f86760b539",
   "metadata": {
    "ExecuteTime": {
     "end_time": "2024-08-22T13:46:08.654019Z",
     "start_time": "2024-08-22T13:46:08.634043Z"
    }
   },
   "outputs": [
    {
     "data": {
      "text/plain": [
       "'RUN-20241024-174042'"
      ]
     },
     "execution_count": 6,
     "metadata": {},
     "output_type": "execute_result"
    }
   ],
   "source": [
    "from diive.core.times.times import make_run_id\n",
    "\n",
    "make_run_id()"
   ]
  },
  {
   "cell_type": "code",
   "execution_count": 7,
   "id": "2c41cf9d-3d57-4cbb-8c15-66cb7d01d7fe",
   "metadata": {
    "ExecuteTime": {
     "end_time": "2024-08-22T13:46:08.715838Z",
     "start_time": "2024-08-22T13:46:08.701846Z"
    }
   },
   "outputs": [
    {
     "data": {
      "text/plain": [
       "'MYSCRIPT-20241024-174042'"
      ]
     },
     "execution_count": 7,
     "metadata": {},
     "output_type": "execute_result"
    }
   ],
   "source": [
    "make_run_id(prefix=\"MYSCRIPT\")"
   ]
  },
  {
   "cell_type": "markdown",
   "id": "14fcc6f8-378b-4e34-a462-d2f921b2787f",
   "metadata": {
    "tags": []
   },
   "source": [
    "# End of notebook"
   ]
  },
  {
   "cell_type": "code",
   "execution_count": 8,
   "id": "3f784457-e244-421b-b789-08481c2d9f9f",
   "metadata": {
    "ExecuteTime": {
     "end_time": "2024-08-22T13:46:08.776866Z",
     "start_time": "2024-08-22T13:46:08.763875Z"
    },
    "tags": []
   },
   "outputs": [
    {
     "name": "stdout",
     "output_type": "stream",
     "text": [
      "Finished 2024-10-24 17:40:43\n"
     ]
    }
   ],
   "source": [
    "dt_string = datetime.now().strftime(\"%Y-%m-%d %H:%M:%S\")\n",
    "print(f\"Finished {dt_string}\")"
   ]
  },
  {
   "cell_type": "code",
   "execution_count": null,
   "id": "1fe40c15-b07c-4e8c-b6be-dc6a2060aa71",
   "metadata": {
    "ExecuteTime": {
     "end_time": "2024-08-22T13:46:08.837763Z",
     "start_time": "2024-08-22T13:46:08.824714Z"
    }
   },
   "outputs": [],
   "source": []
  }
 ],
 "metadata": {
  "kernelspec": {
   "display_name": "Python 3 (ipykernel)",
   "language": "python",
   "name": "python3"
  },
  "language_info": {
   "codemirror_mode": {
    "name": "ipython",
    "version": 3
   },
   "file_extension": ".py",
   "mimetype": "text/x-python",
   "name": "python",
   "nbconvert_exporter": "python",
   "pygments_lexer": "ipython3",
   "version": "3.11.10"
  }
 },
 "nbformat": 4,
 "nbformat_minor": 5
}
