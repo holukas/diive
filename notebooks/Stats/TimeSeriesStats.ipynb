{
 "cells": [
  {
   "cell_type": "markdown",
   "id": "eb3e16ae-6cee-4c20-94b6-0294f5fcd0d9",
   "metadata": {},
   "source": [
    "![lop](../../images/logo_diive1_128px.png)\n",
    "# **Calculate stats for time series**\n",
    "\n",
    "**Last updated**: 17 Jun 2023\n",
    "**Author**: Lukas Hörtnagl (holukas@ethz.ch)\n",
    "---\n",
    "Example for function `core.dfun.stats.sstats`of the time series processing library `diive`."
   ]
  },
  {
   "cell_type": "markdown",
   "id": "59154e56-b3bb-4a5e-8cf1-0959bfc3dd54",
   "metadata": {},
   "source": [
    "# Imports"
   ]
  },
  {
   "cell_type": "code",
   "execution_count": 1,
   "id": "98a0b6ed-8f83-4519-b23f-a13453dff0a1",
   "metadata": {
    "tags": [],
    "ExecuteTime": {
     "start_time": "2023-06-17T16:39:38.579091Z",
     "end_time": "2023-06-17T16:39:40.576737Z"
    }
   },
   "outputs": [
    {
     "name": "stderr",
     "output_type": "stream",
     "text": [
      "C:\\Users\\holukas\\AppData\\Local\\pypoetry\\Cache\\virtualenvs\\diive-7H5NxUqg-py3.9\\lib\\site-packages\\statsmodels\\compat\\pandas.py:65: FutureWarning: pandas.Int64Index is deprecated and will be removed from pandas in a future version. Use pandas.Index with the appropriate dtype instead.\n",
      "  from pandas import Int64Index as NumericIndex\n"
     ]
    }
   ],
   "source": [
    "from diive.configs.exampledata import load_exampledata_DIIVE_CSV_30MIN\n",
    "from diive.core.dfun.stats import sstats"
   ]
  },
  {
   "cell_type": "markdown",
   "id": "c7c703c0-0b80-4b6e-b85a-43c8c4b4c2c6",
   "metadata": {},
   "source": [
    "# Load example data"
   ]
  },
  {
   "cell_type": "code",
   "execution_count": 2,
   "id": "d6a8a136-b0da-44e5-989a-2f23e3109e79",
   "metadata": {
    "tags": [],
    "ExecuteTime": {
     "start_time": "2023-06-17T16:39:40.578733Z",
     "end_time": "2023-06-17T16:39:40.720354Z"
    }
   },
   "outputs": [
    {
     "name": "stdout",
     "output_type": "stream",
     "text": [
      "Reading file exampledata_CH-DAV_FP2022.5_2022.07_ID20230206154316_30MIN.diive.csv ...\n"
     ]
    },
    {
     "data": {
      "text/plain": "TIMESTAMP_MIDDLE\n2022-07-01 00:15:00         NaN\n2022-07-01 00:45:00         NaN\n2022-07-01 01:15:00    1.304188\n2022-07-01 01:45:00         NaN\n2022-07-01 02:15:00         NaN\n                         ...   \n2022-07-31 21:45:00         NaN\n2022-07-31 22:15:00         NaN\n2022-07-31 22:45:00         NaN\n2022-07-31 23:15:00         NaN\n2022-07-31 23:45:00         NaN\nFreq: 30T, Name: NEE_CUT_REF_orig, Length: 1488, dtype: float64"
     },
     "execution_count": 2,
     "metadata": {},
     "output_type": "execute_result"
    }
   ],
   "source": [
    "data_df, metadata_df = load_exampledata_DIIVE_CSV_30MIN()\n",
    "series = data_df['NEE_CUT_REF_orig']\n",
    "series"
   ]
  },
  {
   "cell_type": "markdown",
   "id": "d1b83405-0274-4587-a6ba-0f29f2b30742",
   "metadata": {},
   "source": [
    "# Find gaps in time series"
   ]
  },
  {
   "cell_type": "code",
   "execution_count": 3,
   "id": "0783bda1-e410-42f0-a4c6-be64000852e9",
   "metadata": {
    "tags": [],
    "ExecuteTime": {
     "start_time": "2023-06-17T16:39:40.720354Z",
     "end_time": "2023-06-17T16:39:40.753265Z"
    }
   },
   "outputs": [],
   "source": [
    "results = sstats(s=series)"
   ]
  },
  {
   "cell_type": "markdown",
   "id": "0ffe715d-79ad-4d56-8b93-c76fc240e182",
   "metadata": {},
   "source": [
    "# Results"
   ]
  },
  {
   "cell_type": "code",
   "execution_count": 4,
   "id": "c90d528e-9415-46d4-9eea-030c265e65f3",
   "metadata": {
    "tags": [],
    "ExecuteTime": {
     "start_time": "2023-06-17T16:39:40.736311Z",
     "end_time": "2023-06-17T16:39:40.772215Z"
    }
   },
   "outputs": [
    {
     "data": {
      "text/plain": "              NEE_CUT_REF_orig\nSTARTDATE     2022-07-01 00:15\nENDDATE       2022-07-31 23:45\nPERIOD        30 days 23:30:00\nNOV                        718\nMISSING                    770\nMISSING_PERC         51.747312\nMEAN                 -4.845385\nSD                    5.904654\nVAR                  34.864943\nSD/MEAN              -1.218614\nMAD                   4.502689\nSUM               -3478.986584\nMEDIAN               -5.516215\nMIN                  -22.40709\nMAX                   15.83389\nP05                 -13.928686\nP25                  -8.364355\nP75                  -1.874598\nP95                   6.186969",
      "text/html": "<div>\n<style scoped>\n    .dataframe tbody tr th:only-of-type {\n        vertical-align: middle;\n    }\n\n    .dataframe tbody tr th {\n        vertical-align: top;\n    }\n\n    .dataframe thead th {\n        text-align: right;\n    }\n</style>\n<table border=\"1\" class=\"dataframe\">\n  <thead>\n    <tr style=\"text-align: right;\">\n      <th></th>\n      <th>NEE_CUT_REF_orig</th>\n    </tr>\n  </thead>\n  <tbody>\n    <tr>\n      <th>STARTDATE</th>\n      <td>2022-07-01 00:15</td>\n    </tr>\n    <tr>\n      <th>ENDDATE</th>\n      <td>2022-07-31 23:45</td>\n    </tr>\n    <tr>\n      <th>PERIOD</th>\n      <td>30 days 23:30:00</td>\n    </tr>\n    <tr>\n      <th>NOV</th>\n      <td>718</td>\n    </tr>\n    <tr>\n      <th>MISSING</th>\n      <td>770</td>\n    </tr>\n    <tr>\n      <th>MISSING_PERC</th>\n      <td>51.747312</td>\n    </tr>\n    <tr>\n      <th>MEAN</th>\n      <td>-4.845385</td>\n    </tr>\n    <tr>\n      <th>SD</th>\n      <td>5.904654</td>\n    </tr>\n    <tr>\n      <th>VAR</th>\n      <td>34.864943</td>\n    </tr>\n    <tr>\n      <th>SD/MEAN</th>\n      <td>-1.218614</td>\n    </tr>\n    <tr>\n      <th>MAD</th>\n      <td>4.502689</td>\n    </tr>\n    <tr>\n      <th>SUM</th>\n      <td>-3478.986584</td>\n    </tr>\n    <tr>\n      <th>MEDIAN</th>\n      <td>-5.516215</td>\n    </tr>\n    <tr>\n      <th>MIN</th>\n      <td>-22.40709</td>\n    </tr>\n    <tr>\n      <th>MAX</th>\n      <td>15.83389</td>\n    </tr>\n    <tr>\n      <th>P05</th>\n      <td>-13.928686</td>\n    </tr>\n    <tr>\n      <th>P25</th>\n      <td>-8.364355</td>\n    </tr>\n    <tr>\n      <th>P75</th>\n      <td>-1.874598</td>\n    </tr>\n    <tr>\n      <th>P95</th>\n      <td>6.186969</td>\n    </tr>\n  </tbody>\n</table>\n</div>"
     },
     "execution_count": 4,
     "metadata": {},
     "output_type": "execute_result"
    }
   ],
   "source": [
    "results"
   ]
  },
  {
   "cell_type": "markdown",
   "id": "6e2e93c7-73ad-4f06-80f5-17014de38057",
   "metadata": {
    "tags": []
   },
   "source": [
    "# Finish"
   ]
  },
  {
   "cell_type": "code",
   "execution_count": 5,
   "id": "52d47c35-eda2-4bb5-9b2b-1faedb4fb43c",
   "metadata": {
    "tags": [],
    "ExecuteTime": {
     "start_time": "2023-06-17T16:39:40.753265Z",
     "end_time": "2023-06-17T16:39:40.772215Z"
    }
   },
   "outputs": [
    {
     "name": "stdout",
     "output_type": "stream",
     "text": [
      "Finished 2023-06-17 16:39:40\n"
     ]
    }
   ],
   "source": [
    "from datetime import datetime\n",
    "\n",
    "dt_string = datetime.now().strftime(\"%Y-%m-%d %H:%M:%S\")\n",
    "print(f\"Finished {dt_string}\")"
   ]
  },
  {
   "cell_type": "code",
   "execution_count": 5,
   "id": "b9900f7d-1bd3-4aa3-bd9a-33a8e3557678",
   "metadata": {
    "ExecuteTime": {
     "start_time": "2023-06-17T16:39:40.768226Z",
     "end_time": "2023-06-17T16:39:40.811110Z"
    }
   },
   "outputs": [],
   "source": []
  }
 ],
 "metadata": {
  "kernelspec": {
   "display_name": "Python 3 (ipykernel)",
   "language": "python",
   "name": "python3"
  },
  "language_info": {
   "codemirror_mode": {
    "name": "ipython",
    "version": 3
   },
   "file_extension": ".py",
   "mimetype": "text/x-python",
   "name": "python",
   "nbconvert_exporter": "python",
   "pygments_lexer": "ipython3",
   "version": "3.9.7"
  }
 },
 "nbformat": 4,
 "nbformat_minor": 5
}
