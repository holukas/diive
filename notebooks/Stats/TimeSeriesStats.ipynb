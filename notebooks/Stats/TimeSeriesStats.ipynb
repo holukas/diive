{
 "cells": [
  {
   "cell_type": "markdown",
   "id": "05809b8e-4567-43a4-9b50-92bc3ed6aa15",
   "metadata": {},
   "source": [
    "![lop](../../images/logo_diive1_128px.png)"
   ]
  },
  {
   "cell_type": "markdown",
   "id": "7c251a88-3199-4d5a-8437-7f3b37bbc459",
   "metadata": {},
   "source": [
    "<span style='font-size:40px; display:block;'>\n",
    "<b>\n",
    "    Calculate stats for time series\n",
    "</b>\n",
    "</span>"
   ]
  },
  {
   "cell_type": "markdown",
   "id": "fbe5ad7e-7ca1-410d-97c4-3683a11a67d2",
   "metadata": {},
   "source": [
    "---\n",
    "**Notebook version**: `1` (25 Oct 2023)  \n",
    "**Author**: Lukas Hörtnagl (holukas@ethz.ch) "
   ]
  },
  {
   "cell_type": "markdown",
   "id": "59154e56-b3bb-4a5e-8cf1-0959bfc3dd54",
   "metadata": {},
   "source": [
    "# Imports"
   ]
  },
  {
   "cell_type": "code",
   "execution_count": 1,
   "id": "98a0b6ed-8f83-4519-b23f-a13453dff0a1",
   "metadata": {
    "ExecuteTime": {
     "end_time": "2024-08-22T13:45:08.592739Z",
     "start_time": "2024-08-22T13:45:06.250756Z"
    },
    "tags": []
   },
   "outputs": [
    {
     "name": "stdout",
     "output_type": "stream",
     "text": [
      "diive version: v0.85.0\n"
     ]
    }
   ],
   "source": [
    "import importlib.metadata\n",
    "from datetime import datetime\n",
    "from diive.configs.exampledata import load_exampledata_parquet\n",
    "from diive.core.dfun.stats import sstats\n",
    "version_diive = importlib.metadata.version(\"diive\")\n",
    "print(f\"diive version: v{version_diive}\")"
   ]
  },
  {
   "cell_type": "markdown",
   "id": "c7c703c0-0b80-4b6e-b85a-43c8c4b4c2c6",
   "metadata": {},
   "source": [
    "# Load example data"
   ]
  },
  {
   "cell_type": "code",
   "execution_count": 2,
   "id": "d6a8a136-b0da-44e5-989a-2f23e3109e79",
   "metadata": {
    "ExecuteTime": {
     "end_time": "2024-08-22T13:45:08.843705Z",
     "start_time": "2024-08-22T13:45:08.675614Z"
    },
    "tags": []
   },
   "outputs": [
    {
     "name": "stdout",
     "output_type": "stream",
     "text": [
      "Loaded .parquet file L:\\Sync\\luhk_work\\20 - CODING\\21 - DIIVE\\diive\\diive\\configs\\exampledata\\exampledata_PARQUET_CH-DAV_FP2022.5_2013-2022_ID20230206154316_30MIN.parquet (0.048 seconds).\n",
      "    --> Detected time resolution of <30 * Minutes> / 30min \n"
     ]
    },
    {
     "data": {
      "text/plain": [
       "TIMESTAMP_MIDDLE\n",
       "2013-01-01 00:15:00      NaN\n",
       "2013-01-01 00:45:00      NaN\n",
       "2013-01-01 01:15:00      NaN\n",
       "2013-01-01 01:45:00    0.538\n",
       "2013-01-01 02:15:00      NaN\n",
       "                       ...  \n",
       "2022-12-31 21:45:00      NaN\n",
       "2022-12-31 22:15:00    3.518\n",
       "2022-12-31 22:45:00      NaN\n",
       "2022-12-31 23:15:00      NaN\n",
       "2022-12-31 23:45:00      NaN\n",
       "Freq: 30min, Name: NEE_CUT_REF_orig, Length: 175296, dtype: float64"
      ]
     },
     "execution_count": 2,
     "metadata": {},
     "output_type": "execute_result"
    }
   ],
   "source": [
    "data_df = load_exampledata_parquet()\n",
    "series = data_df['NEE_CUT_REF_orig']\n",
    "series"
   ]
  },
  {
   "cell_type": "markdown",
   "id": "d1b83405-0274-4587-a6ba-0f29f2b30742",
   "metadata": {},
   "source": [
    "# Calculate time series stats"
   ]
  },
  {
   "cell_type": "code",
   "execution_count": 3,
   "id": "0783bda1-e410-42f0-a4c6-be64000852e9",
   "metadata": {
    "ExecuteTime": {
     "end_time": "2024-08-22T13:45:09.017294Z",
     "start_time": "2024-08-22T13:45:08.971417Z"
    },
    "tags": []
   },
   "outputs": [],
   "source": [
    "results = sstats(s=series)"
   ]
  },
  {
   "cell_type": "markdown",
   "id": "0ffe715d-79ad-4d56-8b93-c76fc240e182",
   "metadata": {},
   "source": [
    "# Results"
   ]
  },
  {
   "cell_type": "code",
   "execution_count": 4,
   "id": "c90d528e-9415-46d4-9eea-030c265e65f3",
   "metadata": {
    "ExecuteTime": {
     "end_time": "2024-08-22T13:45:09.127489Z",
     "start_time": "2024-08-22T13:45:09.104550Z"
    },
    "tags": []
   },
   "outputs": [
    {
     "data": {
      "text/html": [
       "<div>\n",
       "<style scoped>\n",
       "    .dataframe tbody tr th:only-of-type {\n",
       "        vertical-align: middle;\n",
       "    }\n",
       "\n",
       "    .dataframe tbody tr th {\n",
       "        vertical-align: top;\n",
       "    }\n",
       "\n",
       "    .dataframe thead th {\n",
       "        text-align: right;\n",
       "    }\n",
       "</style>\n",
       "<table border=\"1\" class=\"dataframe\">\n",
       "  <thead>\n",
       "    <tr style=\"text-align: right;\">\n",
       "      <th></th>\n",
       "      <th>NEE_CUT_REF_orig</th>\n",
       "    </tr>\n",
       "  </thead>\n",
       "  <tbody>\n",
       "    <tr>\n",
       "      <th>STARTDATE</th>\n",
       "      <td>2013-01-01 00:15</td>\n",
       "    </tr>\n",
       "    <tr>\n",
       "      <th>ENDDATE</th>\n",
       "      <td>2022-12-31 23:45</td>\n",
       "    </tr>\n",
       "    <tr>\n",
       "      <th>PERIOD</th>\n",
       "      <td>3651 days 23:30:00</td>\n",
       "    </tr>\n",
       "    <tr>\n",
       "      <th>NOV</th>\n",
       "      <td>58197</td>\n",
       "    </tr>\n",
       "    <tr>\n",
       "      <th>MISSING</th>\n",
       "      <td>117099</td>\n",
       "    </tr>\n",
       "    <tr>\n",
       "      <th>MISSING_PERC</th>\n",
       "      <td>66.800726</td>\n",
       "    </tr>\n",
       "    <tr>\n",
       "      <th>MEAN</th>\n",
       "      <td>-3.653027</td>\n",
       "    </tr>\n",
       "    <tr>\n",
       "      <th>MEDIAN</th>\n",
       "      <td>-3.18</td>\n",
       "    </tr>\n",
       "    <tr>\n",
       "      <th>SD</th>\n",
       "      <td>6.249538</td>\n",
       "    </tr>\n",
       "    <tr>\n",
       "      <th>VAR</th>\n",
       "      <td>39.05672</td>\n",
       "    </tr>\n",
       "    <tr>\n",
       "      <th>SD/MEAN</th>\n",
       "      <td>-1.710783</td>\n",
       "    </tr>\n",
       "    <tr>\n",
       "      <th>SUM</th>\n",
       "      <td>-212595.211</td>\n",
       "    </tr>\n",
       "    <tr>\n",
       "      <th>MIN</th>\n",
       "      <td>-40.811</td>\n",
       "    </tr>\n",
       "    <tr>\n",
       "      <th>MAX</th>\n",
       "      <td>25.29</td>\n",
       "    </tr>\n",
       "    <tr>\n",
       "      <th>P01</th>\n",
       "      <td>-20.5502</td>\n",
       "    </tr>\n",
       "    <tr>\n",
       "      <th>P05</th>\n",
       "      <td>-14.229</td>\n",
       "    </tr>\n",
       "    <tr>\n",
       "      <th>P25</th>\n",
       "      <td>-7.556</td>\n",
       "    </tr>\n",
       "    <tr>\n",
       "      <th>P75</th>\n",
       "      <td>0.63</td>\n",
       "    </tr>\n",
       "    <tr>\n",
       "      <th>P95</th>\n",
       "      <td>5.5102</td>\n",
       "    </tr>\n",
       "    <tr>\n",
       "      <th>P99</th>\n",
       "      <td>10.9462</td>\n",
       "    </tr>\n",
       "  </tbody>\n",
       "</table>\n",
       "</div>"
      ],
      "text/plain": [
       "                NEE_CUT_REF_orig\n",
       "STARTDATE       2013-01-01 00:15\n",
       "ENDDATE         2022-12-31 23:45\n",
       "PERIOD        3651 days 23:30:00\n",
       "NOV                        58197\n",
       "MISSING                   117099\n",
       "MISSING_PERC           66.800726\n",
       "MEAN                   -3.653027\n",
       "MEDIAN                     -3.18\n",
       "SD                      6.249538\n",
       "VAR                     39.05672\n",
       "SD/MEAN                -1.710783\n",
       "SUM                  -212595.211\n",
       "MIN                      -40.811\n",
       "MAX                        25.29\n",
       "P01                     -20.5502\n",
       "P05                      -14.229\n",
       "P25                       -7.556\n",
       "P75                         0.63\n",
       "P95                       5.5102\n",
       "P99                      10.9462"
      ]
     },
     "execution_count": 4,
     "metadata": {},
     "output_type": "execute_result"
    }
   ],
   "source": [
    "results"
   ]
  },
  {
   "cell_type": "markdown",
   "id": "6e2e93c7-73ad-4f06-80f5-17014de38057",
   "metadata": {
    "tags": []
   },
   "source": [
    "# Finish"
   ]
  },
  {
   "cell_type": "code",
   "execution_count": 5,
   "id": "52d47c35-eda2-4bb5-9b2b-1faedb4fb43c",
   "metadata": {
    "ExecuteTime": {
     "end_time": "2024-08-22T13:45:09.190766Z",
     "start_time": "2024-08-22T13:45:09.175877Z"
    },
    "tags": []
   },
   "outputs": [
    {
     "name": "stdout",
     "output_type": "stream",
     "text": [
      "Finished 2025-01-25 01:48:53\n"
     ]
    }
   ],
   "source": [
    "dt_string = datetime.now().strftime(\"%Y-%m-%d %H:%M:%S\")\n",
    "print(f\"Finished {dt_string}\")"
   ]
  },
  {
   "cell_type": "code",
   "execution_count": null,
   "id": "b9900f7d-1bd3-4aa3-bd9a-33a8e3557678",
   "metadata": {
    "ExecuteTime": {
     "end_time": "2024-08-22T13:45:09.253040Z",
     "start_time": "2024-08-22T13:45:09.247626Z"
    }
   },
   "outputs": [],
   "source": []
  }
 ],
 "metadata": {
  "kernelspec": {
   "display_name": "Python 3 (ipykernel)",
   "language": "python",
   "name": "python3"
  },
  "language_info": {
   "codemirror_mode": {
    "name": "ipython",
    "version": 3
   },
   "file_extension": ".py",
   "mimetype": "text/x-python",
   "name": "python",
   "nbconvert_exporter": "python",
   "pygments_lexer": "ipython3",
   "version": "3.11.10"
  }
 },
 "nbformat": 4,
 "nbformat_minor": 5
}
