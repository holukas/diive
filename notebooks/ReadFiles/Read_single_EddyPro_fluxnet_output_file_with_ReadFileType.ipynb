{
 "cells": [
  {
   "cell_type": "markdown",
   "id": "124c47aa-5027-4c5b-9a5c-8a7451597b5f",
   "metadata": {},
   "source": [
    "![lop](../../images/logo_diive1_128px.png)"
   ]
  },
  {
   "cell_type": "markdown",
   "id": "3d27e594-5b95-4385-9487-67e42d1cbb23",
   "metadata": {},
   "source": [
    "<span style='font-size:32px; display:block;'>\n",
    "<b>\n",
    "    Read single EddyPro _fluxnet_ output file with ReadFileType\n",
    "</b>\n",
    "</span>"
   ]
  },
  {
   "cell_type": "markdown",
   "id": "c268d0a9-7ebe-48fb-bdf4-ef9e9d7432d4",
   "metadata": {},
   "source": [
    "---\n",
    "**Notebook version**: `1` (20 Apr 2024)  \n",
    "**Author**: Lukas Hörtnagl (holukas@ethz.ch) "
   ]
  },
  {
   "cell_type": "markdown",
   "id": "1d10a9ef-0cee-4d5d-b402-4254299e2ed0",
   "metadata": {},
   "source": [
    "</br>"
   ]
  },
  {
   "cell_type": "markdown",
   "id": "47c5e2f4-382d-4911-b4a9-b1b211cb3a2d",
   "metadata": {},
   "source": [
    "# Description"
   ]
  },
  {
   "cell_type": "markdown",
   "id": "ed5d6781-659f-4796-8f5f-9255110fa554",
   "metadata": {},
   "source": [
    "This example shows how to read the `EddyPro` `_fluxnet_` output file with `ReadFileType` and the pre-defined filetype `EDDYPRO-FLUXNET-CSV-30MIN`."
   ]
  },
  {
   "cell_type": "markdown",
   "id": "eb329cd8-8eab-4147-8e1a-880316d27b82",
   "metadata": {},
   "source": [
    "# Imports"
   ]
  },
  {
   "cell_type": "code",
   "execution_count": 1,
   "id": "bfca8be1-b5cd-4312-ad6e-6056c0df9082",
   "metadata": {
    "ExecuteTime": {
     "end_time": "2023-04-23T13:13:22.306270Z",
     "start_time": "2023-04-23T13:13:20.453340Z"
    },
    "tags": []
   },
   "outputs": [
    {
     "name": "stdout",
     "output_type": "stream",
     "text": [
      "diive version: v0.74.0\n"
     ]
    }
   ],
   "source": [
    "import importlib.metadata\n",
    "from datetime import datetime\n",
    "from diive.core.io.filereader import ReadFileType\n",
    "version_diive = importlib.metadata.version(\"diive\")\n",
    "print(f\"diive version: v{version_diive}\")"
   ]
  },
  {
   "cell_type": "markdown",
   "id": "8da30681-5095-459b-9578-744ea785bb4a",
   "metadata": {},
   "source": [
    "## Using `ReadFileType` with pre-defined filetype `EDDYPRO-FLUXNET-CSV-30MIN`"
   ]
  },
  {
   "cell_type": "code",
   "execution_count": 2,
   "id": "6b0a881f-a277-4bbb-8271-f688940c1de1",
   "metadata": {
    "ExecuteTime": {
     "end_time": "2023-04-17T22:02:36.327054Z",
     "start_time": "2023-04-17T22:02:36.010053Z"
    },
    "tags": []
   },
   "outputs": [
    {
     "name": "stdout",
     "output_type": "stream",
     "text": [
      "Reading file exampledata_EDDYPRO-FLUXNET-CSV-30MIN_CH-AWS_2022.07_FR-20220127-164245_eddypro_fluxnet_2022-01-28T112538_adv.csv ...\n"
     ]
    }
   ],
   "source": [
    "filepath = r\"F:\\TMP\\exampledata_EDDYPRO-FLUXNET-CSV-30MIN_CH-AWS_2022.07_FR-20220127-164245_eddypro_fluxnet_2022-01-28T112538_adv.csv\"\n",
    "rft = ReadFileType(filetype='EDDYPRO-FLUXNET-CSV-30MIN',\n",
    "                   filepath=filepath)"
   ]
  },
  {
   "cell_type": "code",
   "execution_count": 3,
   "id": "fdd9e178-1b10-4411-a85c-3e44b70fa9cf",
   "metadata": {
    "ExecuteTime": {
     "end_time": "2023-04-17T22:03:18.364647Z",
     "start_time": "2023-04-17T22:03:18.339648Z"
    },
    "tags": []
   },
   "outputs": [],
   "source": [
    "df, meta = rft.get_filedata()"
   ]
  },
  {
   "cell_type": "markdown",
   "id": "f054bddb-ed48-47de-ac11-a53fc602e527",
   "metadata": {},
   "source": [
    "File data are now stored in a dataframe:"
   ]
  },
  {
   "cell_type": "code",
   "execution_count": 4,
   "id": "899e83bb-c81a-4a62-8dd4-0eb522a1c73a",
   "metadata": {},
   "outputs": [
    {
     "data": {
      "text/html": [
       "<div>\n",
       "<style scoped>\n",
       "    .dataframe tbody tr th:only-of-type {\n",
       "        vertical-align: middle;\n",
       "    }\n",
       "\n",
       "    .dataframe tbody tr th {\n",
       "        vertical-align: top;\n",
       "    }\n",
       "\n",
       "    .dataframe thead th {\n",
       "        text-align: right;\n",
       "    }\n",
       "</style>\n",
       "<table border=\"1\" class=\"dataframe\">\n",
       "  <thead>\n",
       "    <tr style=\"text-align: right;\">\n",
       "      <th></th>\n",
       "      <th>TIMESTAMP_START</th>\n",
       "      <th>DOY_START</th>\n",
       "      <th>DOY_END</th>\n",
       "      <th>FILENAME_HF</th>\n",
       "      <th>SW_IN_POT</th>\n",
       "      <th>NIGHT</th>\n",
       "      <th>...</th>\n",
       "      <th>LW_IN_1_1_1</th>\n",
       "      <th>PA_1_1_1</th>\n",
       "      <th>PPFD_IN_1_1_1</th>\n",
       "      <th>RH_1_1_1</th>\n",
       "      <th>SW_IN_1_1_1</th>\n",
       "      <th>TA_1_1_1</th>\n",
       "    </tr>\n",
       "    <tr>\n",
       "      <th>TIMESTAMP_MIDDLE</th>\n",
       "      <th></th>\n",
       "      <th></th>\n",
       "      <th></th>\n",
       "      <th></th>\n",
       "      <th></th>\n",
       "      <th></th>\n",
       "      <th></th>\n",
       "      <th></th>\n",
       "      <th></th>\n",
       "      <th></th>\n",
       "      <th></th>\n",
       "      <th></th>\n",
       "      <th></th>\n",
       "    </tr>\n",
       "  </thead>\n",
       "  <tbody>\n",
       "    <tr>\n",
       "      <th>2021-07-01 00:15:00</th>\n",
       "      <td>2.021070e+11</td>\n",
       "      <td>182.000</td>\n",
       "      <td>182.021</td>\n",
       "      <td>NaN</td>\n",
       "      <td>0.0</td>\n",
       "      <td>1.0</td>\n",
       "      <td>...</td>\n",
       "      <td>329.076</td>\n",
       "      <td>80.1982</td>\n",
       "      <td>0.0</td>\n",
       "      <td>100.0000</td>\n",
       "      <td>0.0</td>\n",
       "      <td>5.55880</td>\n",
       "    </tr>\n",
       "    <tr>\n",
       "      <th>2021-07-01 00:45:00</th>\n",
       "      <td>2.021070e+11</td>\n",
       "      <td>182.021</td>\n",
       "      <td>182.042</td>\n",
       "      <td>NaN</td>\n",
       "      <td>0.0</td>\n",
       "      <td>1.0</td>\n",
       "      <td>...</td>\n",
       "      <td>340.771</td>\n",
       "      <td>80.2033</td>\n",
       "      <td>0.0</td>\n",
       "      <td>100.0000</td>\n",
       "      <td>0.0</td>\n",
       "      <td>5.59079</td>\n",
       "    </tr>\n",
       "    <tr>\n",
       "      <th>2021-07-01 01:15:00</th>\n",
       "      <td>2.021070e+11</td>\n",
       "      <td>182.042</td>\n",
       "      <td>182.062</td>\n",
       "      <td>NaN</td>\n",
       "      <td>0.0</td>\n",
       "      <td>1.0</td>\n",
       "      <td>...</td>\n",
       "      <td>341.942</td>\n",
       "      <td>80.2106</td>\n",
       "      <td>0.0</td>\n",
       "      <td>99.8620</td>\n",
       "      <td>0.0</td>\n",
       "      <td>5.58350</td>\n",
       "    </tr>\n",
       "    <tr>\n",
       "      <th>2021-07-01 01:45:00</th>\n",
       "      <td>2.021070e+11</td>\n",
       "      <td>182.062</td>\n",
       "      <td>182.083</td>\n",
       "      <td>NaN</td>\n",
       "      <td>0.0</td>\n",
       "      <td>1.0</td>\n",
       "      <td>...</td>\n",
       "      <td>349.003</td>\n",
       "      <td>80.2064</td>\n",
       "      <td>0.0</td>\n",
       "      <td>99.3662</td>\n",
       "      <td>0.0</td>\n",
       "      <td>5.55140</td>\n",
       "    </tr>\n",
       "    <tr>\n",
       "      <th>2021-07-01 02:15:00</th>\n",
       "      <td>2.021070e+11</td>\n",
       "      <td>182.083</td>\n",
       "      <td>182.104</td>\n",
       "      <td>NaN</td>\n",
       "      <td>0.0</td>\n",
       "      <td>1.0</td>\n",
       "      <td>...</td>\n",
       "      <td>346.874</td>\n",
       "      <td>80.1922</td>\n",
       "      <td>0.0</td>\n",
       "      <td>99.9380</td>\n",
       "      <td>0.0</td>\n",
       "      <td>5.59066</td>\n",
       "    </tr>\n",
       "    <tr>\n",
       "      <th>...</th>\n",
       "      <td>...</td>\n",
       "      <td>...</td>\n",
       "      <td>...</td>\n",
       "      <td>...</td>\n",
       "      <td>...</td>\n",
       "      <td>...</td>\n",
       "      <td>...</td>\n",
       "      <td>...</td>\n",
       "      <td>...</td>\n",
       "      <td>...</td>\n",
       "      <td>...</td>\n",
       "      <td>...</td>\n",
       "      <td>...</td>\n",
       "    </tr>\n",
       "    <tr>\n",
       "      <th>2021-07-31 21:45:00</th>\n",
       "      <td>2.021073e+11</td>\n",
       "      <td>212.896</td>\n",
       "      <td>212.917</td>\n",
       "      <td>NaN</td>\n",
       "      <td>0.0</td>\n",
       "      <td>1.0</td>\n",
       "      <td>...</td>\n",
       "      <td>371.057</td>\n",
       "      <td>79.9554</td>\n",
       "      <td>0.0</td>\n",
       "      <td>100.0000</td>\n",
       "      <td>0.0</td>\n",
       "      <td>9.07418</td>\n",
       "    </tr>\n",
       "    <tr>\n",
       "      <th>2021-07-31 22:15:00</th>\n",
       "      <td>2.021073e+11</td>\n",
       "      <td>212.917</td>\n",
       "      <td>212.937</td>\n",
       "      <td>NaN</td>\n",
       "      <td>0.0</td>\n",
       "      <td>1.0</td>\n",
       "      <td>...</td>\n",
       "      <td>365.755</td>\n",
       "      <td>79.8740</td>\n",
       "      <td>0.0</td>\n",
       "      <td>100.0000</td>\n",
       "      <td>0.0</td>\n",
       "      <td>8.97548</td>\n",
       "    </tr>\n",
       "    <tr>\n",
       "      <th>2021-07-31 22:45:00</th>\n",
       "      <td>2.021073e+11</td>\n",
       "      <td>212.937</td>\n",
       "      <td>212.958</td>\n",
       "      <td>NaN</td>\n",
       "      <td>0.0</td>\n",
       "      <td>1.0</td>\n",
       "      <td>...</td>\n",
       "      <td>367.545</td>\n",
       "      <td>79.8706</td>\n",
       "      <td>0.0</td>\n",
       "      <td>100.0000</td>\n",
       "      <td>0.0</td>\n",
       "      <td>8.96451</td>\n",
       "    </tr>\n",
       "    <tr>\n",
       "      <th>2021-07-31 23:15:00</th>\n",
       "      <td>2.021073e+11</td>\n",
       "      <td>212.958</td>\n",
       "      <td>212.979</td>\n",
       "      <td>NaN</td>\n",
       "      <td>0.0</td>\n",
       "      <td>1.0</td>\n",
       "      <td>...</td>\n",
       "      <td>361.953</td>\n",
       "      <td>79.8445</td>\n",
       "      <td>0.0</td>\n",
       "      <td>99.9942</td>\n",
       "      <td>0.0</td>\n",
       "      <td>9.05935</td>\n",
       "    </tr>\n",
       "    <tr>\n",
       "      <th>2021-07-31 23:45:00</th>\n",
       "      <td>2.021073e+11</td>\n",
       "      <td>212.979</td>\n",
       "      <td>213.000</td>\n",
       "      <td>NaN</td>\n",
       "      <td>0.0</td>\n",
       "      <td>1.0</td>\n",
       "      <td>...</td>\n",
       "      <td>355.789</td>\n",
       "      <td>79.8196</td>\n",
       "      <td>0.0</td>\n",
       "      <td>91.8199</td>\n",
       "      <td>0.0</td>\n",
       "      <td>9.17109</td>\n",
       "    </tr>\n",
       "  </tbody>\n",
       "</table>\n",
       "<p>1488 rows × 488 columns</p>\n",
       "</div>"
      ],
      "text/plain": [
       "                     TIMESTAMP_START  DOY_START  DOY_END  FILENAME_HF  SW_IN_POT  NIGHT  ...  LW_IN_1_1_1  PA_1_1_1  PPFD_IN_1_1_1  RH_1_1_1  SW_IN_1_1_1  TA_1_1_1\n",
       "TIMESTAMP_MIDDLE                                                                         ...                                                                       \n",
       "2021-07-01 00:15:00     2.021070e+11    182.000  182.021          NaN        0.0    1.0  ...      329.076   80.1982            0.0  100.0000          0.0   5.55880\n",
       "2021-07-01 00:45:00     2.021070e+11    182.021  182.042          NaN        0.0    1.0  ...      340.771   80.2033            0.0  100.0000          0.0   5.59079\n",
       "2021-07-01 01:15:00     2.021070e+11    182.042  182.062          NaN        0.0    1.0  ...      341.942   80.2106            0.0   99.8620          0.0   5.58350\n",
       "2021-07-01 01:45:00     2.021070e+11    182.062  182.083          NaN        0.0    1.0  ...      349.003   80.2064            0.0   99.3662          0.0   5.55140\n",
       "2021-07-01 02:15:00     2.021070e+11    182.083  182.104          NaN        0.0    1.0  ...      346.874   80.1922            0.0   99.9380          0.0   5.59066\n",
       "...                              ...        ...      ...          ...        ...    ...  ...          ...       ...            ...       ...          ...       ...\n",
       "2021-07-31 21:45:00     2.021073e+11    212.896  212.917          NaN        0.0    1.0  ...      371.057   79.9554            0.0  100.0000          0.0   9.07418\n",
       "2021-07-31 22:15:00     2.021073e+11    212.917  212.937          NaN        0.0    1.0  ...      365.755   79.8740            0.0  100.0000          0.0   8.97548\n",
       "2021-07-31 22:45:00     2.021073e+11    212.937  212.958          NaN        0.0    1.0  ...      367.545   79.8706            0.0  100.0000          0.0   8.96451\n",
       "2021-07-31 23:15:00     2.021073e+11    212.958  212.979          NaN        0.0    1.0  ...      361.953   79.8445            0.0   99.9942          0.0   9.05935\n",
       "2021-07-31 23:45:00     2.021073e+11    212.979  213.000          NaN        0.0    1.0  ...      355.789   79.8196            0.0   91.8199          0.0   9.17109\n",
       "\n",
       "[1488 rows x 488 columns]"
      ]
     },
     "execution_count": 4,
     "metadata": {},
     "output_type": "execute_result"
    }
   ],
   "source": [
    "df"
   ]
  },
  {
   "cell_type": "markdown",
   "id": "d99a227d-77d9-4e16-8857-48bc8490f7a0",
   "metadata": {},
   "source": [
    "Metadata are also stored, which inlcudes units (if available in the data files) and tags (for later processing). In this example, the column `TIMESTAMP_END` was used to parse the timestamp index, and was thus removed from the data columns to avoid having identical names for index and data column. However, the original data column still shows up in the metadata."
   ]
  },
  {
   "cell_type": "code",
   "execution_count": 5,
   "id": "09aad33d-e1e3-4c3d-9d57-c73197805eea",
   "metadata": {},
   "outputs": [
    {
     "data": {
      "text/html": [
       "<div>\n",
       "<style scoped>\n",
       "    .dataframe tbody tr th:only-of-type {\n",
       "        vertical-align: middle;\n",
       "    }\n",
       "\n",
       "    .dataframe tbody tr th {\n",
       "        vertical-align: top;\n",
       "    }\n",
       "\n",
       "    .dataframe thead th {\n",
       "        text-align: right;\n",
       "    }\n",
       "</style>\n",
       "<table border=\"1\" class=\"dataframe\">\n",
       "  <thead>\n",
       "    <tr style=\"text-align: right;\">\n",
       "      <th></th>\n",
       "      <th>UNITS</th>\n",
       "      <th>TAGS</th>\n",
       "      <th>ADDED</th>\n",
       "      <th>VARINDEX</th>\n",
       "    </tr>\n",
       "  </thead>\n",
       "  <tbody>\n",
       "    <tr>\n",
       "      <th>TIMESTAMP_START</th>\n",
       "      <td>-no-units-</td>\n",
       "      <td>[#orig]</td>\n",
       "      <td>2024-04-20 15:36:27.145739</td>\n",
       "      <td>0</td>\n",
       "    </tr>\n",
       "    <tr>\n",
       "      <th>TIMESTAMP_END</th>\n",
       "      <td>NaN</td>\n",
       "      <td>NaN</td>\n",
       "      <td>NaN</td>\n",
       "      <td>NaN</td>\n",
       "    </tr>\n",
       "    <tr>\n",
       "      <th>DOY_START</th>\n",
       "      <td>-no-units-</td>\n",
       "      <td>[#orig]</td>\n",
       "      <td>2024-04-20 15:36:27.145739</td>\n",
       "      <td>1</td>\n",
       "    </tr>\n",
       "    <tr>\n",
       "      <th>DOY_END</th>\n",
       "      <td>-no-units-</td>\n",
       "      <td>[#orig]</td>\n",
       "      <td>2024-04-20 15:36:27.145739</td>\n",
       "      <td>2</td>\n",
       "    </tr>\n",
       "    <tr>\n",
       "      <th>FILENAME_HF</th>\n",
       "      <td>-no-units-</td>\n",
       "      <td>[#orig]</td>\n",
       "      <td>2024-04-20 15:36:27.145739</td>\n",
       "      <td>3</td>\n",
       "    </tr>\n",
       "    <tr>\n",
       "      <th>...</th>\n",
       "      <td>...</td>\n",
       "      <td>...</td>\n",
       "      <td>...</td>\n",
       "      <td>...</td>\n",
       "    </tr>\n",
       "    <tr>\n",
       "      <th>PA_1_1_1</th>\n",
       "      <td>-no-units-</td>\n",
       "      <td>[#orig]</td>\n",
       "      <td>2024-04-20 15:36:27.145739</td>\n",
       "      <td>483</td>\n",
       "    </tr>\n",
       "    <tr>\n",
       "      <th>PPFD_IN_1_1_1</th>\n",
       "      <td>-no-units-</td>\n",
       "      <td>[#orig]</td>\n",
       "      <td>2024-04-20 15:36:27.145739</td>\n",
       "      <td>484</td>\n",
       "    </tr>\n",
       "    <tr>\n",
       "      <th>RH_1_1_1</th>\n",
       "      <td>-no-units-</td>\n",
       "      <td>[#orig]</td>\n",
       "      <td>2024-04-20 15:36:27.145739</td>\n",
       "      <td>485</td>\n",
       "    </tr>\n",
       "    <tr>\n",
       "      <th>SW_IN_1_1_1</th>\n",
       "      <td>-no-units-</td>\n",
       "      <td>[#orig]</td>\n",
       "      <td>2024-04-20 15:36:27.145739</td>\n",
       "      <td>486</td>\n",
       "    </tr>\n",
       "    <tr>\n",
       "      <th>TA_1_1_1</th>\n",
       "      <td>-no-units-</td>\n",
       "      <td>[#orig]</td>\n",
       "      <td>2024-04-20 15:36:27.145739</td>\n",
       "      <td>487</td>\n",
       "    </tr>\n",
       "  </tbody>\n",
       "</table>\n",
       "<p>489 rows × 4 columns</p>\n",
       "</div>"
      ],
      "text/plain": [
       "                      UNITS     TAGS                       ADDED VARINDEX\n",
       "TIMESTAMP_START  -no-units-  [#orig]  2024-04-20 15:36:27.145739        0\n",
       "TIMESTAMP_END           NaN      NaN                         NaN      NaN\n",
       "DOY_START        -no-units-  [#orig]  2024-04-20 15:36:27.145739        1\n",
       "DOY_END          -no-units-  [#orig]  2024-04-20 15:36:27.145739        2\n",
       "FILENAME_HF      -no-units-  [#orig]  2024-04-20 15:36:27.145739        3\n",
       "...                     ...      ...                         ...      ...\n",
       "PA_1_1_1         -no-units-  [#orig]  2024-04-20 15:36:27.145739      483\n",
       "PPFD_IN_1_1_1    -no-units-  [#orig]  2024-04-20 15:36:27.145739      484\n",
       "RH_1_1_1         -no-units-  [#orig]  2024-04-20 15:36:27.145739      485\n",
       "SW_IN_1_1_1      -no-units-  [#orig]  2024-04-20 15:36:27.145739      486\n",
       "TA_1_1_1         -no-units-  [#orig]  2024-04-20 15:36:27.145739      487\n",
       "\n",
       "[489 rows x 4 columns]"
      ]
     },
     "execution_count": 5,
     "metadata": {},
     "output_type": "execute_result"
    }
   ],
   "source": [
    "meta"
   ]
  },
  {
   "cell_type": "markdown",
   "id": "f0db4988-fac6-4260-8902-a736c4dba3d8",
   "metadata": {
    "tags": []
   },
   "source": [
    "# End of notebook"
   ]
  },
  {
   "cell_type": "code",
   "execution_count": 6,
   "id": "3f784457-e244-421b-b789-08481c2d9f9f",
   "metadata": {
    "tags": []
   },
   "outputs": [
    {
     "name": "stdout",
     "output_type": "stream",
     "text": [
      "Finished 2024-04-20 15:36:27\n"
     ]
    }
   ],
   "source": [
    "dt_string = datetime.now().strftime(\"%Y-%m-%d %H:%M:%S\")\n",
    "print(f\"Finished {dt_string}\")"
   ]
  },
  {
   "cell_type": "code",
   "execution_count": null,
   "id": "bc2102ba-6335-48be-83dc-6f753baefa2e",
   "metadata": {},
   "outputs": [],
   "source": []
  }
 ],
 "metadata": {
  "kernelspec": {
   "display_name": "Python 3 (ipykernel)",
   "language": "python",
   "name": "python3"
  },
  "language_info": {
   "codemirror_mode": {
    "name": "ipython",
    "version": 3
   },
   "file_extension": ".py",
   "mimetype": "text/x-python",
   "name": "python",
   "nbconvert_exporter": "python",
   "pygments_lexer": "ipython3",
   "version": "3.9.7"
  }
 },
 "nbformat": 4,
 "nbformat_minor": 5
}
