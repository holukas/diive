{
 "cells": [
  {
   "cell_type": "markdown",
   "id": "124c47aa-5027-4c5b-9a5c-8a7451597b5f",
   "metadata": {},
   "source": [
    "![lop](../../images/logo_diive1_128px.png)"
   ]
  },
  {
   "cell_type": "markdown",
   "id": "3d27e594-5b95-4385-9487-67e42d1cbb23",
   "metadata": {},
   "source": [
    "<span style='font-size:32px; display:block;'>\n",
    "<b>\n",
    "    Read multiple EddyPro _fluxnet_ output file with MultiDataFileReader\n",
    "</b>\n",
    "</span>"
   ]
  },
  {
   "cell_type": "markdown",
   "id": "c268d0a9-7ebe-48fb-bdf4-ef9e9d7432d4",
   "metadata": {},
   "source": [
    "---\n",
    "**Notebook version**: `1` (20 Apr 2024)  \n",
    "**Author**: Lukas Hörtnagl (holukas@ethz.ch) "
   ]
  },
  {
   "cell_type": "markdown",
   "id": "1d10a9ef-0cee-4d5d-b402-4254299e2ed0",
   "metadata": {},
   "source": [
    "</br>"
   ]
  },
  {
   "cell_type": "markdown",
   "id": "47c5e2f4-382d-4911-b4a9-b1b211cb3a2d",
   "metadata": {},
   "source": [
    "# Description"
   ]
  },
  {
   "cell_type": "markdown",
   "id": "ed5d6781-659f-4796-8f5f-9255110fa554",
   "metadata": {},
   "source": [
    "This example shows how to read multiple `EddyPro` `_fluxnet_` output files with `MultiDataFileReader` and the pre-defined filetype `EDDYPRO-FLUXNET-CSV-30MIN`."
   ]
  },
  {
   "cell_type": "markdown",
   "id": "eb329cd8-8eab-4147-8e1a-880316d27b82",
   "metadata": {},
   "source": [
    "# Imports"
   ]
  },
  {
   "cell_type": "code",
   "execution_count": 1,
   "id": "bfca8be1-b5cd-4312-ad6e-6056c0df9082",
   "metadata": {
    "ExecuteTime": {
     "end_time": "2023-04-23T13:13:22.306270Z",
     "start_time": "2023-04-23T13:13:20.453340Z"
    },
    "tags": []
   },
   "outputs": [
    {
     "name": "stdout",
     "output_type": "stream",
     "text": [
      "diive version: v0.74.0\n"
     ]
    }
   ],
   "source": [
    "import importlib.metadata\n",
    "from datetime import datetime\n",
    "from diive.core.io.filereader import MultiDataFileReader, search_files\n",
    "version_diive = importlib.metadata.version(\"diive\")\n",
    "print(f\"diive version: v{version_diive}\")"
   ]
  },
  {
   "cell_type": "markdown",
   "id": "8da30681-5095-459b-9578-744ea785bb4a",
   "metadata": {},
   "source": [
    "## Using `MultiDataFileReader` with pre-defined filetype `EDDYPRO-FLUXNET-CSV-30MIN`"
   ]
  },
  {
   "cell_type": "code",
   "execution_count": 2,
   "id": "6b0a881f-a277-4bbb-8271-f688940c1de1",
   "metadata": {
    "ExecuteTime": {
     "end_time": "2023-04-17T22:02:36.327054Z",
     "start_time": "2023-04-17T22:02:36.010053Z"
    },
    "tags": []
   },
   "outputs": [
    {
     "data": {
      "text/plain": [
       "[WindowsPath('F:/TMP/exampledata_EDDYPRO-FLUXNET-CSV-30MIN_2012_eddypro_CH-FRU_FR-20230425-220357_fluxnet_2023-04-26T201227_adv.csv'),\n",
       " WindowsPath('F:/TMP/exampledata_EDDYPRO-FLUXNET-CSV-30MIN_2017_eddypro_CH-FRU_FR-20230425-205849_fluxnet_2023-04-26T204736_adv.csv'),\n",
       " WindowsPath('F:/TMP/exampledata_EDDYPRO-FLUXNET-CSV-30MIN_2023_eddypro_CH-FRU_FR-20240228-000000_fluxnet_MERGED_adv.csv')]"
      ]
     },
     "execution_count": 2,
     "metadata": {},
     "output_type": "execute_result"
    }
   ],
   "source": [
    "filepaths = search_files(\n",
    "    searchdirs=r\"F:\\TMP\",\n",
    "    pattern='exampledata_EDDYPRO-FLUXNET-CSV-30MIN_*_eddypro_CH-FRU_FR-*_fluxnet_*_adv.csv')\n",
    "filepaths"
   ]
  },
  {
   "cell_type": "code",
   "execution_count": 3,
   "id": "7267df2b-fd54-4bd1-8595-108fc086d958",
   "metadata": {},
   "outputs": [
    {
     "name": "stdout",
     "output_type": "stream",
     "text": [
      "Reading file exampledata_EDDYPRO-FLUXNET-CSV-30MIN_2012_eddypro_CH-FRU_FR-20230425-220357_fluxnet_2023-04-26T201227_adv.csv ...\n",
      "Reading file exampledata_EDDYPRO-FLUXNET-CSV-30MIN_2017_eddypro_CH-FRU_FR-20230425-205849_fluxnet_2023-04-26T204736_adv.csv ...\n",
      "Reading file exampledata_EDDYPRO-FLUXNET-CSV-30MIN_2023_eddypro_CH-FRU_FR-20240228-000000_fluxnet_MERGED_adv.csv ...\n"
     ]
    }
   ],
   "source": [
    "mdf = MultiDataFileReader(filetype='EDDYPRO-FLUXNET-CSV-30MIN',\n",
    "                          filepaths=filepaths,\n",
    "                          output_middle_timestamp=True)"
   ]
  },
  {
   "cell_type": "code",
   "execution_count": 4,
   "id": "fdd9e178-1b10-4411-a85c-3e44b70fa9cf",
   "metadata": {
    "ExecuteTime": {
     "end_time": "2023-04-17T22:03:18.364647Z",
     "start_time": "2023-04-17T22:03:18.339648Z"
    },
    "tags": []
   },
   "outputs": [],
   "source": [
    "df = mdf.data_df\n",
    "meta = mdf.metadata_df"
   ]
  },
  {
   "cell_type": "markdown",
   "id": "f054bddb-ed48-47de-ac11-a53fc602e527",
   "metadata": {},
   "source": [
    "File data are now stored in a dataframe:"
   ]
  },
  {
   "cell_type": "code",
   "execution_count": 5,
   "id": "899e83bb-c81a-4a62-8dd4-0eb522a1c73a",
   "metadata": {},
   "outputs": [
    {
     "data": {
      "text/html": [
       "<div>\n",
       "<style scoped>\n",
       "    .dataframe tbody tr th:only-of-type {\n",
       "        vertical-align: middle;\n",
       "    }\n",
       "\n",
       "    .dataframe tbody tr th {\n",
       "        vertical-align: top;\n",
       "    }\n",
       "\n",
       "    .dataframe thead th {\n",
       "        text-align: right;\n",
       "    }\n",
       "</style>\n",
       "<table border=\"1\" class=\"dataframe\">\n",
       "  <thead>\n",
       "    <tr style=\"text-align: right;\">\n",
       "      <th></th>\n",
       "      <th>AIR_CP</th>\n",
       "      <th>AIR_DENSITY</th>\n",
       "      <th>AIR_MV</th>\n",
       "      <th>AIR_RHO_CP</th>\n",
       "      <th>AOA_METHOD</th>\n",
       "      <th>AXES_ROTATION_METHOD</th>\n",
       "      <th>...</th>\n",
       "      <th>W_UNROT</th>\n",
       "      <th>W_U_COV</th>\n",
       "      <th>W_VM97_TEST</th>\n",
       "      <th>W_ZCD</th>\n",
       "      <th>ZL</th>\n",
       "      <th>ZL_UNCORR</th>\n",
       "    </tr>\n",
       "    <tr>\n",
       "      <th>TIMESTAMP_MIDDLE</th>\n",
       "      <th></th>\n",
       "      <th></th>\n",
       "      <th></th>\n",
       "      <th></th>\n",
       "      <th></th>\n",
       "      <th></th>\n",
       "      <th></th>\n",
       "      <th></th>\n",
       "      <th></th>\n",
       "      <th></th>\n",
       "      <th></th>\n",
       "      <th></th>\n",
       "      <th></th>\n",
       "    </tr>\n",
       "  </thead>\n",
       "  <tbody>\n",
       "    <tr>\n",
       "      <th>2012-06-09 15:15:00</th>\n",
       "      <td>1013.41</td>\n",
       "      <td>1.07487</td>\n",
       "      <td>0.026798</td>\n",
       "      <td>1089.28</td>\n",
       "      <td>0.0</td>\n",
       "      <td>1.0</td>\n",
       "      <td>...</td>\n",
       "      <td>0.112922</td>\n",
       "      <td>-0.014118</td>\n",
       "      <td>800000000.0</td>\n",
       "      <td>150.0</td>\n",
       "      <td>-0.753455</td>\n",
       "      <td>-0.842447</td>\n",
       "    </tr>\n",
       "    <tr>\n",
       "      <th>2012-06-09 15:45:00</th>\n",
       "      <td>1013.27</td>\n",
       "      <td>1.07389</td>\n",
       "      <td>0.026825</td>\n",
       "      <td>1088.14</td>\n",
       "      <td>0.0</td>\n",
       "      <td>1.0</td>\n",
       "      <td>...</td>\n",
       "      <td>0.112324</td>\n",
       "      <td>-0.064722</td>\n",
       "      <td>800000000.0</td>\n",
       "      <td>137.0</td>\n",
       "      <td>-0.066547</td>\n",
       "      <td>-0.077006</td>\n",
       "    </tr>\n",
       "    <tr>\n",
       "      <th>2012-06-09 16:15:00</th>\n",
       "      <td>1013.30</td>\n",
       "      <td>1.07522</td>\n",
       "      <td>0.026791</td>\n",
       "      <td>1089.52</td>\n",
       "      <td>0.0</td>\n",
       "      <td>1.0</td>\n",
       "      <td>...</td>\n",
       "      <td>0.090474</td>\n",
       "      <td>-0.002360</td>\n",
       "      <td>800000011.0</td>\n",
       "      <td>285.0</td>\n",
       "      <td>-0.429695</td>\n",
       "      <td>-0.508303</td>\n",
       "    </tr>\n",
       "    <tr>\n",
       "      <th>2012-06-09 16:45:00</th>\n",
       "      <td>1013.49</td>\n",
       "      <td>1.07534</td>\n",
       "      <td>0.026785</td>\n",
       "      <td>1089.85</td>\n",
       "      <td>0.0</td>\n",
       "      <td>1.0</td>\n",
       "      <td>...</td>\n",
       "      <td>0.110797</td>\n",
       "      <td>-0.023453</td>\n",
       "      <td>800000001.0</td>\n",
       "      <td>176.0</td>\n",
       "      <td>-0.153375</td>\n",
       "      <td>-0.185723</td>\n",
       "    </tr>\n",
       "    <tr>\n",
       "      <th>2012-06-09 17:15:00</th>\n",
       "      <td>1013.32</td>\n",
       "      <td>1.07684</td>\n",
       "      <td>0.026750</td>\n",
       "      <td>1091.18</td>\n",
       "      <td>0.0</td>\n",
       "      <td>1.0</td>\n",
       "      <td>...</td>\n",
       "      <td>0.049785</td>\n",
       "      <td>-0.006899</td>\n",
       "      <td>800000011.0</td>\n",
       "      <td>498.0</td>\n",
       "      <td>-0.220908</td>\n",
       "      <td>-0.326494</td>\n",
       "    </tr>\n",
       "    <tr>\n",
       "      <th>...</th>\n",
       "      <td>...</td>\n",
       "      <td>...</td>\n",
       "      <td>...</td>\n",
       "      <td>...</td>\n",
       "      <td>...</td>\n",
       "      <td>...</td>\n",
       "      <td>...</td>\n",
       "      <td>...</td>\n",
       "      <td>...</td>\n",
       "      <td>...</td>\n",
       "      <td>...</td>\n",
       "      <td>...</td>\n",
       "      <td>...</td>\n",
       "    </tr>\n",
       "    <tr>\n",
       "      <th>2023-03-12 22:15:00</th>\n",
       "      <td>1009.32</td>\n",
       "      <td>1.13616</td>\n",
       "      <td>0.025420</td>\n",
       "      <td>1146.75</td>\n",
       "      <td>0.0</td>\n",
       "      <td>1.0</td>\n",
       "      <td>...</td>\n",
       "      <td>0.139127</td>\n",
       "      <td>0.001395</td>\n",
       "      <td>800000011.0</td>\n",
       "      <td>1011.0</td>\n",
       "      <td>0.463655</td>\n",
       "      <td>0.463855</td>\n",
       "    </tr>\n",
       "    <tr>\n",
       "      <th>2023-03-12 22:45:00</th>\n",
       "      <td>1009.58</td>\n",
       "      <td>1.13248</td>\n",
       "      <td>0.025499</td>\n",
       "      <td>1143.33</td>\n",
       "      <td>0.0</td>\n",
       "      <td>1.0</td>\n",
       "      <td>...</td>\n",
       "      <td>0.026532</td>\n",
       "      <td>0.010875</td>\n",
       "      <td>800000111.0</td>\n",
       "      <td>2154.0</td>\n",
       "      <td>0.155408</td>\n",
       "      <td>0.158613</td>\n",
       "    </tr>\n",
       "    <tr>\n",
       "      <th>2023-03-12 23:15:00</th>\n",
       "      <td>1009.67</td>\n",
       "      <td>1.13074</td>\n",
       "      <td>0.025536</td>\n",
       "      <td>1141.67</td>\n",
       "      <td>0.0</td>\n",
       "      <td>1.0</td>\n",
       "      <td>...</td>\n",
       "      <td>0.072610</td>\n",
       "      <td>0.007517</td>\n",
       "      <td>800000011.0</td>\n",
       "      <td>162.0</td>\n",
       "      <td>0.923105</td>\n",
       "      <td>0.924592</td>\n",
       "    </tr>\n",
       "    <tr>\n",
       "      <th>2023-03-12 23:45:00</th>\n",
       "      <td>1009.67</td>\n",
       "      <td>1.13126</td>\n",
       "      <td>0.025524</td>\n",
       "      <td>1142.20</td>\n",
       "      <td>0.0</td>\n",
       "      <td>1.0</td>\n",
       "      <td>...</td>\n",
       "      <td>0.092471</td>\n",
       "      <td>0.004783</td>\n",
       "      <td>800000011.0</td>\n",
       "      <td>202.0</td>\n",
       "      <td>-0.161244</td>\n",
       "      <td>-0.166680</td>\n",
       "    </tr>\n",
       "    <tr>\n",
       "      <th>2023-03-13 00:15:00</th>\n",
       "      <td>1009.58</td>\n",
       "      <td>1.12932</td>\n",
       "      <td>0.025570</td>\n",
       "      <td>1140.14</td>\n",
       "      <td>0.0</td>\n",
       "      <td>1.0</td>\n",
       "      <td>...</td>\n",
       "      <td>0.063619</td>\n",
       "      <td>0.005908</td>\n",
       "      <td>800000011.0</td>\n",
       "      <td>1160.0</td>\n",
       "      <td>0.094445</td>\n",
       "      <td>0.089249</td>\n",
       "    </tr>\n",
       "  </tbody>\n",
       "</table>\n",
       "<p>188563 rows × 487 columns</p>\n",
       "</div>"
      ],
      "text/plain": [
       "                      AIR_CP  AIR_DENSITY    AIR_MV  AIR_RHO_CP  AOA_METHOD  AXES_ROTATION_METHOD  ...   W_UNROT   W_U_COV  W_VM97_TEST   W_ZCD        ZL  ZL_UNCORR\n",
       "TIMESTAMP_MIDDLE                                                                                   ...                                                              \n",
       "2012-06-09 15:15:00  1013.41      1.07487  0.026798     1089.28         0.0                   1.0  ...  0.112922 -0.014118  800000000.0   150.0 -0.753455  -0.842447\n",
       "2012-06-09 15:45:00  1013.27      1.07389  0.026825     1088.14         0.0                   1.0  ...  0.112324 -0.064722  800000000.0   137.0 -0.066547  -0.077006\n",
       "2012-06-09 16:15:00  1013.30      1.07522  0.026791     1089.52         0.0                   1.0  ...  0.090474 -0.002360  800000011.0   285.0 -0.429695  -0.508303\n",
       "2012-06-09 16:45:00  1013.49      1.07534  0.026785     1089.85         0.0                   1.0  ...  0.110797 -0.023453  800000001.0   176.0 -0.153375  -0.185723\n",
       "2012-06-09 17:15:00  1013.32      1.07684  0.026750     1091.18         0.0                   1.0  ...  0.049785 -0.006899  800000011.0   498.0 -0.220908  -0.326494\n",
       "...                      ...          ...       ...         ...         ...                   ...  ...       ...       ...          ...     ...       ...        ...\n",
       "2023-03-12 22:15:00  1009.32      1.13616  0.025420     1146.75         0.0                   1.0  ...  0.139127  0.001395  800000011.0  1011.0  0.463655   0.463855\n",
       "2023-03-12 22:45:00  1009.58      1.13248  0.025499     1143.33         0.0                   1.0  ...  0.026532  0.010875  800000111.0  2154.0  0.155408   0.158613\n",
       "2023-03-12 23:15:00  1009.67      1.13074  0.025536     1141.67         0.0                   1.0  ...  0.072610  0.007517  800000011.0   162.0  0.923105   0.924592\n",
       "2023-03-12 23:45:00  1009.67      1.13126  0.025524     1142.20         0.0                   1.0  ...  0.092471  0.004783  800000011.0   202.0 -0.161244  -0.166680\n",
       "2023-03-13 00:15:00  1009.58      1.12932  0.025570     1140.14         0.0                   1.0  ...  0.063619  0.005908  800000011.0  1160.0  0.094445   0.089249\n",
       "\n",
       "[188563 rows x 487 columns]"
      ]
     },
     "execution_count": 5,
     "metadata": {},
     "output_type": "execute_result"
    }
   ],
   "source": [
    "df"
   ]
  },
  {
   "cell_type": "markdown",
   "id": "d99a227d-77d9-4e16-8857-48bc8490f7a0",
   "metadata": {},
   "source": [
    "Metadata are also stored, which inlcudes units (if available in the data files) and tags (for later processing). In this example, the column `TIMESTAMP_END` was used to parse the timestamp index, and was thus removed from the data columns to avoid having identical names for index and data column. However, the original data column still shows up in the metadata."
   ]
  },
  {
   "cell_type": "code",
   "execution_count": 6,
   "id": "09aad33d-e1e3-4c3d-9d57-c73197805eea",
   "metadata": {},
   "outputs": [
    {
     "data": {
      "text/html": [
       "<div>\n",
       "<style scoped>\n",
       "    .dataframe tbody tr th:only-of-type {\n",
       "        vertical-align: middle;\n",
       "    }\n",
       "\n",
       "    .dataframe tbody tr th {\n",
       "        vertical-align: top;\n",
       "    }\n",
       "\n",
       "    .dataframe thead th {\n",
       "        text-align: right;\n",
       "    }\n",
       "</style>\n",
       "<table border=\"1\" class=\"dataframe\">\n",
       "  <thead>\n",
       "    <tr style=\"text-align: right;\">\n",
       "      <th></th>\n",
       "      <th>UNITS</th>\n",
       "      <th>TAGS</th>\n",
       "      <th>ADDED</th>\n",
       "      <th>VARINDEX</th>\n",
       "    </tr>\n",
       "  </thead>\n",
       "  <tbody>\n",
       "    <tr>\n",
       "      <th>AIR_CP</th>\n",
       "      <td>-no-units-</td>\n",
       "      <td>[#orig]</td>\n",
       "      <td>2024-04-20 15:56:46.284821</td>\n",
       "      <td>72</td>\n",
       "    </tr>\n",
       "    <tr>\n",
       "      <th>AIR_DENSITY</th>\n",
       "      <td>-no-units-</td>\n",
       "      <td>[#orig]</td>\n",
       "      <td>2024-04-20 15:56:46.284821</td>\n",
       "      <td>70</td>\n",
       "    </tr>\n",
       "    <tr>\n",
       "      <th>AIR_MV</th>\n",
       "      <td>-no-units-</td>\n",
       "      <td>[#orig]</td>\n",
       "      <td>2024-04-20 15:56:46.284821</td>\n",
       "      <td>69</td>\n",
       "    </tr>\n",
       "    <tr>\n",
       "      <th>AIR_RHO_CP</th>\n",
       "      <td>-no-units-</td>\n",
       "      <td>[#orig]</td>\n",
       "      <td>2024-04-20 15:56:46.284821</td>\n",
       "      <td>71</td>\n",
       "    </tr>\n",
       "    <tr>\n",
       "      <th>AOA_METHOD</th>\n",
       "      <td>-no-units-</td>\n",
       "      <td>[#orig]</td>\n",
       "      <td>2024-04-20 15:56:46.284821</td>\n",
       "      <td>392</td>\n",
       "    </tr>\n",
       "    <tr>\n",
       "      <th>...</th>\n",
       "      <td>...</td>\n",
       "      <td>...</td>\n",
       "      <td>...</td>\n",
       "      <td>...</td>\n",
       "    </tr>\n",
       "    <tr>\n",
       "      <th>W_U_COV</th>\n",
       "      <td>-no-units-</td>\n",
       "      <td>[#orig]</td>\n",
       "      <td>2024-04-20 15:56:46.284821</td>\n",
       "      <td>168</td>\n",
       "    </tr>\n",
       "    <tr>\n",
       "      <th>W_VM97_TEST</th>\n",
       "      <td>-no-units-</td>\n",
       "      <td>[#orig]</td>\n",
       "      <td>2024-04-20 15:56:46.284821</td>\n",
       "      <td>285</td>\n",
       "    </tr>\n",
       "    <tr>\n",
       "      <th>W_ZCD</th>\n",
       "      <td>-no-units-</td>\n",
       "      <td>[#orig]</td>\n",
       "      <td>2024-04-20 15:56:46.284821</td>\n",
       "      <td>313</td>\n",
       "    </tr>\n",
       "    <tr>\n",
       "      <th>ZL</th>\n",
       "      <td>-no-units-</td>\n",
       "      <td>[#orig]</td>\n",
       "      <td>2024-04-20 15:56:46.284821</td>\n",
       "      <td>62</td>\n",
       "    </tr>\n",
       "    <tr>\n",
       "      <th>ZL_UNCORR</th>\n",
       "      <td>-no-units-</td>\n",
       "      <td>[#orig]</td>\n",
       "      <td>2024-04-20 15:56:46.284821</td>\n",
       "      <td>190</td>\n",
       "    </tr>\n",
       "  </tbody>\n",
       "</table>\n",
       "<p>488 rows × 4 columns</p>\n",
       "</div>"
      ],
      "text/plain": [
       "                  UNITS     TAGS                       ADDED VARINDEX\n",
       "AIR_CP       -no-units-  [#orig]  2024-04-20 15:56:46.284821       72\n",
       "AIR_DENSITY  -no-units-  [#orig]  2024-04-20 15:56:46.284821       70\n",
       "AIR_MV       -no-units-  [#orig]  2024-04-20 15:56:46.284821       69\n",
       "AIR_RHO_CP   -no-units-  [#orig]  2024-04-20 15:56:46.284821       71\n",
       "AOA_METHOD   -no-units-  [#orig]  2024-04-20 15:56:46.284821      392\n",
       "...                 ...      ...                         ...      ...\n",
       "W_U_COV      -no-units-  [#orig]  2024-04-20 15:56:46.284821      168\n",
       "W_VM97_TEST  -no-units-  [#orig]  2024-04-20 15:56:46.284821      285\n",
       "W_ZCD        -no-units-  [#orig]  2024-04-20 15:56:46.284821      313\n",
       "ZL           -no-units-  [#orig]  2024-04-20 15:56:46.284821       62\n",
       "ZL_UNCORR    -no-units-  [#orig]  2024-04-20 15:56:46.284821      190\n",
       "\n",
       "[488 rows x 4 columns]"
      ]
     },
     "execution_count": 6,
     "metadata": {},
     "output_type": "execute_result"
    }
   ],
   "source": [
    "meta"
   ]
  },
  {
   "cell_type": "markdown",
   "id": "f0db4988-fac6-4260-8902-a736c4dba3d8",
   "metadata": {
    "tags": []
   },
   "source": [
    "# End of notebook"
   ]
  },
  {
   "cell_type": "code",
   "execution_count": 7,
   "id": "3f784457-e244-421b-b789-08481c2d9f9f",
   "metadata": {
    "tags": []
   },
   "outputs": [
    {
     "name": "stdout",
     "output_type": "stream",
     "text": [
      "Finished 2024-04-20 15:56:48\n"
     ]
    }
   ],
   "source": [
    "dt_string = datetime.now().strftime(\"%Y-%m-%d %H:%M:%S\")\n",
    "print(f\"Finished {dt_string}\")"
   ]
  },
  {
   "cell_type": "code",
   "execution_count": null,
   "id": "bc2102ba-6335-48be-83dc-6f753baefa2e",
   "metadata": {},
   "outputs": [],
   "source": []
  }
 ],
 "metadata": {
  "kernelspec": {
   "display_name": "Python 3 (ipykernel)",
   "language": "python",
   "name": "python3"
  },
  "language_info": {
   "codemirror_mode": {
    "name": "ipython",
    "version": 3
   },
   "file_extension": ".py",
   "mimetype": "text/x-python",
   "name": "python",
   "nbconvert_exporter": "python",
   "pygments_lexer": "ipython3",
   "version": "3.9.7"
  }
 },
 "nbformat": 4,
 "nbformat_minor": 5
}
